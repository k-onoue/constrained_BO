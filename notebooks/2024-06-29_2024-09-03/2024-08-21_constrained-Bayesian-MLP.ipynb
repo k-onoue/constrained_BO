{
 "cells": [
  {
   "cell_type": "code",
   "execution_count": 1,
   "metadata": {},
   "outputs": [],
   "source": [
    "import os\n",
    "import configparser\n",
    "import sys\n",
    "\n",
    "import torch\n",
    "from botorch.optim import optimize_acqf\n",
    "from botorch.acquisition import UpperConfidenceBound\n",
    "from scipy.optimize import minimize\n",
    "\n",
    "# 設定の読み込み\n",
    "config = configparser.ConfigParser()\n",
    "config_path = \"../config.ini\"\n",
    "config.read(config_path)\n",
    "PROJECT_DIR = config[\"paths\"][\"project_dir\"]\n",
    "EXPT_RESULT_DIR = config[\"paths\"][\"results_dir\"]\n",
    "LOG_DIR = config[\"paths\"][\"logs_dir\"]\n",
    "sys.path.append(PROJECT_DIR)\n",
    "\n",
    "from src.bnn import BayesianMLPModel\n",
    "from src.utils_experiment import generate_integer_samples, negate_function"
   ]
  },
  {
   "cell_type": "code",
   "execution_count": null,
   "metadata": {},
   "outputs": [],
   "source": [
    "def fit_pytorch_model_with_constraint(model, bounds, num_epochs=1000, learning_rate=0.01):\n",
    "    def g(X, bounds):\n",
    "        \"\"\"\n",
    "        制約：x1 == x2\n",
    "        \"\"\"\n",
    "        X1 = X[:, 0]\n",
    "        X2 = X[:, 1]\n",
    "\n",
    "        return (X1 == X2).float().unsqueeze(1)\n",
    "\n",
    "    optimizer = torch.optim.Adam(model.parameters(), lr=learning_rate)\n",
    "    model.train()\n",
    "    for _ in range(num_epochs):\n",
    "        optimizer.zero_grad()\n",
    "\n",
    "        g_eval = g(model.train_inputs, bounds)\n",
    "        loss = -(model(model.train_inputs).log_prob(model.train_targets).T @ g_eval) / model.train_targets.size(0)\n",
    "\n",
    "        loss.backward()\n",
    "        optimizer.step()"
   ]
  },
  {
   "cell_type": "code",
   "execution_count": null,
   "metadata": {},
   "outputs": [],
   "source": []
  },
  {
   "cell_type": "code",
   "execution_count": null,
   "metadata": {},
   "outputs": [],
   "source": []
  },
  {
   "cell_type": "code",
   "execution_count": null,
   "metadata": {},
   "outputs": [],
   "source": []
  },
  {
   "cell_type": "code",
   "execution_count": null,
   "metadata": {},
   "outputs": [],
   "source": []
  },
  {
   "cell_type": "code",
   "execution_count": null,
   "metadata": {},
   "outputs": [],
   "source": []
  },
  {
   "cell_type": "code",
   "execution_count": null,
   "metadata": {},
   "outputs": [],
   "source": []
  },
  {
   "cell_type": "code",
   "execution_count": null,
   "metadata": {},
   "outputs": [],
   "source": []
  },
  {
   "cell_type": "code",
   "execution_count": null,
   "metadata": {},
   "outputs": [],
   "source": []
  },
  {
   "cell_type": "code",
   "execution_count": null,
   "metadata": {},
   "outputs": [],
   "source": []
  },
  {
   "cell_type": "code",
   "execution_count": null,
   "metadata": {},
   "outputs": [],
   "source": []
  }
 ],
 "metadata": {
  "kernelspec": {
   "display_name": "bo-env",
   "language": "python",
   "name": "python3"
  },
  "language_info": {
   "codemirror_mode": {
    "name": "ipython",
    "version": 3
   },
   "file_extension": ".py",
   "mimetype": "text/x-python",
   "name": "python",
   "nbconvert_exporter": "python",
   "pygments_lexer": "ipython3",
   "version": "3.12.5"
  }
 },
 "nbformat": 4,
 "nbformat_minor": 2
}

{
 "cells": [
  {
   "cell_type": "code",
   "execution_count": 33,
   "metadata": {},
   "outputs": [
    {
     "name": "stderr",
     "output_type": "stream",
     "text": [
      "/var/folders/_b/b62kq0490fn2ptq7m4mbp8yr0000gp/T/ipykernel_39684/895626148.py:50: InputDataWarning: The model inputs are of type torch.float32. It is strongly recommended to use double precision in BoTorch, as this improves both precision and stability and can help avoid numerical errors. See https://github.com/pytorch/botorch/discussions/1444\n",
      "  model = SingleTaskGP(self.train_X, self.train_Y)\n",
      "/Users/keisukeonoue/ws/constrained_BO/bo-env/lib/python3.12/site-packages/botorch/models/utils/assorted.py:260: InputDataWarning: Data is not standardized (std = tensor([0.7541]), mean = tensor([-0.1095])). Please consider scaling the input to zero mean and unit variance.\n",
      "  check_standardization(Y=train_Y, raise_on_fail=raise_on_fail)\n",
      "/var/folders/_b/b62kq0490fn2ptq7m4mbp8yr0000gp/T/ipykernel_39684/895626148.py:50: InputDataWarning: The model inputs are of type torch.float32. It is strongly recommended to use double precision in BoTorch, as this improves both precision and stability and can help avoid numerical errors. See https://github.com/pytorch/botorch/discussions/1444\n",
      "  model = SingleTaskGP(self.train_X, self.train_Y)\n",
      "/Users/keisukeonoue/ws/constrained_BO/bo-env/lib/python3.12/site-packages/botorch/models/utils/assorted.py:260: InputDataWarning: Data is not standardized (std = tensor([0.6760]), mean = tensor([-0.0913])). Please consider scaling the input to zero mean and unit variance.\n",
      "  check_standardization(Y=train_Y, raise_on_fail=raise_on_fail)\n"
     ]
    },
    {
     "name": "stdout",
     "output_type": "stream",
     "text": [
      "Iteration 1: Suggested point: [[0.]], Function value: [[0.]]\n",
      "Iteration 2: Suggested point: [[0.23685773]], Function value: [[0.9965926]]\n",
      "Iteration 3: Suggested point: [[0.2712205]], Function value: [[0.9911244]]\n"
     ]
    },
    {
     "name": "stderr",
     "output_type": "stream",
     "text": [
      "/var/folders/_b/b62kq0490fn2ptq7m4mbp8yr0000gp/T/ipykernel_39684/895626148.py:50: InputDataWarning: The model inputs are of type torch.float32. It is strongly recommended to use double precision in BoTorch, as this improves both precision and stability and can help avoid numerical errors. See https://github.com/pytorch/botorch/discussions/1444\n",
      "  model = SingleTaskGP(self.train_X, self.train_Y)\n",
      "/Users/keisukeonoue/ws/constrained_BO/bo-env/lib/python3.12/site-packages/botorch/models/utils/assorted.py:260: InputDataWarning: Data is not standardized (std = tensor([0.7415]), mean = tensor([0.0641])). Please consider scaling the input to zero mean and unit variance.\n",
      "  check_standardization(Y=train_Y, raise_on_fail=raise_on_fail)\n",
      "/var/folders/_b/b62kq0490fn2ptq7m4mbp8yr0000gp/T/ipykernel_39684/895626148.py:50: InputDataWarning: The model inputs are of type torch.float32. It is strongly recommended to use double precision in BoTorch, as this improves both precision and stability and can help avoid numerical errors. See https://github.com/pytorch/botorch/discussions/1444\n",
      "  model = SingleTaskGP(self.train_X, self.train_Y)\n",
      "/Users/keisukeonoue/ws/constrained_BO/bo-env/lib/python3.12/site-packages/botorch/models/utils/assorted.py:260: InputDataWarning: Data is not standardized (std = tensor([0.7607]), mean = tensor([0.1800])). Please consider scaling the input to zero mean and unit variance.\n",
      "  check_standardization(Y=train_Y, raise_on_fail=raise_on_fail)\n",
      "/var/folders/_b/b62kq0490fn2ptq7m4mbp8yr0000gp/T/ipykernel_39684/895626148.py:50: InputDataWarning: The model inputs are of type torch.float32. It is strongly recommended to use double precision in BoTorch, as this improves both precision and stability and can help avoid numerical errors. See https://github.com/pytorch/botorch/discussions/1444\n",
      "  model = SingleTaskGP(self.train_X, self.train_Y)\n",
      "/Users/keisukeonoue/ws/constrained_BO/bo-env/lib/python3.12/site-packages/botorch/models/utils/assorted.py:260: InputDataWarning: Data is not standardized (std = tensor([0.7623]), mean = tensor([0.2711])). Please consider scaling the input to zero mean and unit variance.\n",
      "  check_standardization(Y=train_Y, raise_on_fail=raise_on_fail)\n"
     ]
    },
    {
     "name": "stdout",
     "output_type": "stream",
     "text": [
      "Iteration 4: Suggested point: [[0.2510879]], Function value: [[0.99997663]]\n",
      "Iteration 5: Suggested point: [[0.2524308]], Function value: [[0.99988335]]\n",
      "Iteration 6: Suggested point: [[0.24982424]], Function value: [[0.9999994]]\n",
      "Iteration 7: Suggested point: [[0.2521402]], Function value: [[0.9999096]]\n"
     ]
    },
    {
     "name": "stderr",
     "output_type": "stream",
     "text": [
      "/var/folders/_b/b62kq0490fn2ptq7m4mbp8yr0000gp/T/ipykernel_39684/895626148.py:50: InputDataWarning: The model inputs are of type torch.float32. It is strongly recommended to use double precision in BoTorch, as this improves both precision and stability and can help avoid numerical errors. See https://github.com/pytorch/botorch/discussions/1444\n",
      "  model = SingleTaskGP(self.train_X, self.train_Y)\n",
      "/Users/keisukeonoue/ws/constrained_BO/bo-env/lib/python3.12/site-packages/botorch/models/utils/assorted.py:260: InputDataWarning: Data is not standardized (std = tensor([0.7547]), mean = tensor([0.3440])). Please consider scaling the input to zero mean and unit variance.\n",
      "  check_standardization(Y=train_Y, raise_on_fail=raise_on_fail)\n",
      "/var/folders/_b/b62kq0490fn2ptq7m4mbp8yr0000gp/T/ipykernel_39684/895626148.py:50: InputDataWarning: The model inputs are of type torch.float32. It is strongly recommended to use double precision in BoTorch, as this improves both precision and stability and can help avoid numerical errors. See https://github.com/pytorch/botorch/discussions/1444\n",
      "  model = SingleTaskGP(self.train_X, self.train_Y)\n",
      "/Users/keisukeonoue/ws/constrained_BO/bo-env/lib/python3.12/site-packages/botorch/models/utils/assorted.py:260: InputDataWarning: Data is not standardized (std = tensor([0.7428]), mean = tensor([0.4036])). Please consider scaling the input to zero mean and unit variance.\n",
      "  check_standardization(Y=train_Y, raise_on_fail=raise_on_fail)\n",
      "/var/folders/_b/b62kq0490fn2ptq7m4mbp8yr0000gp/T/ipykernel_39684/895626148.py:50: InputDataWarning: The model inputs are of type torch.float32. It is strongly recommended to use double precision in BoTorch, as this improves both precision and stability and can help avoid numerical errors. See https://github.com/pytorch/botorch/discussions/1444\n",
      "  model = SingleTaskGP(self.train_X, self.train_Y)\n",
      "/Users/keisukeonoue/ws/constrained_BO/bo-env/lib/python3.12/site-packages/botorch/models/utils/assorted.py:260: InputDataWarning: Data is not standardized (std = tensor([0.7289]), mean = tensor([0.4533])). Please consider scaling the input to zero mean and unit variance.\n",
      "  check_standardization(Y=train_Y, raise_on_fail=raise_on_fail)\n",
      "/var/folders/_b/b62kq0490fn2ptq7m4mbp8yr0000gp/T/ipykernel_39684/895626148.py:50: InputDataWarning: The model inputs are of type torch.float32. It is strongly recommended to use double precision in BoTorch, as this improves both precision and stability and can help avoid numerical errors. See https://github.com/pytorch/botorch/discussions/1444\n",
      "  model = SingleTaskGP(self.train_X, self.train_Y)\n",
      "/Users/keisukeonoue/ws/constrained_BO/bo-env/lib/python3.12/site-packages/botorch/models/utils/assorted.py:260: InputDataWarning: Data is not standardized (std = tensor([0.7140]), mean = tensor([0.4953])). Please consider scaling the input to zero mean and unit variance.\n",
      "  check_standardization(Y=train_Y, raise_on_fail=raise_on_fail)\n"
     ]
    },
    {
     "name": "stdout",
     "output_type": "stream",
     "text": [
      "Iteration 8: Suggested point: [[0.2412628]], Function value: [[0.9984935]]\n",
      "Iteration 9: Suggested point: [[0.25649184]], Function value: [[0.9991682]]\n",
      "Iteration 10: Suggested point: [[0.2513559]], Function value: [[0.9999637]]\n"
     ]
    },
    {
     "name": "stderr",
     "output_type": "stream",
     "text": [
      "/var/folders/_b/b62kq0490fn2ptq7m4mbp8yr0000gp/T/ipykernel_39684/895626148.py:50: InputDataWarning: The model inputs are of type torch.float32. It is strongly recommended to use double precision in BoTorch, as this improves both precision and stability and can help avoid numerical errors. See https://github.com/pytorch/botorch/discussions/1444\n",
      "  model = SingleTaskGP(self.train_X, self.train_Y)\n",
      "/Users/keisukeonoue/ws/constrained_BO/bo-env/lib/python3.12/site-packages/botorch/models/utils/assorted.py:260: InputDataWarning: Data is not standardized (std = tensor([0.6991]), mean = tensor([0.5312])). Please consider scaling the input to zero mean and unit variance.\n",
      "  check_standardization(Y=train_Y, raise_on_fail=raise_on_fail)\n",
      "/var/folders/_b/b62kq0490fn2ptq7m4mbp8yr0000gp/T/ipykernel_39684/895626148.py:50: InputDataWarning: The model inputs are of type torch.float32. It is strongly recommended to use double precision in BoTorch, as this improves both precision and stability and can help avoid numerical errors. See https://github.com/pytorch/botorch/discussions/1444\n",
      "  model = SingleTaskGP(self.train_X, self.train_Y)\n",
      "/Users/keisukeonoue/ws/constrained_BO/bo-env/lib/python3.12/site-packages/botorch/models/utils/assorted.py:260: InputDataWarning: Data is not standardized (std = tensor([0.6845]), mean = tensor([0.5625])). Please consider scaling the input to zero mean and unit variance.\n",
      "  check_standardization(Y=train_Y, raise_on_fail=raise_on_fail)\n"
     ]
    }
   ],
   "source": [
    "import torch\n",
    "from abc import ABC, abstractmethod\n",
    "\n",
    "class BaseBayesianOptimization(ABC):\n",
    "    def __init__(self, bounds):\n",
    "        self.bounds = bounds\n",
    "        self.train_X = None\n",
    "        self.train_Y = None\n",
    "        self.model = None\n",
    "\n",
    "    @abstractmethod\n",
    "    def initialize(self, X_init, Y_init):\n",
    "        pass\n",
    "\n",
    "    @abstractmethod\n",
    "    def _fit_model(self):\n",
    "        pass\n",
    "\n",
    "    @abstractmethod\n",
    "    def acquisition_function(self):\n",
    "        pass\n",
    "\n",
    "    @abstractmethod\n",
    "    def optimize_acquisition(self, acq_function):\n",
    "        pass\n",
    "\n",
    "    @abstractmethod\n",
    "    def step(self):\n",
    "        pass\n",
    "\n",
    "    @abstractmethod\n",
    "    def update(self, new_X, new_Y):\n",
    "        pass\n",
    "\n",
    "class BayesianOptimization(BaseBayesianOptimization):\n",
    "    def __init__(self, bounds, beta=2.0):\n",
    "        super().__init__(bounds)\n",
    "        self.beta = beta\n",
    "\n",
    "    def initialize(self, X_init, Y_init):\n",
    "        self.train_X = X_init\n",
    "        self.train_Y = Y_init\n",
    "        self.model = self._fit_model()\n",
    "\n",
    "    def _fit_model(self):\n",
    "        from botorch.models import SingleTaskGP\n",
    "        from gpytorch.mlls import ExactMarginalLogLikelihood\n",
    "        from botorch.fit import fit_gpytorch_mll\n",
    "        \n",
    "        model = SingleTaskGP(self.train_X, self.train_Y)\n",
    "        mll = ExactMarginalLogLikelihood(model.likelihood, model)\n",
    "        fit_gpytorch_mll(mll)\n",
    "        return model\n",
    "    \n",
    "    def acquisition_function(self):\n",
    "        from botorch.acquisition import UpperConfidenceBound\n",
    "        \n",
    "        UCB = UpperConfidenceBound(self.model, beta=self.beta)\n",
    "        return UCB\n",
    "\n",
    "    def optimize_acquisition(self, acq_function):\n",
    "        from botorch.optim import optimize_acqf\n",
    "        \n",
    "        candidates, _ = optimize_acqf(\n",
    "            acq_function,\n",
    "            bounds=self.bounds,\n",
    "            q=1,\n",
    "            num_restarts=10,\n",
    "            raw_samples=20,\n",
    "        )\n",
    "        return candidates\n",
    "\n",
    "    def step(self):\n",
    "        acq_function = self.acquisition_function()\n",
    "        new_X = self.optimize_acquisition(acq_function)\n",
    "        return new_X\n",
    "\n",
    "    def update(self, new_X, new_Y):\n",
    "        self.train_X = torch.cat([self.train_X, new_X], dim=0)\n",
    "        self.train_Y = torch.cat([self.train_Y, new_Y], dim=0)\n",
    "        self.model = self._fit_model()\n",
    "\n",
    "# Example Usage\n",
    "if __name__ == \"__main__\":\n",
    "    bounds = torch.tensor([[0.0], [1.0]])\n",
    "    X_init = torch.rand(5, 1)\n",
    "    Y_init = torch.sin(X_init * (2 * torch.pi))\n",
    "\n",
    "    bo = BayesianOptimization(bounds=bounds)\n",
    "    bo.initialize(X_init, Y_init)\n",
    "\n",
    "    for i in range(10):\n",
    "        new_X = bo.step()\n",
    "        new_Y = torch.sin(new_X * (2 * torch.pi))\n",
    "        bo.update(new_X, new_Y)\n",
    "        print(f\"Iteration {i+1}: Suggested point: {new_X.numpy()}, Function value: {new_Y.numpy()}\")"
   ]
  },
  {
   "cell_type": "code",
   "execution_count": null,
   "metadata": {},
   "outputs": [],
   "source": []
  },
  {
   "cell_type": "code",
   "execution_count": 38,
   "metadata": {},
   "outputs": [
    {
     "name": "stderr",
     "output_type": "stream",
     "text": [
      "/var/folders/_b/b62kq0490fn2ptq7m4mbp8yr0000gp/T/ipykernel_39684/3167925398.py:53: InputDataWarning: The model inputs are of type torch.float32. It is strongly recommended to use double precision in BoTorch, as this improves both precision and stability and can help avoid numerical errors. See https://github.com/pytorch/botorch/discussions/1444\n",
      "  model = SingleTaskGP(self.train_X, self.train_Y)\n",
      "/Users/keisukeonoue/ws/constrained_BO/bo-env/lib/python3.12/site-packages/botorch/models/utils/assorted.py:260: InputDataWarning: Data is not standardized (std = tensor([0.8351]), mean = tensor([0.4630])). Please consider scaling the input to zero mean and unit variance.\n",
      "  check_standardization(Y=train_Y, raise_on_fail=raise_on_fail)\n",
      "/var/folders/_b/b62kq0490fn2ptq7m4mbp8yr0000gp/T/ipykernel_39684/3167925398.py:53: InputDataWarning: The model inputs are of type torch.float32. It is strongly recommended to use double precision in BoTorch, as this improves both precision and stability and can help avoid numerical errors. See https://github.com/pytorch/botorch/discussions/1444\n",
      "  model = SingleTaskGP(self.train_X, self.train_Y)\n",
      "/Users/keisukeonoue/ws/constrained_BO/bo-env/lib/python3.12/site-packages/botorch/models/utils/assorted.py:260: InputDataWarning: Data is not standardized (std = tensor([0.7705]), mean = tensor([0.3858])). Please consider scaling the input to zero mean and unit variance.\n",
      "  check_standardization(Y=train_Y, raise_on_fail=raise_on_fail)\n",
      "/Users/keisukeonoue/ws/constrained_BO/bo-env/lib/python3.12/site-packages/botorch/optim/optimize.py:564: RuntimeWarning: Optimization failed in `gen_candidates_scipy` with the following warning(s):\n",
      "[OptimizationWarning('Optimization failed within `scipy.optimize.minimize` with status 2 and message ABNORMAL_TERMINATION_IN_LNSRCH.')]\n",
      "Trying again with a new set of initial conditions.\n",
      "  return _optimize_acqf_batch(opt_inputs=opt_inputs)\n",
      "/var/folders/_b/b62kq0490fn2ptq7m4mbp8yr0000gp/T/ipykernel_39684/3167925398.py:53: InputDataWarning: The model inputs are of type torch.float32. It is strongly recommended to use double precision in BoTorch, as this improves both precision and stability and can help avoid numerical errors. See https://github.com/pytorch/botorch/discussions/1444\n",
      "  model = SingleTaskGP(self.train_X, self.train_Y)\n",
      "/Users/keisukeonoue/ws/constrained_BO/bo-env/lib/python3.12/site-packages/botorch/models/utils/assorted.py:260: InputDataWarning: Data is not standardized (std = tensor([0.7396]), mean = tensor([0.4722])). Please consider scaling the input to zero mean and unit variance.\n",
      "  check_standardization(Y=train_Y, raise_on_fail=raise_on_fail)\n"
     ]
    },
    {
     "name": "stdout",
     "output_type": "stream",
     "text": [
      "Iteration 1: Suggested point: [[0.]], Function value: [[0.]]\n",
      "Iteration 2: Suggested point: [[0.22848748]], Function value: [[0.9908788]]\n",
      "Iteration 3: Suggested point: [[0.2544213]], Function value: [[0.9996142]]\n",
      "Iteration 4: Suggested point: [[0.25276524]], Function value: [[0.9998491]]\n"
     ]
    },
    {
     "name": "stderr",
     "output_type": "stream",
     "text": [
      "/Users/keisukeonoue/ws/constrained_BO/bo-env/lib/python3.12/site-packages/botorch/optim/optimize.py:564: RuntimeWarning: Optimization failed in `gen_candidates_scipy` with the following warning(s):\n",
      "[OptimizationWarning('Optimization failed within `scipy.optimize.minimize` with status 2 and message ABNORMAL_TERMINATION_IN_LNSRCH.')]\n",
      "Trying again with a new set of initial conditions.\n",
      "  return _optimize_acqf_batch(opt_inputs=opt_inputs)\n",
      "/var/folders/_b/b62kq0490fn2ptq7m4mbp8yr0000gp/T/ipykernel_39684/3167925398.py:53: InputDataWarning: The model inputs are of type torch.float32. It is strongly recommended to use double precision in BoTorch, as this improves both precision and stability and can help avoid numerical errors. See https://github.com/pytorch/botorch/discussions/1444\n",
      "  model = SingleTaskGP(self.train_X, self.train_Y)\n",
      "/Users/keisukeonoue/ws/constrained_BO/bo-env/lib/python3.12/site-packages/botorch/models/utils/assorted.py:260: InputDataWarning: Data is not standardized (std = tensor([0.7097]), mean = tensor([0.5382])). Please consider scaling the input to zero mean and unit variance.\n",
      "  check_standardization(Y=train_Y, raise_on_fail=raise_on_fail)\n",
      "/var/folders/_b/b62kq0490fn2ptq7m4mbp8yr0000gp/T/ipykernel_39684/3167925398.py:53: InputDataWarning: The model inputs are of type torch.float32. It is strongly recommended to use double precision in BoTorch, as this improves both precision and stability and can help avoid numerical errors. See https://github.com/pytorch/botorch/discussions/1444\n",
      "  model = SingleTaskGP(self.train_X, self.train_Y)\n",
      "/Users/keisukeonoue/ws/constrained_BO/bo-env/lib/python3.12/site-packages/botorch/models/utils/assorted.py:260: InputDataWarning: Data is not standardized (std = tensor([0.6814]), mean = tensor([0.5895])). Please consider scaling the input to zero mean and unit variance.\n",
      "  check_standardization(Y=train_Y, raise_on_fail=raise_on_fail)\n",
      "/var/folders/_b/b62kq0490fn2ptq7m4mbp8yr0000gp/T/ipykernel_39684/3167925398.py:53: InputDataWarning: The model inputs are of type torch.float32. It is strongly recommended to use double precision in BoTorch, as this improves both precision and stability and can help avoid numerical errors. See https://github.com/pytorch/botorch/discussions/1444\n",
      "  model = SingleTaskGP(self.train_X, self.train_Y)\n",
      "/Users/keisukeonoue/ws/constrained_BO/bo-env/lib/python3.12/site-packages/botorch/models/utils/assorted.py:260: InputDataWarning: Data is not standardized (std = tensor([0.6554]), mean = tensor([0.6305])). Please consider scaling the input to zero mean and unit variance.\n",
      "  check_standardization(Y=train_Y, raise_on_fail=raise_on_fail)\n",
      "/var/folders/_b/b62kq0490fn2ptq7m4mbp8yr0000gp/T/ipykernel_39684/3167925398.py:53: InputDataWarning: The model inputs are of type torch.float32. It is strongly recommended to use double precision in BoTorch, as this improves both precision and stability and can help avoid numerical errors. See https://github.com/pytorch/botorch/discussions/1444\n",
      "  model = SingleTaskGP(self.train_X, self.train_Y)\n",
      "/Users/keisukeonoue/ws/constrained_BO/bo-env/lib/python3.12/site-packages/botorch/models/utils/assorted.py:260: InputDataWarning: Data is not standardized (std = tensor([0.6317]), mean = tensor([0.6641])). Please consider scaling the input to zero mean and unit variance.\n",
      "  check_standardization(Y=train_Y, raise_on_fail=raise_on_fail)\n"
     ]
    },
    {
     "name": "stdout",
     "output_type": "stream",
     "text": [
      "Iteration 5: Suggested point: [[0.2524194]], Function value: [[0.9998845]]\n",
      "Iteration 6: Suggested point: [[0.25098068]], Function value: [[0.99998105]]\n",
      "Iteration 7: Suggested point: [[0.25091198]], Function value: [[0.9999836]]\n"
     ]
    },
    {
     "name": "stderr",
     "output_type": "stream",
     "text": [
      "/var/folders/_b/b62kq0490fn2ptq7m4mbp8yr0000gp/T/ipykernel_39684/3167925398.py:53: InputDataWarning: The model inputs are of type torch.float32. It is strongly recommended to use double precision in BoTorch, as this improves both precision and stability and can help avoid numerical errors. See https://github.com/pytorch/botorch/discussions/1444\n",
      "  model = SingleTaskGP(self.train_X, self.train_Y)\n",
      "/Users/keisukeonoue/ws/constrained_BO/bo-env/lib/python3.12/site-packages/botorch/models/utils/assorted.py:260: InputDataWarning: Data is not standardized (std = tensor([0.6101]), mean = tensor([0.6921])). Please consider scaling the input to zero mean and unit variance.\n",
      "  check_standardization(Y=train_Y, raise_on_fail=raise_on_fail)\n",
      "/var/folders/_b/b62kq0490fn2ptq7m4mbp8yr0000gp/T/ipykernel_39684/3167925398.py:53: InputDataWarning: The model inputs are of type torch.float32. It is strongly recommended to use double precision in BoTorch, as this improves both precision and stability and can help avoid numerical errors. See https://github.com/pytorch/botorch/discussions/1444\n",
      "  model = SingleTaskGP(self.train_X, self.train_Y)\n",
      "/Users/keisukeonoue/ws/constrained_BO/bo-env/lib/python3.12/site-packages/botorch/models/utils/assorted.py:260: InputDataWarning: Data is not standardized (std = tensor([0.5903]), mean = tensor([0.7158])). Please consider scaling the input to zero mean and unit variance.\n",
      "  check_standardization(Y=train_Y, raise_on_fail=raise_on_fail)\n",
      "/Users/keisukeonoue/ws/constrained_BO/bo-env/lib/python3.12/site-packages/botorch/optim/optimize.py:564: RuntimeWarning: Optimization failed in `gen_candidates_scipy` with the following warning(s):\n",
      "[OptimizationWarning('Optimization failed within `scipy.optimize.minimize` with status 2 and message ABNORMAL_TERMINATION_IN_LNSRCH.')]\n",
      "Trying again with a new set of initial conditions.\n",
      "  return _optimize_acqf_batch(opt_inputs=opt_inputs)\n"
     ]
    },
    {
     "name": "stdout",
     "output_type": "stream",
     "text": [
      "Iteration 8: Suggested point: [[0.25210455]], Function value: [[0.99991256]]\n",
      "Iteration 9: Suggested point: [[0.2525134]], Function value: [[0.9998753]]\n",
      "Iteration 10: Suggested point: [[0.251264]], Function value: [[0.99996847]]\n"
     ]
    },
    {
     "name": "stderr",
     "output_type": "stream",
     "text": [
      "/var/folders/_b/b62kq0490fn2ptq7m4mbp8yr0000gp/T/ipykernel_39684/3167925398.py:53: InputDataWarning: The model inputs are of type torch.float32. It is strongly recommended to use double precision in BoTorch, as this improves both precision and stability and can help avoid numerical errors. See https://github.com/pytorch/botorch/discussions/1444\n",
      "  model = SingleTaskGP(self.train_X, self.train_Y)\n",
      "/Users/keisukeonoue/ws/constrained_BO/bo-env/lib/python3.12/site-packages/botorch/models/utils/assorted.py:260: InputDataWarning: Data is not standardized (std = tensor([0.5722]), mean = tensor([0.7361])). Please consider scaling the input to zero mean and unit variance.\n",
      "  check_standardization(Y=train_Y, raise_on_fail=raise_on_fail)\n",
      "/var/folders/_b/b62kq0490fn2ptq7m4mbp8yr0000gp/T/ipykernel_39684/3167925398.py:53: InputDataWarning: The model inputs are of type torch.float32. It is strongly recommended to use double precision in BoTorch, as this improves both precision and stability and can help avoid numerical errors. See https://github.com/pytorch/botorch/discussions/1444\n",
      "  model = SingleTaskGP(self.train_X, self.train_Y)\n",
      "/Users/keisukeonoue/ws/constrained_BO/bo-env/lib/python3.12/site-packages/botorch/models/utils/assorted.py:260: InputDataWarning: Data is not standardized (std = tensor([0.5556]), mean = tensor([0.7537])). Please consider scaling the input to zero mean and unit variance.\n",
      "  check_standardization(Y=train_Y, raise_on_fail=raise_on_fail)\n"
     ]
    }
   ],
   "source": [
    "import torch\n",
    "from botorch.models import SingleTaskGP\n",
    "from botorch.fit import fit_gpytorch_mll\n",
    "from botorch.acquisition import UpperConfidenceBound\n",
    "from botorch.optim import optimize_acqf\n",
    "from gpytorch.mlls import ExactMarginalLogLikelihood\n",
    "\n",
    "class BaseBayesianOptimization(ABC):\n",
    "    def __init__(self, bounds):\n",
    "        self.bounds = bounds\n",
    "        self.train_X = None\n",
    "        self.train_Y = None\n",
    "        self.model = None\n",
    "\n",
    "    @abstractmethod\n",
    "    def initialize(self, X_init, Y_init):\n",
    "        pass\n",
    "\n",
    "    @abstractmethod\n",
    "    def _fit_model(self):\n",
    "        pass\n",
    "\n",
    "    @abstractmethod\n",
    "    def acquisition_function(self):\n",
    "        pass\n",
    "\n",
    "    @abstractmethod\n",
    "    def optimize_acquisition(self, acq_function):\n",
    "        pass\n",
    "\n",
    "    @abstractmethod\n",
    "    def step(self):\n",
    "        pass\n",
    "\n",
    "    @abstractmethod\n",
    "    def update(self, new_X, new_Y):\n",
    "        pass\n",
    "\n",
    "class DiscreteBO(BaseBayesianOptimization):\n",
    "    def __init__(self, bounds, beta=2.0, beta_h=10.0, l_h=2.0):\n",
    "        super().__init__(bounds)\n",
    "        self.beta = beta\n",
    "        self.beta_h = beta_h\n",
    "        self.l_h = l_h\n",
    "        self.l = 1.0\n",
    "\n",
    "    def initialize(self, X_init, Y_init):\n",
    "        self.train_X = X_init\n",
    "        self.train_Y = Y_init\n",
    "        self.model = self._fit_model()\n",
    "\n",
    "    def _fit_model(self):\n",
    "        model = SingleTaskGP(self.train_X, self.train_Y)\n",
    "        mll = ExactMarginalLogLikelihood(model.likelihood, model)\n",
    "        fit_gpytorch_mll(mll)\n",
    "        return model\n",
    "\n",
    "    def acquisition_function(self, beta):\n",
    "        return UpperConfidenceBound(self.model, beta=beta)\n",
    "\n",
    "    def optimize_acquisition(self, acq_function):\n",
    "        candidates, _ = optimize_acqf(\n",
    "            acq_function,\n",
    "            bounds=self.bounds,\n",
    "            q=1,\n",
    "            num_restarts=10,\n",
    "            raw_samples=20,\n",
    "        )\n",
    "        return candidates\n",
    "\n",
    "    def step(self):\n",
    "        acq_function = self.acquisition_function(self.beta)\n",
    "        new_X = self.optimize_acquisition(acq_function)\n",
    "        return new_X\n",
    "\n",
    "    def update(self, new_X, new_Y):\n",
    "        self.train_X = torch.cat([self.train_X, new_X], dim=0)\n",
    "        self.train_Y = torch.cat([self.train_Y, new_Y], dim=0)\n",
    "        self.model = self._fit_model()\n",
    "\n",
    "    def adjust_beta_and_l(self):\n",
    "        # Define the optimization problem to adjust beta and l\n",
    "        def objective(params):\n",
    "            delta_beta, l = params\n",
    "            adjusted_beta = self.beta + delta_beta\n",
    "            acq_function = self.acquisition_function(adjusted_beta)\n",
    "            new_X = self.optimize_acquisition(acq_function)\n",
    "            rounded_new_X = torch.round(new_X)\n",
    "\n",
    "            penalty = float('inf')\n",
    "            if (rounded_new_X == self.train_X).all(dim=1).any():\n",
    "                penalty = 1000  # Arbitrary high value to avoid repetition\n",
    "\n",
    "            return delta_beta + torch.norm(new_X - rounded_new_X).item() + penalty\n",
    "\n",
    "        # Initial guess and bounds for delta_beta and l\n",
    "        initial_guess = torch.tensor([0.0, self.l])\n",
    "        bounds = [(0.0, self.beta_h), (1e-3, self.l_h)]\n",
    "\n",
    "        # Optimize the objective function\n",
    "        result = torch.minimize(objective, initial_guess, bounds=bounds, method='L-BFGS-B')\n",
    "        delta_beta, l = result.x\n",
    "        self.beta += delta_beta\n",
    "        self.l = l\n",
    "\n",
    "        print()\n",
    "        print()\n",
    "        print()\n",
    "        print()\n",
    "        print()\n",
    "        print()\n",
    "        print()\n",
    "\n",
    "# Example Usage\n",
    "if __name__ == \"__main__\":\n",
    "    bounds = torch.tensor([[0.0], [1.0]])\n",
    "    X_init = torch.rand(5, 1)\n",
    "    Y_init = torch.sin(X_init * (2 * torch.pi))\n",
    "\n",
    "    bo = DiscreteBO(bounds=bounds)\n",
    "    bo.initialize(X_init, Y_init)\n",
    "\n",
    "    for i in range(10):\n",
    "        new_X = bo.step()\n",
    "        if (new_X == bo.train_X).all(dim=1).any():\n",
    "            bo.adjust_beta_and_l()\n",
    "            new_X = bo.step()\n",
    "        new_Y = torch.sin(new_X * (2 * torch.pi))\n",
    "        bo.update(new_X, new_Y)\n",
    "        print(f\"Iteration {i+1}: Suggested point: {new_X.numpy()}, Function value: {new_Y.numpy()}\")"
   ]
  },
  {
   "cell_type": "code",
   "execution_count": null,
   "metadata": {},
   "outputs": [],
   "source": []
  },
  {
   "cell_type": "code",
   "execution_count": 3,
   "metadata": {},
   "outputs": [
    {
     "name": "stderr",
     "output_type": "stream",
     "text": [
      "/var/folders/_b/b62kq0490fn2ptq7m4mbp8yr0000gp/T/ipykernel_96749/286698348.py:19: ExperimentalWarning: BoTorchSampler is experimental (supported from v2.4.0). The interface can change in the future.\n",
      "  sampler = BoTorchSampler()\n",
      "[I 2024-08-01 13:04:44,459] A new study created in memory with name: no-name-3ef43fcb-1a95-46e8-a013-c9225ab0397e\n",
      "[I 2024-08-01 13:04:44,465] Trial 0 finished with value: 6.517470359802246 and parameters: {'x1': 1.987984832464874, 'x2': 2.707693661790487}. Best is trial 0 with value: 6.517470359802246.\n",
      "[I 2024-08-01 13:04:44,466] Trial 1 finished with value: 106.86405181884766 and parameters: {'x1': -2.8500149993620076, 'x2': 1.2866664600868993}. Best is trial 0 with value: 6.517470359802246.\n",
      "[I 2024-08-01 13:04:44,467] Trial 2 finished with value: 105.20294189453125 and parameters: {'x1': 2.640273855950176, 'x2': 12.877989234949842}. Best is trial 0 with value: 6.517470359802246.\n",
      "[I 2024-08-01 13:04:44,469] Trial 3 finished with value: 40.007904052734375 and parameters: {'x1': 8.52814531606843, 'x2': 7.822693114785121}. Best is trial 0 with value: 6.517470359802246.\n",
      "[I 2024-08-01 13:04:44,470] Trial 4 finished with value: 80.32337188720703 and parameters: {'x1': 5.853424541097679, 'x2': 8.958391257071048}. Best is trial 0 with value: 6.517470359802246.\n",
      "[I 2024-08-01 13:04:44,472] Trial 5 finished with value: 45.6777458190918 and parameters: {'x1': 7.745097866646709, 'x2': 7.307716706583619}. Best is trial 0 with value: 6.517470359802246.\n",
      "[I 2024-08-01 13:04:44,473] Trial 6 finished with value: 208.93389892578125 and parameters: {'x1': -4.517738169084999, 'x2': 1.6567746916864428}. Best is trial 0 with value: 6.517470359802246.\n",
      "[I 2024-08-01 13:04:44,475] Trial 7 finished with value: 157.556396484375 and parameters: {'x1': 8.420443477871306, 'x2': 14.115692681354371}. Best is trial 0 with value: 6.517470359802246.\n",
      "[I 2024-08-01 13:04:44,484] Trial 8 finished with value: 42.43129348754883 and parameters: {'x1': 2.620390363553179, 'x2': 9.10079196990848}. Best is trial 0 with value: 6.517470359802246.\n",
      "[I 2024-08-01 13:04:44,486] Trial 9 finished with value: 18.551525115966797 and parameters: {'x1': -0.7342815124784652, 'x2': 6.045084701965523}. Best is trial 0 with value: 6.517470359802246.\n",
      "/Users/keisukeonoue/ws/constrained_BO/bo-env/lib/python3.12/site-packages/optuna_integration/botorch.py:931: ExperimentalWarning: logei_candidates_func is experimental (supported from v3.3.0). The interface can change in the future.\n",
      "  candidates = self._candidates_func(\n",
      "[I 2024-08-01 13:04:44,726] Trial 10 finished with value: 4.5738630294799805 and parameters: {'x1': 9.999999999999998, 'x2': 1.3810072810370901}. Best is trial 10 with value: 4.5738630294799805.\n",
      "/Users/keisukeonoue/ws/constrained_BO/bo-env/lib/python3.12/site-packages/optuna_integration/botorch.py:931: ExperimentalWarning: logei_candidates_func is experimental (supported from v3.3.0). The interface can change in the future.\n",
      "  candidates = self._candidates_func(\n",
      "[I 2024-08-01 13:04:44,897] Trial 11 finished with value: 18.93733787536621 and parameters: {'x1': 6.949489681719729, 'x2': 0.0}. Best is trial 10 with value: 4.5738630294799805.\n",
      "/Users/keisukeonoue/ws/constrained_BO/bo-env/lib/python3.12/site-packages/optuna_integration/botorch.py:931: ExperimentalWarning: logei_candidates_func is experimental (supported from v3.3.0). The interface can change in the future.\n",
      "  candidates = self._candidates_func(\n",
      "[I 2024-08-01 13:04:45,116] Trial 12 finished with value: 17.9034423828125 and parameters: {'x1': 0.7017171644649549, 'x2': 4.191826829645491}. Best is trial 10 with value: 4.5738630294799805.\n",
      "/Users/keisukeonoue/ws/constrained_BO/bo-env/lib/python3.12/site-packages/optuna_integration/botorch.py:931: ExperimentalWarning: logei_candidates_func is experimental (supported from v3.3.0). The interface can change in the future.\n",
      "  candidates = self._candidates_func(\n",
      "[I 2024-08-01 13:04:45,282] Trial 13 finished with value: 3.1229419708251953 and parameters: {'x1': 9.999999999999998, 'x2': 4.089143990847835}. Best is trial 13 with value: 3.1229419708251953.\n",
      "/Users/keisukeonoue/ws/constrained_BO/bo-env/lib/python3.12/site-packages/optuna_integration/botorch.py:931: ExperimentalWarning: logei_candidates_func is experimental (supported from v3.3.0). The interface can change in the future.\n",
      "  candidates = self._candidates_func(\n",
      "[I 2024-08-01 13:04:45,472] Trial 14 finished with value: 5.298026084899902 and parameters: {'x1': 3.6633870946969758, 'x2': 0.0}. Best is trial 13 with value: 3.1229419708251953.\n",
      "/Users/keisukeonoue/ws/constrained_BO/bo-env/lib/python3.12/site-packages/optuna_integration/botorch.py:931: ExperimentalWarning: logei_candidates_func is experimental (supported from v3.3.0). The interface can change in the future.\n",
      "  candidates = self._candidates_func(\n",
      "[I 2024-08-01 13:04:45,653] Trial 15 finished with value: 2.843576431274414 and parameters: {'x1': 3.6984801399378107, 'x2': 2.8781916463812913}. Best is trial 15 with value: 2.843576431274414.\n",
      "/Users/keisukeonoue/ws/constrained_BO/bo-env/lib/python3.12/site-packages/optuna_integration/botorch.py:931: ExperimentalWarning: logei_candidates_func is experimental (supported from v3.3.0). The interface can change in the future.\n",
      "  candidates = self._candidates_func(\n",
      "[I 2024-08-01 13:04:45,852] Trial 16 finished with value: 1.0643091201782227 and parameters: {'x1': 9.142740735245901, 'x2': 2.783140018965762}. Best is trial 16 with value: 1.0643091201782227.\n",
      "/Users/keisukeonoue/ws/constrained_BO/bo-env/lib/python3.12/site-packages/optuna_integration/botorch.py:931: ExperimentalWarning: logei_candidates_func is experimental (supported from v3.3.0). The interface can change in the future.\n",
      "  candidates = self._candidates_func(\n",
      "[I 2024-08-01 13:04:46,060] Trial 17 finished with value: 19.399049758911133 and parameters: {'x1': -2.527213348900984, 'x2': 14.999999999999998}. Best is trial 16 with value: 1.0643091201782227.\n",
      "/Users/keisukeonoue/ws/constrained_BO/bo-env/lib/python3.12/site-packages/optuna_integration/botorch.py:931: ExperimentalWarning: logei_candidates_func is experimental (supported from v3.3.0). The interface can change in the future.\n",
      "  candidates = self._candidates_func(\n",
      "[I 2024-08-01 13:04:46,271] Trial 18 finished with value: 26.117515563964844 and parameters: {'x1': -1.1097413975017507, 'x2': 11.367046110536473}. Best is trial 16 with value: 1.0643091201782227.\n",
      "/Users/keisukeonoue/ws/constrained_BO/bo-env/lib/python3.12/site-packages/optuna_integration/botorch.py:931: ExperimentalWarning: logei_candidates_func is experimental (supported from v3.3.0). The interface can change in the future.\n",
      "  candidates = self._candidates_func(\n",
      "[I 2024-08-01 13:04:46,514] Trial 19 finished with value: 17.508296966552734 and parameters: {'x1': -5.0, 'x2': 14.999999999999998}. Best is trial 16 with value: 1.0643091201782227.\n",
      "/Users/keisukeonoue/ws/constrained_BO/bo-env/lib/python3.12/site-packages/optuna_integration/botorch.py:931: ExperimentalWarning: logei_candidates_func is experimental (supported from v3.3.0). The interface can change in the future.\n",
      "  candidates = self._candidates_func(\n",
      "[I 2024-08-01 13:04:46,792] Trial 20 finished with value: 18.75591278076172 and parameters: {'x1': 1.8994015509152558, 'x2': 0.0}. Best is trial 16 with value: 1.0643091201782227.\n",
      "/Users/keisukeonoue/ws/constrained_BO/bo-env/lib/python3.12/site-packages/optuna_integration/botorch.py:931: ExperimentalWarning: logei_candidates_func is experimental (supported from v3.3.0). The interface can change in the future.\n",
      "  candidates = self._candidates_func(\n",
      "[I 2024-08-01 13:04:47,016] Trial 21 finished with value: 0.5275659561157227 and parameters: {'x1': 3.037497194203384, 'x2': 2.6363299238858273}. Best is trial 21 with value: 0.5275659561157227.\n",
      "/Users/keisukeonoue/ws/constrained_BO/bo-env/lib/python3.12/site-packages/optuna_integration/botorch.py:931: ExperimentalWarning: logei_candidates_func is experimental (supported from v3.3.0). The interface can change in the future.\n",
      "  candidates = self._candidates_func(\n",
      "[I 2024-08-01 13:04:47,238] Trial 22 finished with value: 0.6592397689819336 and parameters: {'x1': -3.301496731754561, 'x2': 12.289959256199921}. Best is trial 21 with value: 0.5275659561157227.\n",
      "/Users/keisukeonoue/ws/constrained_BO/bo-env/lib/python3.12/site-packages/optuna_integration/botorch.py:931: ExperimentalWarning: logei_candidates_func is experimental (supported from v3.3.0). The interface can change in the future.\n",
      "  candidates = self._candidates_func(\n",
      "[I 2024-08-01 13:04:47,475] Trial 23 finished with value: 1.4236669540405273 and parameters: {'x1': -3.6000261232726367, 'x2': 13.589162158220464}. Best is trial 21 with value: 0.5275659561157227.\n",
      "/Users/keisukeonoue/ws/constrained_BO/bo-env/lib/python3.12/site-packages/optuna_integration/botorch.py:931: ExperimentalWarning: logei_candidates_func is experimental (supported from v3.3.0). The interface can change in the future.\n",
      "  candidates = self._candidates_func(\n",
      "[I 2024-08-01 13:04:47,711] Trial 24 finished with value: 0.5889739990234375 and parameters: {'x1': -3.0883537717031624, 'x2': 12.568706650873516}. Best is trial 21 with value: 0.5275659561157227.\n",
      "/Users/keisukeonoue/ws/constrained_BO/bo-env/lib/python3.12/site-packages/optuna_integration/botorch.py:931: ExperimentalWarning: logei_candidates_func is experimental (supported from v3.3.0). The interface can change in the future.\n",
      "  candidates = self._candidates_func(\n",
      "[I 2024-08-01 13:04:47,992] Trial 25 finished with value: 2.394144058227539 and parameters: {'x1': 2.847758905754999, 'x2': 3.774157258438073}. Best is trial 21 with value: 0.5275659561157227.\n",
      "/Users/keisukeonoue/ws/constrained_BO/bo-env/lib/python3.12/site-packages/optuna_integration/botorch.py:931: ExperimentalWarning: logei_candidates_func is experimental (supported from v3.3.0). The interface can change in the future.\n",
      "  candidates = self._candidates_func(\n",
      "[I 2024-08-01 13:04:48,282] Trial 26 finished with value: 0.4305849075317383 and parameters: {'x1': 3.1985879989253903, 'x2': 2.1001819927192242}. Best is trial 26 with value: 0.4305849075317383.\n",
      "/Users/keisukeonoue/ws/constrained_BO/bo-env/lib/python3.12/site-packages/optuna_integration/botorch.py:931: ExperimentalWarning: logei_candidates_func is experimental (supported from v3.3.0). The interface can change in the future.\n",
      "  candidates = self._candidates_func(\n",
      "[I 2024-08-01 13:04:48,544] Trial 27 finished with value: 1.6886301040649414 and parameters: {'x1': -2.6677612485869093, 'x2': 10.682733117949564}. Best is trial 26 with value: 0.4305849075317383.\n",
      "/Users/keisukeonoue/ws/constrained_BO/bo-env/lib/python3.12/site-packages/optuna_integration/botorch.py:931: ExperimentalWarning: logei_candidates_func is experimental (supported from v3.3.0). The interface can change in the future.\n",
      "  candidates = self._candidates_func(\n",
      "[I 2024-08-01 13:04:48,842] Trial 28 finished with value: 0.6012086868286133 and parameters: {'x1': 9.546647134118878, 'x2': 2.943180816209984}. Best is trial 26 with value: 0.4305849075317383.\n",
      "/Users/keisukeonoue/ws/constrained_BO/bo-env/lib/python3.12/site-packages/optuna_integration/botorch.py:931: ExperimentalWarning: logei_candidates_func is experimental (supported from v3.3.0). The interface can change in the future.\n",
      "  candidates = self._candidates_func(\n",
      "[I 2024-08-01 13:04:49,101] Trial 29 finished with value: 0.43085384368896484 and parameters: {'x1': -3.0588318787653357, 'x2': 12.066949121748623}. Best is trial 26 with value: 0.4305849075317383.\n",
      "/Users/keisukeonoue/ws/constrained_BO/bo-env/lib/python3.12/site-packages/optuna_integration/botorch.py:931: ExperimentalWarning: logei_candidates_func is experimental (supported from v3.3.0). The interface can change in the future.\n",
      "  candidates = self._candidates_func(\n",
      "[I 2024-08-01 13:04:49,446] Trial 30 finished with value: 0.4028167724609375 and parameters: {'x1': 3.169797277302134, 'x2': 2.2197927485547506}. Best is trial 30 with value: 0.4028167724609375.\n",
      "/Users/keisukeonoue/ws/constrained_BO/bo-env/lib/python3.12/site-packages/optuna_integration/botorch.py:931: ExperimentalWarning: logei_candidates_func is experimental (supported from v3.3.0). The interface can change in the future.\n",
      "  candidates = self._candidates_func(\n",
      "[I 2024-08-01 13:04:49,734] Trial 31 finished with value: 0.4108619689941406 and parameters: {'x1': -3.0897773235671417, 'x2': 12.141443639722137}. Best is trial 30 with value: 0.4028167724609375.\n",
      "/Users/keisukeonoue/ws/constrained_BO/bo-env/lib/python3.12/site-packages/optuna_integration/botorch.py:931: ExperimentalWarning: logei_candidates_func is experimental (supported from v3.3.0). The interface can change in the future.\n",
      "  candidates = self._candidates_func(\n",
      "[I 2024-08-01 13:04:50,029] Trial 32 finished with value: 5.8297295570373535 and parameters: {'x1': 9.001356483536481, 'x2': 0.0}. Best is trial 30 with value: 0.4028167724609375.\n",
      "/Users/keisukeonoue/ws/constrained_BO/bo-env/lib/python3.12/site-packages/optuna_integration/botorch.py:931: ExperimentalWarning: logei_candidates_func is experimental (supported from v3.3.0). The interface can change in the future.\n",
      "  candidates = self._candidates_func(\n",
      "[I 2024-08-01 13:04:50,322] Trial 33 finished with value: 0.4005756378173828 and parameters: {'x1': 9.425132774819108, 'x2': 2.4234574828092326}. Best is trial 33 with value: 0.4005756378173828.\n",
      "/Users/keisukeonoue/ws/constrained_BO/bo-env/lib/python3.12/site-packages/optuna_integration/botorch.py:931: ExperimentalWarning: logei_candidates_func is experimental (supported from v3.3.0). The interface can change in the future.\n",
      "  candidates = self._candidates_func(\n",
      "[I 2024-08-01 13:04:50,583] Trial 34 finished with value: 0.40057849884033203 and parameters: {'x1': -3.117928582871557, 'x2': 12.219934941342338}. Best is trial 33 with value: 0.4005756378173828.\n",
      "/Users/keisukeonoue/ws/constrained_BO/bo-env/lib/python3.12/site-packages/optuna_integration/botorch.py:931: ExperimentalWarning: logei_candidates_func is experimental (supported from v3.3.0). The interface can change in the future.\n",
      "  candidates = self._candidates_func(\n",
      "[I 2024-08-01 13:04:50,880] Trial 35 finished with value: 0.40129566192626953 and parameters: {'x1': 3.1679297721982245, 'x2': 2.2457017344499146}. Best is trial 33 with value: 0.4005756378173828.\n",
      "/Users/keisukeonoue/ws/constrained_BO/bo-env/lib/python3.12/site-packages/optuna_integration/botorch.py:931: ExperimentalWarning: logei_candidates_func is experimental (supported from v3.3.0). The interface can change in the future.\n",
      "  candidates = self._candidates_func(\n",
      "[I 2024-08-01 13:04:51,157] Trial 36 finished with value: 0.4110240936279297 and parameters: {'x1': 9.452302254903799, 'x2': 2.5957834724528426}. Best is trial 33 with value: 0.4005756378173828.\n",
      "/Users/keisukeonoue/ws/constrained_BO/bo-env/lib/python3.12/site-packages/optuna_integration/botorch.py:931: ExperimentalWarning: logei_candidates_func is experimental (supported from v3.3.0). The interface can change in the future.\n",
      "  candidates = self._candidates_func(\n",
      "[I 2024-08-01 13:04:51,514] Trial 37 finished with value: 0.3987150192260742 and parameters: {'x1': -3.1289575170956416, 'x2': 12.252442748919297}. Best is trial 37 with value: 0.3987150192260742.\n",
      "/Users/keisukeonoue/ws/constrained_BO/bo-env/lib/python3.12/site-packages/optuna_integration/botorch.py:931: ExperimentalWarning: logei_candidates_func is experimental (supported from v3.3.0). The interface can change in the future.\n",
      "  candidates = self._candidates_func(\n",
      "[I 2024-08-01 13:04:51,769] Trial 38 finished with value: 0.4007272720336914 and parameters: {'x1': 3.1658464494121112, 'x2': 2.2601971556170843}. Best is trial 37 with value: 0.3987150192260742.\n",
      "/Users/keisukeonoue/ws/constrained_BO/bo-env/lib/python3.12/site-packages/optuna_integration/botorch.py:931: ExperimentalWarning: logei_candidates_func is experimental (supported from v3.3.0). The interface can change in the future.\n",
      "  candidates = self._candidates_func(\n",
      "[I 2024-08-01 13:04:52,132] Trial 39 finished with value: 0.42425060272216797 and parameters: {'x1': 9.45672466609486, 'x2': 2.6485847346368243}. Best is trial 37 with value: 0.3987150192260742.\n",
      "/Users/keisukeonoue/ws/constrained_BO/bo-env/lib/python3.12/site-packages/optuna_integration/botorch.py:931: ExperimentalWarning: logei_candidates_func is experimental (supported from v3.3.0). The interface can change in the future.\n",
      "  candidates = self._candidates_func(\n",
      "[I 2024-08-01 13:04:52,428] Trial 40 finished with value: 0.3988819122314453 and parameters: {'x1': -3.150596661846129, 'x2': 12.321248024482184}. Best is trial 37 with value: 0.3987150192260742.\n",
      "/Users/keisukeonoue/ws/constrained_BO/bo-env/lib/python3.12/site-packages/optuna_integration/botorch.py:931: ExperimentalWarning: logei_candidates_func is experimental (supported from v3.3.0). The interface can change in the future.\n",
      "  candidates = self._candidates_func(\n",
      "[I 2024-08-01 13:04:52,839] Trial 41 finished with value: 0.4005393981933594 and parameters: {'x1': 3.164325877013315, 'x2': 2.270412890020175}. Best is trial 37 with value: 0.3987150192260742.\n",
      "/Users/keisukeonoue/ws/constrained_BO/bo-env/lib/python3.12/site-packages/optuna_integration/botorch.py:931: ExperimentalWarning: logei_candidates_func is experimental (supported from v3.3.0). The interface can change in the future.\n",
      "  candidates = self._candidates_func(\n",
      "[I 2024-08-01 13:04:53,196] Trial 42 finished with value: 0.43607330322265625 and parameters: {'x1': -3.053594582841738, 'x2': 12.03239885323901}. Best is trial 37 with value: 0.3987150192260742.\n",
      "/Users/keisukeonoue/ws/constrained_BO/bo-env/lib/python3.12/site-packages/optuna_integration/botorch.py:931: ExperimentalWarning: logei_candidates_func is experimental (supported from v3.3.0). The interface can change in the future.\n",
      "  candidates = self._candidates_func(\n",
      "[I 2024-08-01 13:04:53,496] Trial 43 finished with value: 0.4103727340698242 and parameters: {'x1': 9.386899631382075, 'x2': 2.368416599564498}. Best is trial 37 with value: 0.3987150192260742.\n",
      "/Users/keisukeonoue/ws/constrained_BO/bo-env/lib/python3.12/site-packages/optuna_integration/botorch.py:931: ExperimentalWarning: logei_candidates_func is experimental (supported from v3.3.0). The interface can change in the future.\n",
      "  candidates = self._candidates_func(\n",
      "[I 2024-08-01 13:04:53,771] Trial 44 finished with value: 0.41912364959716797 and parameters: {'x1': -3.199881716860668, 'x2': 12.48572605349349}. Best is trial 37 with value: 0.3987150192260742.\n",
      "/Users/keisukeonoue/ws/constrained_BO/bo-env/lib/python3.12/site-packages/optuna_integration/botorch.py:931: ExperimentalWarning: logei_candidates_func is experimental (supported from v3.3.0). The interface can change in the future.\n",
      "  candidates = self._candidates_func(\n",
      "[I 2024-08-01 13:04:54,127] Trial 45 finished with value: 0.49962425231933594 and parameters: {'x1': 9.471425648392458, 'x2': 2.816774353160813}. Best is trial 37 with value: 0.3987150192260742.\n",
      "/Users/keisukeonoue/ws/constrained_BO/bo-env/lib/python3.12/site-packages/optuna_integration/botorch.py:931: ExperimentalWarning: logei_candidates_func is experimental (supported from v3.3.0). The interface can change in the future.\n",
      "  candidates = self._candidates_func(\n",
      "[I 2024-08-01 13:04:54,428] Trial 46 finished with value: 0.4005546569824219 and parameters: {'x1': 3.1634786391529435, 'x2': 2.277182863445483}. Best is trial 37 with value: 0.3987150192260742.\n",
      "/Users/keisukeonoue/ws/constrained_BO/bo-env/lib/python3.12/site-packages/optuna_integration/botorch.py:931: ExperimentalWarning: logei_candidates_func is experimental (supported from v3.3.0). The interface can change in the future.\n",
      "  candidates = self._candidates_func(\n",
      "[I 2024-08-01 13:04:54,673] Trial 47 finished with value: 0.4235105514526367 and parameters: {'x1': -3.0718194571025563, 'x2': 12.06041574754794}. Best is trial 37 with value: 0.3987150192260742.\n",
      "/Users/keisukeonoue/ws/constrained_BO/bo-env/lib/python3.12/site-packages/optuna_integration/botorch.py:931: ExperimentalWarning: logei_candidates_func is experimental (supported from v3.3.0). The interface can change in the future.\n",
      "  candidates = self._candidates_func(\n",
      "[I 2024-08-01 13:04:54,987] Trial 48 finished with value: 0.4005613327026367 and parameters: {'x1': 3.1622815848108026, 'x2': 2.283819446985853}. Best is trial 37 with value: 0.3987150192260742.\n",
      "/Users/keisukeonoue/ws/constrained_BO/bo-env/lib/python3.12/site-packages/optuna_integration/botorch.py:931: ExperimentalWarning: logei_candidates_func is experimental (supported from v3.3.0). The interface can change in the future.\n",
      "  candidates = self._candidates_func(\n",
      "[I 2024-08-01 13:04:55,295] Trial 49 finished with value: 0.41811180114746094 and parameters: {'x1': -3.1983994740158446, 'x2': 12.480757856092932}. Best is trial 37 with value: 0.3987150192260742.\n"
     ]
    },
    {
     "name": "stdout",
     "output_type": "stream",
     "text": [
      "Best value:  0.3987150192260742\n",
      "Best params:  {'x1': -3.1289575170956416, 'x2': 12.252442748919297}\n"
     ]
    }
   ],
   "source": [
    "import optuna\n",
    "from optuna.integration import BoTorchSampler\n",
    "from botorch.test_functions import Branin\n",
    "import torch\n",
    "\n",
    "# テスト関数の定義 (Branin 関数)\n",
    "def branin(x):\n",
    "    return Branin()(torch.tensor(x, dtype=torch.float)).item()\n",
    "\n",
    "# 目的関数\n",
    "def objective(trial):\n",
    "    # 最適化するパラメータの範囲を設定\n",
    "    x1 = trial.suggest_float('x1', -5, 10)\n",
    "    x2 = trial.suggest_float('x2', 0, 15)\n",
    "    # テスト関数の評価\n",
    "    return branin([x1, x2])\n",
    "\n",
    "# BoTorchSampler を使った最適化\n",
    "sampler = BoTorchSampler()\n",
    "\n",
    "# Optuna の study を作成して最適化を実行\n",
    "study = optuna.create_study(sampler=sampler, direction='minimize')\n",
    "study.optimize(objective, n_trials=50)\n",
    "\n",
    "# 結果の表示\n",
    "print(\"Best value: \", study.best_value)\n",
    "print(\"Best params: \", study.best_params)"
   ]
  },
  {
   "cell_type": "code",
   "execution_count": null,
   "metadata": {},
   "outputs": [],
   "source": []
  },
  {
   "cell_type": "code",
   "execution_count": null,
   "metadata": {},
   "outputs": [],
   "source": []
  },
  {
   "cell_type": "code",
   "execution_count": 10,
   "metadata": {},
   "outputs": [
    {
     "data": {
      "application/vnd.plotly.v1+json": {
       "config": {
        "plotlyServerURL": "https://plot.ly"
       },
       "data": [
        {
         "mode": "lines",
         "name": "Test Function",
         "type": "scatter",
         "x": [
          -1,
          -0.9919839679358717,
          -0.9839679358717435,
          -0.9759519038076152,
          -0.9679358717434869,
          -0.9599198396793587,
          -0.9519038076152304,
          -0.9438877755511023,
          -0.935871743486974,
          -0.9278557114228457,
          -0.9198396793587175,
          -0.9118236472945892,
          -0.9038076152304609,
          -0.8957915831663327,
          -0.8877755511022044,
          -0.8797595190380761,
          -0.8717434869739479,
          -0.8637274549098196,
          -0.8557114228456915,
          -0.8476953907815632,
          -0.8396793587174349,
          -0.8316633266533067,
          -0.8236472945891784,
          -0.8156312625250501,
          -0.8076152304609219,
          -0.7995991983967936,
          -0.7915831663326653,
          -0.7835671342685371,
          -0.7755511022044088,
          -0.7675350701402806,
          -0.7595190380761523,
          -0.751503006012024,
          -0.7434869739478958,
          -0.7354709418837675,
          -0.7274549098196392,
          -0.719438877755511,
          -0.7114228456913828,
          -0.7034068136272545,
          -0.6953907815631263,
          -0.687374749498998,
          -0.6793587174348698,
          -0.6713426853707415,
          -0.6633266533066133,
          -0.6553106212424851,
          -0.6472945891783568,
          -0.6392785571142285,
          -0.6312625250501003,
          -0.623246492985972,
          -0.6152304609218437,
          -0.6072144288577155,
          -0.5991983967935872,
          -0.591182364729459,
          -0.5831663326653307,
          -0.5751503006012024,
          -0.5671342685370742,
          -0.5591182364729459,
          -0.5511022044088176,
          -0.5430861723446894,
          -0.5350701402805611,
          -0.5270541082164328,
          -0.5190380761523046,
          -0.5110220440881764,
          -0.5030060120240482,
          -0.4949899799599199,
          -0.4869739478957916,
          -0.47895791583166336,
          -0.4709418837675351,
          -0.46292585170340683,
          -0.45490981963927857,
          -0.4468937875751503,
          -0.43887775551102204,
          -0.4308617234468939,
          -0.4228456913827656,
          -0.41482965931863736,
          -0.4068136272545091,
          -0.3987975951903808,
          -0.39078156312625256,
          -0.3827655310621243,
          -0.37474949899799603,
          -0.36673346693386777,
          -0.3587174348697395,
          -0.35070140280561124,
          -0.342685370741483,
          -0.3346693386773547,
          -0.32665330661322656,
          -0.3186372745490983,
          -0.31062124248497003,
          -0.30260521042084176,
          -0.2945891783567135,
          -0.28657314629258523,
          -0.27855711422845697,
          -0.2705410821643287,
          -0.26252505010020044,
          -0.2545090180360722,
          -0.2464929859719439,
          -0.23847695390781565,
          -0.2304609218436875,
          -0.22244488977955923,
          -0.21442885771543096,
          -0.2064128256513027,
          -0.19839679358717444,
          -0.19038076152304617,
          -0.1823647294589179,
          -0.17434869739478964,
          -0.16633266533066138,
          -0.1583166332665331,
          -0.15030060120240485,
          -0.14228456913827658,
          -0.13426853707414832,
          -0.12625250501002017,
          -0.1182364729458919,
          -0.11022044088176364,
          -0.10220440881763537,
          -0.09418837675350711,
          -0.08617234468937884,
          -0.07815631262525058,
          -0.07014028056112231,
          -0.06212424849699405,
          -0.054108216432865786,
          -0.04609218436873752,
          -0.038076152304609256,
          -0.030060120240480992,
          -0.02204408817635284,
          -0.014028056112224574,
          -0.006012024048096309,
          0.002004008016031955,
          0.01002004008016022,
          0.018036072144288484,
          0.02605210420841675,
          0.03406813627254501,
          0.04208416833667328,
          0.05010020040080154,
          0.05811623246492981,
          0.06613226452905807,
          0.07414829659318634,
          0.0821643286573146,
          0.09018036072144286,
          0.09819639278557113,
          0.1062124248496994,
          0.11422845691382766,
          0.12224448897795592,
          0.13026052104208397,
          0.13827655310621223,
          0.1462925851703405,
          0.15430861723446876,
          0.16232464929859702,
          0.1703406813627253,
          0.17835671342685355,
          0.18637274549098182,
          0.19438877755511008,
          0.20240480961923835,
          0.2104208416833666,
          0.21843687374749488,
          0.22645290581162314,
          0.2344689378757514,
          0.24248496993987967,
          0.25050100200400793,
          0.2585170340681362,
          0.26653306613226446,
          0.2745490981963927,
          0.282565130260521,
          0.29058116232464926,
          0.2985971943887775,
          0.3066132264529058,
          0.31462925851703405,
          0.3226452905811623,
          0.3306613226452906,
          0.3386773547094186,
          0.3466933867735469,
          0.35470941883767515,
          0.3627254509018034,
          0.3707414829659317,
          0.37875751503005994,
          0.3867735470941882,
          0.3947895791583165,
          0.40280561122244474,
          0.410821643286573,
          0.41883767535070127,
          0.42685370741482953,
          0.4348697394789578,
          0.44288577154308606,
          0.4509018036072143,
          0.4589178356713426,
          0.46693386773547085,
          0.4749498997995991,
          0.4829659318637274,
          0.49098196392785565,
          0.4989979959919839,
          0.5070140280561122,
          0.5150300601202404,
          0.5230460921843687,
          0.531062124248497,
          0.539078156312625,
          0.5470941883767533,
          0.5551102204408815,
          0.5631262525050098,
          0.5711422845691381,
          0.5791583166332663,
          0.5871743486973946,
          0.5951903807615229,
          0.6032064128256511,
          0.6112224448897794,
          0.6192384769539077,
          0.6272545090180359,
          0.6352705410821642,
          0.6432865731462925,
          0.6513026052104207,
          0.659318637274549,
          0.6673346693386772,
          0.6753507014028055,
          0.6833667334669338,
          0.691382765531062,
          0.6993987975951903,
          0.7074148296593186,
          0.7154308617234468,
          0.7234468937875751,
          0.7314629258517034,
          0.7394789579158316,
          0.7474949899799597,
          0.7555110220440879,
          0.7635270541082162,
          0.7715430861723445,
          0.7795591182364727,
          0.787575150300601,
          0.7955911823647293,
          0.8036072144288575,
          0.8116232464929858,
          0.819639278557114,
          0.8276553106212423,
          0.8356713426853706,
          0.8436873747494988,
          0.8517034068136271,
          0.8597194388777554,
          0.8677354709418836,
          0.8757515030060119,
          0.8837675350701402,
          0.8917835671342684,
          0.8997995991983967,
          0.907815631262525,
          0.9158316633266532,
          0.9238476953907815,
          0.9318637274549098,
          0.939879759519038,
          0.9478957915831663,
          0.9559118236472943,
          0.9639278557114226,
          0.9719438877755509,
          0.9799599198396791,
          0.9879759519038074,
          0.9959919839679356,
          1.004008016032064,
          1.0120240480961922,
          1.0200400801603204,
          1.0280561122244487,
          1.036072144288577,
          1.0440881763527052,
          1.0521042084168335,
          1.0601202404809618,
          1.06813627254509,
          1.0761523046092183,
          1.0841683366733466,
          1.0921843687374748,
          1.100200400801603,
          1.1082164328657313,
          1.1162324649298596,
          1.1242484969939879,
          1.1322645290581161,
          1.1402805611222444,
          1.1482965931863727,
          1.156312625250501,
          1.1643286573146292,
          1.1723446893787575,
          1.1803607214428857,
          1.188376753507014,
          1.1963927855711423,
          1.2044088176352705,
          1.2124248496993988,
          1.220440881763527,
          1.2284569138276553,
          1.2364729458917836,
          1.2444889779559118,
          1.25250501002004,
          1.260521042084168,
          1.2685370741482962,
          1.2765531062124245,
          1.2845691382765527,
          1.292585170340681,
          1.3006012024048093,
          1.3086172344689375,
          1.3166332665330658,
          1.324649298597194,
          1.3326653306613223,
          1.3406813627254506,
          1.3486973947895788,
          1.356713426853707,
          1.3647294589178354,
          1.3727454909819636,
          1.380761523046092,
          1.3887775551102202,
          1.3967935871743484,
          1.4048096192384767,
          1.412825651302605,
          1.4208416833667332,
          1.4288577154308615,
          1.4368737474949898,
          1.444889779559118,
          1.4529058116232463,
          1.4609218436873745,
          1.4689378757515028,
          1.476953907815631,
          1.4849699398797593,
          1.4929859719438876,
          1.5010020040080159,
          1.5090180360721441,
          1.5170340681362724,
          1.5250501002004007,
          1.533066132264529,
          1.5410821643286572,
          1.5490981963927855,
          1.5571142284569137,
          1.565130260521042,
          1.5731462925851702,
          1.5811623246492985,
          1.5891783567134268,
          1.597194388777555,
          1.6052104208416833,
          1.6132264529058116,
          1.6212424849699398,
          1.629258517034068,
          1.6372745490981964,
          1.6452905811623246,
          1.653306613226453,
          1.6613226452905812,
          1.669338677354709,
          1.6773547094188372,
          1.6853707414829655,
          1.6933867735470938,
          1.701402805611222,
          1.7094188376753503,
          1.7174348697394786,
          1.7254509018036068,
          1.733466933867735,
          1.7414829659318634,
          1.7494989979959916,
          1.7575150300601199,
          1.7655310621242482,
          1.7735470941883764,
          1.7815631262525047,
          1.789579158316633,
          1.7975951903807612,
          1.8056112224448895,
          1.8136272545090177,
          1.821643286573146,
          1.8296593186372743,
          1.8376753507014025,
          1.8456913827655308,
          1.853707414829659,
          1.8617234468937873,
          1.8697394789579156,
          1.8777555110220439,
          1.8857715430861721,
          1.8937875751503004,
          1.9018036072144286,
          1.909819639278557,
          1.9178356713426852,
          1.9258517034068134,
          1.9338677354709417,
          1.94188376753507,
          1.9498997995991982,
          1.9579158316633265,
          1.9659318637274548,
          1.973947895791583,
          1.9819639278557113,
          1.9899799599198396,
          1.9979959919839678,
          2.006012024048096,
          2.0140280561122244,
          2.0220440881763526,
          2.030060120240481,
          2.038076152304609,
          2.0460921843687374,
          2.0541082164328657,
          2.062124248496994,
          2.070140280561122,
          2.07815631262525,
          2.0861723446893783,
          2.0941883767535066,
          2.102204408817635,
          2.110220440881763,
          2.1182364729458913,
          2.1262525050100196,
          2.134268537074148,
          2.142284569138276,
          2.1503006012024044,
          2.1583166332665327,
          2.166332665330661,
          2.174348697394789,
          2.1823647294589175,
          2.1903807615230457,
          2.198396793587174,
          2.2064128256513023,
          2.2144288577154305,
          2.222444889779559,
          2.230460921843687,
          2.2384769539078153,
          2.2464929859719436,
          2.254509018036072,
          2.2625250501002,
          2.2705410821643284,
          2.2785571142284566,
          2.286573146292585,
          2.294589178356713,
          2.3026052104208414,
          2.3106212424849697,
          2.318637274549098,
          2.3266533066132262,
          2.3346693386773545,
          2.3426853707414828,
          2.350701402805611,
          2.3587174348697393,
          2.3667334669338675,
          2.374749498997996,
          2.382765531062124,
          2.3907815631262523,
          2.3987975951903806,
          2.406813627254509,
          2.414829659318637,
          2.4228456913827654,
          2.4308617234468937,
          2.438877755511022,
          2.44689378757515,
          2.4549098196392785,
          2.4629258517034067,
          2.470941883767535,
          2.4789579158316633,
          2.4869739478957915,
          2.4949899799599193,
          2.5030060120240476,
          2.511022044088176,
          2.519038076152304,
          2.5270541082164324,
          2.5350701402805607,
          2.543086172344689,
          2.551102204408817,
          2.5591182364729455,
          2.5671342685370737,
          2.575150300601202,
          2.5831663326653302,
          2.5911823647294585,
          2.5991983967935868,
          2.607214428857715,
          2.6152304609218433,
          2.6232464929859716,
          2.6312625250501,
          2.639278557114228,
          2.6472945891783564,
          2.6553106212424846,
          2.663326653306613,
          2.671342685370741,
          2.6793587174348694,
          2.6873747494989977,
          2.695390781563126,
          2.703406813627254,
          2.7114228456913825,
          2.7194388777555107,
          2.727454909819639,
          2.7354709418837673,
          2.7434869739478955,
          2.751503006012024,
          2.759519038076152,
          2.7675350701402803,
          2.7755511022044086,
          2.783567134268537,
          2.791583166332665,
          2.7995991983967934,
          2.8076152304609217,
          2.81563126252505,
          2.823647294589178,
          2.8316633266533064,
          2.8396793587174347,
          2.847695390781563,
          2.8557114228456912,
          2.8637274549098195,
          2.8717434869739478,
          2.879759519038076,
          2.8877755511022043,
          2.8957915831663326,
          2.9038076152304604,
          2.9118236472945886,
          2.919839679358717,
          2.927855711422845,
          2.9358717434869734,
          2.9438877755511017,
          2.95190380761523,
          2.9599198396793582,
          2.9679358717434865,
          2.9759519038076148,
          2.983967935871743,
          2.9919839679358713,
          3
         ],
         "y": [
          9,
          8.951968064385284,
          8.904064642310674,
          8.856289733776169,
          8.808643338781772,
          8.76112545732748,
          8.713736089413295,
          8.666475235039217,
          8.619342894205245,
          8.572339066911377,
          8.525463753157617,
          8.478716952943964,
          8.432098666270416,
          8.385608893136975,
          8.33924763354364,
          8.293014887490411,
          8.246910654977288,
          8.200934936004272,
          8.155087730571362,
          8.109369038678562,
          8.063778860325861,
          8.018317195513273,
          7.9729840442407856,
          7.927779406508409,
          7.882703282316134,
          7.83775567166397,
          7.792936574551908,
          7.7482459909799575,
          7.703683920948108,
          7.659250364456369,
          7.614945321504732,
          7.570768792093205,
          7.526720776221781,
          7.482801273890467,
          7.439010285099255,
          7.395347809848154,
          7.351813848137157,
          7.308408399966266,
          7.2651314653354815,
          7.221983044244803,
          7.178963136694231,
          7.1360717426837645,
          7.093308862213405,
          7.050674495283152,
          7.008168641893005,
          6.965791302042964,
          6.923542475733029,
          6.881422162963202,
          6.839430363733479,
          6.797567078043864,
          6.755832305894354,
          6.714226047284951,
          6.672748302215654,
          6.631399070686463,
          6.590178352697379,
          6.5490861482484,
          6.508122457339529,
          6.467287279970763,
          6.426580616142104,
          6.386002465853551,
          6.345552829105104,
          6.305231705896763,
          6.265039096228529,
          6.224975000100401,
          6.185039417512379,
          6.1452323484644635,
          6.105553792956655,
          6.066003750988951,
          6.026582222561355,
          5.987289207673864,
          5.94812470632648,
          5.909088718519202,
          5.8701812442520325,
          5.831402283524965,
          5.792751836338008,
          5.754229902691153,
          5.715836482584408,
          5.677571576017766,
          5.639435182991234,
          5.6014273035048046,
          5.563547937558485,
          5.525797085152267,
          5.488174746286161,
          5.450680920960155,
          5.413315609174261,
          5.376078810928471,
          5.338970526222787,
          5.30199075505721,
          5.265139497431738,
          5.228416753346373,
          5.191822522801114,
          5.155356805795962,
          5.119019602330915,
          5.082810912405975,
          5.046730736021141,
          5.010779073176414,
          4.974955923871792,
          4.939261288107277,
          4.903695165882868,
          4.868257557198566,
          4.83294846205437,
          4.797767880450279,
          4.762715812386296,
          4.7277922578624185,
          4.692997216878648,
          4.658330689434982,
          4.623792675531424,
          4.5893831751679715,
          4.555102188344625,
          4.520949715061385,
          4.486925755318252,
          4.453030309115224,
          4.419263376452303,
          4.3856249573294885,
          4.35211505174678,
          4.318733659704177,
          4.285480781201682,
          4.252356416239292,
          4.219360564817008,
          4.186493226934831,
          4.15375440259276,
          4.1211440917907955,
          4.0886622945289375,
          4.056309010807187,
          4.024084240625539,
          12.480000080320963,
          12.400803611230478,
          12.322892277541055,
          12.246266079252695,
          12.170925016365397,
          12.096869088879162,
          12.024098296793989,
          11.95261264010988,
          11.882412118826833,
          11.813496732944849,
          11.745866482463926,
          11.679521367384067,
          11.614461387705271,
          11.550686543427537,
          11.488196834550866,
          11.426992261075256,
          11.367072823000711,
          11.308438520327229,
          11.251089353054809,
          11.19502532118345,
          11.140246424713155,
          11.086752663643923,
          11.034544037975753,
          10.983620547708645,
          10.933982192842599,
          10.885628973377617,
          10.838560889313698,
          10.792777940650842,
          10.748280127389048,
          10.705067449528316,
          10.663139907068647,
          10.622497500010041,
          10.583140228352496,
          10.545068092096017,
          10.508281091240598,
          10.472779225786242,
          10.438562495732949,
          10.405630901080718,
          10.37398444182955,
          10.343623117979446,
          10.314546929530403,
          10.286755876482424,
          10.260249958835507,
          10.235029176589652,
          10.211093529744861,
          10.188443018301133,
          10.167077642258466,
          10.146997401616861,
          10.12820229637632,
          10.110692326536842,
          10.094467492098426,
          10.079527793061072,
          10.065873229424781,
          10.053503801189553,
          10.042419508355389,
          10.032620350922286,
          10.024106328890246,
          10.016877442259268,
          10.010933691029352,
          10.0062750752005,
          10.002901594772712,
          10.000813249745985,
          10.000010040120321,
          10.00049196589572,
          10.00225902707218,
          10.005311223649704,
          10.00964855562829,
          10.015271023007939,
          10.022178625788651,
          10.030371363970426,
          10.039849237553263,
          10.050612246537161,
          10.062660390922124,
          10.075993670708149,
          10.090612085895238,
          10.106515636483387,
          10.1237043224726,
          10.142178143862875,
          10.161937100654214,
          10.182981192846615,
          10.205310420440078,
          10.228924783434604,
          10.253824281830193,
          10.280008915626844,
          10.30747868482456,
          10.336233589423335,
          10.366273629423175,
          10.397598804824076,
          10.430209115626042,
          10.46410456182907,
          10.499285143433159,
          10.535750860438311,
          10.573501712844527,
          10.612537700651803,
          10.652858823860145,
          10.694465082469547,
          10.737356476480013,
          10.781533005891541,
          10.826994670704133,
          10.873741470917786,
          10.921773406532502,
          10.971090477548282,
          11.021692683965124,
          11.073580025783027,
          11.126752503001995,
          11.181210115622024,
          11.236952863643117,
          11.293980747065271,
          11.35229376588849,
          11.411891920112769,
          11.472775209738113,
          11.534943634764518,
          11.598397195191986,
          11.663135891020517,
          11.729159722250111,
          11.796468688880767,
          11.865062790912486,
          11.934942028345267,
          12.00610640117911,
          12.078555909414016,
          12.152290553049985,
          12.227310332087018,
          12.303615246525112,
          12.38120529636427,
          12.46008048160449,
          0.9920000321283855,
          0.9760964815402352,
          0.9603214444921911,
          0.9446749209842534,
          0.929156911016422,
          0.9137674145886968,
          0.8985064317010778,
          0.8833739623535651,
          0.8683700065461587,
          0.8534945642788586,
          0.8387476355516646,
          0.824129220364577,
          0.8096393187175958,
          0.7952779306107206,
          0.7810450560439518,
          0.7669406950172892,
          0.752964847530733,
          0.7391175135842829,
          0.7253986931779391,
          0.7118083863117016,
          0.6983465929855704,
          0.6850133131995455,
          0.6718085469536268,
          0.6587322942478143,
          0.6457845550821082,
          0.6329653294565082,
          0.6202746173710146,
          0.6077124188256272,
          0.5952787338203461,
          0.5829735623551713,
          0.5707969044301027,
          0.5587487600451403,
          0.5468291292002849,
          0.5350380118955351,
          0.5233754081308916,
          0.5118413179063543,
          0.5004357412219234,
          0.4891586780775986,
          0.47801012847338015,
          0.4669900924092679,
          0.456098569885262,
          0.4453355609013623,
          0.43470106545756887,
          0.42419508355388175,
          0.41381761519030086,
          0.4035686603668262,
          0.39344821908345784,
          0.38345629134019577,
          0.3735928771370399,
          0.3638579764739904,
          0.3542515893510471,
          0.3447737157682101,
          0.3354243557254793,
          0.3262035092228548,
          0.3171111762603366,
          0.3081473568379246,
          0.2993120509556189,
          0.29060525861341946,
          0.2820269798113263,
          0.27357721454933936,
          0.2652559628274587,
          0.2570632246456843,
          0.2489990000040162,
          0.24106328890245435,
          0.23325609134099878,
          0.22557740731964945,
          0.21802723683840639,
          0.2106055798972696,
          0.20331243649623906,
          0.1961478066353148,
          0.18911169031449682,
          0.1822040875337851,
          0.17542499829317962,
          0.1687744225926804,
          0.16225236043228747,
          0.1558588118120008,
          0.1495937767318204,
          0.14345725519174626,
          0.13744924719177837,
          0.13156975273191676,
          0.12581877181216142,
          0.12019630443251234,
          0.11470235059296952,
          0.10933691029353325,
          0.10409998353420295,
          0.09899157031497892,
          0.09401167063586116,
          0.08916028449684965,
          0.08443741189794442,
          0.07984305283914545,
          0.07537720732045274,
          0.0710398753418663,
          0.06683105690338612,
          0.0627507520050122,
          0.058798960646744565,
          0.05497568282858318,
          0.05128091855052806,
          0.04771466781257921,
          0.04427693061473662,
          0.0409677069570003,
          0.03778699683937024,
          0.03473480026184645,
          0.03181111722442892,
          0.029015947727117658,
          0.02634929176991266,
          0.023811149352813928,
          0.02140152047582146,
          0.019120405138935252,
          0.016967803342155315,
          0.01494371508548164,
          0.013048140368914232,
          0.01128107919245309,
          0.00964253155609821,
          0.008132497459849595,
          0.006750976903707246,
          0.0054979698876711615,
          0.004373476411741342,
          0.003377496475917787,
          0.002510030080200497,
          0.0017710772245894723,
          0.0011606379090847124,
          0.0006787121336862172,
          0.000325299898393987,
          0.00010040120320802167,
          0.000004016048128321223,
          0.00003614443315488566,
          0.000196786358287715,
          0.00048594182352680923,
          0.0009036108288721684,
          0.0014497933743237922,
          0.002124489459881681,
          0.002927699085545835,
          0.0038594222513162538,
          0.004919658957192937,
          0.006108409203175816,
          0.007425672989265023,
          0.008871450315460494,
          0.01044574118176223,
          0.01214854558817023,
          0.013979863534684497,
          0.015939695021305027,
          0.018028040048031824,
          0.020244898614864882,
          0.02259027072180421,
          0.0250641563688498,
          0.027666555556001653,
          0.030397468283259774,
          0.03325689455062416,
          0.03624483435809481,
          0.039361287705671724,
          0.0426062545933549,
          0.045979735021144344,
          0.049481728989040054,
          0.05311223649704203,
          0.05687125754515027,
          0.060758792133364777,
          0.06477484026168555,
          0.06891940193011258,
          0.07319247713864588,
          0.07759406588728544,
          0.08212416817603127,
          0.08678278400488336,
          0.09156991337384172,
          0.09648555628290634,
          0.10152971273207723,
          0.10670238272135438,
          0.1120035662507378,
          0.11743326332022748,
          0.12299147392982343,
          0.12867819807952566,
          0.13449343576933412,
          0.14043718699924887,
          0.14650945176926988,
          0.15271023007939713,
          0.15903952192963067,
          0.1654973273199705,
          0.17208364625041656,
          0.17879847872096888,
          0.18564182473162746,
          0.19261368428239234,
          0.19971405737326348,
          0.20694294400424085,
          0.2143003441753245,
          0.22178625788651443,
          0.22940068513781062,
          0.23714362592921306,
          0.24501508026072136,
          0.25301504813233633,
          0.26114352954405756,
          0.2694005244958851,
          0.27778603298781884,
          0.28630005501985883,
          0.29494259059200517,
          0.30371363970425774,
          0.31261320235661655,
          0.32164127854908164,
          0.330797868281653,
          0.34008297155433065,
          0.3494965883671145,
          0.35903871872000465,
          0.3687093626130011,
          0.37850852004610375,
          0.3884361910193127,
          0.3984923755326279,
          0.4086770735860494,
          0.41899028517957715,
          0.42943201031321115,
          0.4400022489869514,
          0.4507010012007979,
          0.46152826695475074,
          0.4724840462488098,
          0.48356833908297514,
          0.4947811454572467,
          0.5061224653716246,
          0.5175922988261087,
          0.5291906458206991,
          0.5409175063553958,
          0.5527728804301987,
          0.5647567680451079,
          0.5768691692001233,
          0.589110083895245,
          0.601479512130473,
          0.6139774539058073,
          0.6266039092212478,
          0.6393588780767946,
          0.6522423604724475,
          0.6652543564082068,
          0.6783948658840725,
          0.6916638889000443,
          0.7050614254561224,
          0.7185874755523067,
          0.7322420391885974,
          0.7460251163649942,
          0.7599367070814974,
          0.7739768113381069,
          0.7881454291348226,
          0.8024425604716445,
          0.816868205348572,
          0.8314223637656064,
          0.8461050357227471,
          0.8609162212199941,
          0.8758559202573474,
          0.890924132834807,
          0.9061208589523727,
          0.9214460986100448,
          0.9368998518078231,
          0.9524821185457077,
          0.9681928988236986,
          0.9840321926417958,
          1
         ]
        }
       ],
       "layout": {
        "showlegend": true,
        "template": {
         "data": {
          "bar": [
           {
            "error_x": {
             "color": "#2a3f5f"
            },
            "error_y": {
             "color": "#2a3f5f"
            },
            "marker": {
             "line": {
              "color": "#E5ECF6",
              "width": 0.5
             },
             "pattern": {
              "fillmode": "overlay",
              "size": 10,
              "solidity": 0.2
             }
            },
            "type": "bar"
           }
          ],
          "barpolar": [
           {
            "marker": {
             "line": {
              "color": "#E5ECF6",
              "width": 0.5
             },
             "pattern": {
              "fillmode": "overlay",
              "size": 10,
              "solidity": 0.2
             }
            },
            "type": "barpolar"
           }
          ],
          "carpet": [
           {
            "aaxis": {
             "endlinecolor": "#2a3f5f",
             "gridcolor": "white",
             "linecolor": "white",
             "minorgridcolor": "white",
             "startlinecolor": "#2a3f5f"
            },
            "baxis": {
             "endlinecolor": "#2a3f5f",
             "gridcolor": "white",
             "linecolor": "white",
             "minorgridcolor": "white",
             "startlinecolor": "#2a3f5f"
            },
            "type": "carpet"
           }
          ],
          "choropleth": [
           {
            "colorbar": {
             "outlinewidth": 0,
             "ticks": ""
            },
            "type": "choropleth"
           }
          ],
          "contour": [
           {
            "colorbar": {
             "outlinewidth": 0,
             "ticks": ""
            },
            "colorscale": [
             [
              0,
              "#0d0887"
             ],
             [
              0.1111111111111111,
              "#46039f"
             ],
             [
              0.2222222222222222,
              "#7201a8"
             ],
             [
              0.3333333333333333,
              "#9c179e"
             ],
             [
              0.4444444444444444,
              "#bd3786"
             ],
             [
              0.5555555555555556,
              "#d8576b"
             ],
             [
              0.6666666666666666,
              "#ed7953"
             ],
             [
              0.7777777777777778,
              "#fb9f3a"
             ],
             [
              0.8888888888888888,
              "#fdca26"
             ],
             [
              1,
              "#f0f921"
             ]
            ],
            "type": "contour"
           }
          ],
          "contourcarpet": [
           {
            "colorbar": {
             "outlinewidth": 0,
             "ticks": ""
            },
            "type": "contourcarpet"
           }
          ],
          "heatmap": [
           {
            "colorbar": {
             "outlinewidth": 0,
             "ticks": ""
            },
            "colorscale": [
             [
              0,
              "#0d0887"
             ],
             [
              0.1111111111111111,
              "#46039f"
             ],
             [
              0.2222222222222222,
              "#7201a8"
             ],
             [
              0.3333333333333333,
              "#9c179e"
             ],
             [
              0.4444444444444444,
              "#bd3786"
             ],
             [
              0.5555555555555556,
              "#d8576b"
             ],
             [
              0.6666666666666666,
              "#ed7953"
             ],
             [
              0.7777777777777778,
              "#fb9f3a"
             ],
             [
              0.8888888888888888,
              "#fdca26"
             ],
             [
              1,
              "#f0f921"
             ]
            ],
            "type": "heatmap"
           }
          ],
          "heatmapgl": [
           {
            "colorbar": {
             "outlinewidth": 0,
             "ticks": ""
            },
            "colorscale": [
             [
              0,
              "#0d0887"
             ],
             [
              0.1111111111111111,
              "#46039f"
             ],
             [
              0.2222222222222222,
              "#7201a8"
             ],
             [
              0.3333333333333333,
              "#9c179e"
             ],
             [
              0.4444444444444444,
              "#bd3786"
             ],
             [
              0.5555555555555556,
              "#d8576b"
             ],
             [
              0.6666666666666666,
              "#ed7953"
             ],
             [
              0.7777777777777778,
              "#fb9f3a"
             ],
             [
              0.8888888888888888,
              "#fdca26"
             ],
             [
              1,
              "#f0f921"
             ]
            ],
            "type": "heatmapgl"
           }
          ],
          "histogram": [
           {
            "marker": {
             "pattern": {
              "fillmode": "overlay",
              "size": 10,
              "solidity": 0.2
             }
            },
            "type": "histogram"
           }
          ],
          "histogram2d": [
           {
            "colorbar": {
             "outlinewidth": 0,
             "ticks": ""
            },
            "colorscale": [
             [
              0,
              "#0d0887"
             ],
             [
              0.1111111111111111,
              "#46039f"
             ],
             [
              0.2222222222222222,
              "#7201a8"
             ],
             [
              0.3333333333333333,
              "#9c179e"
             ],
             [
              0.4444444444444444,
              "#bd3786"
             ],
             [
              0.5555555555555556,
              "#d8576b"
             ],
             [
              0.6666666666666666,
              "#ed7953"
             ],
             [
              0.7777777777777778,
              "#fb9f3a"
             ],
             [
              0.8888888888888888,
              "#fdca26"
             ],
             [
              1,
              "#f0f921"
             ]
            ],
            "type": "histogram2d"
           }
          ],
          "histogram2dcontour": [
           {
            "colorbar": {
             "outlinewidth": 0,
             "ticks": ""
            },
            "colorscale": [
             [
              0,
              "#0d0887"
             ],
             [
              0.1111111111111111,
              "#46039f"
             ],
             [
              0.2222222222222222,
              "#7201a8"
             ],
             [
              0.3333333333333333,
              "#9c179e"
             ],
             [
              0.4444444444444444,
              "#bd3786"
             ],
             [
              0.5555555555555556,
              "#d8576b"
             ],
             [
              0.6666666666666666,
              "#ed7953"
             ],
             [
              0.7777777777777778,
              "#fb9f3a"
             ],
             [
              0.8888888888888888,
              "#fdca26"
             ],
             [
              1,
              "#f0f921"
             ]
            ],
            "type": "histogram2dcontour"
           }
          ],
          "mesh3d": [
           {
            "colorbar": {
             "outlinewidth": 0,
             "ticks": ""
            },
            "type": "mesh3d"
           }
          ],
          "parcoords": [
           {
            "line": {
             "colorbar": {
              "outlinewidth": 0,
              "ticks": ""
             }
            },
            "type": "parcoords"
           }
          ],
          "pie": [
           {
            "automargin": true,
            "type": "pie"
           }
          ],
          "scatter": [
           {
            "fillpattern": {
             "fillmode": "overlay",
             "size": 10,
             "solidity": 0.2
            },
            "type": "scatter"
           }
          ],
          "scatter3d": [
           {
            "line": {
             "colorbar": {
              "outlinewidth": 0,
              "ticks": ""
             }
            },
            "marker": {
             "colorbar": {
              "outlinewidth": 0,
              "ticks": ""
             }
            },
            "type": "scatter3d"
           }
          ],
          "scattercarpet": [
           {
            "marker": {
             "colorbar": {
              "outlinewidth": 0,
              "ticks": ""
             }
            },
            "type": "scattercarpet"
           }
          ],
          "scattergeo": [
           {
            "marker": {
             "colorbar": {
              "outlinewidth": 0,
              "ticks": ""
             }
            },
            "type": "scattergeo"
           }
          ],
          "scattergl": [
           {
            "marker": {
             "colorbar": {
              "outlinewidth": 0,
              "ticks": ""
             }
            },
            "type": "scattergl"
           }
          ],
          "scattermapbox": [
           {
            "marker": {
             "colorbar": {
              "outlinewidth": 0,
              "ticks": ""
             }
            },
            "type": "scattermapbox"
           }
          ],
          "scatterpolar": [
           {
            "marker": {
             "colorbar": {
              "outlinewidth": 0,
              "ticks": ""
             }
            },
            "type": "scatterpolar"
           }
          ],
          "scatterpolargl": [
           {
            "marker": {
             "colorbar": {
              "outlinewidth": 0,
              "ticks": ""
             }
            },
            "type": "scatterpolargl"
           }
          ],
          "scatterternary": [
           {
            "marker": {
             "colorbar": {
              "outlinewidth": 0,
              "ticks": ""
             }
            },
            "type": "scatterternary"
           }
          ],
          "surface": [
           {
            "colorbar": {
             "outlinewidth": 0,
             "ticks": ""
            },
            "colorscale": [
             [
              0,
              "#0d0887"
             ],
             [
              0.1111111111111111,
              "#46039f"
             ],
             [
              0.2222222222222222,
              "#7201a8"
             ],
             [
              0.3333333333333333,
              "#9c179e"
             ],
             [
              0.4444444444444444,
              "#bd3786"
             ],
             [
              0.5555555555555556,
              "#d8576b"
             ],
             [
              0.6666666666666666,
              "#ed7953"
             ],
             [
              0.7777777777777778,
              "#fb9f3a"
             ],
             [
              0.8888888888888888,
              "#fdca26"
             ],
             [
              1,
              "#f0f921"
             ]
            ],
            "type": "surface"
           }
          ],
          "table": [
           {
            "cells": {
             "fill": {
              "color": "#EBF0F8"
             },
             "line": {
              "color": "white"
             }
            },
            "header": {
             "fill": {
              "color": "#C8D4E3"
             },
             "line": {
              "color": "white"
             }
            },
            "type": "table"
           }
          ]
         },
         "layout": {
          "annotationdefaults": {
           "arrowcolor": "#2a3f5f",
           "arrowhead": 0,
           "arrowwidth": 1
          },
          "autotypenumbers": "strict",
          "coloraxis": {
           "colorbar": {
            "outlinewidth": 0,
            "ticks": ""
           }
          },
          "colorscale": {
           "diverging": [
            [
             0,
             "#8e0152"
            ],
            [
             0.1,
             "#c51b7d"
            ],
            [
             0.2,
             "#de77ae"
            ],
            [
             0.3,
             "#f1b6da"
            ],
            [
             0.4,
             "#fde0ef"
            ],
            [
             0.5,
             "#f7f7f7"
            ],
            [
             0.6,
             "#e6f5d0"
            ],
            [
             0.7,
             "#b8e186"
            ],
            [
             0.8,
             "#7fbc41"
            ],
            [
             0.9,
             "#4d9221"
            ],
            [
             1,
             "#276419"
            ]
           ],
           "sequential": [
            [
             0,
             "#0d0887"
            ],
            [
             0.1111111111111111,
             "#46039f"
            ],
            [
             0.2222222222222222,
             "#7201a8"
            ],
            [
             0.3333333333333333,
             "#9c179e"
            ],
            [
             0.4444444444444444,
             "#bd3786"
            ],
            [
             0.5555555555555556,
             "#d8576b"
            ],
            [
             0.6666666666666666,
             "#ed7953"
            ],
            [
             0.7777777777777778,
             "#fb9f3a"
            ],
            [
             0.8888888888888888,
             "#fdca26"
            ],
            [
             1,
             "#f0f921"
            ]
           ],
           "sequentialminus": [
            [
             0,
             "#0d0887"
            ],
            [
             0.1111111111111111,
             "#46039f"
            ],
            [
             0.2222222222222222,
             "#7201a8"
            ],
            [
             0.3333333333333333,
             "#9c179e"
            ],
            [
             0.4444444444444444,
             "#bd3786"
            ],
            [
             0.5555555555555556,
             "#d8576b"
            ],
            [
             0.6666666666666666,
             "#ed7953"
            ],
            [
             0.7777777777777778,
             "#fb9f3a"
            ],
            [
             0.8888888888888888,
             "#fdca26"
            ],
            [
             1,
             "#f0f921"
            ]
           ]
          },
          "colorway": [
           "#636efa",
           "#EF553B",
           "#00cc96",
           "#ab63fa",
           "#FFA15A",
           "#19d3f3",
           "#FF6692",
           "#B6E880",
           "#FF97FF",
           "#FECB52"
          ],
          "font": {
           "color": "#2a3f5f"
          },
          "geo": {
           "bgcolor": "white",
           "lakecolor": "white",
           "landcolor": "#E5ECF6",
           "showlakes": true,
           "showland": true,
           "subunitcolor": "white"
          },
          "hoverlabel": {
           "align": "left"
          },
          "hovermode": "closest",
          "mapbox": {
           "style": "light"
          },
          "paper_bgcolor": "white",
          "plot_bgcolor": "#E5ECF6",
          "polar": {
           "angularaxis": {
            "gridcolor": "white",
            "linecolor": "white",
            "ticks": ""
           },
           "bgcolor": "#E5ECF6",
           "radialaxis": {
            "gridcolor": "white",
            "linecolor": "white",
            "ticks": ""
           }
          },
          "scene": {
           "xaxis": {
            "backgroundcolor": "#E5ECF6",
            "gridcolor": "white",
            "gridwidth": 2,
            "linecolor": "white",
            "showbackground": true,
            "ticks": "",
            "zerolinecolor": "white"
           },
           "yaxis": {
            "backgroundcolor": "#E5ECF6",
            "gridcolor": "white",
            "gridwidth": 2,
            "linecolor": "white",
            "showbackground": true,
            "ticks": "",
            "zerolinecolor": "white"
           },
           "zaxis": {
            "backgroundcolor": "#E5ECF6",
            "gridcolor": "white",
            "gridwidth": 2,
            "linecolor": "white",
            "showbackground": true,
            "ticks": "",
            "zerolinecolor": "white"
           }
          },
          "shapedefaults": {
           "line": {
            "color": "#2a3f5f"
           }
          },
          "ternary": {
           "aaxis": {
            "gridcolor": "white",
            "linecolor": "white",
            "ticks": ""
           },
           "baxis": {
            "gridcolor": "white",
            "linecolor": "white",
            "ticks": ""
           },
           "bgcolor": "#E5ECF6",
           "caxis": {
            "gridcolor": "white",
            "linecolor": "white",
            "ticks": ""
           }
          },
          "title": {
           "x": 0.05
          },
          "xaxis": {
           "automargin": true,
           "gridcolor": "white",
           "linecolor": "white",
           "ticks": "",
           "title": {
            "standoff": 15
           },
           "zerolinecolor": "white",
           "zerolinewidth": 2
          },
          "yaxis": {
           "automargin": true,
           "gridcolor": "white",
           "linecolor": "white",
           "ticks": "",
           "title": {
            "standoff": 15
           },
           "zerolinecolor": "white",
           "zerolinewidth": 2
          }
         }
        },
        "title": {
         "text": "Test Function Plot"
        },
        "xaxis": {
         "title": {
          "text": "x"
         }
        },
        "yaxis": {
         "title": {
          "text": "f(x)"
         }
        }
       }
      }
     },
     "metadata": {},
     "output_type": "display_data"
    }
   ],
   "source": [
    "import numpy as np\n",
    "import plotly.graph_objects as go\n",
    "\n",
    "def test_function(x):\n",
    "    \"\"\"\n",
    "    A simple test function where the optimal solution is outside the range [0, 1].\n",
    "    \"\"\"\n",
    "    if 0 <= x <= 1:\n",
    "        return 10 + 10 * (x - 0.5)**2  # High penalty within [0, 1]\n",
    "    else:\n",
    "        return (x - 2)**2  # Quadratic function with a minimum at x = 2\n",
    "\n",
    "# Generate x values\n",
    "x_values = np.linspace(-1, 3, 500)\n",
    "y_values = [test_function(x) for x in x_values]\n",
    "\n",
    "# Create the plot\n",
    "fig = go.Figure()\n",
    "fig.add_trace(go.Scatter(x=x_values, y=y_values, mode='lines', name='Test Function'))\n",
    "\n",
    "# Add title and labels\n",
    "fig.update_layout(\n",
    "    title='Test Function Plot',\n",
    "    xaxis_title='x',\n",
    "    yaxis_title='f(x)',\n",
    "    showlegend=True\n",
    ")\n",
    "\n",
    "# Show the plot\n",
    "fig.show()\n"
   ]
  },
  {
   "cell_type": "code",
   "execution_count": 21,
   "metadata": {},
   "outputs": [
    {
     "name": "stderr",
     "output_type": "stream",
     "text": [
      "/var/folders/_b/b62kq0490fn2ptq7m4mbp8yr0000gp/T/ipykernel_96749/3541269840.py:26: InputDataWarning:\n",
      "\n",
      "The model inputs are of type torch.float32. It is strongly recommended to use double precision in BoTorch, as this improves both precision and stability and can help avoid numerical errors. See https://github.com/pytorch/botorch/discussions/1444\n",
      "\n",
      "/Users/keisukeonoue/ws/constrained_BO/bo-env/lib/python3.12/site-packages/botorch/models/utils/assorted.py:257: InputDataWarning:\n",
      "\n",
      "Input data is not contained to the unit cube. Please consider min-max scaling the input data.\n",
      "\n",
      "/Users/keisukeonoue/ws/constrained_BO/bo-env/lib/python3.12/site-packages/botorch/models/utils/assorted.py:260: InputDataWarning:\n",
      "\n",
      "Data is not standardized (std = tensor([3.9527]), mean = tensor([7.2050])). Please consider scaling the input to zero mean and unit variance.\n",
      "\n",
      "/var/folders/_b/b62kq0490fn2ptq7m4mbp8yr0000gp/T/ipykernel_96749/3541269840.py:26: InputDataWarning:\n",
      "\n",
      "The model inputs are of type torch.float32. It is strongly recommended to use double precision in BoTorch, as this improves both precision and stability and can help avoid numerical errors. See https://github.com/pytorch/botorch/discussions/1444\n",
      "\n",
      "/Users/keisukeonoue/ws/constrained_BO/bo-env/lib/python3.12/site-packages/botorch/models/utils/assorted.py:257: InputDataWarning:\n",
      "\n",
      "Input data is not contained to the unit cube. Please consider min-max scaling the input data.\n",
      "\n",
      "/Users/keisukeonoue/ws/constrained_BO/bo-env/lib/python3.12/site-packages/botorch/models/utils/assorted.py:260: InputDataWarning:\n",
      "\n",
      "Data is not standardized (std = tensor([3.2345]), mean = tensor([8.1448])). Please consider scaling the input to zero mean and unit variance.\n",
      "\n"
     ]
    },
    {
     "name": "stdout",
     "output_type": "stream",
     "text": [
      "Iteration 1\n",
      "Best candidate: 0.5494778752326965\n",
      "Objective value at best candidate: 10.024480601375423\n",
      "\n",
      "Iteration 2\n",
      "Best candidate: 0.5661972165107727\n",
      "Objective value at best candidate: 10.043820714737741\n",
      "\n"
     ]
    },
    {
     "name": "stderr",
     "output_type": "stream",
     "text": [
      "/var/folders/_b/b62kq0490fn2ptq7m4mbp8yr0000gp/T/ipykernel_96749/3541269840.py:26: InputDataWarning:\n",
      "\n",
      "The model inputs are of type torch.float32. It is strongly recommended to use double precision in BoTorch, as this improves both precision and stability and can help avoid numerical errors. See https://github.com/pytorch/botorch/discussions/1444\n",
      "\n",
      "/Users/keisukeonoue/ws/constrained_BO/bo-env/lib/python3.12/site-packages/botorch/models/utils/assorted.py:257: InputDataWarning:\n",
      "\n",
      "Input data is not contained to the unit cube. Please consider min-max scaling the input data.\n",
      "\n",
      "/Users/keisukeonoue/ws/constrained_BO/bo-env/lib/python3.12/site-packages/botorch/models/utils/assorted.py:260: InputDataWarning:\n",
      "\n",
      "Data is not standardized (std = tensor([2.8064]), mean = tensor([8.6196])). Please consider scaling the input to zero mean and unit variance.\n",
      "\n",
      "/var/folders/_b/b62kq0490fn2ptq7m4mbp8yr0000gp/T/ipykernel_96749/3541269840.py:26: InputDataWarning:\n",
      "\n",
      "The model inputs are of type torch.float32. It is strongly recommended to use double precision in BoTorch, as this improves both precision and stability and can help avoid numerical errors. See https://github.com/pytorch/botorch/discussions/1444\n",
      "\n",
      "/Users/keisukeonoue/ws/constrained_BO/bo-env/lib/python3.12/site-packages/botorch/models/utils/assorted.py:257: InputDataWarning:\n",
      "\n",
      "Input data is not contained to the unit cube. Please consider min-max scaling the input data.\n",
      "\n",
      "/Users/keisukeonoue/ws/constrained_BO/bo-env/lib/python3.12/site-packages/botorch/models/utils/assorted.py:260: InputDataWarning:\n",
      "\n",
      "Data is not standardized (std = tensor([2.5430]), mean = tensor([8.9542])). Please consider scaling the input to zero mean and unit variance.\n",
      "\n",
      "/var/folders/_b/b62kq0490fn2ptq7m4mbp8yr0000gp/T/ipykernel_96749/3541269840.py:26: InputDataWarning:\n",
      "\n",
      "The model inputs are of type torch.float32. It is strongly recommended to use double precision in BoTorch, as this improves both precision and stability and can help avoid numerical errors. See https://github.com/pytorch/botorch/discussions/1444\n",
      "\n",
      "/Users/keisukeonoue/ws/constrained_BO/bo-env/lib/python3.12/site-packages/botorch/models/utils/assorted.py:257: InputDataWarning:\n",
      "\n",
      "Input data is not contained to the unit cube. Please consider min-max scaling the input data.\n",
      "\n",
      "/Users/keisukeonoue/ws/constrained_BO/bo-env/lib/python3.12/site-packages/botorch/models/utils/assorted.py:260: InputDataWarning:\n",
      "\n",
      "Data is not standardized (std = tensor([2.4731]), mean = tensor([9.3506])). Please consider scaling the input to zero mean and unit variance.\n",
      "\n"
     ]
    },
    {
     "name": "stdout",
     "output_type": "stream",
     "text": [
      "Iteration 3\n",
      "Best candidate: 0.6710513234138489\n",
      "Objective value at best candidate: 10.292585552416291\n",
      "\n",
      "Iteration 4\n",
      "Best candidate: 0.8650335073471069\n",
      "Objective value at best candidate: 11.332494614861304\n",
      "\n",
      "Iteration 5\n",
      "Best candidate: 1.0640172958374023\n",
      "Objective value at best candidate: 0.8760636224915288\n",
      "\n"
     ]
    },
    {
     "name": "stderr",
     "output_type": "stream",
     "text": [
      "/var/folders/_b/b62kq0490fn2ptq7m4mbp8yr0000gp/T/ipykernel_96749/3541269840.py:26: InputDataWarning:\n",
      "\n",
      "The model inputs are of type torch.float32. It is strongly recommended to use double precision in BoTorch, as this improves both precision and stability and can help avoid numerical errors. See https://github.com/pytorch/botorch/discussions/1444\n",
      "\n",
      "/Users/keisukeonoue/ws/constrained_BO/bo-env/lib/python3.12/site-packages/botorch/models/utils/assorted.py:257: InputDataWarning:\n",
      "\n",
      "Input data is not contained to the unit cube. Please consider min-max scaling the input data.\n",
      "\n",
      "/Users/keisukeonoue/ws/constrained_BO/bo-env/lib/python3.12/site-packages/botorch/models/utils/assorted.py:260: InputDataWarning:\n",
      "\n",
      "Data is not standardized (std = tensor([3.9187]), mean = tensor([8.1399])). Please consider scaling the input to zero mean and unit variance.\n",
      "\n",
      "/var/folders/_b/b62kq0490fn2ptq7m4mbp8yr0000gp/T/ipykernel_96749/3541269840.py:26: InputDataWarning:\n",
      "\n",
      "The model inputs are of type torch.float32. It is strongly recommended to use double precision in BoTorch, as this improves both precision and stability and can help avoid numerical errors. See https://github.com/pytorch/botorch/discussions/1444\n",
      "\n",
      "/Users/keisukeonoue/ws/constrained_BO/bo-env/lib/python3.12/site-packages/botorch/models/utils/assorted.py:257: InputDataWarning:\n",
      "\n",
      "Input data is not contained to the unit cube. Please consider min-max scaling the input data.\n",
      "\n",
      "/Users/keisukeonoue/ws/constrained_BO/bo-env/lib/python3.12/site-packages/botorch/models/utils/assorted.py:260: InputDataWarning:\n",
      "\n",
      "Data is not standardized (std = tensor([3.7612]), mean = tensor([8.4906])). Please consider scaling the input to zero mean and unit variance.\n",
      "\n"
     ]
    },
    {
     "name": "stdout",
     "output_type": "stream",
     "text": [
      "Iteration 6\n",
      "Best candidate: 0.8075231909751892\n",
      "Objective value at best candidate: 10.945705129875627\n",
      "\n",
      "Iteration 7\n",
      "Best candidate: 0.8504911661148071\n",
      "Objective value at best candidate: 11.228440575245173\n",
      "\n",
      "Iteration 8\n",
      "Best candidate: 0.864722490310669\n",
      "Objective value at best candidate: 11.33022494938416\n",
      "\n"
     ]
    },
    {
     "name": "stderr",
     "output_type": "stream",
     "text": [
      "/var/folders/_b/b62kq0490fn2ptq7m4mbp8yr0000gp/T/ipykernel_96749/3541269840.py:26: InputDataWarning:\n",
      "\n",
      "The model inputs are of type torch.float32. It is strongly recommended to use double precision in BoTorch, as this improves both precision and stability and can help avoid numerical errors. See https://github.com/pytorch/botorch/discussions/1444\n",
      "\n",
      "/Users/keisukeonoue/ws/constrained_BO/bo-env/lib/python3.12/site-packages/botorch/models/utils/assorted.py:257: InputDataWarning:\n",
      "\n",
      "Input data is not contained to the unit cube. Please consider min-max scaling the input data.\n",
      "\n",
      "/Users/keisukeonoue/ws/constrained_BO/bo-env/lib/python3.12/site-packages/botorch/models/utils/assorted.py:260: InputDataWarning:\n",
      "\n",
      "Data is not standardized (std = tensor([3.6347]), mean = tensor([8.7948])). Please consider scaling the input to zero mean and unit variance.\n",
      "\n",
      "/var/folders/_b/b62kq0490fn2ptq7m4mbp8yr0000gp/T/ipykernel_96749/3541269840.py:26: InputDataWarning:\n",
      "\n",
      "The model inputs are of type torch.float32. It is strongly recommended to use double precision in BoTorch, as this improves both precision and stability and can help avoid numerical errors. See https://github.com/pytorch/botorch/discussions/1444\n",
      "\n",
      "/Users/keisukeonoue/ws/constrained_BO/bo-env/lib/python3.12/site-packages/botorch/models/utils/assorted.py:257: InputDataWarning:\n",
      "\n",
      "Input data is not contained to the unit cube. Please consider min-max scaling the input data.\n",
      "\n",
      "/Users/keisukeonoue/ws/constrained_BO/bo-env/lib/python3.12/site-packages/botorch/models/utils/assorted.py:260: InputDataWarning:\n",
      "\n",
      "Data is not standardized (std = tensor([3.5194]), mean = tensor([9.0484])). Please consider scaling the input to zero mean and unit variance.\n",
      "\n",
      "/Users/keisukeonoue/ws/constrained_BO/bo-env/lib/python3.12/site-packages/botorch/optim/fit.py:102: OptimizationWarning:\n",
      "\n",
      "`scipy_minimize` terminated with status OptimizationStatus.FAILURE, displaying original message from `scipy.optimize.minimize`: ABNORMAL_TERMINATION_IN_LNSRCH\n",
      "\n",
      "/Users/keisukeonoue/ws/constrained_BO/bo-env/lib/python3.12/site-packages/botorch/optim/fit.py:102: OptimizationWarning:\n",
      "\n",
      "`scipy_minimize` terminated with status OptimizationStatus.FAILURE, displaying original message from `scipy.optimize.minimize`: ABNORMAL_TERMINATION_IN_LNSRCH\n",
      "\n",
      "/Users/keisukeonoue/ws/constrained_BO/bo-env/lib/python3.12/site-packages/botorch/optim/optimize.py:564: RuntimeWarning:\n",
      "\n",
      "Optimization failed in `gen_candidates_scipy` with the following warning(s):\n",
      "[OptimizationWarning('Optimization failed within `scipy.optimize.minimize` with status 2 and message ABNORMAL_TERMINATION_IN_LNSRCH.')]\n",
      "Trying again with a new set of initial conditions.\n",
      "\n",
      "/var/folders/_b/b62kq0490fn2ptq7m4mbp8yr0000gp/T/ipykernel_96749/3541269840.py:26: InputDataWarning:\n",
      "\n",
      "The model inputs are of type torch.float32. It is strongly recommended to use double precision in BoTorch, as this improves both precision and stability and can help avoid numerical errors. See https://github.com/pytorch/botorch/discussions/1444\n",
      "\n",
      "/Users/keisukeonoue/ws/constrained_BO/bo-env/lib/python3.12/site-packages/botorch/models/utils/assorted.py:257: InputDataWarning:\n",
      "\n",
      "Input data is not contained to the unit cube. Please consider min-max scaling the input data.\n",
      "\n",
      "/Users/keisukeonoue/ws/constrained_BO/bo-env/lib/python3.12/site-packages/botorch/models/utils/assorted.py:260: InputDataWarning:\n",
      "\n",
      "Data is not standardized (std = tensor([3.4135]), mean = tensor([9.2626])). Please consider scaling the input to zero mean and unit variance.\n",
      "\n"
     ]
    },
    {
     "name": "stdout",
     "output_type": "stream",
     "text": [
      "Iteration 9\n",
      "Best candidate: 0.8747885227203369\n",
      "Objective value at best candidate: 11.404664367628925\n",
      "\n",
      "Iteration 10\n",
      "Best candidate: 0.8867071866989136\n",
      "Objective value at best candidate: 11.495424482445884\n",
      "\n"
     ]
    },
    {
     "name": "stderr",
     "output_type": "stream",
     "text": [
      "/var/folders/_b/b62kq0490fn2ptq7m4mbp8yr0000gp/T/ipykernel_96749/3541269840.py:26: InputDataWarning:\n",
      "\n",
      "The model inputs are of type torch.float32. It is strongly recommended to use double precision in BoTorch, as this improves both precision and stability and can help avoid numerical errors. See https://github.com/pytorch/botorch/discussions/1444\n",
      "\n",
      "/Users/keisukeonoue/ws/constrained_BO/bo-env/lib/python3.12/site-packages/botorch/models/utils/assorted.py:257: InputDataWarning:\n",
      "\n",
      "Input data is not contained to the unit cube. Please consider min-max scaling the input data.\n",
      "\n",
      "/Users/keisukeonoue/ws/constrained_BO/bo-env/lib/python3.12/site-packages/botorch/models/utils/assorted.py:260: InputDataWarning:\n",
      "\n",
      "Data is not standardized (std = tensor([3.3179]), mean = tensor([9.4487])). Please consider scaling the input to zero mean and unit variance.\n",
      "\n",
      "/var/folders/_b/b62kq0490fn2ptq7m4mbp8yr0000gp/T/ipykernel_96749/3541269840.py:26: InputDataWarning:\n",
      "\n",
      "The model inputs are of type torch.float32. It is strongly recommended to use double precision in BoTorch, as this improves both precision and stability and can help avoid numerical errors. See https://github.com/pytorch/botorch/discussions/1444\n",
      "\n",
      "/Users/keisukeonoue/ws/constrained_BO/bo-env/lib/python3.12/site-packages/botorch/models/utils/assorted.py:257: InputDataWarning:\n",
      "\n",
      "Input data is not contained to the unit cube. Please consider min-max scaling the input data.\n",
      "\n",
      "/Users/keisukeonoue/ws/constrained_BO/bo-env/lib/python3.12/site-packages/botorch/models/utils/assorted.py:260: InputDataWarning:\n",
      "\n",
      "Data is not standardized (std = tensor([3.2308]), mean = tensor([9.6121])). Please consider scaling the input to zero mean and unit variance.\n",
      "\n"
     ]
    },
    {
     "name": "stdout",
     "output_type": "stream",
     "text": [
      "Iteration 11\n",
      "Best candidate: 0.8966058492660522\n",
      "Objective value at best candidate: 11.572961996720466\n",
      "\n",
      "Iteration 12\n",
      "Best candidate: 0.9046047925949097\n",
      "Objective value at best candidate: 11.637050381907699\n",
      "\n",
      "Iteration 13\n",
      "Best candidate: 0.9123587012290955\n",
      "Objective value at best candidate: 11.700396984793464\n",
      "\n"
     ]
    },
    {
     "name": "stderr",
     "output_type": "stream",
     "text": [
      "/var/folders/_b/b62kq0490fn2ptq7m4mbp8yr0000gp/T/ipykernel_96749/3541269840.py:26: InputDataWarning:\n",
      "\n",
      "The model inputs are of type torch.float32. It is strongly recommended to use double precision in BoTorch, as this improves both precision and stability and can help avoid numerical errors. See https://github.com/pytorch/botorch/discussions/1444\n",
      "\n",
      "/Users/keisukeonoue/ws/constrained_BO/bo-env/lib/python3.12/site-packages/botorch/models/utils/assorted.py:257: InputDataWarning:\n",
      "\n",
      "Input data is not contained to the unit cube. Please consider min-max scaling the input data.\n",
      "\n",
      "/Users/keisukeonoue/ws/constrained_BO/bo-env/lib/python3.12/site-packages/botorch/models/utils/assorted.py:260: InputDataWarning:\n",
      "\n",
      "Data is not standardized (std = tensor([3.1509]), mean = tensor([9.7567])). Please consider scaling the input to zero mean and unit variance.\n",
      "\n",
      "/var/folders/_b/b62kq0490fn2ptq7m4mbp8yr0000gp/T/ipykernel_96749/3541269840.py:26: InputDataWarning:\n",
      "\n",
      "The model inputs are of type torch.float32. It is strongly recommended to use double precision in BoTorch, as this improves both precision and stability and can help avoid numerical errors. See https://github.com/pytorch/botorch/discussions/1444\n",
      "\n",
      "/Users/keisukeonoue/ws/constrained_BO/bo-env/lib/python3.12/site-packages/botorch/models/utils/assorted.py:257: InputDataWarning:\n",
      "\n",
      "Input data is not contained to the unit cube. Please consider min-max scaling the input data.\n",
      "\n",
      "/Users/keisukeonoue/ws/constrained_BO/bo-env/lib/python3.12/site-packages/botorch/models/utils/assorted.py:260: InputDataWarning:\n",
      "\n",
      "Data is not standardized (std = tensor([3.0775]), mean = tensor([9.8863])). Please consider scaling the input to zero mean and unit variance.\n",
      "\n"
     ]
    },
    {
     "name": "stdout",
     "output_type": "stream",
     "text": [
      "Iteration 14\n",
      "Best candidate: 0.9190968871116638\n",
      "Objective value at best candidate: 11.756422007866867\n",
      "\n",
      "Iteration 15\n",
      "Best candidate: 0.92640221118927\n",
      "Objective value at best candidate: 11.818188457070988\n",
      "\n",
      "Iteration 16\n",
      "Best candidate: 0.9330900311470032\n",
      "Objective value at best candidate: 11.875669750789122\n",
      "\n"
     ]
    },
    {
     "name": "stderr",
     "output_type": "stream",
     "text": [
      "/var/folders/_b/b62kq0490fn2ptq7m4mbp8yr0000gp/T/ipykernel_96749/3541269840.py:26: InputDataWarning:\n",
      "\n",
      "The model inputs are of type torch.float32. It is strongly recommended to use double precision in BoTorch, as this improves both precision and stability and can help avoid numerical errors. See https://github.com/pytorch/botorch/discussions/1444\n",
      "\n",
      "/Users/keisukeonoue/ws/constrained_BO/bo-env/lib/python3.12/site-packages/botorch/models/utils/assorted.py:257: InputDataWarning:\n",
      "\n",
      "Input data is not contained to the unit cube. Please consider min-max scaling the input data.\n",
      "\n",
      "/Users/keisukeonoue/ws/constrained_BO/bo-env/lib/python3.12/site-packages/botorch/models/utils/assorted.py:260: InputDataWarning:\n",
      "\n",
      "Data is not standardized (std = tensor([3.0097]), mean = tensor([10.0032])). Please consider scaling the input to zero mean and unit variance.\n",
      "\n",
      "/var/folders/_b/b62kq0490fn2ptq7m4mbp8yr0000gp/T/ipykernel_96749/3541269840.py:26: InputDataWarning:\n",
      "\n",
      "The model inputs are of type torch.float32. It is strongly recommended to use double precision in BoTorch, as this improves both precision and stability and can help avoid numerical errors. See https://github.com/pytorch/botorch/discussions/1444\n",
      "\n",
      "/Users/keisukeonoue/ws/constrained_BO/bo-env/lib/python3.12/site-packages/botorch/models/utils/assorted.py:257: InputDataWarning:\n",
      "\n",
      "Input data is not contained to the unit cube. Please consider min-max scaling the input data.\n",
      "\n",
      "/Users/keisukeonoue/ws/constrained_BO/bo-env/lib/python3.12/site-packages/botorch/models/utils/assorted.py:260: InputDataWarning:\n",
      "\n",
      "Data is not standardized (std = tensor([2.9472]), mean = tensor([10.1099])). Please consider scaling the input to zero mean and unit variance.\n",
      "\n",
      "/var/folders/_b/b62kq0490fn2ptq7m4mbp8yr0000gp/T/ipykernel_96749/3541269840.py:26: InputDataWarning:\n",
      "\n",
      "The model inputs are of type torch.float32. It is strongly recommended to use double precision in BoTorch, as this improves both precision and stability and can help avoid numerical errors. See https://github.com/pytorch/botorch/discussions/1444\n",
      "\n",
      "/Users/keisukeonoue/ws/constrained_BO/bo-env/lib/python3.12/site-packages/botorch/models/utils/assorted.py:257: InputDataWarning:\n",
      "\n",
      "Input data is not contained to the unit cube. Please consider min-max scaling the input data.\n",
      "\n",
      "/Users/keisukeonoue/ws/constrained_BO/bo-env/lib/python3.12/site-packages/botorch/models/utils/assorted.py:260: InputDataWarning:\n",
      "\n",
      "Data is not standardized (std = tensor([2.8893]), mean = tensor([10.2080])). Please consider scaling the input to zero mean and unit variance.\n",
      "\n"
     ]
    },
    {
     "name": "stdout",
     "output_type": "stream",
     "text": [
      "Iteration 17\n",
      "Best candidate: 0.9388726353645325\n",
      "Objective value at best candidate: 11.926091900718099\n",
      "\n",
      "Iteration 18\n",
      "Best candidate: 0.9441912770271301\n",
      "Objective value at best candidate: 11.973058905869927\n",
      "\n",
      "Iteration 19\n",
      "Best candidate: 0.9490246772766113\n",
      "Objective value at best candidate: 12.01623160803365\n",
      "\n"
     ]
    },
    {
     "name": "stderr",
     "output_type": "stream",
     "text": [
      "/var/folders/_b/b62kq0490fn2ptq7m4mbp8yr0000gp/T/ipykernel_96749/3541269840.py:26: InputDataWarning:\n",
      "\n",
      "The model inputs are of type torch.float32. It is strongly recommended to use double precision in BoTorch, as this improves both precision and stability and can help avoid numerical errors. See https://github.com/pytorch/botorch/discussions/1444\n",
      "\n",
      "/Users/keisukeonoue/ws/constrained_BO/bo-env/lib/python3.12/site-packages/botorch/models/utils/assorted.py:257: InputDataWarning:\n",
      "\n",
      "Input data is not contained to the unit cube. Please consider min-max scaling the input data.\n",
      "\n",
      "/Users/keisukeonoue/ws/constrained_BO/bo-env/lib/python3.12/site-packages/botorch/models/utils/assorted.py:260: InputDataWarning:\n",
      "\n",
      "Data is not standardized (std = tensor([2.8354]), mean = tensor([10.2985])). Please consider scaling the input to zero mean and unit variance.\n",
      "\n",
      "/var/folders/_b/b62kq0490fn2ptq7m4mbp8yr0000gp/T/ipykernel_96749/3541269840.py:26: InputDataWarning:\n",
      "\n",
      "The model inputs are of type torch.float32. It is strongly recommended to use double precision in BoTorch, as this improves both precision and stability and can help avoid numerical errors. See https://github.com/pytorch/botorch/discussions/1444\n",
      "\n",
      "/Users/keisukeonoue/ws/constrained_BO/bo-env/lib/python3.12/site-packages/botorch/models/utils/assorted.py:257: InputDataWarning:\n",
      "\n",
      "Input data is not contained to the unit cube. Please consider min-max scaling the input data.\n",
      "\n",
      "/Users/keisukeonoue/ws/constrained_BO/bo-env/lib/python3.12/site-packages/botorch/models/utils/assorted.py:260: InputDataWarning:\n",
      "\n",
      "Data is not standardized (std = tensor([2.7851]), mean = tensor([10.3822])). Please consider scaling the input to zero mean and unit variance.\n",
      "\n",
      "/var/folders/_b/b62kq0490fn2ptq7m4mbp8yr0000gp/T/ipykernel_96749/3541269840.py:26: InputDataWarning:\n",
      "\n",
      "The model inputs are of type torch.float32. It is strongly recommended to use double precision in BoTorch, as this improves both precision and stability and can help avoid numerical errors. See https://github.com/pytorch/botorch/discussions/1444\n",
      "\n",
      "/Users/keisukeonoue/ws/constrained_BO/bo-env/lib/python3.12/site-packages/botorch/models/utils/assorted.py:257: InputDataWarning:\n",
      "\n",
      "Input data is not contained to the unit cube. Please consider min-max scaling the input data.\n",
      "\n",
      "/Users/keisukeonoue/ws/constrained_BO/bo-env/lib/python3.12/site-packages/botorch/models/utils/assorted.py:260: InputDataWarning:\n",
      "\n",
      "Data is not standardized (std = tensor([2.7379]), mean = tensor([10.4600])). Please consider scaling the input to zero mean and unit variance.\n",
      "\n"
     ]
    },
    {
     "name": "stdout",
     "output_type": "stream",
     "text": [
      "Iteration 20\n",
      "Best candidate: 0.9538342952728271\n",
      "Objective value at best candidate: 12.059655675657837\n",
      "\n",
      "Iteration 21\n",
      "Best candidate: 0.9576978087425232\n",
      "Objective value at best candidate: 12.094872841277073\n",
      "\n"
     ]
    },
    {
     "name": "stderr",
     "output_type": "stream",
     "text": [
      "/var/folders/_b/b62kq0490fn2ptq7m4mbp8yr0000gp/T/ipykernel_96749/3541269840.py:26: InputDataWarning:\n",
      "\n",
      "The model inputs are of type torch.float32. It is strongly recommended to use double precision in BoTorch, as this improves both precision and stability and can help avoid numerical errors. See https://github.com/pytorch/botorch/discussions/1444\n",
      "\n",
      "/Users/keisukeonoue/ws/constrained_BO/bo-env/lib/python3.12/site-packages/botorch/models/utils/assorted.py:257: InputDataWarning:\n",
      "\n",
      "Input data is not contained to the unit cube. Please consider min-max scaling the input data.\n",
      "\n",
      "/Users/keisukeonoue/ws/constrained_BO/bo-env/lib/python3.12/site-packages/botorch/models/utils/assorted.py:260: InputDataWarning:\n",
      "\n",
      "Data is not standardized (std = tensor([2.6936]), mean = tensor([10.5327])). Please consider scaling the input to zero mean and unit variance.\n",
      "\n",
      "/Users/keisukeonoue/ws/constrained_BO/bo-env/lib/python3.12/site-packages/botorch/optim/optimize.py:564: RuntimeWarning:\n",
      "\n",
      "Optimization failed in `gen_candidates_scipy` with the following warning(s):\n",
      "[NumericalWarning('Negative variance values detected. This is likely due to numerical instabilities. Rounding negative variances up to 1e-06.'), OptimizationWarning('Optimization failed within `scipy.optimize.minimize` with status 2 and message ABNORMAL_TERMINATION_IN_LNSRCH.')]\n",
      "Trying again with a new set of initial conditions.\n",
      "\n",
      "/var/folders/_b/b62kq0490fn2ptq7m4mbp8yr0000gp/T/ipykernel_96749/3541269840.py:26: InputDataWarning:\n",
      "\n",
      "The model inputs are of type torch.float32. It is strongly recommended to use double precision in BoTorch, as this improves both precision and stability and can help avoid numerical errors. See https://github.com/pytorch/botorch/discussions/1444\n",
      "\n",
      "/Users/keisukeonoue/ws/constrained_BO/bo-env/lib/python3.12/site-packages/botorch/models/utils/assorted.py:257: InputDataWarning:\n",
      "\n",
      "Input data is not contained to the unit cube. Please consider min-max scaling the input data.\n",
      "\n",
      "/Users/keisukeonoue/ws/constrained_BO/bo-env/lib/python3.12/site-packages/botorch/models/utils/assorted.py:260: InputDataWarning:\n",
      "\n",
      "Data is not standardized (std = tensor([2.6517]), mean = tensor([10.6006])). Please consider scaling the input to zero mean and unit variance.\n",
      "\n"
     ]
    },
    {
     "name": "stdout",
     "output_type": "stream",
     "text": [
      "Iteration 22\n",
      "Best candidate: 0.9612370729446411\n",
      "Objective value at best candidate: 12.127396374585402\n",
      "\n",
      "Iteration 23\n",
      "Best candidate: 0.9651321172714233\n",
      "Objective value at best candidate: 12.163478865173971\n",
      "\n"
     ]
    },
    {
     "name": "stderr",
     "output_type": "stream",
     "text": [
      "/var/folders/_b/b62kq0490fn2ptq7m4mbp8yr0000gp/T/ipykernel_96749/3541269840.py:26: InputDataWarning:\n",
      "\n",
      "The model inputs are of type torch.float32. It is strongly recommended to use double precision in BoTorch, as this improves both precision and stability and can help avoid numerical errors. See https://github.com/pytorch/botorch/discussions/1444\n",
      "\n",
      "/Users/keisukeonoue/ws/constrained_BO/bo-env/lib/python3.12/site-packages/botorch/models/utils/assorted.py:257: InputDataWarning:\n",
      "\n",
      "Input data is not contained to the unit cube. Please consider min-max scaling the input data.\n",
      "\n",
      "/Users/keisukeonoue/ws/constrained_BO/bo-env/lib/python3.12/site-packages/botorch/models/utils/assorted.py:260: InputDataWarning:\n",
      "\n",
      "Data is not standardized (std = tensor([2.6121]), mean = tensor([10.6642])). Please consider scaling the input to zero mean and unit variance.\n",
      "\n",
      "/var/folders/_b/b62kq0490fn2ptq7m4mbp8yr0000gp/T/ipykernel_96749/3541269840.py:26: InputDataWarning:\n",
      "\n",
      "The model inputs are of type torch.float32. It is strongly recommended to use double precision in BoTorch, as this improves both precision and stability and can help avoid numerical errors. See https://github.com/pytorch/botorch/discussions/1444\n",
      "\n",
      "/Users/keisukeonoue/ws/constrained_BO/bo-env/lib/python3.12/site-packages/botorch/models/utils/assorted.py:257: InputDataWarning:\n",
      "\n",
      "Input data is not contained to the unit cube. Please consider min-max scaling the input data.\n",
      "\n",
      "/Users/keisukeonoue/ws/constrained_BO/bo-env/lib/python3.12/site-packages/botorch/models/utils/assorted.py:260: InputDataWarning:\n",
      "\n",
      "Data is not standardized (std = tensor([2.5746]), mean = tensor([10.7242])). Please consider scaling the input to zero mean and unit variance.\n",
      "\n"
     ]
    },
    {
     "name": "stdout",
     "output_type": "stream",
     "text": [
      "Iteration 24\n",
      "Best candidate: 0.9677258133888245\n",
      "Objective value at best candidate: 12.187674365102374\n",
      "\n",
      "Iteration 25\n",
      "Best candidate: 0.9709979295730591\n",
      "Objective value at best candidate: 12.218390496621083\n",
      "\n"
     ]
    },
    {
     "name": "stderr",
     "output_type": "stream",
     "text": [
      "/var/folders/_b/b62kq0490fn2ptq7m4mbp8yr0000gp/T/ipykernel_96749/3541269840.py:26: InputDataWarning:\n",
      "\n",
      "The model inputs are of type torch.float32. It is strongly recommended to use double precision in BoTorch, as this improves both precision and stability and can help avoid numerical errors. See https://github.com/pytorch/botorch/discussions/1444\n",
      "\n",
      "/Users/keisukeonoue/ws/constrained_BO/bo-env/lib/python3.12/site-packages/botorch/models/utils/assorted.py:257: InputDataWarning:\n",
      "\n",
      "Input data is not contained to the unit cube. Please consider min-max scaling the input data.\n",
      "\n",
      "/Users/keisukeonoue/ws/constrained_BO/bo-env/lib/python3.12/site-packages/botorch/models/utils/assorted.py:260: InputDataWarning:\n",
      "\n",
      "Data is not standardized (std = tensor([2.5389]), mean = tensor([10.7805])). Please consider scaling the input to zero mean and unit variance.\n",
      "\n",
      "/var/folders/_b/b62kq0490fn2ptq7m4mbp8yr0000gp/T/ipykernel_96749/3541269840.py:26: InputDataWarning:\n",
      "\n",
      "The model inputs are of type torch.float32. It is strongly recommended to use double precision in BoTorch, as this improves both precision and stability and can help avoid numerical errors. See https://github.com/pytorch/botorch/discussions/1444\n",
      "\n",
      "/Users/keisukeonoue/ws/constrained_BO/bo-env/lib/python3.12/site-packages/botorch/models/utils/assorted.py:257: InputDataWarning:\n",
      "\n",
      "Input data is not contained to the unit cube. Please consider min-max scaling the input data.\n",
      "\n",
      "/Users/keisukeonoue/ws/constrained_BO/bo-env/lib/python3.12/site-packages/botorch/models/utils/assorted.py:260: InputDataWarning:\n",
      "\n",
      "Data is not standardized (std = tensor([2.5049]), mean = tensor([10.8338])). Please consider scaling the input to zero mean and unit variance.\n",
      "\n"
     ]
    },
    {
     "name": "stdout",
     "output_type": "stream",
     "text": [
      "Iteration 26\n",
      "Best candidate: 0.9741936922073364\n",
      "Objective value at best candidate: 12.248596577292261\n",
      "\n",
      "Iteration 27\n",
      "Best candidate: 0.9761841297149658\n",
      "Objective value at best candidate: 12.267513253923994\n",
      "\n",
      "Iteration 28\n",
      "Best candidate: 0.9781252145767212\n",
      "Objective value at best candidate: 12.286037208140357\n",
      "\n"
     ]
    },
    {
     "name": "stderr",
     "output_type": "stream",
     "text": [
      "/var/folders/_b/b62kq0490fn2ptq7m4mbp8yr0000gp/T/ipykernel_96749/3541269840.py:26: InputDataWarning:\n",
      "\n",
      "The model inputs are of type torch.float32. It is strongly recommended to use double precision in BoTorch, as this improves both precision and stability and can help avoid numerical errors. See https://github.com/pytorch/botorch/discussions/1444\n",
      "\n",
      "/Users/keisukeonoue/ws/constrained_BO/bo-env/lib/python3.12/site-packages/botorch/models/utils/assorted.py:257: InputDataWarning:\n",
      "\n",
      "Input data is not contained to the unit cube. Please consider min-max scaling the input data.\n",
      "\n",
      "/Users/keisukeonoue/ws/constrained_BO/bo-env/lib/python3.12/site-packages/botorch/models/utils/assorted.py:260: InputDataWarning:\n",
      "\n",
      "Data is not standardized (std = tensor([2.4726]), mean = tensor([10.8843])). Please consider scaling the input to zero mean and unit variance.\n",
      "\n",
      "/var/folders/_b/b62kq0490fn2ptq7m4mbp8yr0000gp/T/ipykernel_96749/3541269840.py:26: InputDataWarning:\n",
      "\n",
      "The model inputs are of type torch.float32. It is strongly recommended to use double precision in BoTorch, as this improves both precision and stability and can help avoid numerical errors. See https://github.com/pytorch/botorch/discussions/1444\n",
      "\n",
      "/Users/keisukeonoue/ws/constrained_BO/bo-env/lib/python3.12/site-packages/botorch/models/utils/assorted.py:257: InputDataWarning:\n",
      "\n",
      "Input data is not contained to the unit cube. Please consider min-max scaling the input data.\n",
      "\n",
      "/Users/keisukeonoue/ws/constrained_BO/bo-env/lib/python3.12/site-packages/botorch/models/utils/assorted.py:260: InputDataWarning:\n",
      "\n",
      "Data is not standardized (std = tensor([2.4416]), mean = tensor([10.9320])). Please consider scaling the input to zero mean and unit variance.\n",
      "\n",
      "/var/folders/_b/b62kq0490fn2ptq7m4mbp8yr0000gp/T/ipykernel_96749/3541269840.py:26: InputDataWarning:\n",
      "\n",
      "The model inputs are of type torch.float32. It is strongly recommended to use double precision in BoTorch, as this improves both precision and stability and can help avoid numerical errors. See https://github.com/pytorch/botorch/discussions/1444\n",
      "\n",
      "/Users/keisukeonoue/ws/constrained_BO/bo-env/lib/python3.12/site-packages/botorch/models/utils/assorted.py:257: InputDataWarning:\n",
      "\n",
      "Input data is not contained to the unit cube. Please consider min-max scaling the input data.\n",
      "\n",
      "/Users/keisukeonoue/ws/constrained_BO/bo-env/lib/python3.12/site-packages/botorch/models/utils/assorted.py:260: InputDataWarning:\n",
      "\n",
      "Data is not standardized (std = tensor([2.4118]), mean = tensor([10.9771])). Please consider scaling the input to zero mean and unit variance.\n",
      "\n"
     ]
    },
    {
     "name": "stdout",
     "output_type": "stream",
     "text": [
      "Iteration 29\n",
      "Best candidate: 0.9805879592895508\n",
      "Objective value at best candidate: 12.30964786614095\n",
      "\n",
      "Iteration 30\n",
      "Best candidate: 0.9822865724563599\n",
      "Objective value at best candidate: 12.326003379717037\n",
      "\n",
      "Iteration 31\n",
      "Best candidate: 0.9838951230049133\n",
      "Objective value at best candidate: 12.341544900679402\n",
      "\n"
     ]
    },
    {
     "name": "stderr",
     "output_type": "stream",
     "text": [
      "/var/folders/_b/b62kq0490fn2ptq7m4mbp8yr0000gp/T/ipykernel_96749/3541269840.py:26: InputDataWarning:\n",
      "\n",
      "The model inputs are of type torch.float32. It is strongly recommended to use double precision in BoTorch, as this improves both precision and stability and can help avoid numerical errors. See https://github.com/pytorch/botorch/discussions/1444\n",
      "\n",
      "/Users/keisukeonoue/ws/constrained_BO/bo-env/lib/python3.12/site-packages/botorch/models/utils/assorted.py:257: InputDataWarning:\n",
      "\n",
      "Input data is not contained to the unit cube. Please consider min-max scaling the input data.\n",
      "\n",
      "/Users/keisukeonoue/ws/constrained_BO/bo-env/lib/python3.12/site-packages/botorch/models/utils/assorted.py:260: InputDataWarning:\n",
      "\n",
      "Data is not standardized (std = tensor([2.3833]), mean = tensor([11.0201])). Please consider scaling the input to zero mean and unit variance.\n",
      "\n",
      "/var/folders/_b/b62kq0490fn2ptq7m4mbp8yr0000gp/T/ipykernel_96749/3541269840.py:26: InputDataWarning:\n",
      "\n",
      "The model inputs are of type torch.float32. It is strongly recommended to use double precision in BoTorch, as this improves both precision and stability and can help avoid numerical errors. See https://github.com/pytorch/botorch/discussions/1444\n",
      "\n",
      "/Users/keisukeonoue/ws/constrained_BO/bo-env/lib/python3.12/site-packages/botorch/models/utils/assorted.py:257: InputDataWarning:\n",
      "\n",
      "Input data is not contained to the unit cube. Please consider min-max scaling the input data.\n",
      "\n",
      "/Users/keisukeonoue/ws/constrained_BO/bo-env/lib/python3.12/site-packages/botorch/models/utils/assorted.py:260: InputDataWarning:\n",
      "\n",
      "Data is not standardized (std = tensor([2.3559]), mean = tensor([11.0609])). Please consider scaling the input to zero mean and unit variance.\n",
      "\n",
      "/var/folders/_b/b62kq0490fn2ptq7m4mbp8yr0000gp/T/ipykernel_96749/3541269840.py:26: InputDataWarning:\n",
      "\n",
      "The model inputs are of type torch.float32. It is strongly recommended to use double precision in BoTorch, as this improves both precision and stability and can help avoid numerical errors. See https://github.com/pytorch/botorch/discussions/1444\n",
      "\n",
      "/Users/keisukeonoue/ws/constrained_BO/bo-env/lib/python3.12/site-packages/botorch/models/utils/assorted.py:257: InputDataWarning:\n",
      "\n",
      "Input data is not contained to the unit cube. Please consider min-max scaling the input data.\n",
      "\n",
      "/Users/keisukeonoue/ws/constrained_BO/bo-env/lib/python3.12/site-packages/botorch/models/utils/assorted.py:260: InputDataWarning:\n",
      "\n",
      "Data is not standardized (std = tensor([2.3295]), mean = tensor([11.0997])). Please consider scaling the input to zero mean and unit variance.\n",
      "\n"
     ]
    },
    {
     "name": "stdout",
     "output_type": "stream",
     "text": [
      "Iteration 32\n",
      "Best candidate: 0.7674180865287781\n",
      "Objective value at best candidate: 10.71512433002713\n",
      "\n",
      "Iteration 33\n",
      "Best candidate: 0.9853463172912598\n",
      "Objective value at best candidate: 12.355610477081882\n",
      "\n"
     ]
    },
    {
     "name": "stderr",
     "output_type": "stream",
     "text": [
      "/var/folders/_b/b62kq0490fn2ptq7m4mbp8yr0000gp/T/ipykernel_96749/3541269840.py:26: InputDataWarning:\n",
      "\n",
      "The model inputs are of type torch.float32. It is strongly recommended to use double precision in BoTorch, as this improves both precision and stability and can help avoid numerical errors. See https://github.com/pytorch/botorch/discussions/1444\n",
      "\n",
      "/Users/keisukeonoue/ws/constrained_BO/bo-env/lib/python3.12/site-packages/botorch/models/utils/assorted.py:257: InputDataWarning:\n",
      "\n",
      "Input data is not contained to the unit cube. Please consider min-max scaling the input data.\n",
      "\n",
      "/Users/keisukeonoue/ws/constrained_BO/bo-env/lib/python3.12/site-packages/botorch/models/utils/assorted.py:260: InputDataWarning:\n",
      "\n",
      "Data is not standardized (std = tensor([2.2949]), mean = tensor([11.0884])). Please consider scaling the input to zero mean and unit variance.\n",
      "\n",
      "/var/folders/_b/b62kq0490fn2ptq7m4mbp8yr0000gp/T/ipykernel_96749/3541269840.py:26: InputDataWarning:\n",
      "\n",
      "The model inputs are of type torch.float32. It is strongly recommended to use double precision in BoTorch, as this improves both precision and stability and can help avoid numerical errors. See https://github.com/pytorch/botorch/discussions/1444\n",
      "\n",
      "/Users/keisukeonoue/ws/constrained_BO/bo-env/lib/python3.12/site-packages/botorch/models/utils/assorted.py:257: InputDataWarning:\n",
      "\n",
      "Input data is not contained to the unit cube. Please consider min-max scaling the input data.\n",
      "\n",
      "/Users/keisukeonoue/ws/constrained_BO/bo-env/lib/python3.12/site-packages/botorch/models/utils/assorted.py:260: InputDataWarning:\n",
      "\n",
      "Data is not standardized (std = tensor([2.2710]), mean = tensor([11.1246])). Please consider scaling the input to zero mean and unit variance.\n",
      "\n"
     ]
    },
    {
     "name": "stdout",
     "output_type": "stream",
     "text": [
      "Iteration 34\n",
      "Best candidate: 0.986711859703064\n",
      "Objective value at best candidate: 12.36888434375615\n",
      "\n",
      "Iteration 35\n",
      "Best candidate: 0.9878911375999451\n",
      "Objective value at best candidate: 12.380377621485685\n",
      "\n",
      "Iteration 36\n",
      "Best candidate: 0.9892300963401794\n",
      "Objective value at best candidate: 12.393460871650213\n",
      "\n"
     ]
    },
    {
     "name": "stderr",
     "output_type": "stream",
     "text": [
      "/var/folders/_b/b62kq0490fn2ptq7m4mbp8yr0000gp/T/ipykernel_96749/3541269840.py:26: InputDataWarning:\n",
      "\n",
      "The model inputs are of type torch.float32. It is strongly recommended to use double precision in BoTorch, as this improves both precision and stability and can help avoid numerical errors. See https://github.com/pytorch/botorch/discussions/1444\n",
      "\n",
      "/Users/keisukeonoue/ws/constrained_BO/bo-env/lib/python3.12/site-packages/botorch/models/utils/assorted.py:257: InputDataWarning:\n",
      "\n",
      "Input data is not contained to the unit cube. Please consider min-max scaling the input data.\n",
      "\n",
      "/Users/keisukeonoue/ws/constrained_BO/bo-env/lib/python3.12/site-packages/botorch/models/utils/assorted.py:260: InputDataWarning:\n",
      "\n",
      "Data is not standardized (std = tensor([2.2479]), mean = tensor([11.1592])). Please consider scaling the input to zero mean and unit variance.\n",
      "\n",
      "/var/folders/_b/b62kq0490fn2ptq7m4mbp8yr0000gp/T/ipykernel_96749/3541269840.py:26: InputDataWarning:\n",
      "\n",
      "The model inputs are of type torch.float32. It is strongly recommended to use double precision in BoTorch, as this improves both precision and stability and can help avoid numerical errors. See https://github.com/pytorch/botorch/discussions/1444\n",
      "\n",
      "/Users/keisukeonoue/ws/constrained_BO/bo-env/lib/python3.12/site-packages/botorch/models/utils/assorted.py:257: InputDataWarning:\n",
      "\n",
      "Input data is not contained to the unit cube. Please consider min-max scaling the input data.\n",
      "\n",
      "/Users/keisukeonoue/ws/constrained_BO/bo-env/lib/python3.12/site-packages/botorch/models/utils/assorted.py:260: InputDataWarning:\n",
      "\n",
      "Data is not standardized (std = tensor([2.2255]), mean = tensor([11.1922])). Please consider scaling the input to zero mean and unit variance.\n",
      "\n",
      "/var/folders/_b/b62kq0490fn2ptq7m4mbp8yr0000gp/T/ipykernel_96749/3541269840.py:26: InputDataWarning:\n",
      "\n",
      "The model inputs are of type torch.float32. It is strongly recommended to use double precision in BoTorch, as this improves both precision and stability and can help avoid numerical errors. See https://github.com/pytorch/botorch/discussions/1444\n",
      "\n",
      "/Users/keisukeonoue/ws/constrained_BO/bo-env/lib/python3.12/site-packages/botorch/models/utils/assorted.py:257: InputDataWarning:\n",
      "\n",
      "Input data is not contained to the unit cube. Please consider min-max scaling the input data.\n",
      "\n",
      "/Users/keisukeonoue/ws/constrained_BO/bo-env/lib/python3.12/site-packages/botorch/models/utils/assorted.py:260: InputDataWarning:\n",
      "\n",
      "Data is not standardized (std = tensor([2.2039]), mean = tensor([11.2238])). Please consider scaling the input to zero mean and unit variance.\n",
      "\n"
     ]
    },
    {
     "name": "stdout",
     "output_type": "stream",
     "text": [
      "Iteration 37\n",
      "Best candidate: 0.9906982183456421\n",
      "Objective value at best candidate: 12.407847414875874\n",
      "\n",
      "Iteration 38\n",
      "Best candidate: 0.9918075799942017\n",
      "Objective value at best candidate: 12.41874695739753\n",
      "\n",
      "Iteration 39\n",
      "Best candidate: 2.2551939487457275\n",
      "Objective value at best candidate: 0.06512395147643701\n",
      "\n"
     ]
    },
    {
     "name": "stderr",
     "output_type": "stream",
     "text": [
      "/var/folders/_b/b62kq0490fn2ptq7m4mbp8yr0000gp/T/ipykernel_96749/3541269840.py:26: InputDataWarning:\n",
      "\n",
      "The model inputs are of type torch.float32. It is strongly recommended to use double precision in BoTorch, as this improves both precision and stability and can help avoid numerical errors. See https://github.com/pytorch/botorch/discussions/1444\n",
      "\n",
      "/Users/keisukeonoue/ws/constrained_BO/bo-env/lib/python3.12/site-packages/botorch/models/utils/assorted.py:257: InputDataWarning:\n",
      "\n",
      "Input data is not contained to the unit cube. Please consider min-max scaling the input data.\n",
      "\n",
      "/Users/keisukeonoue/ws/constrained_BO/bo-env/lib/python3.12/site-packages/botorch/models/utils/assorted.py:260: InputDataWarning:\n",
      "\n",
      "Data is not standardized (std = tensor([2.1829]), mean = tensor([11.2542])). Please consider scaling the input to zero mean and unit variance.\n",
      "\n",
      "/var/folders/_b/b62kq0490fn2ptq7m4mbp8yr0000gp/T/ipykernel_96749/3541269840.py:26: InputDataWarning:\n",
      "\n",
      "The model inputs are of type torch.float32. It is strongly recommended to use double precision in BoTorch, as this improves both precision and stability and can help avoid numerical errors. See https://github.com/pytorch/botorch/discussions/1444\n",
      "\n",
      "/Users/keisukeonoue/ws/constrained_BO/bo-env/lib/python3.12/site-packages/botorch/models/utils/assorted.py:257: InputDataWarning:\n",
      "\n",
      "Input data is not contained to the unit cube. Please consider min-max scaling the input data.\n",
      "\n",
      "/Users/keisukeonoue/ws/constrained_BO/bo-env/lib/python3.12/site-packages/botorch/models/utils/assorted.py:260: InputDataWarning:\n",
      "\n",
      "Data is not standardized (std = tensor([2.1626]), mean = tensor([11.2833])). Please consider scaling the input to zero mean and unit variance.\n",
      "\n",
      "/var/folders/_b/b62kq0490fn2ptq7m4mbp8yr0000gp/T/ipykernel_96749/3541269840.py:26: InputDataWarning:\n",
      "\n",
      "The model inputs are of type torch.float32. It is strongly recommended to use double precision in BoTorch, as this improves both precision and stability and can help avoid numerical errors. See https://github.com/pytorch/botorch/discussions/1444\n",
      "\n",
      "/Users/keisukeonoue/ws/constrained_BO/bo-env/lib/python3.12/site-packages/botorch/models/utils/assorted.py:257: InputDataWarning:\n",
      "\n",
      "Input data is not contained to the unit cube. Please consider min-max scaling the input data.\n",
      "\n",
      "/Users/keisukeonoue/ws/constrained_BO/bo-env/lib/python3.12/site-packages/botorch/models/utils/assorted.py:260: InputDataWarning:\n",
      "\n",
      "Data is not standardized (std = tensor([2.7622]), mean = tensor([11.0097])). Please consider scaling the input to zero mean and unit variance.\n",
      "\n"
     ]
    },
    {
     "name": "stdout",
     "output_type": "stream",
     "text": [
      "Iteration 40\n",
      "Best candidate: 0.9930394291877747\n",
      "Objective value at best candidate: 12.430878787338067\n",
      "\n",
      "Iteration 41\n",
      "Best candidate: 0.9939420819282532\n",
      "Objective value at best candidate: 12.439787802996172\n",
      "\n"
     ]
    },
    {
     "name": "stderr",
     "output_type": "stream",
     "text": [
      "/var/folders/_b/b62kq0490fn2ptq7m4mbp8yr0000gp/T/ipykernel_96749/3541269840.py:26: InputDataWarning:\n",
      "\n",
      "The model inputs are of type torch.float32. It is strongly recommended to use double precision in BoTorch, as this improves both precision and stability and can help avoid numerical errors. See https://github.com/pytorch/botorch/discussions/1444\n",
      "\n",
      "/Users/keisukeonoue/ws/constrained_BO/bo-env/lib/python3.12/site-packages/botorch/models/utils/assorted.py:257: InputDataWarning:\n",
      "\n",
      "Input data is not contained to the unit cube. Please consider min-max scaling the input data.\n",
      "\n",
      "/Users/keisukeonoue/ws/constrained_BO/bo-env/lib/python3.12/site-packages/botorch/models/utils/assorted.py:260: InputDataWarning:\n",
      "\n",
      "Data is not standardized (std = tensor([2.7371]), mean = tensor([11.0435])). Please consider scaling the input to zero mean and unit variance.\n",
      "\n",
      "/var/folders/_b/b62kq0490fn2ptq7m4mbp8yr0000gp/T/ipykernel_96749/3541269840.py:26: InputDataWarning:\n",
      "\n",
      "The model inputs are of type torch.float32. It is strongly recommended to use double precision in BoTorch, as this improves both precision and stability and can help avoid numerical errors. See https://github.com/pytorch/botorch/discussions/1444\n",
      "\n",
      "/Users/keisukeonoue/ws/constrained_BO/bo-env/lib/python3.12/site-packages/botorch/models/utils/assorted.py:257: InputDataWarning:\n",
      "\n",
      "Input data is not contained to the unit cube. Please consider min-max scaling the input data.\n",
      "\n",
      "/Users/keisukeonoue/ws/constrained_BO/bo-env/lib/python3.12/site-packages/botorch/models/utils/assorted.py:260: InputDataWarning:\n",
      "\n",
      "Data is not standardized (std = tensor([2.7126]), mean = tensor([11.0760])). Please consider scaling the input to zero mean and unit variance.\n",
      "\n"
     ]
    },
    {
     "name": "stdout",
     "output_type": "stream",
     "text": [
      "Iteration 42\n",
      "Best candidate: 0.9950079321861267\n",
      "Objective value at best candidate: 12.45032852927185\n",
      "\n",
      "Iteration 43\n",
      "Best candidate: 0.9959378242492676\n",
      "Objective value at best candidate: 12.459543255210974\n",
      "\n"
     ]
    },
    {
     "name": "stderr",
     "output_type": "stream",
     "text": [
      "/var/folders/_b/b62kq0490fn2ptq7m4mbp8yr0000gp/T/ipykernel_96749/3541269840.py:26: InputDataWarning:\n",
      "\n",
      "The model inputs are of type torch.float32. It is strongly recommended to use double precision in BoTorch, as this improves both precision and stability and can help avoid numerical errors. See https://github.com/pytorch/botorch/discussions/1444\n",
      "\n",
      "/Users/keisukeonoue/ws/constrained_BO/bo-env/lib/python3.12/site-packages/botorch/models/utils/assorted.py:257: InputDataWarning:\n",
      "\n",
      "Input data is not contained to the unit cube. Please consider min-max scaling the input data.\n",
      "\n",
      "/Users/keisukeonoue/ws/constrained_BO/bo-env/lib/python3.12/site-packages/botorch/models/utils/assorted.py:260: InputDataWarning:\n",
      "\n",
      "Data is not standardized (std = tensor([2.6889]), mean = tensor([11.1072])). Please consider scaling the input to zero mean and unit variance.\n",
      "\n",
      "/var/folders/_b/b62kq0490fn2ptq7m4mbp8yr0000gp/T/ipykernel_96749/3541269840.py:26: InputDataWarning:\n",
      "\n",
      "The model inputs are of type torch.float32. It is strongly recommended to use double precision in BoTorch, as this improves both precision and stability and can help avoid numerical errors. See https://github.com/pytorch/botorch/discussions/1444\n",
      "\n",
      "/Users/keisukeonoue/ws/constrained_BO/bo-env/lib/python3.12/site-packages/botorch/models/utils/assorted.py:257: InputDataWarning:\n",
      "\n",
      "Input data is not contained to the unit cube. Please consider min-max scaling the input data.\n",
      "\n",
      "/Users/keisukeonoue/ws/constrained_BO/bo-env/lib/python3.12/site-packages/botorch/models/utils/assorted.py:260: InputDataWarning:\n",
      "\n",
      "Data is not standardized (std = tensor([2.6658]), mean = tensor([11.1373])). Please consider scaling the input to zero mean and unit variance.\n",
      "\n"
     ]
    },
    {
     "name": "stdout",
     "output_type": "stream",
     "text": [
      "Iteration 44\n",
      "Best candidate: 0.9969484210014343\n",
      "Objective value at best candidate: 12.469577331358188\n",
      "\n",
      "Iteration 45\n",
      "Best candidate: 0.9978194236755371\n",
      "Objective value at best candidate: 12.47824178588644\n",
      "\n"
     ]
    },
    {
     "name": "stderr",
     "output_type": "stream",
     "text": [
      "/var/folders/_b/b62kq0490fn2ptq7m4mbp8yr0000gp/T/ipykernel_96749/3541269840.py:26: InputDataWarning:\n",
      "\n",
      "The model inputs are of type torch.float32. It is strongly recommended to use double precision in BoTorch, as this improves both precision and stability and can help avoid numerical errors. See https://github.com/pytorch/botorch/discussions/1444\n",
      "\n",
      "/Users/keisukeonoue/ws/constrained_BO/bo-env/lib/python3.12/site-packages/botorch/models/utils/assorted.py:257: InputDataWarning:\n",
      "\n",
      "Input data is not contained to the unit cube. Please consider min-max scaling the input data.\n",
      "\n",
      "/Users/keisukeonoue/ws/constrained_BO/bo-env/lib/python3.12/site-packages/botorch/models/utils/assorted.py:260: InputDataWarning:\n",
      "\n",
      "Data is not standardized (std = tensor([2.6433]), mean = tensor([11.1662])). Please consider scaling the input to zero mean and unit variance.\n",
      "\n",
      "/var/folders/_b/b62kq0490fn2ptq7m4mbp8yr0000gp/T/ipykernel_96749/3541269840.py:26: InputDataWarning:\n",
      "\n",
      "The model inputs are of type torch.float32. It is strongly recommended to use double precision in BoTorch, as this improves both precision and stability and can help avoid numerical errors. See https://github.com/pytorch/botorch/discussions/1444\n",
      "\n",
      "/Users/keisukeonoue/ws/constrained_BO/bo-env/lib/python3.12/site-packages/botorch/models/utils/assorted.py:257: InputDataWarning:\n",
      "\n",
      "Input data is not contained to the unit cube. Please consider min-max scaling the input data.\n",
      "\n",
      "/Users/keisukeonoue/ws/constrained_BO/bo-env/lib/python3.12/site-packages/botorch/models/utils/assorted.py:260: InputDataWarning:\n",
      "\n",
      "Data is not standardized (std = tensor([2.6214]), mean = tensor([11.1941])). Please consider scaling the input to zero mean and unit variance.\n",
      "\n"
     ]
    },
    {
     "name": "stdout",
     "output_type": "stream",
     "text": [
      "Iteration 46\n",
      "Best candidate: 0.9985256791114807\n",
      "Objective value at best candidate: 12.48527852733563\n",
      "\n",
      "Iteration 47\n",
      "Best candidate: 0.9997550845146179\n",
      "Objective value at best candidate: 12.497551444982129\n",
      "\n",
      "Iteration 48\n",
      "Best candidate: 0.7757312655448914\n",
      "Objective value at best candidate: 10.760277307989874\n",
      "\n"
     ]
    },
    {
     "name": "stderr",
     "output_type": "stream",
     "text": [
      "/var/folders/_b/b62kq0490fn2ptq7m4mbp8yr0000gp/T/ipykernel_96749/3541269840.py:26: InputDataWarning:\n",
      "\n",
      "The model inputs are of type torch.float32. It is strongly recommended to use double precision in BoTorch, as this improves both precision and stability and can help avoid numerical errors. See https://github.com/pytorch/botorch/discussions/1444\n",
      "\n",
      "/Users/keisukeonoue/ws/constrained_BO/bo-env/lib/python3.12/site-packages/botorch/models/utils/assorted.py:257: InputDataWarning:\n",
      "\n",
      "Input data is not contained to the unit cube. Please consider min-max scaling the input data.\n",
      "\n",
      "/Users/keisukeonoue/ws/constrained_BO/bo-env/lib/python3.12/site-packages/botorch/models/utils/assorted.py:260: InputDataWarning:\n",
      "\n",
      "Data is not standardized (std = tensor([2.6001]), mean = tensor([11.2210])). Please consider scaling the input to zero mean and unit variance.\n",
      "\n",
      "/var/folders/_b/b62kq0490fn2ptq7m4mbp8yr0000gp/T/ipykernel_96749/3541269840.py:26: InputDataWarning:\n",
      "\n",
      "The model inputs are of type torch.float32. It is strongly recommended to use double precision in BoTorch, as this improves both precision and stability and can help avoid numerical errors. See https://github.com/pytorch/botorch/discussions/1444\n",
      "\n",
      "/Users/keisukeonoue/ws/constrained_BO/bo-env/lib/python3.12/site-packages/botorch/models/utils/assorted.py:257: InputDataWarning:\n",
      "\n",
      "Input data is not contained to the unit cube. Please consider min-max scaling the input data.\n",
      "\n",
      "/Users/keisukeonoue/ws/constrained_BO/bo-env/lib/python3.12/site-packages/botorch/models/utils/assorted.py:260: InputDataWarning:\n",
      "\n",
      "Data is not standardized (std = tensor([2.5793]), mean = tensor([11.2471])). Please consider scaling the input to zero mean and unit variance.\n",
      "\n",
      "/var/folders/_b/b62kq0490fn2ptq7m4mbp8yr0000gp/T/ipykernel_96749/3541269840.py:26: InputDataWarning:\n",
      "\n",
      "The model inputs are of type torch.float32. It is strongly recommended to use double precision in BoTorch, as this improves both precision and stability and can help avoid numerical errors. See https://github.com/pytorch/botorch/discussions/1444\n",
      "\n",
      "/Users/keisukeonoue/ws/constrained_BO/bo-env/lib/python3.12/site-packages/botorch/models/utils/assorted.py:257: InputDataWarning:\n",
      "\n",
      "Input data is not contained to the unit cube. Please consider min-max scaling the input data.\n",
      "\n",
      "/Users/keisukeonoue/ws/constrained_BO/bo-env/lib/python3.12/site-packages/botorch/models/utils/assorted.py:260: InputDataWarning:\n",
      "\n",
      "Data is not standardized (std = tensor([2.5538]), mean = tensor([11.2373])). Please consider scaling the input to zero mean and unit variance.\n",
      "\n"
     ]
    },
    {
     "name": "stdout",
     "output_type": "stream",
     "text": [
      "Iteration 49\n",
      "Best candidate: 1.0003952980041504\n",
      "Objective value at best candidate: 0.9992095602522113\n",
      "\n"
     ]
    },
    {
     "name": "stderr",
     "output_type": "stream",
     "text": [
      "/var/folders/_b/b62kq0490fn2ptq7m4mbp8yr0000gp/T/ipykernel_96749/3541269840.py:26: InputDataWarning:\n",
      "\n",
      "The model inputs are of type torch.float32. It is strongly recommended to use double precision in BoTorch, as this improves both precision and stability and can help avoid numerical errors. See https://github.com/pytorch/botorch/discussions/1444\n",
      "\n",
      "/Users/keisukeonoue/ws/constrained_BO/bo-env/lib/python3.12/site-packages/botorch/models/utils/assorted.py:257: InputDataWarning:\n",
      "\n",
      "Input data is not contained to the unit cube. Please consider min-max scaling the input data.\n",
      "\n",
      "/Users/keisukeonoue/ws/constrained_BO/bo-env/lib/python3.12/site-packages/botorch/models/utils/assorted.py:260: InputDataWarning:\n",
      "\n",
      "Data is not standardized (std = tensor([2.9063]), mean = tensor([11.0366])). Please consider scaling the input to zero mean and unit variance.\n",
      "\n",
      "/Users/keisukeonoue/ws/constrained_BO/bo-env/lib/python3.12/site-packages/botorch/optim/fit.py:102: OptimizationWarning:\n",
      "\n",
      "`scipy_minimize` terminated with status OptimizationStatus.FAILURE, displaying original message from `scipy.optimize.minimize`: ABNORMAL_TERMINATION_IN_LNSRCH\n",
      "\n"
     ]
    },
    {
     "name": "stdout",
     "output_type": "stream",
     "text": [
      "Iteration 50\n",
      "Best candidate: 0.9626451730728149\n",
      "Objective value at best candidate: 12.140405561675749\n",
      "\n",
      "Iteration 51\n",
      "Best candidate: 0.9629685282707214\n",
      "Objective value at best candidate: 12.143398581691578\n",
      "\n"
     ]
    },
    {
     "name": "stderr",
     "output_type": "stream",
     "text": [
      "/var/folders/_b/b62kq0490fn2ptq7m4mbp8yr0000gp/T/ipykernel_96749/3541269840.py:26: InputDataWarning:\n",
      "\n",
      "The model inputs are of type torch.float32. It is strongly recommended to use double precision in BoTorch, as this improves both precision and stability and can help avoid numerical errors. See https://github.com/pytorch/botorch/discussions/1444\n",
      "\n",
      "/Users/keisukeonoue/ws/constrained_BO/bo-env/lib/python3.12/site-packages/botorch/models/utils/assorted.py:257: InputDataWarning:\n",
      "\n",
      "Input data is not contained to the unit cube. Please consider min-max scaling the input data.\n",
      "\n",
      "/Users/keisukeonoue/ws/constrained_BO/bo-env/lib/python3.12/site-packages/botorch/models/utils/assorted.py:260: InputDataWarning:\n",
      "\n",
      "Data is not standardized (std = tensor([2.8818]), mean = tensor([11.0578])). Please consider scaling the input to zero mean and unit variance.\n",
      "\n",
      "/var/folders/_b/b62kq0490fn2ptq7m4mbp8yr0000gp/T/ipykernel_96749/3541269840.py:26: InputDataWarning:\n",
      "\n",
      "The model inputs are of type torch.float32. It is strongly recommended to use double precision in BoTorch, as this improves both precision and stability and can help avoid numerical errors. See https://github.com/pytorch/botorch/discussions/1444\n",
      "\n",
      "/Users/keisukeonoue/ws/constrained_BO/bo-env/lib/python3.12/site-packages/botorch/models/utils/assorted.py:257: InputDataWarning:\n",
      "\n",
      "Input data is not contained to the unit cube. Please consider min-max scaling the input data.\n",
      "\n",
      "/Users/keisukeonoue/ws/constrained_BO/bo-env/lib/python3.12/site-packages/botorch/models/utils/assorted.py:260: InputDataWarning:\n",
      "\n",
      "Data is not standardized (std = tensor([2.8578]), mean = tensor([11.0783])). Please consider scaling the input to zero mean and unit variance.\n",
      "\n",
      "/Users/keisukeonoue/ws/constrained_BO/bo-env/lib/python3.12/site-packages/botorch/optim/fit.py:102: OptimizationWarning:\n",
      "\n",
      "`scipy_minimize` terminated with status OptimizationStatus.FAILURE, displaying original message from `scipy.optimize.minimize`: ABNORMAL_TERMINATION_IN_LNSRCH\n",
      "\n"
     ]
    },
    {
     "name": "stdout",
     "output_type": "stream",
     "text": [
      "Iteration 52\n",
      "Best candidate: 0.9634085893630981\n",
      "Objective value at best candidate: 12.147475206954965\n",
      "\n",
      "Iteration 53\n",
      "Best candidate: 0.9637425541877747\n",
      "Objective value at best candidate: 12.150571565646011\n",
      "\n",
      "Iteration 54\n",
      "Best candidate: 0.9640606045722961\n",
      "Objective value at best candidate: 12.15352244716005\n",
      "\n"
     ]
    },
    {
     "name": "stderr",
     "output_type": "stream",
     "text": [
      "/var/folders/_b/b62kq0490fn2ptq7m4mbp8yr0000gp/T/ipykernel_96749/3541269840.py:26: InputDataWarning:\n",
      "\n",
      "The model inputs are of type torch.float32. It is strongly recommended to use double precision in BoTorch, as this improves both precision and stability and can help avoid numerical errors. See https://github.com/pytorch/botorch/discussions/1444\n",
      "\n",
      "/Users/keisukeonoue/ws/constrained_BO/bo-env/lib/python3.12/site-packages/botorch/models/utils/assorted.py:257: InputDataWarning:\n",
      "\n",
      "Input data is not contained to the unit cube. Please consider min-max scaling the input data.\n",
      "\n",
      "/Users/keisukeonoue/ws/constrained_BO/bo-env/lib/python3.12/site-packages/botorch/models/utils/assorted.py:260: InputDataWarning:\n",
      "\n",
      "Data is not standardized (std = tensor([2.8345]), mean = tensor([11.0981])). Please consider scaling the input to zero mean and unit variance.\n",
      "\n",
      "/var/folders/_b/b62kq0490fn2ptq7m4mbp8yr0000gp/T/ipykernel_96749/3541269840.py:26: InputDataWarning:\n",
      "\n",
      "The model inputs are of type torch.float32. It is strongly recommended to use double precision in BoTorch, as this improves both precision and stability and can help avoid numerical errors. See https://github.com/pytorch/botorch/discussions/1444\n",
      "\n",
      "/Users/keisukeonoue/ws/constrained_BO/bo-env/lib/python3.12/site-packages/botorch/models/utils/assorted.py:257: InputDataWarning:\n",
      "\n",
      "Input data is not contained to the unit cube. Please consider min-max scaling the input data.\n",
      "\n",
      "/Users/keisukeonoue/ws/constrained_BO/bo-env/lib/python3.12/site-packages/botorch/models/utils/assorted.py:260: InputDataWarning:\n",
      "\n",
      "Data is not standardized (std = tensor([2.8117]), mean = tensor([11.1172])). Please consider scaling the input to zero mean and unit variance.\n",
      "\n",
      "/var/folders/_b/b62kq0490fn2ptq7m4mbp8yr0000gp/T/ipykernel_96749/3541269840.py:26: InputDataWarning:\n",
      "\n",
      "The model inputs are of type torch.float32. It is strongly recommended to use double precision in BoTorch, as this improves both precision and stability and can help avoid numerical errors. See https://github.com/pytorch/botorch/discussions/1444\n",
      "\n",
      "/Users/keisukeonoue/ws/constrained_BO/bo-env/lib/python3.12/site-packages/botorch/models/utils/assorted.py:257: InputDataWarning:\n",
      "\n",
      "Input data is not contained to the unit cube. Please consider min-max scaling the input data.\n",
      "\n",
      "/Users/keisukeonoue/ws/constrained_BO/bo-env/lib/python3.12/site-packages/botorch/models/utils/assorted.py:260: InputDataWarning:\n",
      "\n",
      "Data is not standardized (std = tensor([2.7894]), mean = tensor([11.1357])). Please consider scaling the input to zero mean and unit variance.\n",
      "\n"
     ]
    },
    {
     "name": "stdout",
     "output_type": "stream",
     "text": [
      "Iteration 55\n",
      "Best candidate: 0.964411199092865\n",
      "Objective value at best candidate: 12.156777618428727\n",
      "\n",
      "Iteration 56\n",
      "Best candidate: 0.9647353291511536\n",
      "Objective value at best candidate: 12.15978926161231\n",
      "\n"
     ]
    },
    {
     "name": "stderr",
     "output_type": "stream",
     "text": [
      "/var/folders/_b/b62kq0490fn2ptq7m4mbp8yr0000gp/T/ipykernel_96749/3541269840.py:26: InputDataWarning:\n",
      "\n",
      "The model inputs are of type torch.float32. It is strongly recommended to use double precision in BoTorch, as this improves both precision and stability and can help avoid numerical errors. See https://github.com/pytorch/botorch/discussions/1444\n",
      "\n",
      "/Users/keisukeonoue/ws/constrained_BO/bo-env/lib/python3.12/site-packages/botorch/models/utils/assorted.py:257: InputDataWarning:\n",
      "\n",
      "Input data is not contained to the unit cube. Please consider min-max scaling the input data.\n",
      "\n",
      "/Users/keisukeonoue/ws/constrained_BO/bo-env/lib/python3.12/site-packages/botorch/models/utils/assorted.py:260: InputDataWarning:\n",
      "\n",
      "Data is not standardized (std = tensor([2.7677]), mean = tensor([11.1537])). Please consider scaling the input to zero mean and unit variance.\n",
      "\n",
      "/var/folders/_b/b62kq0490fn2ptq7m4mbp8yr0000gp/T/ipykernel_96749/3541269840.py:26: InputDataWarning:\n",
      "\n",
      "The model inputs are of type torch.float32. It is strongly recommended to use double precision in BoTorch, as this improves both precision and stability and can help avoid numerical errors. See https://github.com/pytorch/botorch/discussions/1444\n",
      "\n",
      "/Users/keisukeonoue/ws/constrained_BO/bo-env/lib/python3.12/site-packages/botorch/models/utils/assorted.py:257: InputDataWarning:\n",
      "\n",
      "Input data is not contained to the unit cube. Please consider min-max scaling the input data.\n",
      "\n",
      "/Users/keisukeonoue/ws/constrained_BO/bo-env/lib/python3.12/site-packages/botorch/models/utils/assorted.py:260: InputDataWarning:\n",
      "\n",
      "Data is not standardized (std = tensor([2.7465]), mean = tensor([11.1710])). Please consider scaling the input to zero mean and unit variance.\n",
      "\n"
     ]
    },
    {
     "name": "stdout",
     "output_type": "stream",
     "text": [
      "Iteration 57\n",
      "Best candidate: 0.9650378823280334\n",
      "Objective value at best candidate: 12.162602320001419\n",
      "\n",
      "Iteration 58\n",
      "Best candidate: 0.9653472900390625\n",
      "Objective value at best candidate: 12.165481003466994\n",
      "\n"
     ]
    },
    {
     "name": "stderr",
     "output_type": "stream",
     "text": [
      "/var/folders/_b/b62kq0490fn2ptq7m4mbp8yr0000gp/T/ipykernel_96749/3541269840.py:26: InputDataWarning:\n",
      "\n",
      "The model inputs are of type torch.float32. It is strongly recommended to use double precision in BoTorch, as this improves both precision and stability and can help avoid numerical errors. See https://github.com/pytorch/botorch/discussions/1444\n",
      "\n",
      "/Users/keisukeonoue/ws/constrained_BO/bo-env/lib/python3.12/site-packages/botorch/models/utils/assorted.py:257: InputDataWarning:\n",
      "\n",
      "Input data is not contained to the unit cube. Please consider min-max scaling the input data.\n",
      "\n",
      "/Users/keisukeonoue/ws/constrained_BO/bo-env/lib/python3.12/site-packages/botorch/models/utils/assorted.py:260: InputDataWarning:\n",
      "\n",
      "Data is not standardized (std = tensor([2.7258]), mean = tensor([11.1878])). Please consider scaling the input to zero mean and unit variance.\n",
      "\n",
      "/var/folders/_b/b62kq0490fn2ptq7m4mbp8yr0000gp/T/ipykernel_96749/3541269840.py:26: InputDataWarning:\n",
      "\n",
      "The model inputs are of type torch.float32. It is strongly recommended to use double precision in BoTorch, as this improves both precision and stability and can help avoid numerical errors. See https://github.com/pytorch/botorch/discussions/1444\n",
      "\n",
      "/Users/keisukeonoue/ws/constrained_BO/bo-env/lib/python3.12/site-packages/botorch/models/utils/assorted.py:257: InputDataWarning:\n",
      "\n",
      "Input data is not contained to the unit cube. Please consider min-max scaling the input data.\n",
      "\n",
      "/Users/keisukeonoue/ws/constrained_BO/bo-env/lib/python3.12/site-packages/botorch/models/utils/assorted.py:260: InputDataWarning:\n",
      "\n",
      "Data is not standardized (std = tensor([2.7055]), mean = tensor([11.2041])). Please consider scaling the input to zero mean and unit variance.\n",
      "\n"
     ]
    },
    {
     "name": "stdout",
     "output_type": "stream",
     "text": [
      "Iteration 59\n",
      "Best candidate: 0.9656875729560852\n",
      "Objective value at best candidate: 12.168649156057292\n",
      "\n",
      "Iteration 60\n",
      "Best candidate: 0.9659377336502075\n",
      "Objective value at best candidate: 12.170979716390917\n",
      "\n"
     ]
    },
    {
     "name": "stderr",
     "output_type": "stream",
     "text": [
      "/var/folders/_b/b62kq0490fn2ptq7m4mbp8yr0000gp/T/ipykernel_96749/3541269840.py:26: InputDataWarning:\n",
      "\n",
      "The model inputs are of type torch.float32. It is strongly recommended to use double precision in BoTorch, as this improves both precision and stability and can help avoid numerical errors. See https://github.com/pytorch/botorch/discussions/1444\n",
      "\n",
      "/Users/keisukeonoue/ws/constrained_BO/bo-env/lib/python3.12/site-packages/botorch/models/utils/assorted.py:257: InputDataWarning:\n",
      "\n",
      "Input data is not contained to the unit cube. Please consider min-max scaling the input data.\n",
      "\n",
      "/Users/keisukeonoue/ws/constrained_BO/bo-env/lib/python3.12/site-packages/botorch/models/utils/assorted.py:260: InputDataWarning:\n",
      "\n",
      "Data is not standardized (std = tensor([2.6857]), mean = tensor([11.2199])). Please consider scaling the input to zero mean and unit variance.\n",
      "\n",
      "/var/folders/_b/b62kq0490fn2ptq7m4mbp8yr0000gp/T/ipykernel_96749/3541269840.py:26: InputDataWarning:\n",
      "\n",
      "The model inputs are of type torch.float32. It is strongly recommended to use double precision in BoTorch, as this improves both precision and stability and can help avoid numerical errors. See https://github.com/pytorch/botorch/discussions/1444\n",
      "\n",
      "/Users/keisukeonoue/ws/constrained_BO/bo-env/lib/python3.12/site-packages/botorch/models/utils/assorted.py:257: InputDataWarning:\n",
      "\n",
      "Input data is not contained to the unit cube. Please consider min-max scaling the input data.\n",
      "\n",
      "/Users/keisukeonoue/ws/constrained_BO/bo-env/lib/python3.12/site-packages/botorch/models/utils/assorted.py:260: InputDataWarning:\n",
      "\n",
      "Data is not standardized (std = tensor([2.6664]), mean = tensor([11.2353])). Please consider scaling the input to zero mean and unit variance.\n",
      "\n"
     ]
    },
    {
     "name": "stdout",
     "output_type": "stream",
     "text": [
      "Iteration 61\n",
      "Best candidate: 0.9662135243415833\n",
      "Objective value at best candidate: 12.17355050279\n",
      "\n",
      "Iteration 62\n",
      "Best candidate: 0.9664818644523621\n",
      "Objective value at best candidate: 12.176053298629519\n",
      "\n",
      "Iteration 63\n",
      "Best candidate: 0.9667313694953918\n",
      "Objective value at best candidate: 12.17838171271044\n",
      "\n"
     ]
    },
    {
     "name": "stderr",
     "output_type": "stream",
     "text": [
      "/var/folders/_b/b62kq0490fn2ptq7m4mbp8yr0000gp/T/ipykernel_96749/3541269840.py:26: InputDataWarning:\n",
      "\n",
      "The model inputs are of type torch.float32. It is strongly recommended to use double precision in BoTorch, as this improves both precision and stability and can help avoid numerical errors. See https://github.com/pytorch/botorch/discussions/1444\n",
      "\n",
      "/Users/keisukeonoue/ws/constrained_BO/bo-env/lib/python3.12/site-packages/botorch/models/utils/assorted.py:257: InputDataWarning:\n",
      "\n",
      "Input data is not contained to the unit cube. Please consider min-max scaling the input data.\n",
      "\n",
      "/Users/keisukeonoue/ws/constrained_BO/bo-env/lib/python3.12/site-packages/botorch/models/utils/assorted.py:260: InputDataWarning:\n",
      "\n",
      "Data is not standardized (std = tensor([2.6474]), mean = tensor([11.2502])). Please consider scaling the input to zero mean and unit variance.\n",
      "\n",
      "/var/folders/_b/b62kq0490fn2ptq7m4mbp8yr0000gp/T/ipykernel_96749/3541269840.py:26: InputDataWarning:\n",
      "\n",
      "The model inputs are of type torch.float32. It is strongly recommended to use double precision in BoTorch, as this improves both precision and stability and can help avoid numerical errors. See https://github.com/pytorch/botorch/discussions/1444\n",
      "\n",
      "/Users/keisukeonoue/ws/constrained_BO/bo-env/lib/python3.12/site-packages/botorch/models/utils/assorted.py:257: InputDataWarning:\n",
      "\n",
      "Input data is not contained to the unit cube. Please consider min-max scaling the input data.\n",
      "\n",
      "/Users/keisukeonoue/ws/constrained_BO/bo-env/lib/python3.12/site-packages/botorch/models/utils/assorted.py:260: InputDataWarning:\n",
      "\n",
      "Data is not standardized (std = tensor([2.6289]), mean = tensor([11.2646])). Please consider scaling the input to zero mean and unit variance.\n",
      "\n",
      "/var/folders/_b/b62kq0490fn2ptq7m4mbp8yr0000gp/T/ipykernel_96749/3541269840.py:26: InputDataWarning:\n",
      "\n",
      "The model inputs are of type torch.float32. It is strongly recommended to use double precision in BoTorch, as this improves both precision and stability and can help avoid numerical errors. See https://github.com/pytorch/botorch/discussions/1444\n",
      "\n",
      "/Users/keisukeonoue/ws/constrained_BO/bo-env/lib/python3.12/site-packages/botorch/models/utils/assorted.py:257: InputDataWarning:\n",
      "\n",
      "Input data is not contained to the unit cube. Please consider min-max scaling the input data.\n",
      "\n",
      "/Users/keisukeonoue/ws/constrained_BO/bo-env/lib/python3.12/site-packages/botorch/models/utils/assorted.py:260: InputDataWarning:\n",
      "\n",
      "Data is not standardized (std = tensor([2.6107]), mean = tensor([11.2787])). Please consider scaling the input to zero mean and unit variance.\n",
      "\n"
     ]
    },
    {
     "name": "stdout",
     "output_type": "stream",
     "text": [
      "Iteration 64\n",
      "Best candidate: 0.9669554829597473\n",
      "Objective value at best candidate: 12.180474230661709\n",
      "\n",
      "Iteration 65\n",
      "Best candidate: 0.9672907590866089\n",
      "Objective value at best candidate: 12.183606535277391\n",
      "\n"
     ]
    },
    {
     "name": "stderr",
     "output_type": "stream",
     "text": [
      "/var/folders/_b/b62kq0490fn2ptq7m4mbp8yr0000gp/T/ipykernel_96749/3541269840.py:26: InputDataWarning:\n",
      "\n",
      "The model inputs are of type torch.float32. It is strongly recommended to use double precision in BoTorch, as this improves both precision and stability and can help avoid numerical errors. See https://github.com/pytorch/botorch/discussions/1444\n",
      "\n",
      "/Users/keisukeonoue/ws/constrained_BO/bo-env/lib/python3.12/site-packages/botorch/models/utils/assorted.py:257: InputDataWarning:\n",
      "\n",
      "Input data is not contained to the unit cube. Please consider min-max scaling the input data.\n",
      "\n",
      "/Users/keisukeonoue/ws/constrained_BO/bo-env/lib/python3.12/site-packages/botorch/models/utils/assorted.py:260: InputDataWarning:\n",
      "\n",
      "Data is not standardized (std = tensor([2.5929]), mean = tensor([11.2923])). Please consider scaling the input to zero mean and unit variance.\n",
      "\n",
      "/var/folders/_b/b62kq0490fn2ptq7m4mbp8yr0000gp/T/ipykernel_96749/3541269840.py:26: InputDataWarning:\n",
      "\n",
      "The model inputs are of type torch.float32. It is strongly recommended to use double precision in BoTorch, as this improves both precision and stability and can help avoid numerical errors. See https://github.com/pytorch/botorch/discussions/1444\n",
      "\n",
      "/Users/keisukeonoue/ws/constrained_BO/bo-env/lib/python3.12/site-packages/botorch/models/utils/assorted.py:257: InputDataWarning:\n",
      "\n",
      "Input data is not contained to the unit cube. Please consider min-max scaling the input data.\n",
      "\n",
      "/Users/keisukeonoue/ws/constrained_BO/bo-env/lib/python3.12/site-packages/botorch/models/utils/assorted.py:260: InputDataWarning:\n",
      "\n",
      "Data is not standardized (std = tensor([2.5755]), mean = tensor([11.3056])). Please consider scaling the input to zero mean and unit variance.\n",
      "\n",
      "/Users/keisukeonoue/ws/constrained_BO/bo-env/lib/python3.12/site-packages/botorch/optim/fit.py:102: OptimizationWarning:\n",
      "\n",
      "`scipy_minimize` terminated with status OptimizationStatus.FAILURE, displaying original message from `scipy.optimize.minimize`: ABNORMAL_TERMINATION_IN_LNSRCH\n",
      "\n",
      "/var/folders/_b/b62kq0490fn2ptq7m4mbp8yr0000gp/T/ipykernel_96749/3541269840.py:26: InputDataWarning:\n",
      "\n",
      "The model inputs are of type torch.float32. It is strongly recommended to use double precision in BoTorch, as this improves both precision and stability and can help avoid numerical errors. See https://github.com/pytorch/botorch/discussions/1444\n",
      "\n",
      "/Users/keisukeonoue/ws/constrained_BO/bo-env/lib/python3.12/site-packages/botorch/models/utils/assorted.py:257: InputDataWarning:\n",
      "\n",
      "Input data is not contained to the unit cube. Please consider min-max scaling the input data.\n",
      "\n",
      "/Users/keisukeonoue/ws/constrained_BO/bo-env/lib/python3.12/site-packages/botorch/models/utils/assorted.py:260: InputDataWarning:\n",
      "\n",
      "Data is not standardized (std = tensor([2.5585]), mean = tensor([11.3186])). Please consider scaling the input to zero mean and unit variance.\n",
      "\n",
      "/var/folders/_b/b62kq0490fn2ptq7m4mbp8yr0000gp/T/ipykernel_96749/3541269840.py:26: InputDataWarning:\n",
      "\n",
      "The model inputs are of type torch.float32. It is strongly recommended to use double precision in BoTorch, as this improves both precision and stability and can help avoid numerical errors. See https://github.com/pytorch/botorch/discussions/1444\n",
      "\n",
      "/Users/keisukeonoue/ws/constrained_BO/bo-env/lib/python3.12/site-packages/botorch/models/utils/assorted.py:257: InputDataWarning:\n",
      "\n",
      "Input data is not contained to the unit cube. Please consider min-max scaling the input data.\n",
      "\n",
      "/Users/keisukeonoue/ws/constrained_BO/bo-env/lib/python3.12/site-packages/botorch/models/utils/assorted.py:260: InputDataWarning:\n",
      "\n",
      "Data is not standardized (std = tensor([2.5417]), mean = tensor([11.3312])). Please consider scaling the input to zero mean and unit variance.\n",
      "\n"
     ]
    },
    {
     "name": "stdout",
     "output_type": "stream",
     "text": [
      "Iteration 66\n",
      "Best candidate: 0.9674874544143677\n",
      "Objective value at best candidate: 12.185445200348255\n",
      "\n",
      "Iteration 67\n",
      "Best candidate: 0.9676374793052673\n",
      "Objective value at best candidate: 12.186848120509843\n",
      "\n",
      "Iteration 68\n",
      "Best candidate: 0.967852771282196\n",
      "Objective value at best candidate: 12.188862155964308\n",
      "\n",
      "Iteration 69\n",
      "Best candidate: 0.968052864074707\n",
      "Objective value at best candidate: 12.190734835685362\n",
      "\n"
     ]
    },
    {
     "name": "stderr",
     "output_type": "stream",
     "text": [
      "/var/folders/_b/b62kq0490fn2ptq7m4mbp8yr0000gp/T/ipykernel_96749/3541269840.py:26: InputDataWarning:\n",
      "\n",
      "The model inputs are of type torch.float32. It is strongly recommended to use double precision in BoTorch, as this improves both precision and stability and can help avoid numerical errors. See https://github.com/pytorch/botorch/discussions/1444\n",
      "\n",
      "/Users/keisukeonoue/ws/constrained_BO/bo-env/lib/python3.12/site-packages/botorch/models/utils/assorted.py:257: InputDataWarning:\n",
      "\n",
      "Input data is not contained to the unit cube. Please consider min-max scaling the input data.\n",
      "\n",
      "/Users/keisukeonoue/ws/constrained_BO/bo-env/lib/python3.12/site-packages/botorch/models/utils/assorted.py:260: InputDataWarning:\n",
      "\n",
      "Data is not standardized (std = tensor([2.5253]), mean = tensor([11.3434])). Please consider scaling the input to zero mean and unit variance.\n",
      "\n",
      "/var/folders/_b/b62kq0490fn2ptq7m4mbp8yr0000gp/T/ipykernel_96749/3541269840.py:26: InputDataWarning:\n",
      "\n",
      "The model inputs are of type torch.float32. It is strongly recommended to use double precision in BoTorch, as this improves both precision and stability and can help avoid numerical errors. See https://github.com/pytorch/botorch/discussions/1444\n",
      "\n",
      "/Users/keisukeonoue/ws/constrained_BO/bo-env/lib/python3.12/site-packages/botorch/models/utils/assorted.py:257: InputDataWarning:\n",
      "\n",
      "Input data is not contained to the unit cube. Please consider min-max scaling the input data.\n",
      "\n",
      "/Users/keisukeonoue/ws/constrained_BO/bo-env/lib/python3.12/site-packages/botorch/models/utils/assorted.py:260: InputDataWarning:\n",
      "\n",
      "Data is not standardized (std = tensor([2.5092]), mean = tensor([11.3554])). Please consider scaling the input to zero mean and unit variance.\n",
      "\n",
      "/Users/keisukeonoue/ws/constrained_BO/bo-env/lib/python3.12/site-packages/botorch/optim/fit.py:102: OptimizationWarning:\n",
      "\n",
      "`scipy_minimize` terminated with status OptimizationStatus.FAILURE, displaying original message from `scipy.optimize.minimize`: ABNORMAL_TERMINATION_IN_LNSRCH\n",
      "\n",
      "/var/folders/_b/b62kq0490fn2ptq7m4mbp8yr0000gp/T/ipykernel_96749/3541269840.py:26: InputDataWarning:\n",
      "\n",
      "The model inputs are of type torch.float32. It is strongly recommended to use double precision in BoTorch, as this improves both precision and stability and can help avoid numerical errors. See https://github.com/pytorch/botorch/discussions/1444\n",
      "\n",
      "/Users/keisukeonoue/ws/constrained_BO/bo-env/lib/python3.12/site-packages/botorch/models/utils/assorted.py:257: InputDataWarning:\n",
      "\n",
      "Input data is not contained to the unit cube. Please consider min-max scaling the input data.\n",
      "\n",
      "/Users/keisukeonoue/ws/constrained_BO/bo-env/lib/python3.12/site-packages/botorch/models/utils/assorted.py:260: InputDataWarning:\n",
      "\n",
      "Data is not standardized (std = tensor([2.4934]), mean = tensor([11.3670])). Please consider scaling the input to zero mean and unit variance.\n",
      "\n"
     ]
    },
    {
     "name": "stdout",
     "output_type": "stream",
     "text": [
      "Iteration 70\n",
      "Best candidate: 0.9682888984680176\n",
      "Objective value at best candidate: 12.192944924283893\n",
      "\n",
      "Iteration 71\n",
      "Best candidate: 0.9684731364250183\n",
      "Objective value at best candidate: 12.194670795518938\n",
      "\n"
     ]
    },
    {
     "name": "stderr",
     "output_type": "stream",
     "text": [
      "/var/folders/_b/b62kq0490fn2ptq7m4mbp8yr0000gp/T/ipykernel_96749/3541269840.py:26: InputDataWarning:\n",
      "\n",
      "The model inputs are of type torch.float32. It is strongly recommended to use double precision in BoTorch, as this improves both precision and stability and can help avoid numerical errors. See https://github.com/pytorch/botorch/discussions/1444\n",
      "\n",
      "/Users/keisukeonoue/ws/constrained_BO/bo-env/lib/python3.12/site-packages/botorch/models/utils/assorted.py:257: InputDataWarning:\n",
      "\n",
      "Input data is not contained to the unit cube. Please consider min-max scaling the input data.\n",
      "\n",
      "/Users/keisukeonoue/ws/constrained_BO/bo-env/lib/python3.12/site-packages/botorch/models/utils/assorted.py:260: InputDataWarning:\n",
      "\n",
      "Data is not standardized (std = tensor([2.4780]), mean = tensor([11.3783])). Please consider scaling the input to zero mean and unit variance.\n",
      "\n",
      "/var/folders/_b/b62kq0490fn2ptq7m4mbp8yr0000gp/T/ipykernel_96749/3541269840.py:26: InputDataWarning:\n",
      "\n",
      "The model inputs are of type torch.float32. It is strongly recommended to use double precision in BoTorch, as this improves both precision and stability and can help avoid numerical errors. See https://github.com/pytorch/botorch/discussions/1444\n",
      "\n",
      "/Users/keisukeonoue/ws/constrained_BO/bo-env/lib/python3.12/site-packages/botorch/models/utils/assorted.py:257: InputDataWarning:\n",
      "\n",
      "Input data is not contained to the unit cube. Please consider min-max scaling the input data.\n",
      "\n",
      "/Users/keisukeonoue/ws/constrained_BO/bo-env/lib/python3.12/site-packages/botorch/models/utils/assorted.py:260: InputDataWarning:\n",
      "\n",
      "Data is not standardized (std = tensor([2.4628]), mean = tensor([11.3894])). Please consider scaling the input to zero mean and unit variance.\n",
      "\n"
     ]
    },
    {
     "name": "stdout",
     "output_type": "stream",
     "text": [
      "Iteration 72\n",
      "Best candidate: 0.9686276316642761\n",
      "Objective value at best candidate: 12.196118571592685\n",
      "\n",
      "Iteration 73\n",
      "Best candidate: 0.9688141345977783\n",
      "Objective value at best candidate: 12.197866927986638\n",
      "\n"
     ]
    },
    {
     "name": "stderr",
     "output_type": "stream",
     "text": [
      "/var/folders/_b/b62kq0490fn2ptq7m4mbp8yr0000gp/T/ipykernel_96749/3541269840.py:26: InputDataWarning:\n",
      "\n",
      "The model inputs are of type torch.float32. It is strongly recommended to use double precision in BoTorch, as this improves both precision and stability and can help avoid numerical errors. See https://github.com/pytorch/botorch/discussions/1444\n",
      "\n",
      "/Users/keisukeonoue/ws/constrained_BO/bo-env/lib/python3.12/site-packages/botorch/models/utils/assorted.py:257: InputDataWarning:\n",
      "\n",
      "Input data is not contained to the unit cube. Please consider min-max scaling the input data.\n",
      "\n",
      "/Users/keisukeonoue/ws/constrained_BO/bo-env/lib/python3.12/site-packages/botorch/models/utils/assorted.py:260: InputDataWarning:\n",
      "\n",
      "Data is not standardized (std = tensor([2.4479]), mean = tensor([11.4002])). Please consider scaling the input to zero mean and unit variance.\n",
      "\n",
      "/var/folders/_b/b62kq0490fn2ptq7m4mbp8yr0000gp/T/ipykernel_96749/3541269840.py:26: InputDataWarning:\n",
      "\n",
      "The model inputs are of type torch.float32. It is strongly recommended to use double precision in BoTorch, as this improves both precision and stability and can help avoid numerical errors. See https://github.com/pytorch/botorch/discussions/1444\n",
      "\n",
      "/Users/keisukeonoue/ws/constrained_BO/bo-env/lib/python3.12/site-packages/botorch/models/utils/assorted.py:257: InputDataWarning:\n",
      "\n",
      "Input data is not contained to the unit cube. Please consider min-max scaling the input data.\n",
      "\n",
      "/Users/keisukeonoue/ws/constrained_BO/bo-env/lib/python3.12/site-packages/botorch/models/utils/assorted.py:260: InputDataWarning:\n",
      "\n",
      "Data is not standardized (std = tensor([2.4332]), mean = tensor([11.4107])). Please consider scaling the input to zero mean and unit variance.\n",
      "\n"
     ]
    },
    {
     "name": "stdout",
     "output_type": "stream",
     "text": [
      "Iteration 74\n",
      "Best candidate: 0.969013512134552\n",
      "Objective value at best candidate: 12.199736745647876\n",
      "\n",
      "Iteration 75\n",
      "Best candidate: 0.9692021608352661\n",
      "Objective value at best candidate: 12.20150667732483\n",
      "\n"
     ]
    },
    {
     "name": "stderr",
     "output_type": "stream",
     "text": [
      "/var/folders/_b/b62kq0490fn2ptq7m4mbp8yr0000gp/T/ipykernel_96749/3541269840.py:26: InputDataWarning:\n",
      "\n",
      "The model inputs are of type torch.float32. It is strongly recommended to use double precision in BoTorch, as this improves both precision and stability and can help avoid numerical errors. See https://github.com/pytorch/botorch/discussions/1444\n",
      "\n",
      "/Users/keisukeonoue/ws/constrained_BO/bo-env/lib/python3.12/site-packages/botorch/models/utils/assorted.py:257: InputDataWarning:\n",
      "\n",
      "Input data is not contained to the unit cube. Please consider min-max scaling the input data.\n",
      "\n",
      "/Users/keisukeonoue/ws/constrained_BO/bo-env/lib/python3.12/site-packages/botorch/models/utils/assorted.py:260: InputDataWarning:\n",
      "\n",
      "Data is not standardized (std = tensor([2.4188]), mean = tensor([11.4209])). Please consider scaling the input to zero mean and unit variance.\n",
      "\n",
      "/var/folders/_b/b62kq0490fn2ptq7m4mbp8yr0000gp/T/ipykernel_96749/3541269840.py:26: InputDataWarning:\n",
      "\n",
      "The model inputs are of type torch.float32. It is strongly recommended to use double precision in BoTorch, as this improves both precision and stability and can help avoid numerical errors. See https://github.com/pytorch/botorch/discussions/1444\n",
      "\n",
      "/Users/keisukeonoue/ws/constrained_BO/bo-env/lib/python3.12/site-packages/botorch/models/utils/assorted.py:257: InputDataWarning:\n",
      "\n",
      "Input data is not contained to the unit cube. Please consider min-max scaling the input data.\n",
      "\n",
      "/Users/keisukeonoue/ws/constrained_BO/bo-env/lib/python3.12/site-packages/botorch/models/utils/assorted.py:260: InputDataWarning:\n",
      "\n",
      "Data is not standardized (std = tensor([2.4047]), mean = tensor([11.4310])). Please consider scaling the input to zero mean and unit variance.\n",
      "\n"
     ]
    },
    {
     "name": "stdout",
     "output_type": "stream",
     "text": [
      "Iteration 76\n",
      "Best candidate: 0.969366192817688\n",
      "Objective value at best candidate: 12.20304622960171\n",
      "\n"
     ]
    },
    {
     "name": "stderr",
     "output_type": "stream",
     "text": [
      "/Users/keisukeonoue/ws/constrained_BO/bo-env/lib/python3.12/site-packages/botorch/optim/fit.py:102: OptimizationWarning:\n",
      "\n",
      "`scipy_minimize` terminated with status OptimizationStatus.FAILURE, displaying original message from `scipy.optimize.minimize`: ABNORMAL_TERMINATION_IN_LNSRCH\n",
      "\n",
      "/Users/keisukeonoue/ws/constrained_BO/bo-env/lib/python3.12/site-packages/linear_operator/utils/cholesky.py:40: NumericalWarning:\n",
      "\n",
      "A not p.d., added jitter of 1.0e-06 to the diagonal\n",
      "\n",
      "/Users/keisukeonoue/ws/constrained_BO/bo-env/lib/python3.12/site-packages/linear_operator/utils/cholesky.py:40: NumericalWarning:\n",
      "\n",
      "A not p.d., added jitter of 1.0e-05 to the diagonal\n",
      "\n",
      "/Users/keisukeonoue/ws/constrained_BO/bo-env/lib/python3.12/site-packages/linear_operator/utils/cholesky.py:40: NumericalWarning:\n",
      "\n",
      "A not p.d., added jitter of 1.0e-04 to the diagonal\n",
      "\n",
      "/Users/keisukeonoue/ws/constrained_BO/bo-env/lib/python3.12/site-packages/linear_operator/utils/cholesky.py:40: NumericalWarning:\n",
      "\n",
      "A not p.d., added jitter of 1.0e-03 to the diagonal\n",
      "\n",
      "/var/folders/_b/b62kq0490fn2ptq7m4mbp8yr0000gp/T/ipykernel_96749/3541269840.py:26: InputDataWarning:\n",
      "\n",
      "The model inputs are of type torch.float32. It is strongly recommended to use double precision in BoTorch, as this improves both precision and stability and can help avoid numerical errors. See https://github.com/pytorch/botorch/discussions/1444\n",
      "\n",
      "/Users/keisukeonoue/ws/constrained_BO/bo-env/lib/python3.12/site-packages/botorch/models/utils/assorted.py:257: InputDataWarning:\n",
      "\n",
      "Input data is not contained to the unit cube. Please consider min-max scaling the input data.\n",
      "\n",
      "/Users/keisukeonoue/ws/constrained_BO/bo-env/lib/python3.12/site-packages/botorch/models/utils/assorted.py:260: InputDataWarning:\n",
      "\n",
      "Data is not standardized (std = tensor([2.3908]), mean = tensor([11.4408])). Please consider scaling the input to zero mean and unit variance.\n",
      "\n"
     ]
    },
    {
     "name": "stdout",
     "output_type": "stream",
     "text": [
      "Iteration 77\n",
      "Best candidate: 0.9695123434066772\n",
      "Objective value at best candidate: 12.204418406112296\n",
      "\n",
      "Iteration 78\n",
      "Best candidate: 0.9696630239486694\n",
      "Objective value at best candidate: 12.205833560646084\n",
      "\n"
     ]
    },
    {
     "name": "stderr",
     "output_type": "stream",
     "text": [
      "/var/folders/_b/b62kq0490fn2ptq7m4mbp8yr0000gp/T/ipykernel_96749/3541269840.py:26: InputDataWarning:\n",
      "\n",
      "The model inputs are of type torch.float32. It is strongly recommended to use double precision in BoTorch, as this improves both precision and stability and can help avoid numerical errors. See https://github.com/pytorch/botorch/discussions/1444\n",
      "\n",
      "/Users/keisukeonoue/ws/constrained_BO/bo-env/lib/python3.12/site-packages/botorch/models/utils/assorted.py:257: InputDataWarning:\n",
      "\n",
      "Input data is not contained to the unit cube. Please consider min-max scaling the input data.\n",
      "\n",
      "/Users/keisukeonoue/ws/constrained_BO/bo-env/lib/python3.12/site-packages/botorch/models/utils/assorted.py:260: InputDataWarning:\n",
      "\n",
      "Data is not standardized (std = tensor([2.3772]), mean = tensor([11.4503])). Please consider scaling the input to zero mean and unit variance.\n",
      "\n",
      "/var/folders/_b/b62kq0490fn2ptq7m4mbp8yr0000gp/T/ipykernel_96749/3541269840.py:26: InputDataWarning:\n",
      "\n",
      "The model inputs are of type torch.float32. It is strongly recommended to use double precision in BoTorch, as this improves both precision and stability and can help avoid numerical errors. See https://github.com/pytorch/botorch/discussions/1444\n",
      "\n",
      "/Users/keisukeonoue/ws/constrained_BO/bo-env/lib/python3.12/site-packages/botorch/models/utils/assorted.py:257: InputDataWarning:\n",
      "\n",
      "Input data is not contained to the unit cube. Please consider min-max scaling the input data.\n",
      "\n",
      "/Users/keisukeonoue/ws/constrained_BO/bo-env/lib/python3.12/site-packages/botorch/models/utils/assorted.py:260: InputDataWarning:\n",
      "\n",
      "Data is not standardized (std = tensor([2.3638]), mean = tensor([11.4597])). Please consider scaling the input to zero mean and unit variance.\n",
      "\n"
     ]
    },
    {
     "name": "stdout",
     "output_type": "stream",
     "text": [
      "Iteration 79\n",
      "Best candidate: 0.9698870778083801\n",
      "Objective value at best candidate: 12.207938658912987\n",
      "\n",
      "Iteration 80\n",
      "Best candidate: 0.9699535965919495\n",
      "Objective value at best candidate: 12.208563829497088\n",
      "\n"
     ]
    },
    {
     "name": "stderr",
     "output_type": "stream",
     "text": [
      "/var/folders/_b/b62kq0490fn2ptq7m4mbp8yr0000gp/T/ipykernel_96749/3541269840.py:26: InputDataWarning:\n",
      "\n",
      "The model inputs are of type torch.float32. It is strongly recommended to use double precision in BoTorch, as this improves both precision and stability and can help avoid numerical errors. See https://github.com/pytorch/botorch/discussions/1444\n",
      "\n",
      "/Users/keisukeonoue/ws/constrained_BO/bo-env/lib/python3.12/site-packages/botorch/models/utils/assorted.py:257: InputDataWarning:\n",
      "\n",
      "Input data is not contained to the unit cube. Please consider min-max scaling the input data.\n",
      "\n",
      "/Users/keisukeonoue/ws/constrained_BO/bo-env/lib/python3.12/site-packages/botorch/models/utils/assorted.py:260: InputDataWarning:\n",
      "\n",
      "Data is not standardized (std = tensor([2.3506]), mean = tensor([11.4688])). Please consider scaling the input to zero mean and unit variance.\n",
      "\n",
      "/var/folders/_b/b62kq0490fn2ptq7m4mbp8yr0000gp/T/ipykernel_96749/3541269840.py:26: InputDataWarning:\n",
      "\n",
      "The model inputs are of type torch.float32. It is strongly recommended to use double precision in BoTorch, as this improves both precision and stability and can help avoid numerical errors. See https://github.com/pytorch/botorch/discussions/1444\n",
      "\n",
      "/Users/keisukeonoue/ws/constrained_BO/bo-env/lib/python3.12/site-packages/botorch/models/utils/assorted.py:257: InputDataWarning:\n",
      "\n",
      "Input data is not contained to the unit cube. Please consider min-max scaling the input data.\n",
      "\n",
      "/Users/keisukeonoue/ws/constrained_BO/bo-env/lib/python3.12/site-packages/botorch/models/utils/assorted.py:260: InputDataWarning:\n",
      "\n",
      "Data is not standardized (std = tensor([2.3376]), mean = tensor([11.4777])). Please consider scaling the input to zero mean and unit variance.\n",
      "\n"
     ]
    },
    {
     "name": "stdout",
     "output_type": "stream",
     "text": [
      "Iteration 81\n",
      "Best candidate: 0.9701368808746338\n",
      "Objective value at best candidate: 12.210286867585296\n",
      "\n",
      "Iteration 82\n",
      "Best candidate: 0.9702321290969849\n",
      "Objective value at best candidate: 12.211182552350834\n",
      "\n"
     ]
    },
    {
     "name": "stderr",
     "output_type": "stream",
     "text": [
      "/var/folders/_b/b62kq0490fn2ptq7m4mbp8yr0000gp/T/ipykernel_96749/3541269840.py:26: InputDataWarning:\n",
      "\n",
      "The model inputs are of type torch.float32. It is strongly recommended to use double precision in BoTorch, as this improves both precision and stability and can help avoid numerical errors. See https://github.com/pytorch/botorch/discussions/1444\n",
      "\n",
      "/Users/keisukeonoue/ws/constrained_BO/bo-env/lib/python3.12/site-packages/botorch/models/utils/assorted.py:257: InputDataWarning:\n",
      "\n",
      "Input data is not contained to the unit cube. Please consider min-max scaling the input data.\n",
      "\n",
      "/Users/keisukeonoue/ws/constrained_BO/bo-env/lib/python3.12/site-packages/botorch/models/utils/assorted.py:260: InputDataWarning:\n",
      "\n",
      "Data is not standardized (std = tensor([2.3249]), mean = tensor([11.4865])). Please consider scaling the input to zero mean and unit variance.\n",
      "\n",
      "/var/folders/_b/b62kq0490fn2ptq7m4mbp8yr0000gp/T/ipykernel_96749/3541269840.py:26: InputDataWarning:\n",
      "\n",
      "The model inputs are of type torch.float32. It is strongly recommended to use double precision in BoTorch, as this improves both precision and stability and can help avoid numerical errors. See https://github.com/pytorch/botorch/discussions/1444\n",
      "\n",
      "/Users/keisukeonoue/ws/constrained_BO/bo-env/lib/python3.12/site-packages/botorch/models/utils/assorted.py:257: InputDataWarning:\n",
      "\n",
      "Input data is not contained to the unit cube. Please consider min-max scaling the input data.\n",
      "\n",
      "/Users/keisukeonoue/ws/constrained_BO/bo-env/lib/python3.12/site-packages/botorch/models/utils/assorted.py:260: InputDataWarning:\n",
      "\n",
      "Data is not standardized (std = tensor([2.3124]), mean = tensor([11.4950])). Please consider scaling the input to zero mean and unit variance.\n",
      "\n"
     ]
    },
    {
     "name": "stdout",
     "output_type": "stream",
     "text": [
      "Iteration 83\n",
      "Best candidate: 0.9703922867774963\n",
      "Objective value at best candidate: 12.212689034597624\n",
      "\n",
      "Iteration 84\n",
      "Best candidate: 0.970493495464325\n",
      "Objective value at best candidate: 12.213641292742388\n",
      "\n",
      "Iteration 85\n",
      "Best candidate: -0.8384692072868347\n",
      "Objective value at best candidate: 8.056907440715552\n",
      "\n"
     ]
    },
    {
     "name": "stderr",
     "output_type": "stream",
     "text": [
      "/var/folders/_b/b62kq0490fn2ptq7m4mbp8yr0000gp/T/ipykernel_96749/3541269840.py:26: InputDataWarning:\n",
      "\n",
      "The model inputs are of type torch.float32. It is strongly recommended to use double precision in BoTorch, as this improves both precision and stability and can help avoid numerical errors. See https://github.com/pytorch/botorch/discussions/1444\n",
      "\n",
      "/Users/keisukeonoue/ws/constrained_BO/bo-env/lib/python3.12/site-packages/botorch/models/utils/assorted.py:257: InputDataWarning:\n",
      "\n",
      "Input data is not contained to the unit cube. Please consider min-max scaling the input data.\n",
      "\n",
      "/Users/keisukeonoue/ws/constrained_BO/bo-env/lib/python3.12/site-packages/botorch/models/utils/assorted.py:260: InputDataWarning:\n",
      "\n",
      "Data is not standardized (std = tensor([2.3000]), mean = tensor([11.5034])). Please consider scaling the input to zero mean and unit variance.\n",
      "\n",
      "/var/folders/_b/b62kq0490fn2ptq7m4mbp8yr0000gp/T/ipykernel_96749/3541269840.py:26: InputDataWarning:\n",
      "\n",
      "The model inputs are of type torch.float32. It is strongly recommended to use double precision in BoTorch, as this improves both precision and stability and can help avoid numerical errors. See https://github.com/pytorch/botorch/discussions/1444\n",
      "\n",
      "/Users/keisukeonoue/ws/constrained_BO/bo-env/lib/python3.12/site-packages/botorch/models/utils/assorted.py:257: InputDataWarning:\n",
      "\n",
      "Input data is not contained to the unit cube. Please consider min-max scaling the input data.\n",
      "\n",
      "/Users/keisukeonoue/ws/constrained_BO/bo-env/lib/python3.12/site-packages/botorch/models/utils/assorted.py:260: InputDataWarning:\n",
      "\n",
      "Data is not standardized (std = tensor([2.3163]), mean = tensor([11.4638])). Please consider scaling the input to zero mean and unit variance.\n",
      "\n",
      "/var/folders/_b/b62kq0490fn2ptq7m4mbp8yr0000gp/T/ipykernel_96749/3541269840.py:26: InputDataWarning:\n",
      "\n",
      "The model inputs are of type torch.float32. It is strongly recommended to use double precision in BoTorch, as this improves both precision and stability and can help avoid numerical errors. See https://github.com/pytorch/botorch/discussions/1444\n",
      "\n",
      "/Users/keisukeonoue/ws/constrained_BO/bo-env/lib/python3.12/site-packages/botorch/models/utils/assorted.py:257: InputDataWarning:\n",
      "\n",
      "Input data is not contained to the unit cube. Please consider min-max scaling the input data.\n",
      "\n",
      "/Users/keisukeonoue/ws/constrained_BO/bo-env/lib/python3.12/site-packages/botorch/models/utils/assorted.py:260: InputDataWarning:\n",
      "\n",
      "Data is not standardized (std = tensor([2.3043]), mean = tensor([11.4724])). Please consider scaling the input to zero mean and unit variance.\n",
      "\n"
     ]
    },
    {
     "name": "stdout",
     "output_type": "stream",
     "text": [
      "Iteration 86\n",
      "Best candidate: 0.9712157249450684\n",
      "Objective value at best candidate: 12.220442594355063\n",
      "\n",
      "Iteration 87\n",
      "Best candidate: 0.9713205099105835\n",
      "Objective value at best candidate: 12.221430230623724\n",
      "\n",
      "Iteration 88\n",
      "Best candidate: 0.9714216589927673\n",
      "Objective value at best candidate: 12.22238380567493\n",
      "\n"
     ]
    },
    {
     "name": "stderr",
     "output_type": "stream",
     "text": [
      "/var/folders/_b/b62kq0490fn2ptq7m4mbp8yr0000gp/T/ipykernel_96749/3541269840.py:26: InputDataWarning:\n",
      "\n",
      "The model inputs are of type torch.float32. It is strongly recommended to use double precision in BoTorch, as this improves both precision and stability and can help avoid numerical errors. See https://github.com/pytorch/botorch/discussions/1444\n",
      "\n",
      "/Users/keisukeonoue/ws/constrained_BO/bo-env/lib/python3.12/site-packages/botorch/models/utils/assorted.py:257: InputDataWarning:\n",
      "\n",
      "Input data is not contained to the unit cube. Please consider min-max scaling the input data.\n",
      "\n",
      "/Users/keisukeonoue/ws/constrained_BO/bo-env/lib/python3.12/site-packages/botorch/models/utils/assorted.py:260: InputDataWarning:\n",
      "\n",
      "Data is not standardized (std = tensor([2.2926]), mean = tensor([11.4808])). Please consider scaling the input to zero mean and unit variance.\n",
      "\n",
      "/var/folders/_b/b62kq0490fn2ptq7m4mbp8yr0000gp/T/ipykernel_96749/3541269840.py:26: InputDataWarning:\n",
      "\n",
      "The model inputs are of type torch.float32. It is strongly recommended to use double precision in BoTorch, as this improves both precision and stability and can help avoid numerical errors. See https://github.com/pytorch/botorch/discussions/1444\n",
      "\n",
      "/Users/keisukeonoue/ws/constrained_BO/bo-env/lib/python3.12/site-packages/botorch/models/utils/assorted.py:257: InputDataWarning:\n",
      "\n",
      "Input data is not contained to the unit cube. Please consider min-max scaling the input data.\n",
      "\n",
      "/Users/keisukeonoue/ws/constrained_BO/bo-env/lib/python3.12/site-packages/botorch/models/utils/assorted.py:260: InputDataWarning:\n",
      "\n",
      "Data is not standardized (std = tensor([2.2810]), mean = tensor([11.4890])). Please consider scaling the input to zero mean and unit variance.\n",
      "\n",
      "/var/folders/_b/b62kq0490fn2ptq7m4mbp8yr0000gp/T/ipykernel_96749/3541269840.py:26: InputDataWarning:\n",
      "\n",
      "The model inputs are of type torch.float32. It is strongly recommended to use double precision in BoTorch, as this improves both precision and stability and can help avoid numerical errors. See https://github.com/pytorch/botorch/discussions/1444\n",
      "\n",
      "/Users/keisukeonoue/ws/constrained_BO/bo-env/lib/python3.12/site-packages/botorch/models/utils/assorted.py:257: InputDataWarning:\n",
      "\n",
      "Input data is not contained to the unit cube. Please consider min-max scaling the input data.\n",
      "\n",
      "/Users/keisukeonoue/ws/constrained_BO/bo-env/lib/python3.12/site-packages/botorch/models/utils/assorted.py:260: InputDataWarning:\n",
      "\n",
      "Data is not standardized (std = tensor([2.2696]), mean = tensor([11.4971])). Please consider scaling the input to zero mean and unit variance.\n",
      "\n"
     ]
    },
    {
     "name": "stdout",
     "output_type": "stream",
     "text": [
      "Iteration 89\n",
      "Best candidate: 0.9715353846549988\n",
      "Objective value at best candidate: 12.223456189817377\n",
      "\n",
      "Iteration 90\n",
      "Best candidate: 0.9716370105743408\n",
      "Objective value at best candidate: 12.224414697435009\n",
      "\n"
     ]
    },
    {
     "name": "stderr",
     "output_type": "stream",
     "text": [
      "/var/folders/_b/b62kq0490fn2ptq7m4mbp8yr0000gp/T/ipykernel_96749/3541269840.py:26: InputDataWarning:\n",
      "\n",
      "The model inputs are of type torch.float32. It is strongly recommended to use double precision in BoTorch, as this improves both precision and stability and can help avoid numerical errors. See https://github.com/pytorch/botorch/discussions/1444\n",
      "\n",
      "/Users/keisukeonoue/ws/constrained_BO/bo-env/lib/python3.12/site-packages/botorch/models/utils/assorted.py:257: InputDataWarning:\n",
      "\n",
      "Input data is not contained to the unit cube. Please consider min-max scaling the input data.\n",
      "\n",
      "/Users/keisukeonoue/ws/constrained_BO/bo-env/lib/python3.12/site-packages/botorch/models/utils/assorted.py:260: InputDataWarning:\n",
      "\n",
      "Data is not standardized (std = tensor([2.2584]), mean = tensor([11.5050])). Please consider scaling the input to zero mean and unit variance.\n",
      "\n",
      "/var/folders/_b/b62kq0490fn2ptq7m4mbp8yr0000gp/T/ipykernel_96749/3541269840.py:26: InputDataWarning:\n",
      "\n",
      "The model inputs are of type torch.float32. It is strongly recommended to use double precision in BoTorch, as this improves both precision and stability and can help avoid numerical errors. See https://github.com/pytorch/botorch/discussions/1444\n",
      "\n",
      "/Users/keisukeonoue/ws/constrained_BO/bo-env/lib/python3.12/site-packages/botorch/models/utils/assorted.py:257: InputDataWarning:\n",
      "\n",
      "Input data is not contained to the unit cube. Please consider min-max scaling the input data.\n",
      "\n",
      "/Users/keisukeonoue/ws/constrained_BO/bo-env/lib/python3.12/site-packages/botorch/models/utils/assorted.py:260: InputDataWarning:\n",
      "\n",
      "Data is not standardized (std = tensor([2.2473]), mean = tensor([11.5127])). Please consider scaling the input to zero mean and unit variance.\n",
      "\n"
     ]
    },
    {
     "name": "stdout",
     "output_type": "stream",
     "text": [
      "Iteration 91\n",
      "Best candidate: 0.9717255234718323\n",
      "Objective value at best candidate: 12.225249694947742\n",
      "\n",
      "Iteration 92\n",
      "Best candidate: 0.9718693494796753\n",
      "Objective value at best candidate: 12.22660682978372\n",
      "\n"
     ]
    },
    {
     "name": "stderr",
     "output_type": "stream",
     "text": [
      "/var/folders/_b/b62kq0490fn2ptq7m4mbp8yr0000gp/T/ipykernel_96749/3541269840.py:26: InputDataWarning:\n",
      "\n",
      "The model inputs are of type torch.float32. It is strongly recommended to use double precision in BoTorch, as this improves both precision and stability and can help avoid numerical errors. See https://github.com/pytorch/botorch/discussions/1444\n",
      "\n",
      "/Users/keisukeonoue/ws/constrained_BO/bo-env/lib/python3.12/site-packages/botorch/models/utils/assorted.py:257: InputDataWarning:\n",
      "\n",
      "Input data is not contained to the unit cube. Please consider min-max scaling the input data.\n",
      "\n",
      "/Users/keisukeonoue/ws/constrained_BO/bo-env/lib/python3.12/site-packages/botorch/models/utils/assorted.py:260: InputDataWarning:\n",
      "\n",
      "Data is not standardized (std = tensor([2.2364]), mean = tensor([11.5203])). Please consider scaling the input to zero mean and unit variance.\n",
      "\n"
     ]
    },
    {
     "name": "stdout",
     "output_type": "stream",
     "text": [
      "Iteration 93\n",
      "Best candidate: 0.971925675868988\n",
      "Objective value at best candidate: 12.227138435444012\n",
      "\n",
      "Iteration 94\n",
      "Best candidate: 0.9720348715782166\n",
      "Objective value at best candidate: 12.228169199858634\n",
      "\n"
     ]
    },
    {
     "name": "stderr",
     "output_type": "stream",
     "text": [
      "/var/folders/_b/b62kq0490fn2ptq7m4mbp8yr0000gp/T/ipykernel_96749/3541269840.py:26: InputDataWarning:\n",
      "\n",
      "The model inputs are of type torch.float32. It is strongly recommended to use double precision in BoTorch, as this improves both precision and stability and can help avoid numerical errors. See https://github.com/pytorch/botorch/discussions/1444\n",
      "\n",
      "/Users/keisukeonoue/ws/constrained_BO/bo-env/lib/python3.12/site-packages/botorch/models/utils/assorted.py:257: InputDataWarning:\n",
      "\n",
      "Input data is not contained to the unit cube. Please consider min-max scaling the input data.\n",
      "\n",
      "/Users/keisukeonoue/ws/constrained_BO/bo-env/lib/python3.12/site-packages/botorch/models/utils/assorted.py:260: InputDataWarning:\n",
      "\n",
      "Data is not standardized (std = tensor([2.2257]), mean = tensor([11.5278])). Please consider scaling the input to zero mean and unit variance.\n",
      "\n",
      "/var/folders/_b/b62kq0490fn2ptq7m4mbp8yr0000gp/T/ipykernel_96749/3541269840.py:26: InputDataWarning:\n",
      "\n",
      "The model inputs are of type torch.float32. It is strongly recommended to use double precision in BoTorch, as this improves both precision and stability and can help avoid numerical errors. See https://github.com/pytorch/botorch/discussions/1444\n",
      "\n",
      "/Users/keisukeonoue/ws/constrained_BO/bo-env/lib/python3.12/site-packages/botorch/models/utils/assorted.py:257: InputDataWarning:\n",
      "\n",
      "Input data is not contained to the unit cube. Please consider min-max scaling the input data.\n",
      "\n",
      "/Users/keisukeonoue/ws/constrained_BO/bo-env/lib/python3.12/site-packages/botorch/models/utils/assorted.py:260: InputDataWarning:\n",
      "\n",
      "Data is not standardized (std = tensor([2.2151]), mean = tensor([11.5351])). Please consider scaling the input to zero mean and unit variance.\n",
      "\n"
     ]
    },
    {
     "name": "stdout",
     "output_type": "stream",
     "text": [
      "Iteration 95\n",
      "Best candidate: 0.972144603729248\n",
      "Objective value at best candidate: 12.229205268306487\n",
      "\n",
      "Iteration 96\n",
      "Best candidate: 0.9722651839256287\n",
      "Objective value at best candidate: 12.230344039483079\n",
      "\n"
     ]
    },
    {
     "name": "stderr",
     "output_type": "stream",
     "text": [
      "/var/folders/_b/b62kq0490fn2ptq7m4mbp8yr0000gp/T/ipykernel_96749/3541269840.py:26: InputDataWarning:\n",
      "\n",
      "The model inputs are of type torch.float32. It is strongly recommended to use double precision in BoTorch, as this improves both precision and stability and can help avoid numerical errors. See https://github.com/pytorch/botorch/discussions/1444\n",
      "\n",
      "/Users/keisukeonoue/ws/constrained_BO/bo-env/lib/python3.12/site-packages/botorch/models/utils/assorted.py:257: InputDataWarning:\n",
      "\n",
      "Input data is not contained to the unit cube. Please consider min-max scaling the input data.\n",
      "\n",
      "/Users/keisukeonoue/ws/constrained_BO/bo-env/lib/python3.12/site-packages/botorch/models/utils/assorted.py:260: InputDataWarning:\n",
      "\n",
      "Data is not standardized (std = tensor([2.2046]), mean = tensor([11.5422])). Please consider scaling the input to zero mean and unit variance.\n",
      "\n",
      "/var/folders/_b/b62kq0490fn2ptq7m4mbp8yr0000gp/T/ipykernel_96749/3541269840.py:26: InputDataWarning:\n",
      "\n",
      "The model inputs are of type torch.float32. It is strongly recommended to use double precision in BoTorch, as this improves both precision and stability and can help avoid numerical errors. See https://github.com/pytorch/botorch/discussions/1444\n",
      "\n",
      "/Users/keisukeonoue/ws/constrained_BO/bo-env/lib/python3.12/site-packages/botorch/models/utils/assorted.py:257: InputDataWarning:\n",
      "\n",
      "Input data is not contained to the unit cube. Please consider min-max scaling the input data.\n",
      "\n",
      "/Users/keisukeonoue/ws/constrained_BO/bo-env/lib/python3.12/site-packages/botorch/models/utils/assorted.py:260: InputDataWarning:\n",
      "\n",
      "Data is not standardized (std = tensor([2.1943]), mean = tensor([11.5492])). Please consider scaling the input to zero mean and unit variance.\n",
      "\n"
     ]
    },
    {
     "name": "stdout",
     "output_type": "stream",
     "text": [
      "Iteration 97\n",
      "Best candidate: 0.9723414778709412\n",
      "Objective value at best candidate: 12.231064717173048\n",
      "\n",
      "Iteration 98\n",
      "Best candidate: 0.9723823666572571\n",
      "Objective value at best candidate: 12.231451003287113\n",
      "\n"
     ]
    },
    {
     "name": "stderr",
     "output_type": "stream",
     "text": [
      "/var/folders/_b/b62kq0490fn2ptq7m4mbp8yr0000gp/T/ipykernel_96749/3541269840.py:26: InputDataWarning:\n",
      "\n",
      "The model inputs are of type torch.float32. It is strongly recommended to use double precision in BoTorch, as this improves both precision and stability and can help avoid numerical errors. See https://github.com/pytorch/botorch/discussions/1444\n",
      "\n",
      "/Users/keisukeonoue/ws/constrained_BO/bo-env/lib/python3.12/site-packages/botorch/models/utils/assorted.py:257: InputDataWarning:\n",
      "\n",
      "Input data is not contained to the unit cube. Please consider min-max scaling the input data.\n",
      "\n",
      "/Users/keisukeonoue/ws/constrained_BO/bo-env/lib/python3.12/site-packages/botorch/models/utils/assorted.py:260: InputDataWarning:\n",
      "\n",
      "Data is not standardized (std = tensor([2.1842]), mean = tensor([11.5561])). Please consider scaling the input to zero mean and unit variance.\n",
      "\n",
      "/var/folders/_b/b62kq0490fn2ptq7m4mbp8yr0000gp/T/ipykernel_96749/3541269840.py:26: InputDataWarning:\n",
      "\n",
      "The model inputs are of type torch.float32. It is strongly recommended to use double precision in BoTorch, as this improves both precision and stability and can help avoid numerical errors. See https://github.com/pytorch/botorch/discussions/1444\n",
      "\n",
      "/Users/keisukeonoue/ws/constrained_BO/bo-env/lib/python3.12/site-packages/botorch/models/utils/assorted.py:257: InputDataWarning:\n",
      "\n",
      "Input data is not contained to the unit cube. Please consider min-max scaling the input data.\n",
      "\n",
      "/Users/keisukeonoue/ws/constrained_BO/bo-env/lib/python3.12/site-packages/botorch/models/utils/assorted.py:260: InputDataWarning:\n",
      "\n",
      "Data is not standardized (std = tensor([2.1742]), mean = tensor([11.5629])). Please consider scaling the input to zero mean and unit variance.\n",
      "\n"
     ]
    },
    {
     "name": "stdout",
     "output_type": "stream",
     "text": [
      "Iteration 99\n",
      "Best candidate: 0.9725046753883362\n",
      "Objective value at best candidate: 12.23260668263837\n",
      "\n"
     ]
    },
    {
     "name": "stderr",
     "output_type": "stream",
     "text": [
      "/var/folders/_b/b62kq0490fn2ptq7m4mbp8yr0000gp/T/ipykernel_96749/3541269840.py:26: InputDataWarning:\n",
      "\n",
      "The model inputs are of type torch.float32. It is strongly recommended to use double precision in BoTorch, as this improves both precision and stability and can help avoid numerical errors. See https://github.com/pytorch/botorch/discussions/1444\n",
      "\n",
      "/Users/keisukeonoue/ws/constrained_BO/bo-env/lib/python3.12/site-packages/botorch/models/utils/assorted.py:257: InputDataWarning:\n",
      "\n",
      "Input data is not contained to the unit cube. Please consider min-max scaling the input data.\n",
      "\n",
      "/Users/keisukeonoue/ws/constrained_BO/bo-env/lib/python3.12/site-packages/botorch/models/utils/assorted.py:260: InputDataWarning:\n",
      "\n",
      "Data is not standardized (std = tensor([2.1643]), mean = tensor([11.5695])). Please consider scaling the input to zero mean and unit variance.\n",
      "\n",
      "/Users/keisukeonoue/ws/constrained_BO/bo-env/lib/python3.12/site-packages/botorch/optim/fit.py:102: OptimizationWarning:\n",
      "\n",
      "`scipy_minimize` terminated with status OptimizationStatus.FAILURE, displaying original message from `scipy.optimize.minimize`: ABNORMAL_TERMINATION_IN_LNSRCH\n",
      "\n"
     ]
    },
    {
     "name": "stdout",
     "output_type": "stream",
     "text": [
      "Iteration 100\n",
      "Best candidate: -1.0\n",
      "Objective value at best candidate: 9.0\n",
      "\n"
     ]
    }
   ],
   "source": [
    "import torch\n",
    "from botorch.models import SingleTaskGP\n",
    "from botorch.fit import fit_gpytorch_mll\n",
    "from botorch.optim import optimize_acqf\n",
    "from botorch.acquisition import UpperConfidenceBound\n",
    "from gpytorch.mlls import ExactMarginalLogLikelihood\n",
    "\n",
    "# Define the test function\n",
    "def test_function(x):\n",
    "    if 0 <= x <= 1:\n",
    "        return 10 + 10 * (x - 0.5)**2  # High penalty within [0, 1]\n",
    "    else:\n",
    "        return (x - 2)**2  # Quadratic function with a minimum at x = 2\n",
    "\n",
    "# Convert test_function to a PyTorch tensor\n",
    "def objective(x):\n",
    "    return torch.tensor([test_function(xi.item()) for xi in x], dtype=torch.float32)\n",
    "\n",
    "# Initialize training data\n",
    "train_x = torch.tensor([[-0.1], [0.5]], dtype=torch.float32)\n",
    "train_y = objective(train_x).unsqueeze(-1)\n",
    "\n",
    "# Run optimization for 10 iterations\n",
    "for i in range(100):\n",
    "    # Define and fit the GP model\n",
    "    gp = SingleTaskGP(train_x, train_y)\n",
    "    mll = ExactMarginalLogLikelihood(gp.likelihood, gp)\n",
    "    fit_gpytorch_mll(mll)\n",
    "\n",
    "    # Define the acquisition function\n",
    "    UCB = UpperConfidenceBound(gp, beta=0.1)\n",
    "\n",
    "    # Optimize the acquisition function\n",
    "    bounds = torch.tensor([[-1.0], [3.0]], dtype=torch.float)\n",
    "    candidate, acq_value = optimize_acqf(\n",
    "        UCB, bounds=bounds, q=1, num_restarts=5, raw_samples=20,\n",
    "    )\n",
    "\n",
    "    # Evaluate the new candidate and add to the training data\n",
    "    new_y = objective(candidate).unsqueeze(-1)\n",
    "    train_x = torch.cat([train_x, candidate])\n",
    "    train_y = torch.cat([train_y, new_y])\n",
    "\n",
    "    # Print the best candidate found so far\n",
    "    print(f\"Iteration {i+1}\")\n",
    "    print(f\"Best candidate: {candidate.item()}\")\n",
    "    print(f\"Objective value at best candidate: {test_function(candidate.item())}\\n\")\n"
   ]
  },
  {
   "cell_type": "code",
   "execution_count": 22,
   "metadata": {},
   "outputs": [
    {
     "data": {
      "text/plain": [
       "tensor([2.2552])"
      ]
     },
     "execution_count": 22,
     "metadata": {},
     "output_type": "execute_result"
    }
   ],
   "source": [
    "train_x[train_y.argmin().item()]"
   ]
  },
  {
   "cell_type": "code",
   "execution_count": 16,
   "metadata": {},
   "outputs": [
    {
     "data": {
      "text/plain": [
       "tensor(8)"
      ]
     },
     "execution_count": 16,
     "metadata": {},
     "output_type": "execute_result"
    }
   ],
   "source": []
  },
  {
   "cell_type": "code",
   "execution_count": 26,
   "metadata": {},
   "outputs": [
    {
     "name": "stderr",
     "output_type": "stream",
     "text": [
      "/Users/keisukeonoue/ws/constrained_BO/bo-env/lib/python3.12/site-packages/botorch/models/utils/assorted.py:260: InputDataWarning:\n",
      "\n",
      "Data is not standardized (std = tensor([4.7302], dtype=torch.float64), mean = tensor([-9.], dtype=torch.float64)). Please consider scaling the input to zero mean and unit variance.\n",
      "\n",
      "/Users/keisukeonoue/ws/constrained_BO/bo-env/lib/python3.12/site-packages/botorch/models/utils/assorted.py:260: InputDataWarning:\n",
      "\n",
      "Data is not standardized (std = tensor([5.3448], dtype=torch.float64), mean = tensor([-7.6667], dtype=torch.float64)). Please consider scaling the input to zero mean and unit variance.\n",
      "\n",
      "/Users/keisukeonoue/ws/constrained_BO/bo-env/lib/python3.12/site-packages/botorch/models/utils/assorted.py:260: InputDataWarning:\n",
      "\n",
      "Data is not standardized (std = tensor([5.4913], dtype=torch.float64), mean = tensor([-6.7143], dtype=torch.float64)). Please consider scaling the input to zero mean and unit variance.\n",
      "\n",
      "/Users/keisukeonoue/ws/constrained_BO/bo-env/lib/python3.12/site-packages/botorch/models/utils/assorted.py:260: InputDataWarning:\n",
      "\n",
      "Data is not standardized (std = tensor([5.4707], dtype=torch.float64), mean = tensor([-6.], dtype=torch.float64)). Please consider scaling the input to zero mean and unit variance.\n",
      "\n",
      "/Users/keisukeonoue/ws/constrained_BO/bo-env/lib/python3.12/site-packages/botorch/models/utils/assorted.py:260: InputDataWarning:\n",
      "\n",
      "Data is not standardized (std = tensor([5.3819], dtype=torch.float64), mean = tensor([-5.4444], dtype=torch.float64)). Please consider scaling the input to zero mean and unit variance.\n",
      "\n",
      "/Users/keisukeonoue/ws/constrained_BO/bo-env/lib/python3.12/site-packages/botorch/models/utils/assorted.py:260: InputDataWarning:\n",
      "\n",
      "Data is not standardized (std = tensor([5.2652], dtype=torch.float64), mean = tensor([-5.], dtype=torch.float64)). Please consider scaling the input to zero mean and unit variance.\n",
      "\n"
     ]
    },
    {
     "name": "stdout",
     "output_type": "stream",
     "text": [
      "Iteration 1\n",
      "Best candidate: 3.0\n",
      "Objective value at best candidate: 1.0\n",
      "\n",
      "Iteration 2\n",
      "Best candidate: 3.0\n",
      "Objective value at best candidate: 1.0\n",
      "\n",
      "Iteration 3\n",
      "Best candidate: 3.0\n",
      "Objective value at best candidate: 1.0\n",
      "\n",
      "Iteration 4\n",
      "Best candidate: 3.0\n",
      "Objective value at best candidate: 1.0\n",
      "\n",
      "Iteration 5\n",
      "Best candidate: 3.0\n",
      "Objective value at best candidate: 1.0\n",
      "\n",
      "Iteration 6\n",
      "Best candidate: 3.0\n",
      "Objective value at best candidate: 1.0\n",
      "\n",
      "Iteration 7\n",
      "Best candidate: 3.0\n",
      "Objective value at best candidate: 1.0\n",
      "\n",
      "Iteration 8\n",
      "Best candidate: 3.0\n",
      "Objective value at best candidate: 1.0\n",
      "\n",
      "Iteration 9\n",
      "Best candidate: 2.9328712050063728\n",
      "Objective value at best candidate: 0.8702486851300419\n",
      "\n",
      "Iteration 10\n",
      "Best candidate: 2.8702769208548724\n",
      "Objective value at best candidate: 0.7573819189726378\n",
      "\n",
      "\n",
      "\n",
      "\n",
      "\n",
      "\n",
      "\n",
      "\n",
      "\n",
      "\n",
      "\n",
      "\n",
      "helloooooooo\n",
      "tensor([0.], dtype=torch.float64)\n"
     ]
    },
    {
     "name": "stderr",
     "output_type": "stream",
     "text": [
      "/Users/keisukeonoue/ws/constrained_BO/bo-env/lib/python3.12/site-packages/botorch/models/utils/assorted.py:260: InputDataWarning:\n",
      "\n",
      "Data is not standardized (std = tensor([5.1385], dtype=torch.float64), mean = tensor([-4.6364], dtype=torch.float64)). Please consider scaling the input to zero mean and unit variance.\n",
      "\n",
      "/Users/keisukeonoue/ws/constrained_BO/bo-env/lib/python3.12/site-packages/botorch/models/utils/assorted.py:260: InputDataWarning:\n",
      "\n",
      "Data is not standardized (std = tensor([5.0106], dtype=torch.float64), mean = tensor([-4.3333], dtype=torch.float64)). Please consider scaling the input to zero mean and unit variance.\n",
      "\n",
      "/Users/keisukeonoue/ws/constrained_BO/bo-env/lib/python3.12/site-packages/botorch/models/utils/assorted.py:260: InputDataWarning:\n",
      "\n",
      "Data is not standardized (std = tensor([4.8855], dtype=torch.float64), mean = tensor([-4.0769], dtype=torch.float64)). Please consider scaling the input to zero mean and unit variance.\n",
      "\n",
      "/Users/keisukeonoue/ws/constrained_BO/bo-env/lib/python3.12/site-packages/botorch/models/utils/assorted.py:260: InputDataWarning:\n",
      "\n",
      "Data is not standardized (std = tensor([4.7715], dtype=torch.float64), mean = tensor([-3.8479], dtype=torch.float64)). Please consider scaling the input to zero mean and unit variance.\n",
      "\n"
     ]
    }
   ],
   "source": [
    "import torch\n",
    "from botorch.models import SingleTaskGP\n",
    "from botorch.fit import fit_gpytorch_mll\n",
    "from botorch.optim import optimize_acqf\n",
    "from botorch.acquisition import UpperConfidenceBound\n",
    "from gpytorch.mlls import ExactMarginalLogLikelihood\n",
    "from sklearn.preprocessing import MinMaxScaler\n",
    "\n",
    "# Define the test function\n",
    "def test_function(x):\n",
    "    if 0 <= x <= 1:\n",
    "        return -(10 + 10 * (x - 0.5)**2)  # High reward within [0, 1]\n",
    "    else:\n",
    "        return -(x - 2)**2  # Quadratic function with a maximum at x = 2\n",
    "\n",
    "# Convert test_function to a PyTorch tensor\n",
    "def objective(x):\n",
    "    return torch.tensor([test_function(xi.item()) for xi in x], dtype=torch.float64)\n",
    "\n",
    "# Initialize training data\n",
    "train_x = torch.tensor([[-1.0], [0.0], [0.5], [1.0], [3.0]], dtype=torch.float64)\n",
    "train_y = objective(train_x).unsqueeze(-1)\n",
    "\n",
    "# Normalize the input data\n",
    "scaler = MinMaxScaler()\n",
    "train_x_normalized = torch.tensor(scaler.fit_transform(train_x), dtype=torch.float64)\n",
    "\n",
    "# Run optimization for 10 iterations\n",
    "for i in range(10):\n",
    "    # Define and fit the GP model\n",
    "    gp = SingleTaskGP(train_x_normalized, train_y)\n",
    "    mll = ExactMarginalLogLikelihood(gp.likelihood, gp)\n",
    "    fit_gpytorch_mll(mll)\n",
    "\n",
    "    # Define the acquisition function (UCB) which will be maximized to minimize the negative objective\n",
    "    UCB = UpperConfidenceBound(gp, beta=0.1)\n",
    "\n",
    "    # Optimize the acquisition function\n",
    "    bounds = torch.tensor([[0.0], [1.0]], dtype=torch.float64)\n",
    "    candidate_normalized, acq_value = optimize_acqf(\n",
    "        UCB, bounds=bounds, q=1, num_restarts=5, raw_samples=20,\n",
    "    )\n",
    "\n",
    "    # Denormalize the candidate\n",
    "    candidate = torch.tensor(scaler.inverse_transform(candidate_normalized), dtype=torch.float64)\n",
    "\n",
    "    # Evaluate the new candidate and add to the training data\n",
    "    new_y = objective(candidate).unsqueeze(-1)\n",
    "    train_x = torch.cat([train_x, candidate])\n",
    "    train_y = torch.cat([train_y, new_y])\n",
    "\n",
    "    # Normalize the input data again\n",
    "    train_x_normalized = torch.tensor(scaler.fit_transform(train_x), dtype=torch.float64)\n",
    "\n",
    "    # Print the best candidate found so far (remember to invert the sign back)\n",
    "    print(f\"Iteration {i+1}\")\n",
    "    print(f\"Best candidate: {candidate.item()}\")\n",
    "    print(f\"Objective value at best candidate: {-test_function(candidate.item())}\\n\")\n",
    "\n",
    "\n",
    "print()\n",
    "print()\n",
    "print()\n",
    "print()\n",
    "print()\n",
    "print()\n",
    "print()\n",
    "print()\n",
    "print()\n",
    "print()\n",
    "print()\n",
    "print(\"helloooooooo\")\n",
    "print(train_x[train_y.argmin().item()])"
   ]
  },
  {
   "cell_type": "code",
   "execution_count": 47,
   "metadata": {},
   "outputs": [
    {
     "name": "stderr",
     "output_type": "stream",
     "text": [
      "/Users/keisukeonoue/ws/constrained_BO/bo-env/lib/python3.12/site-packages/botorch/models/utils/assorted.py:260: InputDataWarning:\n",
      "\n",
      "Data is not standardized (std = tensor([5.6036], dtype=torch.float64), mean = tensor([7.5000], dtype=torch.float64)). Please consider scaling the input to zero mean and unit variance.\n",
      "\n",
      "/Users/keisukeonoue/ws/constrained_BO/bo-env/lib/python3.12/site-packages/botorch/models/utils/assorted.py:257: InputDataWarning:\n",
      "\n",
      "Input data is not contained to the unit cube. Please consider min-max scaling the input data.\n",
      "\n",
      "/Users/keisukeonoue/ws/constrained_BO/bo-env/lib/python3.12/site-packages/botorch/models/utils/assorted.py:260: InputDataWarning:\n",
      "\n",
      "Data is not standardized (std = tensor([5.2333], dtype=torch.float64), mean = tensor([7.9176], dtype=torch.float64)). Please consider scaling the input to zero mean and unit variance.\n",
      "\n",
      "/Users/keisukeonoue/ws/constrained_BO/bo-env/lib/python3.12/site-packages/botorch/models/utils/assorted.py:260: InputDataWarning:\n",
      "\n",
      "Data is not standardized (std = tensor([4.9110], dtype=torch.float64), mean = tensor([7.6340], dtype=torch.float64)). Please consider scaling the input to zero mean and unit variance.\n",
      "\n",
      "/Users/keisukeonoue/ws/constrained_BO/bo-env/lib/python3.12/site-packages/botorch/models/utils/assorted.py:257: InputDataWarning:\n",
      "\n",
      "Input data is not contained to the unit cube. Please consider min-max scaling the input data.\n",
      "\n",
      "/Users/keisukeonoue/ws/constrained_BO/bo-env/lib/python3.12/site-packages/botorch/models/utils/assorted.py:260: InputDataWarning:\n",
      "\n",
      "Data is not standardized (std = tensor([4.6704], dtype=torch.float64), mean = tensor([7.9148], dtype=torch.float64)). Please consider scaling the input to zero mean and unit variance.\n",
      "\n",
      "/Users/keisukeonoue/ws/constrained_BO/bo-env/lib/python3.12/site-packages/botorch/models/utils/assorted.py:260: InputDataWarning:\n",
      "\n",
      "Data is not standardized (std = tensor([4.9708], dtype=torch.float64), mean = tensor([7.1854], dtype=torch.float64)). Please consider scaling the input to zero mean and unit variance.\n",
      "\n"
     ]
    },
    {
     "name": "stdout",
     "output_type": "stream",
     "text": [
      "Iteration 1\n",
      "Best candidate: 0.29433065100868216\n",
      "Objective value at best candidate: -10.422998811145124\n",
      "\n",
      "Iteration 2\n",
      "Best candidate: -0.3767260425284853\n",
      "Objective value at best candidate: -5.648826681233115\n",
      "\n",
      "Iteration 3\n",
      "Best candidate: 0.37301019040733996\n",
      "Objective value at best candidate: -10.1612641174038\n",
      "\n",
      "Iteration 4\n",
      "Best candidate: 1.2119055557336624\n",
      "Objective value at best candidate: -0.6210928530834674\n",
      "\n",
      "Iteration 5\n",
      "Best candidate: 0.2908516845409481\n",
      "Objective value at best candidate: -10.43743017859359\n",
      "\n",
      "Iteration 6\n",
      "Best candidate: -0.2290501480170043\n",
      "Objective value at best candidate: -4.968664562374629\n",
      "\n"
     ]
    },
    {
     "name": "stderr",
     "output_type": "stream",
     "text": [
      "/Users/keisukeonoue/ws/constrained_BO/bo-env/lib/python3.12/site-packages/botorch/models/utils/assorted.py:257: InputDataWarning:\n",
      "\n",
      "Input data is not contained to the unit cube. Please consider min-max scaling the input data.\n",
      "\n",
      "/Users/keisukeonoue/ws/constrained_BO/bo-env/lib/python3.12/site-packages/botorch/models/utils/assorted.py:260: InputDataWarning:\n",
      "\n",
      "Data is not standardized (std = tensor([4.8166], dtype=torch.float64), mean = tensor([7.4811], dtype=torch.float64)). Please consider scaling the input to zero mean and unit variance.\n",
      "\n",
      "/Users/keisukeonoue/ws/constrained_BO/bo-env/lib/python3.12/site-packages/botorch/models/utils/assorted.py:260: InputDataWarning:\n",
      "\n",
      "Data is not standardized (std = tensor([4.6494], dtype=torch.float64), mean = tensor([7.2717], dtype=torch.float64)). Please consider scaling the input to zero mean and unit variance.\n",
      "\n",
      "/Users/keisukeonoue/ws/constrained_BO/bo-env/lib/python3.12/site-packages/botorch/models/utils/assorted.py:257: InputDataWarning:\n",
      "\n",
      "Input data is not contained to the unit cube. Please consider min-max scaling the input data.\n",
      "\n",
      "/Users/keisukeonoue/ws/constrained_BO/bo-env/lib/python3.12/site-packages/botorch/models/utils/assorted.py:260: InputDataWarning:\n",
      "\n",
      "Data is not standardized (std = tensor([4.5289], dtype=torch.float64), mean = tensor([7.5030], dtype=torch.float64)). Please consider scaling the input to zero mean and unit variance.\n",
      "\n",
      "/Users/keisukeonoue/ws/constrained_BO/bo-env/lib/python3.12/site-packages/botorch/models/utils/assorted.py:260: InputDataWarning:\n",
      "\n",
      "Data is not standardized (std = tensor([4.4041], dtype=torch.float64), mean = tensor([7.6849], dtype=torch.float64)). Please consider scaling the input to zero mean and unit variance.\n",
      "\n",
      "/Users/keisukeonoue/ws/constrained_BO/bo-env/lib/python3.12/site-packages/botorch/models/utils/assorted.py:257: InputDataWarning:\n",
      "\n",
      "Input data is not contained to the unit cube. Please consider min-max scaling the input data.\n",
      "\n",
      "/Users/keisukeonoue/ws/constrained_BO/bo-env/lib/python3.12/site-packages/botorch/models/utils/assorted.py:260: InputDataWarning:\n",
      "\n",
      "Data is not standardized (std = tensor([4.2951], dtype=torch.float64), mean = tensor([7.8556], dtype=torch.float64)). Please consider scaling the input to zero mean and unit variance.\n",
      "\n",
      "/Users/keisukeonoue/ws/constrained_BO/bo-env/lib/python3.12/site-packages/botorch/models/utils/assorted.py:260: InputDataWarning:\n",
      "\n",
      "Data is not standardized (std = tensor([4.1847], dtype=torch.float64), mean = tensor([7.9910], dtype=torch.float64)). Please consider scaling the input to zero mean and unit variance.\n",
      "\n"
     ]
    },
    {
     "name": "stdout",
     "output_type": "stream",
     "text": [
      "Iteration 7\n",
      "Best candidate: 0.3330689222174944\n",
      "Objective value at best candidate: -10.27865984729629\n",
      "\n",
      "Iteration 8\n",
      "Best candidate: 0.42907062914328575\n",
      "Objective value at best candidate: -10.050309756501292\n",
      "\n",
      "Iteration 9\n",
      "Best candidate: 0.3434290201247728\n",
      "Objective value at best candidate: -10.245144717390888\n",
      "\n",
      "Iteration 10\n",
      "Best candidate: 0.5462961407734168\n",
      "Objective value at best candidate: -10.02143332650512\n",
      "\n",
      "Iteration 11\n",
      "Best candidate: 0.3487206941668922\n",
      "Objective value at best candidate: -10.228854283733469\n",
      "\n",
      "Iteration 12\n",
      "Best candidate: 0.6116872268028566\n",
      "Objective value at best candidate: -10.124740366309128\n",
      "\n",
      "Iteration 13\n",
      "Best candidate: 0.35309310432195545\n",
      "Objective value at best candidate: -10.215816359977598\n",
      "\n"
     ]
    },
    {
     "name": "stderr",
     "output_type": "stream",
     "text": [
      "/Users/keisukeonoue/ws/constrained_BO/bo-env/lib/python3.12/site-packages/botorch/models/utils/assorted.py:257: InputDataWarning:\n",
      "\n",
      "Input data is not contained to the unit cube. Please consider min-max scaling the input data.\n",
      "\n",
      "/Users/keisukeonoue/ws/constrained_BO/bo-env/lib/python3.12/site-packages/botorch/models/utils/assorted.py:260: InputDataWarning:\n",
      "\n",
      "Data is not standardized (std = tensor([4.0880], dtype=torch.float64), mean = tensor([8.1226], dtype=torch.float64)). Please consider scaling the input to zero mean and unit variance.\n",
      "\n",
      "/Users/keisukeonoue/ws/constrained_BO/bo-env/lib/python3.12/site-packages/botorch/models/utils/assorted.py:260: InputDataWarning:\n",
      "\n",
      "Data is not standardized (std = tensor([3.9939], dtype=torch.float64), mean = tensor([8.2339], dtype=torch.float64)). Please consider scaling the input to zero mean and unit variance.\n",
      "\n",
      "/Users/keisukeonoue/ws/constrained_BO/bo-env/lib/python3.12/site-packages/botorch/models/utils/assorted.py:257: InputDataWarning:\n",
      "\n",
      "Input data is not contained to the unit cube. Please consider min-max scaling the input data.\n",
      "\n",
      "/Users/keisukeonoue/ws/constrained_BO/bo-env/lib/python3.12/site-packages/botorch/models/utils/assorted.py:260: InputDataWarning:\n",
      "\n",
      "Data is not standardized (std = tensor([3.9079], dtype=torch.float64), mean = tensor([8.3382], dtype=torch.float64)). Please consider scaling the input to zero mean and unit variance.\n",
      "\n",
      "/Users/keisukeonoue/ws/constrained_BO/bo-env/lib/python3.12/site-packages/botorch/models/utils/assorted.py:260: InputDataWarning:\n",
      "\n",
      "Data is not standardized (std = tensor([3.8291], dtype=torch.float64), mean = tensor([8.4367], dtype=torch.float64)). Please consider scaling the input to zero mean and unit variance.\n",
      "\n",
      "/Users/keisukeonoue/ws/constrained_BO/bo-env/lib/python3.12/site-packages/botorch/models/utils/assorted.py:257: InputDataWarning:\n",
      "\n",
      "Input data is not contained to the unit cube. Please consider min-max scaling the input data.\n",
      "\n",
      "/Users/keisukeonoue/ws/constrained_BO/bo-env/lib/python3.12/site-packages/botorch/models/utils/assorted.py:260: InputDataWarning:\n",
      "\n",
      "Data is not standardized (std = tensor([3.7519], dtype=torch.float64), mean = tensor([8.5205], dtype=torch.float64)). Please consider scaling the input to zero mean and unit variance.\n",
      "\n",
      "/Users/keisukeonoue/ws/constrained_BO/bo-env/lib/python3.12/site-packages/botorch/models/utils/assorted.py:260: InputDataWarning:\n",
      "\n",
      "Data is not standardized (std = tensor([3.6956], dtype=torch.float64), mean = tensor([8.6273], dtype=torch.float64)). Please consider scaling the input to zero mean and unit variance.\n",
      "\n"
     ]
    },
    {
     "name": "stdout",
     "output_type": "stream",
     "text": [
      "Iteration 14\n",
      "Best candidate: 0.6757003373928905\n",
      "Objective value at best candidate: -10.308706085599756\n",
      "\n",
      "Iteration 15\n",
      "Best candidate: 0.35976368094755584\n",
      "Objective value at best candidate: -10.19666225181379\n",
      "\n",
      "Iteration 16\n",
      "Best candidate: 0.7951327300636257\n",
      "Objective value at best candidate: -10.87103328354809\n",
      "\n",
      "Iteration 17\n",
      "Best candidate: 0.2665424020396995\n",
      "Objective value at best candidate: -10.545024500453934\n",
      "\n",
      "Iteration 18\n",
      "Best candidate: 2.7842108552625247\n",
      "Objective value at best candidate: -0.6149866655115804\n",
      "\n"
     ]
    },
    {
     "name": "stderr",
     "output_type": "stream",
     "text": [
      "/Users/keisukeonoue/ws/constrained_BO/bo-env/lib/python3.12/site-packages/botorch/models/utils/assorted.py:257: InputDataWarning:\n",
      "\n",
      "Input data is not contained to the unit cube. Please consider min-max scaling the input data.\n",
      "\n",
      "/Users/keisukeonoue/ws/constrained_BO/bo-env/lib/python3.12/site-packages/botorch/models/utils/assorted.py:260: InputDataWarning:\n",
      "\n",
      "Data is not standardized (std = tensor([3.6327], dtype=torch.float64), mean = tensor([8.7107], dtype=torch.float64)). Please consider scaling the input to zero mean and unit variance.\n",
      "\n",
      "/Users/keisukeonoue/ws/constrained_BO/bo-env/lib/python3.12/site-packages/botorch/models/utils/assorted.py:260: InputDataWarning:\n",
      "\n",
      "Data is not standardized (std = tensor([3.9184], dtype=torch.float64), mean = tensor([8.3734], dtype=torch.float64)). Please consider scaling the input to zero mean and unit variance.\n",
      "\n",
      "/Users/keisukeonoue/ws/constrained_BO/bo-env/lib/python3.12/site-packages/botorch/models/utils/assorted.py:257: InputDataWarning:\n",
      "\n",
      "Input data is not contained to the unit cube. Please consider min-max scaling the input data.\n",
      "\n",
      "/Users/keisukeonoue/ws/constrained_BO/bo-env/lib/python3.12/site-packages/botorch/models/utils/assorted.py:260: InputDataWarning:\n",
      "\n",
      "Data is not standardized (std = tensor([3.9066], dtype=torch.float64), mean = tensor([8.5214], dtype=torch.float64)). Please consider scaling the input to zero mean and unit variance.\n",
      "\n",
      "/Users/keisukeonoue/ws/constrained_BO/bo-env/lib/python3.12/site-packages/botorch/models/utils/assorted.py:260: InputDataWarning:\n",
      "\n",
      "Data is not standardized (std = tensor([4.1302], dtype=torch.float64), mean = tensor([8.2171], dtype=torch.float64)). Please consider scaling the input to zero mean and unit variance.\n",
      "\n"
     ]
    },
    {
     "name": "stdout",
     "output_type": "stream",
     "text": [
      "Iteration 19\n",
      "Best candidate: 0.04462861628275171\n",
      "Objective value at best candidate: -12.073630971085613\n",
      "\n",
      "Iteration 20\n",
      "Best candidate: 2.7808098226833433\n",
      "Objective value at best candidate: -0.609663979198794\n",
      "\n",
      "Iteration 21\n",
      "Best candidate: 0.4863448673134783\n",
      "Objective value at best candidate: -10.001864626486865\n",
      "\n",
      "Iteration 22\n",
      "Best candidate: 2.7824111509727016\n",
      "Objective value at best candidate: -0.6121672091664278\n",
      "\n"
     ]
    },
    {
     "name": "stderr",
     "output_type": "stream",
     "text": [
      "/Users/keisukeonoue/ws/constrained_BO/bo-env/lib/python3.12/site-packages/botorch/models/utils/assorted.py:257: InputDataWarning:\n",
      "\n",
      "Input data is not contained to the unit cube. Please consider min-max scaling the input data.\n",
      "\n",
      "/Users/keisukeonoue/ws/constrained_BO/bo-env/lib/python3.12/site-packages/botorch/models/utils/assorted.py:260: InputDataWarning:\n",
      "\n",
      "Data is not standardized (std = tensor([4.0645], dtype=torch.float64), mean = tensor([8.2832], dtype=torch.float64)). Please consider scaling the input to zero mean and unit variance.\n",
      "\n",
      "/Users/keisukeonoue/ws/constrained_BO/bo-env/lib/python3.12/site-packages/botorch/models/utils/assorted.py:260: InputDataWarning:\n",
      "\n",
      "Data is not standardized (std = tensor([4.2438], dtype=torch.float64), mean = tensor([8.0092], dtype=torch.float64)). Please consider scaling the input to zero mean and unit variance.\n",
      "\n",
      "/Users/keisukeonoue/ws/constrained_BO/bo-env/lib/python3.12/site-packages/botorch/models/utils/assorted.py:257: InputDataWarning:\n",
      "\n",
      "Input data is not contained to the unit cube. Please consider min-max scaling the input data.\n",
      "\n",
      "/Users/keisukeonoue/ws/constrained_BO/bo-env/lib/python3.12/site-packages/botorch/models/utils/assorted.py:260: InputDataWarning:\n",
      "\n",
      "Data is not standardized (std = tensor([4.1838], dtype=torch.float64), mean = tensor([8.0780], dtype=torch.float64)). Please consider scaling the input to zero mean and unit variance.\n",
      "\n",
      "/Users/keisukeonoue/ws/constrained_BO/bo-env/lib/python3.12/site-packages/botorch/models/utils/assorted.py:260: InputDataWarning:\n",
      "\n",
      "Data is not standardized (std = tensor([4.3311], dtype=torch.float64), mean = tensor([7.8291], dtype=torch.float64)). Please consider scaling the input to zero mean and unit variance.\n",
      "\n"
     ]
    },
    {
     "name": "stdout",
     "output_type": "stream",
     "text": [
      "Iteration 23\n",
      "Best candidate: 0.48640071751435615\n",
      "Objective value at best candidate: -10.001849404841243\n",
      "\n",
      "Iteration 24\n",
      "Best candidate: 2.782468077000075\n",
      "Objective value at best candidate: -0.6122562915241951\n",
      "\n",
      "Iteration 25\n",
      "Best candidate: 0.4864042806397861\n",
      "Objective value at best candidate: -10.001848435849217\n",
      "\n"
     ]
    },
    {
     "name": "stderr",
     "output_type": "stream",
     "text": [
      "/Users/keisukeonoue/ws/constrained_BO/bo-env/lib/python3.12/site-packages/botorch/models/utils/assorted.py:257: InputDataWarning:\n",
      "\n",
      "Input data is not contained to the unit cube. Please consider min-max scaling the input data.\n",
      "\n",
      "/Users/keisukeonoue/ws/constrained_BO/bo-env/lib/python3.12/site-packages/botorch/models/utils/assorted.py:260: InputDataWarning:\n",
      "\n",
      "Data is not standardized (std = tensor([4.2761], dtype=torch.float64), mean = tensor([7.8992], dtype=torch.float64)). Please consider scaling the input to zero mean and unit variance.\n",
      "\n",
      "/Users/keisukeonoue/ws/constrained_BO/bo-env/lib/python3.12/site-packages/botorch/models/utils/assorted.py:260: InputDataWarning:\n",
      "\n",
      "Data is not standardized (std = tensor([4.3994], dtype=torch.float64), mean = tensor([7.6715], dtype=torch.float64)). Please consider scaling the input to zero mean and unit variance.\n",
      "\n",
      "/Users/keisukeonoue/ws/constrained_BO/bo-env/lib/python3.12/site-packages/botorch/models/utils/assorted.py:257: InputDataWarning:\n",
      "\n",
      "Input data is not contained to the unit cube. Please consider min-max scaling the input data.\n",
      "\n",
      "/Users/keisukeonoue/ws/constrained_BO/bo-env/lib/python3.12/site-packages/botorch/models/utils/assorted.py:260: InputDataWarning:\n",
      "\n",
      "Data is not standardized (std = tensor([4.3491], dtype=torch.float64), mean = tensor([7.7421], dtype=torch.float64)). Please consider scaling the input to zero mean and unit variance.\n",
      "\n"
     ]
    },
    {
     "name": "stdout",
     "output_type": "stream",
     "text": [
      "Iteration 26\n",
      "Best candidate: 2.7824888069712967\n",
      "Objective value at best candidate: -0.6122887330353634\n",
      "\n",
      "Iteration 27\n",
      "Best candidate: 0.48640550167131563\n",
      "Objective value at best candidate: -10.001848103848086\n",
      "\n",
      "Iteration 28\n",
      "Best candidate: 2.782498825965793\n",
      "Objective value at best candidate: -0.6123044126378444\n",
      "\n"
     ]
    },
    {
     "name": "stderr",
     "output_type": "stream",
     "text": [
      "/Users/keisukeonoue/ws/constrained_BO/bo-env/lib/python3.12/site-packages/botorch/models/utils/assorted.py:260: InputDataWarning:\n",
      "\n",
      "Data is not standardized (std = tensor([4.4538], dtype=torch.float64), mean = tensor([7.5324], dtype=torch.float64)). Please consider scaling the input to zero mean and unit variance.\n",
      "\n",
      "/Users/keisukeonoue/ws/constrained_BO/bo-env/lib/python3.12/site-packages/botorch/models/utils/assorted.py:257: InputDataWarning:\n",
      "\n",
      "Input data is not contained to the unit cube. Please consider min-max scaling the input data.\n",
      "\n",
      "/Users/keisukeonoue/ws/constrained_BO/bo-env/lib/python3.12/site-packages/botorch/models/utils/assorted.py:260: InputDataWarning:\n",
      "\n",
      "Data is not standardized (std = tensor([4.4076], dtype=torch.float64), mean = tensor([7.6029], dtype=torch.float64)). Please consider scaling the input to zero mean and unit variance.\n",
      "\n"
     ]
    },
    {
     "name": "stdout",
     "output_type": "stream",
     "text": [
      "Iteration 29\n",
      "Best candidate: 0.48640626631510103\n",
      "Objective value at best candidate: -10.00184789595496\n",
      "\n",
      "Iteration 30\n",
      "Best candidate: 2.7825054965672034\n",
      "Objective value at best candidate: -0.6123148521578855\n",
      "\n",
      "\n",
      "\n",
      "\n",
      "hellooooo\n",
      "tensor([2.], dtype=torch.float64)\n"
     ]
    }
   ],
   "source": [
    "import torch\n",
    "from botorch.models import SingleTaskGP\n",
    "from botorch.fit import fit_gpytorch_mll\n",
    "from botorch.optim import optimize_acqf\n",
    "from botorch.acquisition import UpperConfidenceBound\n",
    "from botorch.models.transforms.input import Normalize\n",
    "from gpytorch.mlls import ExactMarginalLogLikelihood\n",
    "\n",
    "def test_function(x):\n",
    "    \"\"\"\n",
    "    A simple test function where the optimal solution is outside the range [0, 1].\n",
    "    \"\"\"\n",
    "    if 0 <= x <= 1:\n",
    "        return 10 + 10 * (x - 0.5)**2  # High penalty within [0, 1]\n",
    "    else:\n",
    "        return (x - 2)**2  # Quadratic function with a minimum at x = 2\n",
    "\n",
    "# Convert test_function to a PyTorch tensor\n",
    "def objective(x):\n",
    "    return torch.tensor([test_function(xi.item()) for xi in x], dtype=torch.float64)\n",
    "\n",
    "# Initialize training data\n",
    "train_x = torch.tensor([[-1.0], [0.0], [0.5], [1.0], [2.0], [3.0]], dtype=torch.float64)\n",
    "\n",
    "# Normalize the input data\n",
    "input_transform = Normalize(d=train_x.shape[-1])\n",
    "train_x_normalized = input_transform(train_x)\n",
    "\n",
    "train_y = objective(train_x).unsqueeze(-1)\n",
    "\n",
    "\n",
    "# Run optimization for 10 iterations\n",
    "for i in range(30):\n",
    "    # Define and fit the GP model with input normalization\n",
    "    gp = SingleTaskGP(train_x_normalized, train_y, input_transform=input_transform)\n",
    "    mll = ExactMarginalLogLikelihood(gp.likelihood, gp)\n",
    "    fit_gpytorch_mll(mll)\n",
    "\n",
    "    # Define the acquisition function (UCB) which will be maximized to minimize the negative objective\n",
    "    UCB = UpperConfidenceBound(gp, beta=0.1)\n",
    "\n",
    "    # Optimize the acquisition function\n",
    "    bounds = torch.tensor([[0.], [1.]], dtype=torch.float64)\n",
    "    candidate_normalized, acq_value = optimize_acqf(\n",
    "        UCB, bounds=bounds, q=1, num_restarts=5, raw_samples=20,\n",
    "    )\n",
    "\n",
    "    # Denormalize the candidate\n",
    "    candidate = input_transform.untransform(candidate_normalized)\n",
    "\n",
    "    # Evaluate the new candidate and add to the training data\n",
    "    new_y = objective(candidate).unsqueeze(-1)\n",
    "    train_x = torch.cat([train_x, candidate])\n",
    "    train_y = torch.cat([train_y, new_y])\n",
    "\n",
    "    # Normalize the input data again\n",
    "    train_x_normalized = input_transform(train_x)\n",
    "\n",
    "    # Print the best candidate found so far (remember to invert the sign back)\n",
    "    print(f\"Iteration {i+1}\")\n",
    "    print(f\"Best candidate: {candidate.item()}\")\n",
    "    print(f\"Objective value at best candidate: {-test_function(candidate.item())}\\n\")\n",
    "\n",
    "\n",
    "print()\n",
    "print()\n",
    "print()\n",
    "print(\"hellooooo\")\n",
    "print(train_x[train_y.argmin().item()])"
   ]
  },
  {
   "cell_type": "code",
   "execution_count": 49,
   "metadata": {},
   "outputs": [
    {
     "data": {
      "text/plain": [
       "tensor([2.], dtype=torch.float64)"
      ]
     },
     "execution_count": 49,
     "metadata": {},
     "output_type": "execute_result"
    }
   ],
   "source": [
    "train_x[train_y.argmin().item()]"
   ]
  },
  {
   "cell_type": "code",
   "execution_count": 46,
   "metadata": {},
   "outputs": [
    {
     "data": {
      "text/plain": [
       "tensor([[ 9.0000],\n",
       "        [12.5000],\n",
       "        [10.0000],\n",
       "        [12.5000],\n",
       "        [ 1.0000],\n",
       "        [10.2782],\n",
       "        [ 0.1178],\n",
       "        [10.5579],\n",
       "        [ 7.6001],\n",
       "        [10.3899],\n",
       "        [ 0.4752],\n",
       "        [10.7568],\n",
       "        [ 0.4935],\n",
       "        [10.7723],\n",
       "        [ 0.5052],\n",
       "        [10.7733],\n",
       "        [ 0.5060],\n",
       "        [10.7736],\n",
       "        [ 0.5062],\n",
       "        [10.7738],\n",
       "        [ 0.5063],\n",
       "        [10.7739],\n",
       "        [ 0.5063],\n",
       "        [10.7739],\n",
       "        [ 0.5063],\n",
       "        [10.7740],\n",
       "        [ 0.5064],\n",
       "        [10.7740],\n",
       "        [ 0.5064],\n",
       "        [10.7733],\n",
       "        [ 0.5064],\n",
       "        [10.7740],\n",
       "        [ 0.5064],\n",
       "        [10.7741],\n",
       "        [ 0.5025]], dtype=torch.float64)"
      ]
     },
     "execution_count": 46,
     "metadata": {},
     "output_type": "execute_result"
    }
   ],
   "source": [
    "train_y"
   ]
  },
  {
   "cell_type": "code",
   "execution_count": 38,
   "metadata": {},
   "outputs": [
    {
     "data": {
      "application/vnd.plotly.v1+json": {
       "config": {
        "plotlyServerURL": "https://plot.ly"
       },
       "data": [
        {
         "mode": "lines",
         "name": "Test Function",
         "type": "scatter",
         "x": [
          -1,
          -0.9919839679358717,
          -0.9839679358717435,
          -0.9759519038076152,
          -0.9679358717434869,
          -0.9599198396793587,
          -0.9519038076152304,
          -0.9438877755511023,
          -0.935871743486974,
          -0.9278557114228457,
          -0.9198396793587175,
          -0.9118236472945892,
          -0.9038076152304609,
          -0.8957915831663327,
          -0.8877755511022044,
          -0.8797595190380761,
          -0.8717434869739479,
          -0.8637274549098196,
          -0.8557114228456915,
          -0.8476953907815632,
          -0.8396793587174349,
          -0.8316633266533067,
          -0.8236472945891784,
          -0.8156312625250501,
          -0.8076152304609219,
          -0.7995991983967936,
          -0.7915831663326653,
          -0.7835671342685371,
          -0.7755511022044088,
          -0.7675350701402806,
          -0.7595190380761523,
          -0.751503006012024,
          -0.7434869739478958,
          -0.7354709418837675,
          -0.7274549098196392,
          -0.719438877755511,
          -0.7114228456913828,
          -0.7034068136272545,
          -0.6953907815631263,
          -0.687374749498998,
          -0.6793587174348698,
          -0.6713426853707415,
          -0.6633266533066133,
          -0.6553106212424851,
          -0.6472945891783568,
          -0.6392785571142285,
          -0.6312625250501003,
          -0.623246492985972,
          -0.6152304609218437,
          -0.6072144288577155,
          -0.5991983967935872,
          -0.591182364729459,
          -0.5831663326653307,
          -0.5751503006012024,
          -0.5671342685370742,
          -0.5591182364729459,
          -0.5511022044088176,
          -0.5430861723446894,
          -0.5350701402805611,
          -0.5270541082164328,
          -0.5190380761523046,
          -0.5110220440881764,
          -0.5030060120240482,
          -0.4949899799599199,
          -0.4869739478957916,
          -0.47895791583166336,
          -0.4709418837675351,
          -0.46292585170340683,
          -0.45490981963927857,
          -0.4468937875751503,
          -0.43887775551102204,
          -0.4308617234468939,
          -0.4228456913827656,
          -0.41482965931863736,
          -0.4068136272545091,
          -0.3987975951903808,
          -0.39078156312625256,
          -0.3827655310621243,
          -0.37474949899799603,
          -0.36673346693386777,
          -0.3587174348697395,
          -0.35070140280561124,
          -0.342685370741483,
          -0.3346693386773547,
          -0.32665330661322656,
          -0.3186372745490983,
          -0.31062124248497003,
          -0.30260521042084176,
          -0.2945891783567135,
          -0.28657314629258523,
          -0.27855711422845697,
          -0.2705410821643287,
          -0.26252505010020044,
          -0.2545090180360722,
          -0.2464929859719439,
          -0.23847695390781565,
          -0.2304609218436875,
          -0.22244488977955923,
          -0.21442885771543096,
          -0.2064128256513027,
          -0.19839679358717444,
          -0.19038076152304617,
          -0.1823647294589179,
          -0.17434869739478964,
          -0.16633266533066138,
          -0.1583166332665331,
          -0.15030060120240485,
          -0.14228456913827658,
          -0.13426853707414832,
          -0.12625250501002017,
          -0.1182364729458919,
          -0.11022044088176364,
          -0.10220440881763537,
          -0.09418837675350711,
          -0.08617234468937884,
          -0.07815631262525058,
          -0.07014028056112231,
          -0.06212424849699405,
          -0.054108216432865786,
          -0.04609218436873752,
          -0.038076152304609256,
          -0.030060120240480992,
          -0.02204408817635284,
          -0.014028056112224574,
          -0.006012024048096309,
          0.002004008016031955,
          0.01002004008016022,
          0.018036072144288484,
          0.02605210420841675,
          0.03406813627254501,
          0.04208416833667328,
          0.05010020040080154,
          0.05811623246492981,
          0.06613226452905807,
          0.07414829659318634,
          0.0821643286573146,
          0.09018036072144286,
          0.09819639278557113,
          0.1062124248496994,
          0.11422845691382766,
          0.12224448897795592,
          0.13026052104208397,
          0.13827655310621223,
          0.1462925851703405,
          0.15430861723446876,
          0.16232464929859702,
          0.1703406813627253,
          0.17835671342685355,
          0.18637274549098182,
          0.19438877755511008,
          0.20240480961923835,
          0.2104208416833666,
          0.21843687374749488,
          0.22645290581162314,
          0.2344689378757514,
          0.24248496993987967,
          0.25050100200400793,
          0.2585170340681362,
          0.26653306613226446,
          0.2745490981963927,
          0.282565130260521,
          0.29058116232464926,
          0.2985971943887775,
          0.3066132264529058,
          0.31462925851703405,
          0.3226452905811623,
          0.3306613226452906,
          0.3386773547094186,
          0.3466933867735469,
          0.35470941883767515,
          0.3627254509018034,
          0.3707414829659317,
          0.37875751503005994,
          0.3867735470941882,
          0.3947895791583165,
          0.40280561122244474,
          0.410821643286573,
          0.41883767535070127,
          0.42685370741482953,
          0.4348697394789578,
          0.44288577154308606,
          0.4509018036072143,
          0.4589178356713426,
          0.46693386773547085,
          0.4749498997995991,
          0.4829659318637274,
          0.49098196392785565,
          0.4989979959919839,
          0.5070140280561122,
          0.5150300601202404,
          0.5230460921843687,
          0.531062124248497,
          0.539078156312625,
          0.5470941883767533,
          0.5551102204408815,
          0.5631262525050098,
          0.5711422845691381,
          0.5791583166332663,
          0.5871743486973946,
          0.5951903807615229,
          0.6032064128256511,
          0.6112224448897794,
          0.6192384769539077,
          0.6272545090180359,
          0.6352705410821642,
          0.6432865731462925,
          0.6513026052104207,
          0.659318637274549,
          0.6673346693386772,
          0.6753507014028055,
          0.6833667334669338,
          0.691382765531062,
          0.6993987975951903,
          0.7074148296593186,
          0.7154308617234468,
          0.7234468937875751,
          0.7314629258517034,
          0.7394789579158316,
          0.7474949899799597,
          0.7555110220440879,
          0.7635270541082162,
          0.7715430861723445,
          0.7795591182364727,
          0.787575150300601,
          0.7955911823647293,
          0.8036072144288575,
          0.8116232464929858,
          0.819639278557114,
          0.8276553106212423,
          0.8356713426853706,
          0.8436873747494988,
          0.8517034068136271,
          0.8597194388777554,
          0.8677354709418836,
          0.8757515030060119,
          0.8837675350701402,
          0.8917835671342684,
          0.8997995991983967,
          0.907815631262525,
          0.9158316633266532,
          0.9238476953907815,
          0.9318637274549098,
          0.939879759519038,
          0.9478957915831663,
          0.9559118236472943,
          0.9639278557114226,
          0.9719438877755509,
          0.9799599198396791,
          0.9879759519038074,
          0.9959919839679356,
          1.004008016032064,
          1.0120240480961922,
          1.0200400801603204,
          1.0280561122244487,
          1.036072144288577,
          1.0440881763527052,
          1.0521042084168335,
          1.0601202404809618,
          1.06813627254509,
          1.0761523046092183,
          1.0841683366733466,
          1.0921843687374748,
          1.100200400801603,
          1.1082164328657313,
          1.1162324649298596,
          1.1242484969939879,
          1.1322645290581161,
          1.1402805611222444,
          1.1482965931863727,
          1.156312625250501,
          1.1643286573146292,
          1.1723446893787575,
          1.1803607214428857,
          1.188376753507014,
          1.1963927855711423,
          1.2044088176352705,
          1.2124248496993988,
          1.220440881763527,
          1.2284569138276553,
          1.2364729458917836,
          1.2444889779559118,
          1.25250501002004,
          1.260521042084168,
          1.2685370741482962,
          1.2765531062124245,
          1.2845691382765527,
          1.292585170340681,
          1.3006012024048093,
          1.3086172344689375,
          1.3166332665330658,
          1.324649298597194,
          1.3326653306613223,
          1.3406813627254506,
          1.3486973947895788,
          1.356713426853707,
          1.3647294589178354,
          1.3727454909819636,
          1.380761523046092,
          1.3887775551102202,
          1.3967935871743484,
          1.4048096192384767,
          1.412825651302605,
          1.4208416833667332,
          1.4288577154308615,
          1.4368737474949898,
          1.444889779559118,
          1.4529058116232463,
          1.4609218436873745,
          1.4689378757515028,
          1.476953907815631,
          1.4849699398797593,
          1.4929859719438876,
          1.5010020040080159,
          1.5090180360721441,
          1.5170340681362724,
          1.5250501002004007,
          1.533066132264529,
          1.5410821643286572,
          1.5490981963927855,
          1.5571142284569137,
          1.565130260521042,
          1.5731462925851702,
          1.5811623246492985,
          1.5891783567134268,
          1.597194388777555,
          1.6052104208416833,
          1.6132264529058116,
          1.6212424849699398,
          1.629258517034068,
          1.6372745490981964,
          1.6452905811623246,
          1.653306613226453,
          1.6613226452905812,
          1.669338677354709,
          1.6773547094188372,
          1.6853707414829655,
          1.6933867735470938,
          1.701402805611222,
          1.7094188376753503,
          1.7174348697394786,
          1.7254509018036068,
          1.733466933867735,
          1.7414829659318634,
          1.7494989979959916,
          1.7575150300601199,
          1.7655310621242482,
          1.7735470941883764,
          1.7815631262525047,
          1.789579158316633,
          1.7975951903807612,
          1.8056112224448895,
          1.8136272545090177,
          1.821643286573146,
          1.8296593186372743,
          1.8376753507014025,
          1.8456913827655308,
          1.853707414829659,
          1.8617234468937873,
          1.8697394789579156,
          1.8777555110220439,
          1.8857715430861721,
          1.8937875751503004,
          1.9018036072144286,
          1.909819639278557,
          1.9178356713426852,
          1.9258517034068134,
          1.9338677354709417,
          1.94188376753507,
          1.9498997995991982,
          1.9579158316633265,
          1.9659318637274548,
          1.973947895791583,
          1.9819639278557113,
          1.9899799599198396,
          1.9979959919839678,
          2.006012024048096,
          2.0140280561122244,
          2.0220440881763526,
          2.030060120240481,
          2.038076152304609,
          2.0460921843687374,
          2.0541082164328657,
          2.062124248496994,
          2.070140280561122,
          2.07815631262525,
          2.0861723446893783,
          2.0941883767535066,
          2.102204408817635,
          2.110220440881763,
          2.1182364729458913,
          2.1262525050100196,
          2.134268537074148,
          2.142284569138276,
          2.1503006012024044,
          2.1583166332665327,
          2.166332665330661,
          2.174348697394789,
          2.1823647294589175,
          2.1903807615230457,
          2.198396793587174,
          2.2064128256513023,
          2.2144288577154305,
          2.222444889779559,
          2.230460921843687,
          2.2384769539078153,
          2.2464929859719436,
          2.254509018036072,
          2.2625250501002,
          2.2705410821643284,
          2.2785571142284566,
          2.286573146292585,
          2.294589178356713,
          2.3026052104208414,
          2.3106212424849697,
          2.318637274549098,
          2.3266533066132262,
          2.3346693386773545,
          2.3426853707414828,
          2.350701402805611,
          2.3587174348697393,
          2.3667334669338675,
          2.374749498997996,
          2.382765531062124,
          2.3907815631262523,
          2.3987975951903806,
          2.406813627254509,
          2.414829659318637,
          2.4228456913827654,
          2.4308617234468937,
          2.438877755511022,
          2.44689378757515,
          2.4549098196392785,
          2.4629258517034067,
          2.470941883767535,
          2.4789579158316633,
          2.4869739478957915,
          2.4949899799599193,
          2.5030060120240476,
          2.511022044088176,
          2.519038076152304,
          2.5270541082164324,
          2.5350701402805607,
          2.543086172344689,
          2.551102204408817,
          2.5591182364729455,
          2.5671342685370737,
          2.575150300601202,
          2.5831663326653302,
          2.5911823647294585,
          2.5991983967935868,
          2.607214428857715,
          2.6152304609218433,
          2.6232464929859716,
          2.6312625250501,
          2.639278557114228,
          2.6472945891783564,
          2.6553106212424846,
          2.663326653306613,
          2.671342685370741,
          2.6793587174348694,
          2.6873747494989977,
          2.695390781563126,
          2.703406813627254,
          2.7114228456913825,
          2.7194388777555107,
          2.727454909819639,
          2.7354709418837673,
          2.7434869739478955,
          2.751503006012024,
          2.759519038076152,
          2.7675350701402803,
          2.7755511022044086,
          2.783567134268537,
          2.791583166332665,
          2.7995991983967934,
          2.8076152304609217,
          2.81563126252505,
          2.823647294589178,
          2.8316633266533064,
          2.8396793587174347,
          2.847695390781563,
          2.8557114228456912,
          2.8637274549098195,
          2.8717434869739478,
          2.879759519038076,
          2.8877755511022043,
          2.8957915831663326,
          2.9038076152304604,
          2.9118236472945886,
          2.919839679358717,
          2.927855711422845,
          2.9358717434869734,
          2.9438877755511017,
          2.95190380761523,
          2.9599198396793582,
          2.9679358717434865,
          2.9759519038076148,
          2.983967935871743,
          2.9919839679358713,
          3
         ],
         "y": [
          9,
          8.951968064385284,
          8.904064642310674,
          8.856289733776169,
          8.808643338781772,
          8.76112545732748,
          8.713736089413295,
          8.666475235039217,
          8.619342894205245,
          8.572339066911377,
          8.525463753157617,
          8.478716952943964,
          8.432098666270416,
          8.385608893136975,
          8.33924763354364,
          8.293014887490411,
          8.246910654977288,
          8.200934936004272,
          8.155087730571362,
          8.109369038678562,
          8.063778860325861,
          8.018317195513273,
          7.9729840442407856,
          7.927779406508409,
          7.882703282316134,
          7.83775567166397,
          7.792936574551908,
          7.7482459909799575,
          7.703683920948108,
          7.659250364456369,
          7.614945321504732,
          7.570768792093205,
          7.526720776221781,
          7.482801273890467,
          7.439010285099255,
          7.395347809848154,
          7.351813848137157,
          7.308408399966266,
          7.2651314653354815,
          7.221983044244803,
          7.178963136694231,
          7.1360717426837645,
          7.093308862213405,
          7.050674495283152,
          7.008168641893005,
          6.965791302042964,
          6.923542475733029,
          6.881422162963202,
          6.839430363733479,
          6.797567078043864,
          6.755832305894354,
          6.714226047284951,
          6.672748302215654,
          6.631399070686463,
          6.590178352697379,
          6.5490861482484,
          6.508122457339529,
          6.467287279970763,
          6.426580616142104,
          6.386002465853551,
          6.345552829105104,
          6.305231705896763,
          6.265039096228529,
          6.224975000100401,
          6.185039417512379,
          6.1452323484644635,
          6.105553792956655,
          6.066003750988951,
          6.026582222561355,
          5.987289207673864,
          5.94812470632648,
          5.909088718519202,
          5.8701812442520325,
          5.831402283524965,
          5.792751836338008,
          5.754229902691153,
          5.715836482584408,
          5.677571576017766,
          5.639435182991234,
          5.6014273035048046,
          5.563547937558485,
          5.525797085152267,
          5.488174746286161,
          5.450680920960155,
          5.413315609174261,
          5.376078810928471,
          5.338970526222787,
          5.30199075505721,
          5.265139497431738,
          5.228416753346373,
          5.191822522801114,
          5.155356805795962,
          5.119019602330915,
          5.082810912405975,
          5.046730736021141,
          5.010779073176414,
          4.974955923871792,
          4.939261288107277,
          4.903695165882868,
          4.868257557198566,
          4.83294846205437,
          4.797767880450279,
          4.762715812386296,
          4.7277922578624185,
          4.692997216878648,
          4.658330689434982,
          4.623792675531424,
          4.5893831751679715,
          4.555102188344625,
          4.520949715061385,
          4.486925755318252,
          4.453030309115224,
          4.419263376452303,
          4.3856249573294885,
          4.35211505174678,
          4.318733659704177,
          4.285480781201682,
          4.252356416239292,
          4.219360564817008,
          4.186493226934831,
          4.15375440259276,
          4.1211440917907955,
          4.0886622945289375,
          4.056309010807187,
          4.024084240625539,
          12.480000080320963,
          12.400803611230478,
          12.322892277541055,
          12.246266079252695,
          12.170925016365397,
          12.096869088879162,
          12.024098296793989,
          11.95261264010988,
          11.882412118826833,
          11.813496732944849,
          11.745866482463926,
          11.679521367384067,
          11.614461387705271,
          11.550686543427537,
          11.488196834550866,
          11.426992261075256,
          11.367072823000711,
          11.308438520327229,
          11.251089353054809,
          11.19502532118345,
          11.140246424713155,
          11.086752663643923,
          11.034544037975753,
          10.983620547708645,
          10.933982192842599,
          10.885628973377617,
          10.838560889313698,
          10.792777940650842,
          10.748280127389048,
          10.705067449528316,
          10.663139907068647,
          10.622497500010041,
          10.583140228352496,
          10.545068092096017,
          10.508281091240598,
          10.472779225786242,
          10.438562495732949,
          10.405630901080718,
          10.37398444182955,
          10.343623117979446,
          10.314546929530403,
          10.286755876482424,
          10.260249958835507,
          10.235029176589652,
          10.211093529744861,
          10.188443018301133,
          10.167077642258466,
          10.146997401616861,
          10.12820229637632,
          10.110692326536842,
          10.094467492098426,
          10.079527793061072,
          10.065873229424781,
          10.053503801189553,
          10.042419508355389,
          10.032620350922286,
          10.024106328890246,
          10.016877442259268,
          10.010933691029352,
          10.0062750752005,
          10.002901594772712,
          10.000813249745985,
          10.000010040120321,
          10.00049196589572,
          10.00225902707218,
          10.005311223649704,
          10.00964855562829,
          10.015271023007939,
          10.022178625788651,
          10.030371363970426,
          10.039849237553263,
          10.050612246537161,
          10.062660390922124,
          10.075993670708149,
          10.090612085895238,
          10.106515636483387,
          10.1237043224726,
          10.142178143862875,
          10.161937100654214,
          10.182981192846615,
          10.205310420440078,
          10.228924783434604,
          10.253824281830193,
          10.280008915626844,
          10.30747868482456,
          10.336233589423335,
          10.366273629423175,
          10.397598804824076,
          10.430209115626042,
          10.46410456182907,
          10.499285143433159,
          10.535750860438311,
          10.573501712844527,
          10.612537700651803,
          10.652858823860145,
          10.694465082469547,
          10.737356476480013,
          10.781533005891541,
          10.826994670704133,
          10.873741470917786,
          10.921773406532502,
          10.971090477548282,
          11.021692683965124,
          11.073580025783027,
          11.126752503001995,
          11.181210115622024,
          11.236952863643117,
          11.293980747065271,
          11.35229376588849,
          11.411891920112769,
          11.472775209738113,
          11.534943634764518,
          11.598397195191986,
          11.663135891020517,
          11.729159722250111,
          11.796468688880767,
          11.865062790912486,
          11.934942028345267,
          12.00610640117911,
          12.078555909414016,
          12.152290553049985,
          12.227310332087018,
          12.303615246525112,
          12.38120529636427,
          12.46008048160449,
          0.9920000321283855,
          0.9760964815402352,
          0.9603214444921911,
          0.9446749209842534,
          0.929156911016422,
          0.9137674145886968,
          0.8985064317010778,
          0.8833739623535651,
          0.8683700065461587,
          0.8534945642788586,
          0.8387476355516646,
          0.824129220364577,
          0.8096393187175958,
          0.7952779306107206,
          0.7810450560439518,
          0.7669406950172892,
          0.752964847530733,
          0.7391175135842829,
          0.7253986931779391,
          0.7118083863117016,
          0.6983465929855704,
          0.6850133131995455,
          0.6718085469536268,
          0.6587322942478143,
          0.6457845550821082,
          0.6329653294565082,
          0.6202746173710146,
          0.6077124188256272,
          0.5952787338203461,
          0.5829735623551713,
          0.5707969044301027,
          0.5587487600451403,
          0.5468291292002849,
          0.5350380118955351,
          0.5233754081308916,
          0.5118413179063543,
          0.5004357412219234,
          0.4891586780775986,
          0.47801012847338015,
          0.4669900924092679,
          0.456098569885262,
          0.4453355609013623,
          0.43470106545756887,
          0.42419508355388175,
          0.41381761519030086,
          0.4035686603668262,
          0.39344821908345784,
          0.38345629134019577,
          0.3735928771370399,
          0.3638579764739904,
          0.3542515893510471,
          0.3447737157682101,
          0.3354243557254793,
          0.3262035092228548,
          0.3171111762603366,
          0.3081473568379246,
          0.2993120509556189,
          0.29060525861341946,
          0.2820269798113263,
          0.27357721454933936,
          0.2652559628274587,
          0.2570632246456843,
          0.2489990000040162,
          0.24106328890245435,
          0.23325609134099878,
          0.22557740731964945,
          0.21802723683840639,
          0.2106055798972696,
          0.20331243649623906,
          0.1961478066353148,
          0.18911169031449682,
          0.1822040875337851,
          0.17542499829317962,
          0.1687744225926804,
          0.16225236043228747,
          0.1558588118120008,
          0.1495937767318204,
          0.14345725519174626,
          0.13744924719177837,
          0.13156975273191676,
          0.12581877181216142,
          0.12019630443251234,
          0.11470235059296952,
          0.10933691029353325,
          0.10409998353420295,
          0.09899157031497892,
          0.09401167063586116,
          0.08916028449684965,
          0.08443741189794442,
          0.07984305283914545,
          0.07537720732045274,
          0.0710398753418663,
          0.06683105690338612,
          0.0627507520050122,
          0.058798960646744565,
          0.05497568282858318,
          0.05128091855052806,
          0.04771466781257921,
          0.04427693061473662,
          0.0409677069570003,
          0.03778699683937024,
          0.03473480026184645,
          0.03181111722442892,
          0.029015947727117658,
          0.02634929176991266,
          0.023811149352813928,
          0.02140152047582146,
          0.019120405138935252,
          0.016967803342155315,
          0.01494371508548164,
          0.013048140368914232,
          0.01128107919245309,
          0.00964253155609821,
          0.008132497459849595,
          0.006750976903707246,
          0.0054979698876711615,
          0.004373476411741342,
          0.003377496475917787,
          0.002510030080200497,
          0.0017710772245894723,
          0.0011606379090847124,
          0.0006787121336862172,
          0.000325299898393987,
          0.00010040120320802167,
          0.000004016048128321223,
          0.00003614443315488566,
          0.000196786358287715,
          0.00048594182352680923,
          0.0009036108288721684,
          0.0014497933743237922,
          0.002124489459881681,
          0.002927699085545835,
          0.0038594222513162538,
          0.004919658957192937,
          0.006108409203175816,
          0.007425672989265023,
          0.008871450315460494,
          0.01044574118176223,
          0.01214854558817023,
          0.013979863534684497,
          0.015939695021305027,
          0.018028040048031824,
          0.020244898614864882,
          0.02259027072180421,
          0.0250641563688498,
          0.027666555556001653,
          0.030397468283259774,
          0.03325689455062416,
          0.03624483435809481,
          0.039361287705671724,
          0.0426062545933549,
          0.045979735021144344,
          0.049481728989040054,
          0.05311223649704203,
          0.05687125754515027,
          0.060758792133364777,
          0.06477484026168555,
          0.06891940193011258,
          0.07319247713864588,
          0.07759406588728544,
          0.08212416817603127,
          0.08678278400488336,
          0.09156991337384172,
          0.09648555628290634,
          0.10152971273207723,
          0.10670238272135438,
          0.1120035662507378,
          0.11743326332022748,
          0.12299147392982343,
          0.12867819807952566,
          0.13449343576933412,
          0.14043718699924887,
          0.14650945176926988,
          0.15271023007939713,
          0.15903952192963067,
          0.1654973273199705,
          0.17208364625041656,
          0.17879847872096888,
          0.18564182473162746,
          0.19261368428239234,
          0.19971405737326348,
          0.20694294400424085,
          0.2143003441753245,
          0.22178625788651443,
          0.22940068513781062,
          0.23714362592921306,
          0.24501508026072136,
          0.25301504813233633,
          0.26114352954405756,
          0.2694005244958851,
          0.27778603298781884,
          0.28630005501985883,
          0.29494259059200517,
          0.30371363970425774,
          0.31261320235661655,
          0.32164127854908164,
          0.330797868281653,
          0.34008297155433065,
          0.3494965883671145,
          0.35903871872000465,
          0.3687093626130011,
          0.37850852004610375,
          0.3884361910193127,
          0.3984923755326279,
          0.4086770735860494,
          0.41899028517957715,
          0.42943201031321115,
          0.4400022489869514,
          0.4507010012007979,
          0.46152826695475074,
          0.4724840462488098,
          0.48356833908297514,
          0.4947811454572467,
          0.5061224653716246,
          0.5175922988261087,
          0.5291906458206991,
          0.5409175063553958,
          0.5527728804301987,
          0.5647567680451079,
          0.5768691692001233,
          0.589110083895245,
          0.601479512130473,
          0.6139774539058073,
          0.6266039092212478,
          0.6393588780767946,
          0.6522423604724475,
          0.6652543564082068,
          0.6783948658840725,
          0.6916638889000443,
          0.7050614254561224,
          0.7185874755523067,
          0.7322420391885974,
          0.7460251163649942,
          0.7599367070814974,
          0.7739768113381069,
          0.7881454291348226,
          0.8024425604716445,
          0.816868205348572,
          0.8314223637656064,
          0.8461050357227471,
          0.8609162212199941,
          0.8758559202573474,
          0.890924132834807,
          0.9061208589523727,
          0.9214460986100448,
          0.9368998518078231,
          0.9524821185457077,
          0.9681928988236986,
          0.9840321926417958,
          1
         ]
        }
       ],
       "layout": {
        "showlegend": true,
        "template": {
         "data": {
          "bar": [
           {
            "error_x": {
             "color": "#2a3f5f"
            },
            "error_y": {
             "color": "#2a3f5f"
            },
            "marker": {
             "line": {
              "color": "#E5ECF6",
              "width": 0.5
             },
             "pattern": {
              "fillmode": "overlay",
              "size": 10,
              "solidity": 0.2
             }
            },
            "type": "bar"
           }
          ],
          "barpolar": [
           {
            "marker": {
             "line": {
              "color": "#E5ECF6",
              "width": 0.5
             },
             "pattern": {
              "fillmode": "overlay",
              "size": 10,
              "solidity": 0.2
             }
            },
            "type": "barpolar"
           }
          ],
          "carpet": [
           {
            "aaxis": {
             "endlinecolor": "#2a3f5f",
             "gridcolor": "white",
             "linecolor": "white",
             "minorgridcolor": "white",
             "startlinecolor": "#2a3f5f"
            },
            "baxis": {
             "endlinecolor": "#2a3f5f",
             "gridcolor": "white",
             "linecolor": "white",
             "minorgridcolor": "white",
             "startlinecolor": "#2a3f5f"
            },
            "type": "carpet"
           }
          ],
          "choropleth": [
           {
            "colorbar": {
             "outlinewidth": 0,
             "ticks": ""
            },
            "type": "choropleth"
           }
          ],
          "contour": [
           {
            "colorbar": {
             "outlinewidth": 0,
             "ticks": ""
            },
            "colorscale": [
             [
              0,
              "#0d0887"
             ],
             [
              0.1111111111111111,
              "#46039f"
             ],
             [
              0.2222222222222222,
              "#7201a8"
             ],
             [
              0.3333333333333333,
              "#9c179e"
             ],
             [
              0.4444444444444444,
              "#bd3786"
             ],
             [
              0.5555555555555556,
              "#d8576b"
             ],
             [
              0.6666666666666666,
              "#ed7953"
             ],
             [
              0.7777777777777778,
              "#fb9f3a"
             ],
             [
              0.8888888888888888,
              "#fdca26"
             ],
             [
              1,
              "#f0f921"
             ]
            ],
            "type": "contour"
           }
          ],
          "contourcarpet": [
           {
            "colorbar": {
             "outlinewidth": 0,
             "ticks": ""
            },
            "type": "contourcarpet"
           }
          ],
          "heatmap": [
           {
            "colorbar": {
             "outlinewidth": 0,
             "ticks": ""
            },
            "colorscale": [
             [
              0,
              "#0d0887"
             ],
             [
              0.1111111111111111,
              "#46039f"
             ],
             [
              0.2222222222222222,
              "#7201a8"
             ],
             [
              0.3333333333333333,
              "#9c179e"
             ],
             [
              0.4444444444444444,
              "#bd3786"
             ],
             [
              0.5555555555555556,
              "#d8576b"
             ],
             [
              0.6666666666666666,
              "#ed7953"
             ],
             [
              0.7777777777777778,
              "#fb9f3a"
             ],
             [
              0.8888888888888888,
              "#fdca26"
             ],
             [
              1,
              "#f0f921"
             ]
            ],
            "type": "heatmap"
           }
          ],
          "heatmapgl": [
           {
            "colorbar": {
             "outlinewidth": 0,
             "ticks": ""
            },
            "colorscale": [
             [
              0,
              "#0d0887"
             ],
             [
              0.1111111111111111,
              "#46039f"
             ],
             [
              0.2222222222222222,
              "#7201a8"
             ],
             [
              0.3333333333333333,
              "#9c179e"
             ],
             [
              0.4444444444444444,
              "#bd3786"
             ],
             [
              0.5555555555555556,
              "#d8576b"
             ],
             [
              0.6666666666666666,
              "#ed7953"
             ],
             [
              0.7777777777777778,
              "#fb9f3a"
             ],
             [
              0.8888888888888888,
              "#fdca26"
             ],
             [
              1,
              "#f0f921"
             ]
            ],
            "type": "heatmapgl"
           }
          ],
          "histogram": [
           {
            "marker": {
             "pattern": {
              "fillmode": "overlay",
              "size": 10,
              "solidity": 0.2
             }
            },
            "type": "histogram"
           }
          ],
          "histogram2d": [
           {
            "colorbar": {
             "outlinewidth": 0,
             "ticks": ""
            },
            "colorscale": [
             [
              0,
              "#0d0887"
             ],
             [
              0.1111111111111111,
              "#46039f"
             ],
             [
              0.2222222222222222,
              "#7201a8"
             ],
             [
              0.3333333333333333,
              "#9c179e"
             ],
             [
              0.4444444444444444,
              "#bd3786"
             ],
             [
              0.5555555555555556,
              "#d8576b"
             ],
             [
              0.6666666666666666,
              "#ed7953"
             ],
             [
              0.7777777777777778,
              "#fb9f3a"
             ],
             [
              0.8888888888888888,
              "#fdca26"
             ],
             [
              1,
              "#f0f921"
             ]
            ],
            "type": "histogram2d"
           }
          ],
          "histogram2dcontour": [
           {
            "colorbar": {
             "outlinewidth": 0,
             "ticks": ""
            },
            "colorscale": [
             [
              0,
              "#0d0887"
             ],
             [
              0.1111111111111111,
              "#46039f"
             ],
             [
              0.2222222222222222,
              "#7201a8"
             ],
             [
              0.3333333333333333,
              "#9c179e"
             ],
             [
              0.4444444444444444,
              "#bd3786"
             ],
             [
              0.5555555555555556,
              "#d8576b"
             ],
             [
              0.6666666666666666,
              "#ed7953"
             ],
             [
              0.7777777777777778,
              "#fb9f3a"
             ],
             [
              0.8888888888888888,
              "#fdca26"
             ],
             [
              1,
              "#f0f921"
             ]
            ],
            "type": "histogram2dcontour"
           }
          ],
          "mesh3d": [
           {
            "colorbar": {
             "outlinewidth": 0,
             "ticks": ""
            },
            "type": "mesh3d"
           }
          ],
          "parcoords": [
           {
            "line": {
             "colorbar": {
              "outlinewidth": 0,
              "ticks": ""
             }
            },
            "type": "parcoords"
           }
          ],
          "pie": [
           {
            "automargin": true,
            "type": "pie"
           }
          ],
          "scatter": [
           {
            "fillpattern": {
             "fillmode": "overlay",
             "size": 10,
             "solidity": 0.2
            },
            "type": "scatter"
           }
          ],
          "scatter3d": [
           {
            "line": {
             "colorbar": {
              "outlinewidth": 0,
              "ticks": ""
             }
            },
            "marker": {
             "colorbar": {
              "outlinewidth": 0,
              "ticks": ""
             }
            },
            "type": "scatter3d"
           }
          ],
          "scattercarpet": [
           {
            "marker": {
             "colorbar": {
              "outlinewidth": 0,
              "ticks": ""
             }
            },
            "type": "scattercarpet"
           }
          ],
          "scattergeo": [
           {
            "marker": {
             "colorbar": {
              "outlinewidth": 0,
              "ticks": ""
             }
            },
            "type": "scattergeo"
           }
          ],
          "scattergl": [
           {
            "marker": {
             "colorbar": {
              "outlinewidth": 0,
              "ticks": ""
             }
            },
            "type": "scattergl"
           }
          ],
          "scattermapbox": [
           {
            "marker": {
             "colorbar": {
              "outlinewidth": 0,
              "ticks": ""
             }
            },
            "type": "scattermapbox"
           }
          ],
          "scatterpolar": [
           {
            "marker": {
             "colorbar": {
              "outlinewidth": 0,
              "ticks": ""
             }
            },
            "type": "scatterpolar"
           }
          ],
          "scatterpolargl": [
           {
            "marker": {
             "colorbar": {
              "outlinewidth": 0,
              "ticks": ""
             }
            },
            "type": "scatterpolargl"
           }
          ],
          "scatterternary": [
           {
            "marker": {
             "colorbar": {
              "outlinewidth": 0,
              "ticks": ""
             }
            },
            "type": "scatterternary"
           }
          ],
          "surface": [
           {
            "colorbar": {
             "outlinewidth": 0,
             "ticks": ""
            },
            "colorscale": [
             [
              0,
              "#0d0887"
             ],
             [
              0.1111111111111111,
              "#46039f"
             ],
             [
              0.2222222222222222,
              "#7201a8"
             ],
             [
              0.3333333333333333,
              "#9c179e"
             ],
             [
              0.4444444444444444,
              "#bd3786"
             ],
             [
              0.5555555555555556,
              "#d8576b"
             ],
             [
              0.6666666666666666,
              "#ed7953"
             ],
             [
              0.7777777777777778,
              "#fb9f3a"
             ],
             [
              0.8888888888888888,
              "#fdca26"
             ],
             [
              1,
              "#f0f921"
             ]
            ],
            "type": "surface"
           }
          ],
          "table": [
           {
            "cells": {
             "fill": {
              "color": "#EBF0F8"
             },
             "line": {
              "color": "white"
             }
            },
            "header": {
             "fill": {
              "color": "#C8D4E3"
             },
             "line": {
              "color": "white"
             }
            },
            "type": "table"
           }
          ]
         },
         "layout": {
          "annotationdefaults": {
           "arrowcolor": "#2a3f5f",
           "arrowhead": 0,
           "arrowwidth": 1
          },
          "autotypenumbers": "strict",
          "coloraxis": {
           "colorbar": {
            "outlinewidth": 0,
            "ticks": ""
           }
          },
          "colorscale": {
           "diverging": [
            [
             0,
             "#8e0152"
            ],
            [
             0.1,
             "#c51b7d"
            ],
            [
             0.2,
             "#de77ae"
            ],
            [
             0.3,
             "#f1b6da"
            ],
            [
             0.4,
             "#fde0ef"
            ],
            [
             0.5,
             "#f7f7f7"
            ],
            [
             0.6,
             "#e6f5d0"
            ],
            [
             0.7,
             "#b8e186"
            ],
            [
             0.8,
             "#7fbc41"
            ],
            [
             0.9,
             "#4d9221"
            ],
            [
             1,
             "#276419"
            ]
           ],
           "sequential": [
            [
             0,
             "#0d0887"
            ],
            [
             0.1111111111111111,
             "#46039f"
            ],
            [
             0.2222222222222222,
             "#7201a8"
            ],
            [
             0.3333333333333333,
             "#9c179e"
            ],
            [
             0.4444444444444444,
             "#bd3786"
            ],
            [
             0.5555555555555556,
             "#d8576b"
            ],
            [
             0.6666666666666666,
             "#ed7953"
            ],
            [
             0.7777777777777778,
             "#fb9f3a"
            ],
            [
             0.8888888888888888,
             "#fdca26"
            ],
            [
             1,
             "#f0f921"
            ]
           ],
           "sequentialminus": [
            [
             0,
             "#0d0887"
            ],
            [
             0.1111111111111111,
             "#46039f"
            ],
            [
             0.2222222222222222,
             "#7201a8"
            ],
            [
             0.3333333333333333,
             "#9c179e"
            ],
            [
             0.4444444444444444,
             "#bd3786"
            ],
            [
             0.5555555555555556,
             "#d8576b"
            ],
            [
             0.6666666666666666,
             "#ed7953"
            ],
            [
             0.7777777777777778,
             "#fb9f3a"
            ],
            [
             0.8888888888888888,
             "#fdca26"
            ],
            [
             1,
             "#f0f921"
            ]
           ]
          },
          "colorway": [
           "#636efa",
           "#EF553B",
           "#00cc96",
           "#ab63fa",
           "#FFA15A",
           "#19d3f3",
           "#FF6692",
           "#B6E880",
           "#FF97FF",
           "#FECB52"
          ],
          "font": {
           "color": "#2a3f5f"
          },
          "geo": {
           "bgcolor": "white",
           "lakecolor": "white",
           "landcolor": "#E5ECF6",
           "showlakes": true,
           "showland": true,
           "subunitcolor": "white"
          },
          "hoverlabel": {
           "align": "left"
          },
          "hovermode": "closest",
          "mapbox": {
           "style": "light"
          },
          "paper_bgcolor": "white",
          "plot_bgcolor": "#E5ECF6",
          "polar": {
           "angularaxis": {
            "gridcolor": "white",
            "linecolor": "white",
            "ticks": ""
           },
           "bgcolor": "#E5ECF6",
           "radialaxis": {
            "gridcolor": "white",
            "linecolor": "white",
            "ticks": ""
           }
          },
          "scene": {
           "xaxis": {
            "backgroundcolor": "#E5ECF6",
            "gridcolor": "white",
            "gridwidth": 2,
            "linecolor": "white",
            "showbackground": true,
            "ticks": "",
            "zerolinecolor": "white"
           },
           "yaxis": {
            "backgroundcolor": "#E5ECF6",
            "gridcolor": "white",
            "gridwidth": 2,
            "linecolor": "white",
            "showbackground": true,
            "ticks": "",
            "zerolinecolor": "white"
           },
           "zaxis": {
            "backgroundcolor": "#E5ECF6",
            "gridcolor": "white",
            "gridwidth": 2,
            "linecolor": "white",
            "showbackground": true,
            "ticks": "",
            "zerolinecolor": "white"
           }
          },
          "shapedefaults": {
           "line": {
            "color": "#2a3f5f"
           }
          },
          "ternary": {
           "aaxis": {
            "gridcolor": "white",
            "linecolor": "white",
            "ticks": ""
           },
           "baxis": {
            "gridcolor": "white",
            "linecolor": "white",
            "ticks": ""
           },
           "bgcolor": "#E5ECF6",
           "caxis": {
            "gridcolor": "white",
            "linecolor": "white",
            "ticks": ""
           }
          },
          "title": {
           "x": 0.05
          },
          "xaxis": {
           "automargin": true,
           "gridcolor": "white",
           "linecolor": "white",
           "ticks": "",
           "title": {
            "standoff": 15
           },
           "zerolinecolor": "white",
           "zerolinewidth": 2
          },
          "yaxis": {
           "automargin": true,
           "gridcolor": "white",
           "linecolor": "white",
           "ticks": "",
           "title": {
            "standoff": 15
           },
           "zerolinecolor": "white",
           "zerolinewidth": 2
          }
         }
        },
        "title": {
         "text": "Test Function Plot"
        },
        "xaxis": {
         "title": {
          "text": "x"
         }
        },
        "yaxis": {
         "title": {
          "text": "f(x)"
         }
        }
       }
      }
     },
     "metadata": {},
     "output_type": "display_data"
    }
   ],
   "source": [
    "import numpy as np\n",
    "import plotly.graph_objects as go\n",
    "\n",
    "def test_function(x):\n",
    "    \"\"\"\n",
    "    A simple test function where the optimal solution is outside the range [0, 1].\n",
    "    \"\"\"\n",
    "    if 0 <= x <= 1:\n",
    "        return 10 + 10 * (x - 0.5)**2  # High penalty within [0, 1]\n",
    "    else:\n",
    "        return (x - 2)**2  # Quadratic function with a minimum at x = 2\n",
    "\n",
    "# Generate x values\n",
    "x_values = np.linspace(-1, 3, 500)\n",
    "y_values = [test_function(x) for x in x_values]\n",
    "\n",
    "# Create the plot\n",
    "fig = go.Figure()\n",
    "fig.add_trace(go.Scatter(x=x_values, y=y_values, mode='lines', name='Test Function'))\n",
    "\n",
    "# Add title and labels\n",
    "fig.update_layout(\n",
    "    title='Test Function Plot',\n",
    "    xaxis_title='x',\n",
    "    yaxis_title='f(x)',\n",
    "    showlegend=True\n",
    ")\n",
    "\n",
    "# Show the plot\n",
    "fig.show()\n"
   ]
  },
  {
   "cell_type": "code",
   "execution_count": null,
   "metadata": {},
   "outputs": [],
   "source": []
  }
 ],
 "metadata": {
  "kernelspec": {
   "display_name": "bo-env",
   "language": "python",
   "name": "python3"
  },
  "language_info": {
   "codemirror_mode": {
    "name": "ipython",
    "version": 3
   },
   "file_extension": ".py",
   "mimetype": "text/x-python",
   "name": "python",
   "nbconvert_exporter": "python",
   "pygments_lexer": "ipython3",
   "version": "3.12.4"
  }
 },
 "nbformat": 4,
 "nbformat_minor": 2
}

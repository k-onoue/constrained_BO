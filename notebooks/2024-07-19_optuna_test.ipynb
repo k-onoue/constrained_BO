{
 "cells": [
  {
   "cell_type": "code",
   "execution_count": 12,
   "metadata": {},
   "outputs": [],
   "source": [
    "import sys\n",
    "from constants import PATH_INFO\n",
    "sys.path.append(PATH_INFO.get('project_dir'))"
   ]
  },
  {
   "cell_type": "markdown",
   "metadata": {},
   "source": [
    "# Optuna\n",
    "\n",
    "- sampler： BO アルゴリズム\n",
    "\n",
    "```\n",
    "study = optuna.create_study(direction='minimize', sampler=sampler)\n",
    "study.optimize(objective, n_trials=100)\n",
    "```\n",
    "\n",
    "- objective: 目的変数の実現値を受け取って，評価値を返す\n",
    "  \n",
    "```\n",
    "def objective(trial):\n",
    "    x = trial.suggest_float('x', -10, 10)\n",
    "    return (x - 2) ** 2\n",
    "```"
   ]
  },
  {
   "cell_type": "code",
   "execution_count": 7,
   "metadata": {},
   "outputs": [
    {
     "name": "stderr",
     "output_type": "stream",
     "text": [
      "[I 2024-07-20 16:51:12,260] A new study created in memory with name: no-name-50f80134-9dce-4c2c-9ec2-851900ed49a0\n",
      "[I 2024-07-20 16:51:12,267] Trial 0 finished with value: 62.37094533953334 and parameters: {'x': -5.897527799225106}. Best is trial 0 with value: 62.37094533953334.\n",
      "[I 2024-07-20 16:51:12,269] Trial 1 finished with value: 54.951662333902156 and parameters: {'x': 9.41293884595726}. Best is trial 1 with value: 54.951662333902156.\n",
      "[I 2024-07-20 16:51:12,271] Trial 2 finished with value: 84.9894103776851 and parameters: {'x': -7.2189701365003405}. Best is trial 1 with value: 54.951662333902156.\n",
      "[I 2024-07-20 16:51:12,273] Trial 3 finished with value: 38.05571614029553 and parameters: {'x': -4.168931523391675}. Best is trial 3 with value: 38.05571614029553.\n",
      "[I 2024-07-20 16:51:12,275] Trial 4 finished with value: 56.81248654372552 and parameters: {'x': 9.537405823207711}. Best is trial 3 with value: 38.05571614029553.\n"
     ]
    },
    {
     "name": "stdout",
     "output_type": "stream",
     "text": [
      "Best value: 38.05571614029553\n",
      "Best params: {'x': -4.168931523391675}\n",
      "\n",
      "\n"
     ]
    },
    {
     "data": {
      "application/vnd.plotly.v1+json": {
       "config": {
        "plotlyServerURL": "https://plot.ly"
       },
       "data": [
        {
         "mode": "markers",
         "name": "Objective Value",
         "type": "scatter",
         "x": [
          0,
          1,
          2,
          3,
          4
         ],
         "y": [
          62.37094533953334,
          54.951662333902156,
          84.9894103776851,
          38.05571614029553,
          56.81248654372552
         ]
        },
        {
         "mode": "lines",
         "name": "Best Value",
         "type": "scatter",
         "x": [
          0,
          1,
          2,
          3,
          4
         ],
         "y": [
          62.37094533953334,
          54.951662333902156,
          54.951662333902156,
          38.05571614029553,
          38.05571614029553
         ]
        },
        {
         "marker": {
          "color": "#cccccc"
         },
         "mode": "markers",
         "name": "Infeasible Trial",
         "showlegend": false,
         "type": "scatter",
         "x": [],
         "y": []
        }
       ],
       "layout": {
        "template": {
         "data": {
          "bar": [
           {
            "error_x": {
             "color": "#2a3f5f"
            },
            "error_y": {
             "color": "#2a3f5f"
            },
            "marker": {
             "line": {
              "color": "#E5ECF6",
              "width": 0.5
             },
             "pattern": {
              "fillmode": "overlay",
              "size": 10,
              "solidity": 0.2
             }
            },
            "type": "bar"
           }
          ],
          "barpolar": [
           {
            "marker": {
             "line": {
              "color": "#E5ECF6",
              "width": 0.5
             },
             "pattern": {
              "fillmode": "overlay",
              "size": 10,
              "solidity": 0.2
             }
            },
            "type": "barpolar"
           }
          ],
          "carpet": [
           {
            "aaxis": {
             "endlinecolor": "#2a3f5f",
             "gridcolor": "white",
             "linecolor": "white",
             "minorgridcolor": "white",
             "startlinecolor": "#2a3f5f"
            },
            "baxis": {
             "endlinecolor": "#2a3f5f",
             "gridcolor": "white",
             "linecolor": "white",
             "minorgridcolor": "white",
             "startlinecolor": "#2a3f5f"
            },
            "type": "carpet"
           }
          ],
          "choropleth": [
           {
            "colorbar": {
             "outlinewidth": 0,
             "ticks": ""
            },
            "type": "choropleth"
           }
          ],
          "contour": [
           {
            "colorbar": {
             "outlinewidth": 0,
             "ticks": ""
            },
            "colorscale": [
             [
              0,
              "#0d0887"
             ],
             [
              0.1111111111111111,
              "#46039f"
             ],
             [
              0.2222222222222222,
              "#7201a8"
             ],
             [
              0.3333333333333333,
              "#9c179e"
             ],
             [
              0.4444444444444444,
              "#bd3786"
             ],
             [
              0.5555555555555556,
              "#d8576b"
             ],
             [
              0.6666666666666666,
              "#ed7953"
             ],
             [
              0.7777777777777778,
              "#fb9f3a"
             ],
             [
              0.8888888888888888,
              "#fdca26"
             ],
             [
              1,
              "#f0f921"
             ]
            ],
            "type": "contour"
           }
          ],
          "contourcarpet": [
           {
            "colorbar": {
             "outlinewidth": 0,
             "ticks": ""
            },
            "type": "contourcarpet"
           }
          ],
          "heatmap": [
           {
            "colorbar": {
             "outlinewidth": 0,
             "ticks": ""
            },
            "colorscale": [
             [
              0,
              "#0d0887"
             ],
             [
              0.1111111111111111,
              "#46039f"
             ],
             [
              0.2222222222222222,
              "#7201a8"
             ],
             [
              0.3333333333333333,
              "#9c179e"
             ],
             [
              0.4444444444444444,
              "#bd3786"
             ],
             [
              0.5555555555555556,
              "#d8576b"
             ],
             [
              0.6666666666666666,
              "#ed7953"
             ],
             [
              0.7777777777777778,
              "#fb9f3a"
             ],
             [
              0.8888888888888888,
              "#fdca26"
             ],
             [
              1,
              "#f0f921"
             ]
            ],
            "type": "heatmap"
           }
          ],
          "heatmapgl": [
           {
            "colorbar": {
             "outlinewidth": 0,
             "ticks": ""
            },
            "colorscale": [
             [
              0,
              "#0d0887"
             ],
             [
              0.1111111111111111,
              "#46039f"
             ],
             [
              0.2222222222222222,
              "#7201a8"
             ],
             [
              0.3333333333333333,
              "#9c179e"
             ],
             [
              0.4444444444444444,
              "#bd3786"
             ],
             [
              0.5555555555555556,
              "#d8576b"
             ],
             [
              0.6666666666666666,
              "#ed7953"
             ],
             [
              0.7777777777777778,
              "#fb9f3a"
             ],
             [
              0.8888888888888888,
              "#fdca26"
             ],
             [
              1,
              "#f0f921"
             ]
            ],
            "type": "heatmapgl"
           }
          ],
          "histogram": [
           {
            "marker": {
             "pattern": {
              "fillmode": "overlay",
              "size": 10,
              "solidity": 0.2
             }
            },
            "type": "histogram"
           }
          ],
          "histogram2d": [
           {
            "colorbar": {
             "outlinewidth": 0,
             "ticks": ""
            },
            "colorscale": [
             [
              0,
              "#0d0887"
             ],
             [
              0.1111111111111111,
              "#46039f"
             ],
             [
              0.2222222222222222,
              "#7201a8"
             ],
             [
              0.3333333333333333,
              "#9c179e"
             ],
             [
              0.4444444444444444,
              "#bd3786"
             ],
             [
              0.5555555555555556,
              "#d8576b"
             ],
             [
              0.6666666666666666,
              "#ed7953"
             ],
             [
              0.7777777777777778,
              "#fb9f3a"
             ],
             [
              0.8888888888888888,
              "#fdca26"
             ],
             [
              1,
              "#f0f921"
             ]
            ],
            "type": "histogram2d"
           }
          ],
          "histogram2dcontour": [
           {
            "colorbar": {
             "outlinewidth": 0,
             "ticks": ""
            },
            "colorscale": [
             [
              0,
              "#0d0887"
             ],
             [
              0.1111111111111111,
              "#46039f"
             ],
             [
              0.2222222222222222,
              "#7201a8"
             ],
             [
              0.3333333333333333,
              "#9c179e"
             ],
             [
              0.4444444444444444,
              "#bd3786"
             ],
             [
              0.5555555555555556,
              "#d8576b"
             ],
             [
              0.6666666666666666,
              "#ed7953"
             ],
             [
              0.7777777777777778,
              "#fb9f3a"
             ],
             [
              0.8888888888888888,
              "#fdca26"
             ],
             [
              1,
              "#f0f921"
             ]
            ],
            "type": "histogram2dcontour"
           }
          ],
          "mesh3d": [
           {
            "colorbar": {
             "outlinewidth": 0,
             "ticks": ""
            },
            "type": "mesh3d"
           }
          ],
          "parcoords": [
           {
            "line": {
             "colorbar": {
              "outlinewidth": 0,
              "ticks": ""
             }
            },
            "type": "parcoords"
           }
          ],
          "pie": [
           {
            "automargin": true,
            "type": "pie"
           }
          ],
          "scatter": [
           {
            "fillpattern": {
             "fillmode": "overlay",
             "size": 10,
             "solidity": 0.2
            },
            "type": "scatter"
           }
          ],
          "scatter3d": [
           {
            "line": {
             "colorbar": {
              "outlinewidth": 0,
              "ticks": ""
             }
            },
            "marker": {
             "colorbar": {
              "outlinewidth": 0,
              "ticks": ""
             }
            },
            "type": "scatter3d"
           }
          ],
          "scattercarpet": [
           {
            "marker": {
             "colorbar": {
              "outlinewidth": 0,
              "ticks": ""
             }
            },
            "type": "scattercarpet"
           }
          ],
          "scattergeo": [
           {
            "marker": {
             "colorbar": {
              "outlinewidth": 0,
              "ticks": ""
             }
            },
            "type": "scattergeo"
           }
          ],
          "scattergl": [
           {
            "marker": {
             "colorbar": {
              "outlinewidth": 0,
              "ticks": ""
             }
            },
            "type": "scattergl"
           }
          ],
          "scattermapbox": [
           {
            "marker": {
             "colorbar": {
              "outlinewidth": 0,
              "ticks": ""
             }
            },
            "type": "scattermapbox"
           }
          ],
          "scatterpolar": [
           {
            "marker": {
             "colorbar": {
              "outlinewidth": 0,
              "ticks": ""
             }
            },
            "type": "scatterpolar"
           }
          ],
          "scatterpolargl": [
           {
            "marker": {
             "colorbar": {
              "outlinewidth": 0,
              "ticks": ""
             }
            },
            "type": "scatterpolargl"
           }
          ],
          "scatterternary": [
           {
            "marker": {
             "colorbar": {
              "outlinewidth": 0,
              "ticks": ""
             }
            },
            "type": "scatterternary"
           }
          ],
          "surface": [
           {
            "colorbar": {
             "outlinewidth": 0,
             "ticks": ""
            },
            "colorscale": [
             [
              0,
              "#0d0887"
             ],
             [
              0.1111111111111111,
              "#46039f"
             ],
             [
              0.2222222222222222,
              "#7201a8"
             ],
             [
              0.3333333333333333,
              "#9c179e"
             ],
             [
              0.4444444444444444,
              "#bd3786"
             ],
             [
              0.5555555555555556,
              "#d8576b"
             ],
             [
              0.6666666666666666,
              "#ed7953"
             ],
             [
              0.7777777777777778,
              "#fb9f3a"
             ],
             [
              0.8888888888888888,
              "#fdca26"
             ],
             [
              1,
              "#f0f921"
             ]
            ],
            "type": "surface"
           }
          ],
          "table": [
           {
            "cells": {
             "fill": {
              "color": "#EBF0F8"
             },
             "line": {
              "color": "white"
             }
            },
            "header": {
             "fill": {
              "color": "#C8D4E3"
             },
             "line": {
              "color": "white"
             }
            },
            "type": "table"
           }
          ]
         },
         "layout": {
          "annotationdefaults": {
           "arrowcolor": "#2a3f5f",
           "arrowhead": 0,
           "arrowwidth": 1
          },
          "autotypenumbers": "strict",
          "coloraxis": {
           "colorbar": {
            "outlinewidth": 0,
            "ticks": ""
           }
          },
          "colorscale": {
           "diverging": [
            [
             0,
             "#8e0152"
            ],
            [
             0.1,
             "#c51b7d"
            ],
            [
             0.2,
             "#de77ae"
            ],
            [
             0.3,
             "#f1b6da"
            ],
            [
             0.4,
             "#fde0ef"
            ],
            [
             0.5,
             "#f7f7f7"
            ],
            [
             0.6,
             "#e6f5d0"
            ],
            [
             0.7,
             "#b8e186"
            ],
            [
             0.8,
             "#7fbc41"
            ],
            [
             0.9,
             "#4d9221"
            ],
            [
             1,
             "#276419"
            ]
           ],
           "sequential": [
            [
             0,
             "#0d0887"
            ],
            [
             0.1111111111111111,
             "#46039f"
            ],
            [
             0.2222222222222222,
             "#7201a8"
            ],
            [
             0.3333333333333333,
             "#9c179e"
            ],
            [
             0.4444444444444444,
             "#bd3786"
            ],
            [
             0.5555555555555556,
             "#d8576b"
            ],
            [
             0.6666666666666666,
             "#ed7953"
            ],
            [
             0.7777777777777778,
             "#fb9f3a"
            ],
            [
             0.8888888888888888,
             "#fdca26"
            ],
            [
             1,
             "#f0f921"
            ]
           ],
           "sequentialminus": [
            [
             0,
             "#0d0887"
            ],
            [
             0.1111111111111111,
             "#46039f"
            ],
            [
             0.2222222222222222,
             "#7201a8"
            ],
            [
             0.3333333333333333,
             "#9c179e"
            ],
            [
             0.4444444444444444,
             "#bd3786"
            ],
            [
             0.5555555555555556,
             "#d8576b"
            ],
            [
             0.6666666666666666,
             "#ed7953"
            ],
            [
             0.7777777777777778,
             "#fb9f3a"
            ],
            [
             0.8888888888888888,
             "#fdca26"
            ],
            [
             1,
             "#f0f921"
            ]
           ]
          },
          "colorway": [
           "#636efa",
           "#EF553B",
           "#00cc96",
           "#ab63fa",
           "#FFA15A",
           "#19d3f3",
           "#FF6692",
           "#B6E880",
           "#FF97FF",
           "#FECB52"
          ],
          "font": {
           "color": "#2a3f5f"
          },
          "geo": {
           "bgcolor": "white",
           "lakecolor": "white",
           "landcolor": "#E5ECF6",
           "showlakes": true,
           "showland": true,
           "subunitcolor": "white"
          },
          "hoverlabel": {
           "align": "left"
          },
          "hovermode": "closest",
          "mapbox": {
           "style": "light"
          },
          "paper_bgcolor": "white",
          "plot_bgcolor": "#E5ECF6",
          "polar": {
           "angularaxis": {
            "gridcolor": "white",
            "linecolor": "white",
            "ticks": ""
           },
           "bgcolor": "#E5ECF6",
           "radialaxis": {
            "gridcolor": "white",
            "linecolor": "white",
            "ticks": ""
           }
          },
          "scene": {
           "xaxis": {
            "backgroundcolor": "#E5ECF6",
            "gridcolor": "white",
            "gridwidth": 2,
            "linecolor": "white",
            "showbackground": true,
            "ticks": "",
            "zerolinecolor": "white"
           },
           "yaxis": {
            "backgroundcolor": "#E5ECF6",
            "gridcolor": "white",
            "gridwidth": 2,
            "linecolor": "white",
            "showbackground": true,
            "ticks": "",
            "zerolinecolor": "white"
           },
           "zaxis": {
            "backgroundcolor": "#E5ECF6",
            "gridcolor": "white",
            "gridwidth": 2,
            "linecolor": "white",
            "showbackground": true,
            "ticks": "",
            "zerolinecolor": "white"
           }
          },
          "shapedefaults": {
           "line": {
            "color": "#2a3f5f"
           }
          },
          "ternary": {
           "aaxis": {
            "gridcolor": "white",
            "linecolor": "white",
            "ticks": ""
           },
           "baxis": {
            "gridcolor": "white",
            "linecolor": "white",
            "ticks": ""
           },
           "bgcolor": "#E5ECF6",
           "caxis": {
            "gridcolor": "white",
            "linecolor": "white",
            "ticks": ""
           }
          },
          "title": {
           "x": 0.05
          },
          "xaxis": {
           "automargin": true,
           "gridcolor": "white",
           "linecolor": "white",
           "ticks": "",
           "title": {
            "standoff": 15
           },
           "zerolinecolor": "white",
           "zerolinewidth": 2
          },
          "yaxis": {
           "automargin": true,
           "gridcolor": "white",
           "linecolor": "white",
           "ticks": "",
           "title": {
            "standoff": 15
           },
           "zerolinecolor": "white",
           "zerolinewidth": 2
          }
         }
        },
        "title": {
         "text": "Optimization History Plot"
        },
        "xaxis": {
         "title": {
          "text": "Trial"
         }
        },
        "yaxis": {
         "title": {
          "text": "Objective Value"
         }
        }
       }
      }
     },
     "metadata": {},
     "output_type": "display_data"
    }
   ],
   "source": [
    "import optuna\n",
    "\n",
    "# 目的関数の定義\n",
    "def objective(trial):\n",
    "    x = trial.suggest_float('x', -10, 10)\n",
    "    return (x - 2) ** 2\n",
    "\n",
    "# TPE Samplerの指定\n",
    "sampler = optuna.samplers.TPESampler()\n",
    "\n",
    "# ログレベルをINFOに設定して詳細な出力を有効にする\n",
    "# optuna.logging.set_verbosity(optuna.logging.ERROR)\n",
    "optuna.logging.set_verbosity(optuna.logging.INFO)\n",
    "\n",
    "# スタディの作成\n",
    "study = optuna.create_study(direction='minimize', sampler=sampler)\n",
    "study.optimize(objective, n_trials=5)\n",
    "\n",
    "# 結果の表示\n",
    "print(f'Best value: {study.best_value}')\n",
    "print(f'Best params: {study.best_params}')\n",
    "print()\n",
    "print()\n",
    "\n",
    "# 可視化\n",
    "optuna.visualization.plot_optimization_history(study).show()"
   ]
  },
  {
   "cell_type": "code",
   "execution_count": null,
   "metadata": {},
   "outputs": [],
   "source": []
  },
  {
   "cell_type": "code",
   "execution_count": 13,
   "metadata": {},
   "outputs": [],
   "source": [
    "\n",
    "\n"
   ]
  },
  {
   "cell_type": "code",
   "execution_count": null,
   "metadata": {},
   "outputs": [],
   "source": []
  },
  {
   "cell_type": "code",
   "execution_count": 14,
   "metadata": {},
   "outputs": [],
   "source": [
    "from src.utils_warcraft import navigate_through_matrix\n",
    "from src.utils_warcraft import manhattan_distance\n",
    "\n",
    "\n",
    "def objective(trial):\n",
    "    map_shape = (3,3)\n",
    "\n",
    "    weights = np.array(\n",
    "        [\n",
    "            [0.1, 0.4, 0.9],\n",
    "            [0.4, 0.1, 0.4],\n",
    "            [0.9, 0.4, 0.1]\n",
    "        ]\n",
    "    )\n",
    "\n",
    "    def _sample_objective_variables(map_shape=map_shape):\n",
    "        directions = ['oo', 'ab', 'ac', 'ad', 'bc', 'bd', 'cd'] # search space\n",
    "        direction_matrix = np.zeros(map_shape, dtype=object)\n",
    "        for i in range(map_shape[0]):\n",
    "            for j in range(map_shape[1]):\n",
    "                direction_matrix[i, j] = trial.suggest_categorical(f'({i},{j})', directions)\n",
    "        return direction_matrix\n",
    "\n",
    "    direction_matrix = _sample_objective_variables()\n",
    "    print(f'direction matrix:\\n{direction_matrix}\\n\\n')\n",
    "\n",
    "    start = (0,0)\n",
    "    goal = (map_shape[0]-1, map_shape[1]-1)\n",
    "    history = navigate_through_matrix(direction_matrix, start, goal)\n",
    "\n",
    "    if history:\n",
    "        path_weight = sum(weights[coord] for coord in history)\n",
    "        norm_const = manhattan_distance(start, goal)\n",
    "        score1 = 1 - manhattan_distance(history[-1], goal) / norm_const + path_weight\n",
    "    else:\n",
    "        score1 = 1\n",
    "\n",
    "    # Compute the score\n",
    "    score2 = 0.0\n",
    "    for i in range(3):\n",
    "        for j in range(3):\n",
    "            direction = direction_matrix[i, j]\n",
    "            if direction == 'oo':\n",
    "                continue\n",
    "            score2 += weights[i, j]\n",
    "    \n",
    "    return score1 + score2"
   ]
  },
  {
   "cell_type": "code",
   "execution_count": 15,
   "metadata": {},
   "outputs": [],
   "source": [
    "import numpy as np\n",
    "from src.utils_warcraft import navigate_through_matrix, manhattan_distance\n",
    "\n",
    "\n",
    "class BaseObjective:\n",
    "    def __init__(self):\n",
    "        raise NotImplementedError(\"Subclasses should implement this method\")\n",
    "\n",
    "    def sample(self, trial):\n",
    "        raise NotImplementedError(\"Subclasses should implement this method\")\n",
    "\n",
    "    def evaluate(self):\n",
    "        raise NotImplementedError(\"Subclasses should implement this method\")\n",
    "\n",
    "    def __call__(self, trial):\n",
    "        raise NotImplementedError(\"Subclasses should implement this method\")\n",
    "    \n",
    "\n",
    "class WarcraftObjective(BaseObjective):\n",
    "    def __init__(self, weight_matrix: np.ndarray):\n",
    "        self.map_shape = weight_matrix.shape\n",
    "        self.weights = weight_matrix\n",
    "\n",
    "    def sample(self, trial):\n",
    "        directions = ['oo', 'ab', 'ac', 'ad', 'bc', 'bd', 'cd']  # search space\n",
    "        direction_matrix = np.zeros(self.map_shape, dtype=object)\n",
    "        for i in range(self.map_shape[0]):\n",
    "            for j in range(self.map_shape[1]):\n",
    "                direction_matrix[i, j] = trial.suggest_categorical(f'({i},{j})', directions)\n",
    "        self.direction_matrix = direction_matrix\n",
    "\n",
    "    def evaluate(self):\n",
    "        start = (0, 0)\n",
    "        goal = (self.map_shape[0] - 1, self.map_shape[1] - 1)\n",
    "        history = navigate_through_matrix(self.direction_matrix, start, goal)\n",
    "\n",
    "        if history:\n",
    "            path_weight = sum(self.weights[coord] for coord in history)\n",
    "            norm_const = manhattan_distance(start, goal)\n",
    "            loss1 = 1 - manhattan_distance(history[-1], goal) / norm_const + path_weight\n",
    "        else:\n",
    "            loss1 = 1\n",
    "\n",
    "        mask = self.direction_matrix != 'oo'\n",
    "        loss2 = self.weights[mask].sum()\n",
    "        \n",
    "        return loss1 + loss2\n",
    "\n",
    "    def __call__(self, trial):\n",
    "        self.sample(trial)\n",
    "        print(f'direction matrix:\\n{self.direction_matrix}\\n\\n')\n",
    "        return self.evaluate()"
   ]
  },
  {
   "cell_type": "code",
   "execution_count": null,
   "metadata": {},
   "outputs": [],
   "source": [
    "import numpy as np\n",
    "from src.utils_warcraft import navigate_through_matrix, manhattan_distance\n",
    "\n",
    "class BaseObjective:\n",
    "    def __init__(self):\n",
    "        raise NotImplementedError(\"Subclasses should implement this method\")\n",
    "\n",
    "    def sample(self, trial):\n",
    "        raise NotImplementedError(\"Subclasses should implement this method\")\n",
    "\n",
    "    def evaluate(self):\n",
    "        raise NotImplementedError(\"Subclasses should implement this method\")\n",
    "\n",
    "    def __call__(self, trial):\n",
    "        raise NotImplementedError(\"Subclasses should implement this method\")\n",
    "\n",
    "class WarcraftObjective(BaseObjective):\n",
    "    def __init__(self, weight_matrix: np.ndarray):\n",
    "        self.map_shape = weight_matrix.shape\n",
    "        self.weights = weight_matrix\n",
    "\n",
    "    def sample(self, trial):\n",
    "        directions = ['oo', 'ab', 'ac', 'ad', 'bc', 'bd', 'cd']  # search space\n",
    "        direction_matrix = np.zeros(self.map_shape, dtype=object)\n",
    "        for i in range(self.map_shape[0]):\n",
    "            for j in range(self.map_shape[1]):\n",
    "                direction_matrix[i, j] = trial.suggest_categorical(f'({i},{j})', directions)\n",
    "        self.direction_matrix = direction_matrix\n",
    "\n",
    "    def evaluate(self):\n",
    "        start = (0, 0)\n",
    "        goal = (self.map_shape[0] - 1, self.map_shape[1] - 1)\n",
    "        history = navigate_through_matrix(self.direction_matrix, start, goal)\n",
    "\n",
    "        if history:\n",
    "            path_weight = sum(self.weights[coord] for coord in history)\n",
    "            norm_const = manhattan_distance(start, goal)\n",
    "            loss1 = 1 - manhattan_distance(history[-1], goal) / norm_const + path_weight\n",
    "        else:\n",
    "            loss1 = 1\n",
    "\n",
    "        mask = self.direction_matrix != 'oo'\n",
    "        loss2 = self.weights[mask].sum()\n",
    "        \n",
    "        return loss1 + loss2\n",
    "\n",
    "    def __call__(self, trial):\n",
    "        self.sample(trial)\n",
    "        print(f'direction matrix:\\n{self.direction_matrix}\\n\\n')\n",
    "        return self.evaluate()"
   ]
  },
  {
   "cell_type": "code",
   "execution_count": null,
   "metadata": {},
   "outputs": [],
   "source": [
    "# Import required libs.\n",
    "import numpy as np\n",
    "import optuna\n",
    "import pickle\n",
    "import plotly.graph_objects as go\n",
    "import itertools\n",
    "\n",
    "\n",
    "def objective(trial):\n",
    "    \"\"\"目的関数を定義する。ここで、パラメータx, yを探索する範囲を指定する。ここでは、例として、`-5 < x, y < 5と`を指定。\"\"\"\n",
    "    x = trial.suggest_float(name=\"x\", low=-5.0, high=5.0, step=0.1)\n",
    "    y = trial.suggest_float(name=\"y\", low=-5.0, high=5.0, step=0.1)\n",
    "    return _sphereFunction(x=x, y=y)\n",
    "\n",
    "def _sphereFunction(x, y):\n",
    "    \"\"\"f(x, y) = x^2 + y^2の値を返す関数を定義する。目的関数を、簡単に、変えられるように、このような形にしている。\"\"\"\n",
    "    return pow(x, 2) + pow(y, 2)\n",
    "\n",
    "\n",
    "# Create study for function optimization.\n",
    "study = optuna.create_study()\n",
    "\n",
    "# Run additional 10 trials. We can continue optimization just by calling optimize() using same study object. \n",
    "n_trials = 10\n",
    "study.optimize(objective, n_trials=n_trials)\n",
    "\n",
    "# Run additional trials in 1 seconds. We can continue optimization just by calling optimize() using same study object. \n",
    "timeout = 1.0\n",
    "study.optimize(objective, timeout=timeout)\n",
    "\n",
    "# Show optimization result. The results of previous trials is also included in the figure.\n",
    "print(f\"  Optimized value : {study.best_value}\")\n",
    "print(f\"  Parameters : {study.best_params}\")\n",
    "\n",
    "def toPickle(obj, path_to_pickle):\n",
    "    \"\"\"objをPickleファイルとして保存する。\"\"\"\n",
    "    with open(path_to_pickle, \"wb\") as fout:\n",
    "        pickle.dump(obj, fout)\n",
    "\n",
    "# Save optimization history (study object) as pickle file.\n",
    "path_to_study = \"/kaggle/working/study.pkl\"\n",
    "toPickle(obj=study, path_to_pickle=path_to_study)\n",
    "!ls {path_to_study}\n",
    "\n",
    "def fromPickle(path_to_pickle):\n",
    "    \"\"\"Load obj from pickle file.\"\"\"\n",
    "    with open(path_to_pickle, \"rb\") as fin:\n",
    "        return pickle.load(fin)\n",
    "\n",
    "# Reload saved study object and restart optimization (Run additional 1000 trials. It is\n",
    "# meaningless calculation, just an example for showing how to restart optimization.).\n",
    "study_from_pickle = fromPickle(path_to_pickle=path_to_study)\n",
    "n_trials = 1000\n",
    "study_from_pickle.optimize(objective, n_trials=n_trials)\n",
    "\n"
   ]
  },
  {
   "cell_type": "code",
   "execution_count": null,
   "metadata": {},
   "outputs": [],
   "source": []
  },
  {
   "cell_type": "code",
   "execution_count": null,
   "metadata": {},
   "outputs": [],
   "source": []
  },
  {
   "cell_type": "code",
   "execution_count": null,
   "metadata": {},
   "outputs": [],
   "source": []
  },
  {
   "cell_type": "code",
   "execution_count": null,
   "metadata": {},
   "outputs": [],
   "source": []
  },
  {
   "cell_type": "code",
   "execution_count": null,
   "metadata": {},
   "outputs": [],
   "source": []
  }
 ],
 "metadata": {
  "kernelspec": {
   "display_name": "bo-env",
   "language": "python",
   "name": "python3"
  },
  "language_info": {
   "codemirror_mode": {
    "name": "ipython",
    "version": 3
   },
   "file_extension": ".py",
   "mimetype": "text/x-python",
   "name": "python",
   "nbconvert_exporter": "python",
   "pygments_lexer": "ipython3",
   "version": "3.12.4"
  }
 },
 "nbformat": 4,
 "nbformat_minor": 2
}

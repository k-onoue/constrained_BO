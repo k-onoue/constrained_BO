{
 "cells": [
  {
   "cell_type": "markdown",
   "metadata": {},
   "source": [
    "# 2024-08-25 の実験結果の可視化"
   ]
  },
  {
   "cell_type": "code",
   "execution_count": 1,
   "metadata": {},
   "outputs": [],
   "source": [
    "%load_ext autoreload\n",
    "%autoreload 2\n",
    "\n",
    "import os\n",
    "import configparser\n",
    "import sys\n",
    "\n",
    "# import numpy as np\n",
    "# import torch\n",
    "\n",
    "# 設定の読み込み\n",
    "config = configparser.ConfigParser()\n",
    "config_path = \"../config.ini\"\n",
    "config.read(config_path)\n",
    "PROJECT_DIR = config[\"paths\"][\"project_dir\"]\n",
    "LOG_DIR = config[\"paths\"][\"logs_dir\"]\n",
    "sys.path.append(PROJECT_DIR)\n",
    "\n",
    "from src.utils_experiment import OptimLogParser\n",
    "from src.utils_experiment import search_log_files"
   ]
  },
  {
   "cell_type": "code",
   "execution_count": 4,
   "metadata": {},
   "outputs": [
    {
     "data": {
      "text/plain": [
       "['2024-08-25_11-06-55_Simple_5d_constrained1.log',\n",
       " '2024-08-25_11-07-27_Simple_5d_constrained1.log',\n",
       " '2024-08-25_11-10-53_Simple_5d_constrained1.log',\n",
       " '2024-08-25_11-15-15_Simple_5d_constrained1.log',\n",
       " '2024-08-25_11-18-02_Simple_5d_constrained1.log',\n",
       " '2024-08-25_11-20-22_Simple_5d_constrained1.log',\n",
       " '2024-08-25_11-26-42_Simple_5d_constrained1.log',\n",
       " '2024-08-25_11-27-01_Simple_5d_constrained1.log',\n",
       " '2024-08-25_11-28-27_Simple_5d_constrained1.log',\n",
       " '2024-08-25_11-29-39_Simple_5d_constrained1.log',\n",
       " '2024-08-25_11-34-10_Griewank_3d_strictly_constrained1.log',\n",
       " '2024-08-25_11-43-16_Griewank_3d_strictly_constrained1.log',\n",
       " '2024-08-25_13-54-54_Warcraft_3x4_constrained1.log',\n",
       " '2024-08-25_14-26-45_Warcraft_3x4_constrained1.log',\n",
       " '2024-08-25_14-43-43_Warcraft_3x4_constrained1.log',\n",
       " '2024-08-25_15-10-19_Simple_5d_constrained2.log',\n",
       " '2024-08-25_15-43-40_Simple_5d_constrained3.log',\n",
       " '2024-08-25_15-53-17_Simple_5d_constrained3.log',\n",
       " '2024-08-25_16-07-50_Simple_5d_constrained3.log',\n",
       " '2024-08-25_17-32-08_Simple_5d_constrained5.log']"
      ]
     },
     "execution_count": 4,
     "metadata": {},
     "output_type": "execute_result"
    }
   ],
   "source": [
    "search_log_files(LOG_DIR, [\"2024-08-25\"])"
   ]
  },
  {
   "cell_type": "code",
   "execution_count": 2,
   "metadata": {},
   "outputs": [
    {
     "data": {
      "text/plain": [
       "['2024-08-25_11-06-55_Simple_5d_constrained1.log',\n",
       " '2024-08-25_11-07-27_Simple_5d_constrained1.log',\n",
       " '2024-08-25_11-10-53_Simple_5d_constrained1.log',\n",
       " '2024-08-25_11-15-15_Simple_5d_constrained1.log',\n",
       " '2024-08-25_11-18-02_Simple_5d_constrained1.log',\n",
       " '2024-08-25_11-20-22_Simple_5d_constrained1.log',\n",
       " '2024-08-25_11-26-42_Simple_5d_constrained1.log',\n",
       " '2024-08-25_11-27-01_Simple_5d_constrained1.log',\n",
       " '2024-08-25_11-28-27_Simple_5d_constrained1.log',\n",
       " '2024-08-25_11-29-39_Simple_5d_constrained1.log',\n",
       " '2024-08-25_15-10-19_Simple_5d_constrained2.log',\n",
       " '2024-08-25_15-43-40_Simple_5d_constrained3.log',\n",
       " '2024-08-25_15-53-17_Simple_5d_constrained3.log',\n",
       " '2024-08-25_16-07-50_Simple_5d_constrained3.log',\n",
       " '2024-08-25_17-32-08_Simple_5d_constrained5.log']"
      ]
     },
     "execution_count": 2,
     "metadata": {},
     "output_type": "execute_result"
    }
   ],
   "source": [
    "search_log_files(LOG_DIR, [\"2024-08-25\", \"Simple\"])"
   ]
  },
  {
   "cell_type": "code",
   "execution_count": null,
   "metadata": {},
   "outputs": [],
   "source": []
  }
 ],
 "metadata": {
  "kernelspec": {
   "display_name": "bo-env",
   "language": "python",
   "name": "python3"
  },
  "language_info": {
   "codemirror_mode": {
    "name": "ipython",
    "version": 3
   },
   "file_extension": ".py",
   "mimetype": "text/x-python",
   "name": "python",
   "nbconvert_exporter": "python",
   "pygments_lexer": "ipython3",
   "version": "3.12.5"
  }
 },
 "nbformat": 4,
 "nbformat_minor": 2
}

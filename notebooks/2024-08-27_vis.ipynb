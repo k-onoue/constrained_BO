{
 "cells": [
  {
   "cell_type": "markdown",
   "metadata": {},
   "source": [
    "# 2024-08-25 の実験結果の可視化"
   ]
  },
  {
   "cell_type": "code",
   "execution_count": 1,
   "metadata": {},
   "outputs": [],
   "source": [
    "%load_ext autoreload\n",
    "%autoreload 2\n",
    "\n",
    "import os\n",
    "import configparser\n",
    "import sys\n",
    "\n",
    "# import numpy as np\n",
    "# import torch\n",
    "\n",
    "# 設定の読み込み\n",
    "config = configparser.ConfigParser()\n",
    "config_path = \"../config.ini\"\n",
    "config.read(config_path)\n",
    "PROJECT_DIR = config[\"paths\"][\"project_dir\"]\n",
    "LOG_DIR = config[\"paths\"][\"logs_dir\"]\n",
    "sys.path.append(PROJECT_DIR)\n",
    "\n",
    "from src.utils_experiment import OptimLogParser\n",
    "from src.utils_experiment import search_log_files"
   ]
  },
  {
   "cell_type": "code",
   "execution_count": 4,
   "metadata": {},
   "outputs": [
    {
     "data": {
      "text/plain": [
       "['2024-08-25_11-06-55_Simple_5d_constrained1.log',\n",
       " '2024-08-25_11-07-27_Simple_5d_constrained1.log',\n",
       " '2024-08-25_11-10-53_Simple_5d_constrained1.log',\n",
       " '2024-08-25_11-15-15_Simple_5d_constrained1.log',\n",
       " '2024-08-25_11-18-02_Simple_5d_constrained1.log',\n",
       " '2024-08-25_11-20-22_Simple_5d_constrained1.log',\n",
       " '2024-08-25_11-26-42_Simple_5d_constrained1.log',\n",
       " '2024-08-25_11-27-01_Simple_5d_constrained1.log',\n",
       " '2024-08-25_11-28-27_Simple_5d_constrained1.log',\n",
       " '2024-08-25_11-29-39_Simple_5d_constrained1.log',\n",
       " '2024-08-25_11-34-10_Griewank_3d_strictly_constrained1.log',\n",
       " '2024-08-25_11-43-16_Griewank_3d_strictly_constrained1.log',\n",
       " '2024-08-25_13-54-54_Warcraft_3x4_constrained1.log',\n",
       " '2024-08-25_14-26-45_Warcraft_3x4_constrained1.log',\n",
       " '2024-08-25_14-43-43_Warcraft_3x4_constrained1.log',\n",
       " '2024-08-25_15-10-19_Simple_5d_constrained2.log',\n",
       " '2024-08-25_15-43-40_Simple_5d_constrained3.log',\n",
       " '2024-08-25_15-53-17_Simple_5d_constrained3.log',\n",
       " '2024-08-25_16-07-50_Simple_5d_constrained3.log',\n",
       " '2024-08-25_17-32-08_Simple_5d_constrained5.log']"
      ]
     },
     "execution_count": 4,
     "metadata": {},
     "output_type": "execute_result"
    }
   ],
   "source": [
    "search_log_files(LOG_DIR, [\"2024-08-25\"])"
   ]
  },
  {
   "cell_type": "code",
   "execution_count": 2,
   "metadata": {},
   "outputs": [
    {
     "data": {
      "text/plain": [
       "['2024-08-25_11-06-55_Simple_5d_constrained1.log',\n",
       " '2024-08-25_11-07-27_Simple_5d_constrained1.log',\n",
       " '2024-08-25_11-10-53_Simple_5d_constrained1.log',\n",
       " '2024-08-25_11-15-15_Simple_5d_constrained1.log',\n",
       " '2024-08-25_11-18-02_Simple_5d_constrained1.log',\n",
       " '2024-08-25_11-20-22_Simple_5d_constrained1.log',\n",
       " '2024-08-25_11-26-42_Simple_5d_constrained1.log',\n",
       " '2024-08-25_11-27-01_Simple_5d_constrained1.log',\n",
       " '2024-08-25_11-28-27_Simple_5d_constrained1.log',\n",
       " '2024-08-25_11-29-39_Simple_5d_constrained1.log',\n",
       " '2024-08-25_15-10-19_Simple_5d_constrained2.log',\n",
       " '2024-08-25_15-43-40_Simple_5d_constrained3.log',\n",
       " '2024-08-25_15-53-17_Simple_5d_constrained3.log',\n",
       " '2024-08-25_16-07-50_Simple_5d_constrained3.log',\n",
       " '2024-08-25_17-32-08_Simple_5d_constrained5.log']"
      ]
     },
     "execution_count": 2,
     "metadata": {},
     "output_type": "execute_result"
    }
   ],
   "source": [
    "search_log_files(LOG_DIR, [\"2024-08-25\", \"Simple\"])"
   ]
  },
  {
   "cell_type": "code",
   "execution_count": 8,
   "metadata": {},
   "outputs": [
    {
     "name": "stdout",
     "output_type": "stream",
     "text": [
      "{'name': 'Simple_5d_constrained5', 'device': 'cpu', 'bo_iter': 1000, 'initial_data_size': 10, 'model': {'hidden_unit_size': 64, 'num_hidden_layers': 3}, 'model_optim': {'num_epochs': 1000, 'learning_rate': 0.01}, 'acquisition_optim': {'beta': 0.1, 'num_restarts': 5, 'raw_samples': 20}, 'memo': 'try clipping for numarical stability'}\n"
     ]
    },
    {
     "data": {
      "text/html": [
       "<div>\n",
       "<style scoped>\n",
       "    .dataframe tbody tr th:only-of-type {\n",
       "        vertical-align: middle;\n",
       "    }\n",
       "\n",
       "    .dataframe tbody tr th {\n",
       "        vertical-align: top;\n",
       "    }\n",
       "\n",
       "    .dataframe thead th {\n",
       "        text-align: right;\n",
       "    }\n",
       "</style>\n",
       "<table border=\"1\" class=\"dataframe\">\n",
       "  <thead>\n",
       "    <tr style=\"text-align: right;\">\n",
       "      <th></th>\n",
       "      <th>candidate</th>\n",
       "      <th>function_value</th>\n",
       "      <th>final_training_loss</th>\n",
       "    </tr>\n",
       "  </thead>\n",
       "  <tbody>\n",
       "    <tr>\n",
       "      <th>0</th>\n",
       "      <td>[5. 3. 3. 1. 2.],</td>\n",
       "      <td>-48.0</td>\n",
       "      <td>0.0</td>\n",
       "    </tr>\n",
       "    <tr>\n",
       "      <th>1</th>\n",
       "      <td>[4. 9. 8. 7. 8.],</td>\n",
       "      <td>-274.0</td>\n",
       "      <td>0.0</td>\n",
       "    </tr>\n",
       "    <tr>\n",
       "      <th>2</th>\n",
       "      <td>[ -9.   0. -10.   9.   8.],</td>\n",
       "      <td>-326.0</td>\n",
       "      <td>0.0</td>\n",
       "    </tr>\n",
       "    <tr>\n",
       "      <th>3</th>\n",
       "      <td>[-7. -1.  4. -5.  1.],</td>\n",
       "      <td>-92.0</td>\n",
       "      <td>0.0</td>\n",
       "    </tr>\n",
       "    <tr>\n",
       "      <th>4</th>\n",
       "      <td>[-2.  1.  9. -1. -2.],</td>\n",
       "      <td>-91.0</td>\n",
       "      <td>0.0</td>\n",
       "    </tr>\n",
       "  </tbody>\n",
       "</table>\n",
       "</div>"
      ],
      "text/plain": [
       "                     candidate  function_value  final_training_loss\n",
       "0            [5. 3. 3. 1. 2.],           -48.0                  0.0\n",
       "1            [4. 9. 8. 7. 8.],          -274.0                  0.0\n",
       "2  [ -9.   0. -10.   9.   8.],          -326.0                  0.0\n",
       "3       [-7. -1.  4. -5.  1.],           -92.0                  0.0\n",
       "4       [-2.  1.  9. -1. -2.],           -91.0                  0.0"
      ]
     },
     "metadata": {},
     "output_type": "display_data"
    },
    {
     "data": {
      "text/html": [
       "<div>\n",
       "<style scoped>\n",
       "    .dataframe tbody tr th:only-of-type {\n",
       "        vertical-align: middle;\n",
       "    }\n",
       "\n",
       "    .dataframe tbody tr th {\n",
       "        vertical-align: top;\n",
       "    }\n",
       "\n",
       "    .dataframe thead th {\n",
       "        text-align: right;\n",
       "    }\n",
       "</style>\n",
       "<table border=\"1\" class=\"dataframe\">\n",
       "  <thead>\n",
       "    <tr style=\"text-align: right;\">\n",
       "      <th></th>\n",
       "      <th>iteration</th>\n",
       "      <th>candidate</th>\n",
       "      <th>acquisition_value</th>\n",
       "      <th>function_value</th>\n",
       "      <th>final_training_loss</th>\n",
       "      <th>iteration_time</th>\n",
       "    </tr>\n",
       "  </thead>\n",
       "  <tbody>\n",
       "    <tr>\n",
       "      <th>0</th>\n",
       "      <td>1</td>\n",
       "      <td>[[-4.  9.  3. -1.  3.]</td>\n",
       "      <td>3.535048</td>\n",
       "      <td>-116.0</td>\n",
       "      <td>0.0</td>\n",
       "      <td>13.7511</td>\n",
       "    </tr>\n",
       "    <tr>\n",
       "      <th>1</th>\n",
       "      <td>2</td>\n",
       "      <td>[[ 7.  9. -5. -9. -7.]</td>\n",
       "      <td>5.334580</td>\n",
       "      <td>-285.0</td>\n",
       "      <td>0.0</td>\n",
       "      <td>14.9813</td>\n",
       "    </tr>\n",
       "    <tr>\n",
       "      <th>2</th>\n",
       "      <td>3</td>\n",
       "      <td>[[-10.   7.  -1.   4.  10.]</td>\n",
       "      <td>3.857408</td>\n",
       "      <td>-266.0</td>\n",
       "      <td>0.0</td>\n",
       "      <td>15.8497</td>\n",
       "    </tr>\n",
       "    <tr>\n",
       "      <th>3</th>\n",
       "      <td>4</td>\n",
       "      <td>[[ 8. -2. -8.  6. -3.]</td>\n",
       "      <td>3.527257</td>\n",
       "      <td>-177.0</td>\n",
       "      <td>0.0</td>\n",
       "      <td>16.8832</td>\n",
       "    </tr>\n",
       "    <tr>\n",
       "      <th>4</th>\n",
       "      <td>5</td>\n",
       "      <td>[[ 8. -8. -5. -9.  2.]</td>\n",
       "      <td>3.375240</td>\n",
       "      <td>-238.0</td>\n",
       "      <td>0.0</td>\n",
       "      <td>17.9353</td>\n",
       "    </tr>\n",
       "  </tbody>\n",
       "</table>\n",
       "</div>"
      ],
      "text/plain": [
       "   iteration                    candidate  acquisition_value  function_value  \\\n",
       "0          1       [[-4.  9.  3. -1.  3.]           3.535048          -116.0   \n",
       "1          2       [[ 7.  9. -5. -9. -7.]           5.334580          -285.0   \n",
       "2          3  [[-10.   7.  -1.   4.  10.]           3.857408          -266.0   \n",
       "3          4       [[ 8. -2. -8.  6. -3.]           3.527257          -177.0   \n",
       "4          5       [[ 8. -8. -5. -9.  2.]           3.375240          -238.0   \n",
       "\n",
       "   final_training_loss  iteration_time  \n",
       "0                  0.0         13.7511  \n",
       "1                  0.0         14.9813  \n",
       "2                  0.0         15.8497  \n",
       "3                  0.0         16.8832  \n",
       "4                  0.0         17.9353  "
      ]
     },
     "metadata": {},
     "output_type": "display_data"
    }
   ],
   "source": [
    "filename = '2024-08-25_17-32-08_Simple_5d_constrained5.log'\n",
    "parser = OptimLogParser(os.path.join(LOG_DIR, filename))\n",
    "parser.parse_log_file()\n",
    "\n",
    "settings = parser.settings\n",
    "initial_data = parser.initial_data\n",
    "bo_data = parser.bo_data\n",
    "\n",
    "print(settings)\n",
    "display(initial_data.head())\n",
    "display(bo_data.head())"
   ]
  },
  {
   "cell_type": "code",
   "execution_count": null,
   "metadata": {},
   "outputs": [],
   "source": []
  },
  {
   "cell_type": "code",
   "execution_count": null,
   "metadata": {},
   "outputs": [],
   "source": []
  },
  {
   "cell_type": "code",
   "execution_count": null,
   "metadata": {},
   "outputs": [],
   "source": []
  },
  {
   "cell_type": "code",
   "execution_count": null,
   "metadata": {},
   "outputs": [],
   "source": []
  },
  {
   "cell_type": "code",
   "execution_count": null,
   "metadata": {},
   "outputs": [],
   "source": []
  },
  {
   "cell_type": "code",
   "execution_count": null,
   "metadata": {},
   "outputs": [],
   "source": []
  },
  {
   "cell_type": "code",
   "execution_count": null,
   "metadata": {},
   "outputs": [],
   "source": []
  },
  {
   "cell_type": "code",
   "execution_count": null,
   "metadata": {},
   "outputs": [],
   "source": []
  },
  {
   "cell_type": "code",
   "execution_count": null,
   "metadata": {},
   "outputs": [],
   "source": []
  },
  {
   "cell_type": "code",
   "execution_count": null,
   "metadata": {},
   "outputs": [],
   "source": []
  },
  {
   "cell_type": "markdown",
   "metadata": {},
   "source": [
    "# 08-27"
   ]
  },
  {
   "cell_type": "code",
   "execution_count": 10,
   "metadata": {},
   "outputs": [
    {
     "data": {
      "text/plain": [
       "['2024-08-27_17-20-53_Simple_5d_constrained_normalized-input.log',\n",
       " '2024-08-27_17-23-18_Simple_5d_constrained_normalized-input.log',\n",
       " '2024-08-27_17-24-35_Simple_5d_constrained_normalized-input.log',\n",
       " '2024-08-27_17-25-32_Simple_5d_constrained_normalized-input.log',\n",
       " '2024-08-27_19-54-03_Simple_5d_constrained_normalized-input.log']"
      ]
     },
     "execution_count": 10,
     "metadata": {},
     "output_type": "execute_result"
    }
   ],
   "source": [
    "search_log_files(LOG_DIR, [\"2024-08-27\"])"
   ]
  },
  {
   "cell_type": "code",
   "execution_count": 11,
   "metadata": {},
   "outputs": [
    {
     "ename": "ValueError",
     "evalue": "All arrays must be of the same length",
     "output_type": "error",
     "traceback": [
      "\u001b[0;31m---------------------------------------------------------------------------\u001b[0m",
      "\u001b[0;31mValueError\u001b[0m                                Traceback (most recent call last)",
      "Cell \u001b[0;32mIn[11], line 3\u001b[0m\n\u001b[1;32m      1\u001b[0m filename \u001b[38;5;241m=\u001b[39m \u001b[38;5;124m'\u001b[39m\u001b[38;5;124m2024-08-27_19-54-03_Simple_5d_constrained_normalized-input.log\u001b[39m\u001b[38;5;124m'\u001b[39m\n\u001b[1;32m      2\u001b[0m parser \u001b[38;5;241m=\u001b[39m OptimLogParser(os\u001b[38;5;241m.\u001b[39mpath\u001b[38;5;241m.\u001b[39mjoin(LOG_DIR, filename))\n\u001b[0;32m----> 3\u001b[0m \u001b[43mparser\u001b[49m\u001b[38;5;241;43m.\u001b[39;49m\u001b[43mparse_log_file\u001b[49m\u001b[43m(\u001b[49m\u001b[43m)\u001b[49m\n\u001b[1;32m      5\u001b[0m settings \u001b[38;5;241m=\u001b[39m parser\u001b[38;5;241m.\u001b[39msettings\n\u001b[1;32m      6\u001b[0m initial_data \u001b[38;5;241m=\u001b[39m parser\u001b[38;5;241m.\u001b[39minitial_data\n",
      "File \u001b[0;32m~/ws/constrained_BO/src/utils_experiment.py:197\u001b[0m, in \u001b[0;36mOptimLogParser.parse_log_file\u001b[0;34m(self)\u001b[0m\n\u001b[1;32m    194\u001b[0m     \u001b[38;5;28;01mwhile\u001b[39;00m \u001b[38;5;28mlen\u001b[39m(\u001b[38;5;28mself\u001b[39m\u001b[38;5;241m.\u001b[39mbo_data[column]) \u001b[38;5;241m<\u001b[39m final_iter:\n\u001b[1;32m    195\u001b[0m         \u001b[38;5;28mself\u001b[39m\u001b[38;5;241m.\u001b[39mbo_data[column]\u001b[38;5;241m.\u001b[39mappend(\u001b[38;5;28;01mNone\u001b[39;00m)\n\u001b[0;32m--> 197\u001b[0m \u001b[38;5;28mself\u001b[39m\u001b[38;5;241m.\u001b[39minitial_data \u001b[38;5;241m=\u001b[39m \u001b[43mpd\u001b[49m\u001b[38;5;241;43m.\u001b[39;49m\u001b[43mDataFrame\u001b[49m\u001b[43m(\u001b[49m\u001b[38;5;28;43mself\u001b[39;49m\u001b[38;5;241;43m.\u001b[39;49m\u001b[43minitial_data\u001b[49m\u001b[43m)\u001b[49m\n\u001b[1;32m    198\u001b[0m \u001b[38;5;28mself\u001b[39m\u001b[38;5;241m.\u001b[39mbo_data \u001b[38;5;241m=\u001b[39m pd\u001b[38;5;241m.\u001b[39mDataFrame(\u001b[38;5;28mself\u001b[39m\u001b[38;5;241m.\u001b[39mbo_data)\n",
      "File \u001b[0;32m~/ws/constrained_BO/bo-env/lib/python3.12/site-packages/pandas/core/frame.py:778\u001b[0m, in \u001b[0;36mDataFrame.__init__\u001b[0;34m(self, data, index, columns, dtype, copy)\u001b[0m\n\u001b[1;32m    772\u001b[0m     mgr \u001b[38;5;241m=\u001b[39m \u001b[38;5;28mself\u001b[39m\u001b[38;5;241m.\u001b[39m_init_mgr(\n\u001b[1;32m    773\u001b[0m         data, axes\u001b[38;5;241m=\u001b[39m{\u001b[38;5;124m\"\u001b[39m\u001b[38;5;124mindex\u001b[39m\u001b[38;5;124m\"\u001b[39m: index, \u001b[38;5;124m\"\u001b[39m\u001b[38;5;124mcolumns\u001b[39m\u001b[38;5;124m\"\u001b[39m: columns}, dtype\u001b[38;5;241m=\u001b[39mdtype, copy\u001b[38;5;241m=\u001b[39mcopy\n\u001b[1;32m    774\u001b[0m     )\n\u001b[1;32m    776\u001b[0m \u001b[38;5;28;01melif\u001b[39;00m \u001b[38;5;28misinstance\u001b[39m(data, \u001b[38;5;28mdict\u001b[39m):\n\u001b[1;32m    777\u001b[0m     \u001b[38;5;66;03m# GH#38939 de facto copy defaults to False only in non-dict cases\u001b[39;00m\n\u001b[0;32m--> 778\u001b[0m     mgr \u001b[38;5;241m=\u001b[39m \u001b[43mdict_to_mgr\u001b[49m\u001b[43m(\u001b[49m\u001b[43mdata\u001b[49m\u001b[43m,\u001b[49m\u001b[43m \u001b[49m\u001b[43mindex\u001b[49m\u001b[43m,\u001b[49m\u001b[43m \u001b[49m\u001b[43mcolumns\u001b[49m\u001b[43m,\u001b[49m\u001b[43m \u001b[49m\u001b[43mdtype\u001b[49m\u001b[38;5;241;43m=\u001b[39;49m\u001b[43mdtype\u001b[49m\u001b[43m,\u001b[49m\u001b[43m \u001b[49m\u001b[43mcopy\u001b[49m\u001b[38;5;241;43m=\u001b[39;49m\u001b[43mcopy\u001b[49m\u001b[43m,\u001b[49m\u001b[43m \u001b[49m\u001b[43mtyp\u001b[49m\u001b[38;5;241;43m=\u001b[39;49m\u001b[43mmanager\u001b[49m\u001b[43m)\u001b[49m\n\u001b[1;32m    779\u001b[0m \u001b[38;5;28;01melif\u001b[39;00m \u001b[38;5;28misinstance\u001b[39m(data, ma\u001b[38;5;241m.\u001b[39mMaskedArray):\n\u001b[1;32m    780\u001b[0m     \u001b[38;5;28;01mfrom\u001b[39;00m \u001b[38;5;21;01mnumpy\u001b[39;00m\u001b[38;5;21;01m.\u001b[39;00m\u001b[38;5;21;01mma\u001b[39;00m \u001b[38;5;28;01mimport\u001b[39;00m mrecords\n",
      "File \u001b[0;32m~/ws/constrained_BO/bo-env/lib/python3.12/site-packages/pandas/core/internals/construction.py:503\u001b[0m, in \u001b[0;36mdict_to_mgr\u001b[0;34m(data, index, columns, dtype, typ, copy)\u001b[0m\n\u001b[1;32m    499\u001b[0m     \u001b[38;5;28;01melse\u001b[39;00m:\n\u001b[1;32m    500\u001b[0m         \u001b[38;5;66;03m# dtype check to exclude e.g. range objects, scalars\u001b[39;00m\n\u001b[1;32m    501\u001b[0m         arrays \u001b[38;5;241m=\u001b[39m [x\u001b[38;5;241m.\u001b[39mcopy() \u001b[38;5;28;01mif\u001b[39;00m \u001b[38;5;28mhasattr\u001b[39m(x, \u001b[38;5;124m\"\u001b[39m\u001b[38;5;124mdtype\u001b[39m\u001b[38;5;124m\"\u001b[39m) \u001b[38;5;28;01melse\u001b[39;00m x \u001b[38;5;28;01mfor\u001b[39;00m x \u001b[38;5;129;01min\u001b[39;00m arrays]\n\u001b[0;32m--> 503\u001b[0m \u001b[38;5;28;01mreturn\u001b[39;00m \u001b[43marrays_to_mgr\u001b[49m\u001b[43m(\u001b[49m\u001b[43marrays\u001b[49m\u001b[43m,\u001b[49m\u001b[43m \u001b[49m\u001b[43mcolumns\u001b[49m\u001b[43m,\u001b[49m\u001b[43m \u001b[49m\u001b[43mindex\u001b[49m\u001b[43m,\u001b[49m\u001b[43m \u001b[49m\u001b[43mdtype\u001b[49m\u001b[38;5;241;43m=\u001b[39;49m\u001b[43mdtype\u001b[49m\u001b[43m,\u001b[49m\u001b[43m \u001b[49m\u001b[43mtyp\u001b[49m\u001b[38;5;241;43m=\u001b[39;49m\u001b[43mtyp\u001b[49m\u001b[43m,\u001b[49m\u001b[43m \u001b[49m\u001b[43mconsolidate\u001b[49m\u001b[38;5;241;43m=\u001b[39;49m\u001b[43mcopy\u001b[49m\u001b[43m)\u001b[49m\n",
      "File \u001b[0;32m~/ws/constrained_BO/bo-env/lib/python3.12/site-packages/pandas/core/internals/construction.py:114\u001b[0m, in \u001b[0;36marrays_to_mgr\u001b[0;34m(arrays, columns, index, dtype, verify_integrity, typ, consolidate)\u001b[0m\n\u001b[1;32m    111\u001b[0m \u001b[38;5;28;01mif\u001b[39;00m verify_integrity:\n\u001b[1;32m    112\u001b[0m     \u001b[38;5;66;03m# figure out the index, if necessary\u001b[39;00m\n\u001b[1;32m    113\u001b[0m     \u001b[38;5;28;01mif\u001b[39;00m index \u001b[38;5;129;01mis\u001b[39;00m \u001b[38;5;28;01mNone\u001b[39;00m:\n\u001b[0;32m--> 114\u001b[0m         index \u001b[38;5;241m=\u001b[39m \u001b[43m_extract_index\u001b[49m\u001b[43m(\u001b[49m\u001b[43marrays\u001b[49m\u001b[43m)\u001b[49m\n\u001b[1;32m    115\u001b[0m     \u001b[38;5;28;01melse\u001b[39;00m:\n\u001b[1;32m    116\u001b[0m         index \u001b[38;5;241m=\u001b[39m ensure_index(index)\n",
      "File \u001b[0;32m~/ws/constrained_BO/bo-env/lib/python3.12/site-packages/pandas/core/internals/construction.py:677\u001b[0m, in \u001b[0;36m_extract_index\u001b[0;34m(data)\u001b[0m\n\u001b[1;32m    675\u001b[0m lengths \u001b[38;5;241m=\u001b[39m \u001b[38;5;28mlist\u001b[39m(\u001b[38;5;28mset\u001b[39m(raw_lengths))\n\u001b[1;32m    676\u001b[0m \u001b[38;5;28;01mif\u001b[39;00m \u001b[38;5;28mlen\u001b[39m(lengths) \u001b[38;5;241m>\u001b[39m \u001b[38;5;241m1\u001b[39m:\n\u001b[0;32m--> 677\u001b[0m     \u001b[38;5;28;01mraise\u001b[39;00m \u001b[38;5;167;01mValueError\u001b[39;00m(\u001b[38;5;124m\"\u001b[39m\u001b[38;5;124mAll arrays must be of the same length\u001b[39m\u001b[38;5;124m\"\u001b[39m)\n\u001b[1;32m    679\u001b[0m \u001b[38;5;28;01mif\u001b[39;00m have_dicts:\n\u001b[1;32m    680\u001b[0m     \u001b[38;5;28;01mraise\u001b[39;00m \u001b[38;5;167;01mValueError\u001b[39;00m(\n\u001b[1;32m    681\u001b[0m         \u001b[38;5;124m\"\u001b[39m\u001b[38;5;124mMixing dicts with non-Series may lead to ambiguous ordering.\u001b[39m\u001b[38;5;124m\"\u001b[39m\n\u001b[1;32m    682\u001b[0m     )\n",
      "\u001b[0;31mValueError\u001b[0m: All arrays must be of the same length"
     ]
    }
   ],
   "source": [
    "filename = '2024-08-27_19-54-03_Simple_5d_constrained_normalized-input.log'\n",
    "parser = OptimLogParser(os.path.join(LOG_DIR, filename))\n",
    "parser.parse_log_file()\n",
    "\n",
    "settings = parser.settings\n",
    "initial_data = parser.initial_data\n",
    "bo_data = parser.bo_data\n",
    "\n",
    "print(settings)\n",
    "display(initial_data.head())\n",
    "display(bo_data.head())"
   ]
  },
  {
   "cell_type": "code",
   "execution_count": null,
   "metadata": {},
   "outputs": [],
   "source": []
  },
  {
   "cell_type": "code",
   "execution_count": null,
   "metadata": {},
   "outputs": [],
   "source": []
  },
  {
   "cell_type": "code",
   "execution_count": null,
   "metadata": {},
   "outputs": [],
   "source": []
  },
  {
   "cell_type": "code",
   "execution_count": null,
   "metadata": {},
   "outputs": [],
   "source": []
  },
  {
   "cell_type": "code",
   "execution_count": null,
   "metadata": {},
   "outputs": [],
   "source": []
  }
 ],
 "metadata": {
  "kernelspec": {
   "display_name": "bo-env",
   "language": "python",
   "name": "python3"
  },
  "language_info": {
   "codemirror_mode": {
    "name": "ipython",
    "version": 3
   },
   "file_extension": ".py",
   "mimetype": "text/x-python",
   "name": "python",
   "nbconvert_exporter": "python",
   "pygments_lexer": "ipython3",
   "version": "3.12.5"
  }
 },
 "nbformat": 4,
 "nbformat_minor": 2
}

{
 "cells": [
  {
   "cell_type": "markdown",
   "metadata": {},
   "source": [
    "# 2024-08-25 の実験結果の可視化"
   ]
  },
  {
   "cell_type": "code",
   "execution_count": 72,
   "metadata": {},
   "outputs": [
    {
     "name": "stdout",
     "output_type": "stream",
     "text": [
      "The autoreload extension is already loaded. To reload it, use:\n",
      "  %reload_ext autoreload\n"
     ]
    }
   ],
   "source": [
    "%load_ext autoreload\n",
    "%autoreload 2\n",
    "\n",
    "import os\n",
    "import configparser\n",
    "import sys\n",
    "\n",
    "import numpy as np\n",
    "import pandas as pd\n",
    "# import torch\n",
    "import plotly.graph_objects as go\n",
    "\n",
    "# 設定の読み込み\n",
    "config = configparser.ConfigParser()\n",
    "config_path = \"../config.ini\"\n",
    "config.read(config_path)\n",
    "PROJECT_DIR = config[\"paths\"][\"project_dir\"]\n",
    "LOG_DIR = config[\"paths\"][\"logs_dir\"]\n",
    "sys.path.append(PROJECT_DIR)\n",
    "\n",
    "from src.utils_experiment import OptimLogParser_v1\n",
    "from src.utils_experiment import OptimLogParser\n",
    "from src.utils_experiment import search_log_files"
   ]
  },
  {
   "cell_type": "code",
   "execution_count": 4,
   "metadata": {},
   "outputs": [
    {
     "data": {
      "text/plain": [
       "['2024-08-25_11-06-55_Simple_5d_constrained1.log',\n",
       " '2024-08-25_11-07-27_Simple_5d_constrained1.log',\n",
       " '2024-08-25_11-10-53_Simple_5d_constrained1.log',\n",
       " '2024-08-25_11-15-15_Simple_5d_constrained1.log',\n",
       " '2024-08-25_11-18-02_Simple_5d_constrained1.log',\n",
       " '2024-08-25_11-20-22_Simple_5d_constrained1.log',\n",
       " '2024-08-25_11-26-42_Simple_5d_constrained1.log',\n",
       " '2024-08-25_11-27-01_Simple_5d_constrained1.log',\n",
       " '2024-08-25_11-28-27_Simple_5d_constrained1.log',\n",
       " '2024-08-25_11-29-39_Simple_5d_constrained1.log',\n",
       " '2024-08-25_11-34-10_Griewank_3d_strictly_constrained1.log',\n",
       " '2024-08-25_11-43-16_Griewank_3d_strictly_constrained1.log',\n",
       " '2024-08-25_13-54-54_Warcraft_3x4_constrained1.log',\n",
       " '2024-08-25_14-26-45_Warcraft_3x4_constrained1.log',\n",
       " '2024-08-25_14-43-43_Warcraft_3x4_constrained1.log',\n",
       " '2024-08-25_15-10-19_Simple_5d_constrained2.log',\n",
       " '2024-08-25_15-43-40_Simple_5d_constrained3.log',\n",
       " '2024-08-25_15-53-17_Simple_5d_constrained3.log',\n",
       " '2024-08-25_16-07-50_Simple_5d_constrained3.log',\n",
       " '2024-08-25_17-32-08_Simple_5d_constrained5.log']"
      ]
     },
     "execution_count": 4,
     "metadata": {},
     "output_type": "execute_result"
    }
   ],
   "source": [
    "search_log_files(LOG_DIR, [\"2024-08-25\"])"
   ]
  },
  {
   "cell_type": "code",
   "execution_count": 2,
   "metadata": {},
   "outputs": [
    {
     "data": {
      "text/plain": [
       "['2024-08-25_11-06-55_Simple_5d_constrained1.log',\n",
       " '2024-08-25_11-07-27_Simple_5d_constrained1.log',\n",
       " '2024-08-25_11-10-53_Simple_5d_constrained1.log',\n",
       " '2024-08-25_11-15-15_Simple_5d_constrained1.log',\n",
       " '2024-08-25_11-18-02_Simple_5d_constrained1.log',\n",
       " '2024-08-25_11-20-22_Simple_5d_constrained1.log',\n",
       " '2024-08-25_11-26-42_Simple_5d_constrained1.log',\n",
       " '2024-08-25_11-27-01_Simple_5d_constrained1.log',\n",
       " '2024-08-25_11-28-27_Simple_5d_constrained1.log',\n",
       " '2024-08-25_11-29-39_Simple_5d_constrained1.log',\n",
       " '2024-08-25_15-10-19_Simple_5d_constrained2.log',\n",
       " '2024-08-25_15-43-40_Simple_5d_constrained3.log',\n",
       " '2024-08-25_15-53-17_Simple_5d_constrained3.log',\n",
       " '2024-08-25_16-07-50_Simple_5d_constrained3.log',\n",
       " '2024-08-25_17-32-08_Simple_5d_constrained5.log']"
      ]
     },
     "execution_count": 2,
     "metadata": {},
     "output_type": "execute_result"
    }
   ],
   "source": [
    "search_log_files(LOG_DIR, [\"2024-08-25\", \"Simple\"])"
   ]
  },
  {
   "cell_type": "code",
   "execution_count": 8,
   "metadata": {},
   "outputs": [
    {
     "name": "stdout",
     "output_type": "stream",
     "text": [
      "{'name': 'Simple_5d_constrained5', 'device': 'cpu', 'bo_iter': 1000, 'initial_data_size': 10, 'model': {'hidden_unit_size': 64, 'num_hidden_layers': 3}, 'model_optim': {'num_epochs': 1000, 'learning_rate': 0.01}, 'acquisition_optim': {'beta': 0.1, 'num_restarts': 5, 'raw_samples': 20}, 'memo': 'try clipping for numarical stability'}\n"
     ]
    },
    {
     "data": {
      "text/html": [
       "<div>\n",
       "<style scoped>\n",
       "    .dataframe tbody tr th:only-of-type {\n",
       "        vertical-align: middle;\n",
       "    }\n",
       "\n",
       "    .dataframe tbody tr th {\n",
       "        vertical-align: top;\n",
       "    }\n",
       "\n",
       "    .dataframe thead th {\n",
       "        text-align: right;\n",
       "    }\n",
       "</style>\n",
       "<table border=\"1\" class=\"dataframe\">\n",
       "  <thead>\n",
       "    <tr style=\"text-align: right;\">\n",
       "      <th></th>\n",
       "      <th>candidate</th>\n",
       "      <th>function_value</th>\n",
       "      <th>final_training_loss</th>\n",
       "    </tr>\n",
       "  </thead>\n",
       "  <tbody>\n",
       "    <tr>\n",
       "      <th>0</th>\n",
       "      <td>[5. 3. 3. 1. 2.],</td>\n",
       "      <td>-48.0</td>\n",
       "      <td>0.0</td>\n",
       "    </tr>\n",
       "    <tr>\n",
       "      <th>1</th>\n",
       "      <td>[4. 9. 8. 7. 8.],</td>\n",
       "      <td>-274.0</td>\n",
       "      <td>0.0</td>\n",
       "    </tr>\n",
       "    <tr>\n",
       "      <th>2</th>\n",
       "      <td>[ -9.   0. -10.   9.   8.],</td>\n",
       "      <td>-326.0</td>\n",
       "      <td>0.0</td>\n",
       "    </tr>\n",
       "    <tr>\n",
       "      <th>3</th>\n",
       "      <td>[-7. -1.  4. -5.  1.],</td>\n",
       "      <td>-92.0</td>\n",
       "      <td>0.0</td>\n",
       "    </tr>\n",
       "    <tr>\n",
       "      <th>4</th>\n",
       "      <td>[-2.  1.  9. -1. -2.],</td>\n",
       "      <td>-91.0</td>\n",
       "      <td>0.0</td>\n",
       "    </tr>\n",
       "  </tbody>\n",
       "</table>\n",
       "</div>"
      ],
      "text/plain": [
       "                     candidate  function_value  final_training_loss\n",
       "0            [5. 3. 3. 1. 2.],           -48.0                  0.0\n",
       "1            [4. 9. 8. 7. 8.],          -274.0                  0.0\n",
       "2  [ -9.   0. -10.   9.   8.],          -326.0                  0.0\n",
       "3       [-7. -1.  4. -5.  1.],           -92.0                  0.0\n",
       "4       [-2.  1.  9. -1. -2.],           -91.0                  0.0"
      ]
     },
     "metadata": {},
     "output_type": "display_data"
    },
    {
     "data": {
      "text/html": [
       "<div>\n",
       "<style scoped>\n",
       "    .dataframe tbody tr th:only-of-type {\n",
       "        vertical-align: middle;\n",
       "    }\n",
       "\n",
       "    .dataframe tbody tr th {\n",
       "        vertical-align: top;\n",
       "    }\n",
       "\n",
       "    .dataframe thead th {\n",
       "        text-align: right;\n",
       "    }\n",
       "</style>\n",
       "<table border=\"1\" class=\"dataframe\">\n",
       "  <thead>\n",
       "    <tr style=\"text-align: right;\">\n",
       "      <th></th>\n",
       "      <th>iteration</th>\n",
       "      <th>candidate</th>\n",
       "      <th>acquisition_value</th>\n",
       "      <th>function_value</th>\n",
       "      <th>final_training_loss</th>\n",
       "      <th>iteration_time</th>\n",
       "    </tr>\n",
       "  </thead>\n",
       "  <tbody>\n",
       "    <tr>\n",
       "      <th>0</th>\n",
       "      <td>1</td>\n",
       "      <td>[[-4.  9.  3. -1.  3.]</td>\n",
       "      <td>3.535048</td>\n",
       "      <td>-116.0</td>\n",
       "      <td>0.0</td>\n",
       "      <td>13.7511</td>\n",
       "    </tr>\n",
       "    <tr>\n",
       "      <th>1</th>\n",
       "      <td>2</td>\n",
       "      <td>[[ 7.  9. -5. -9. -7.]</td>\n",
       "      <td>5.334580</td>\n",
       "      <td>-285.0</td>\n",
       "      <td>0.0</td>\n",
       "      <td>14.9813</td>\n",
       "    </tr>\n",
       "    <tr>\n",
       "      <th>2</th>\n",
       "      <td>3</td>\n",
       "      <td>[[-10.   7.  -1.   4.  10.]</td>\n",
       "      <td>3.857408</td>\n",
       "      <td>-266.0</td>\n",
       "      <td>0.0</td>\n",
       "      <td>15.8497</td>\n",
       "    </tr>\n",
       "    <tr>\n",
       "      <th>3</th>\n",
       "      <td>4</td>\n",
       "      <td>[[ 8. -2. -8.  6. -3.]</td>\n",
       "      <td>3.527257</td>\n",
       "      <td>-177.0</td>\n",
       "      <td>0.0</td>\n",
       "      <td>16.8832</td>\n",
       "    </tr>\n",
       "    <tr>\n",
       "      <th>4</th>\n",
       "      <td>5</td>\n",
       "      <td>[[ 8. -8. -5. -9.  2.]</td>\n",
       "      <td>3.375240</td>\n",
       "      <td>-238.0</td>\n",
       "      <td>0.0</td>\n",
       "      <td>17.9353</td>\n",
       "    </tr>\n",
       "  </tbody>\n",
       "</table>\n",
       "</div>"
      ],
      "text/plain": [
       "   iteration                    candidate  acquisition_value  function_value  \\\n",
       "0          1       [[-4.  9.  3. -1.  3.]           3.535048          -116.0   \n",
       "1          2       [[ 7.  9. -5. -9. -7.]           5.334580          -285.0   \n",
       "2          3  [[-10.   7.  -1.   4.  10.]           3.857408          -266.0   \n",
       "3          4       [[ 8. -2. -8.  6. -3.]           3.527257          -177.0   \n",
       "4          5       [[ 8. -8. -5. -9.  2.]           3.375240          -238.0   \n",
       "\n",
       "   final_training_loss  iteration_time  \n",
       "0                  0.0         13.7511  \n",
       "1                  0.0         14.9813  \n",
       "2                  0.0         15.8497  \n",
       "3                  0.0         16.8832  \n",
       "4                  0.0         17.9353  "
      ]
     },
     "metadata": {},
     "output_type": "display_data"
    }
   ],
   "source": [
    "filename = '2024-08-25_17-32-08_Simple_5d_constrained5.log'\n",
    "parser = OptimLogParser(os.path.join(LOG_DIR, filename))\n",
    "parser.parse_log_file()\n",
    "\n",
    "settings = parser.settings\n",
    "initial_data = parser.initial_data\n",
    "bo_data = parser.bo_data\n",
    "\n",
    "print(settings)\n",
    "display(initial_data.head())\n",
    "display(bo_data.head())"
   ]
  },
  {
   "cell_type": "code",
   "execution_count": null,
   "metadata": {},
   "outputs": [],
   "source": []
  },
  {
   "cell_type": "code",
   "execution_count": null,
   "metadata": {},
   "outputs": [],
   "source": []
  },
  {
   "cell_type": "code",
   "execution_count": null,
   "metadata": {},
   "outputs": [],
   "source": []
  },
  {
   "cell_type": "code",
   "execution_count": null,
   "metadata": {},
   "outputs": [],
   "source": []
  },
  {
   "cell_type": "code",
   "execution_count": null,
   "metadata": {},
   "outputs": [],
   "source": []
  },
  {
   "cell_type": "code",
   "execution_count": null,
   "metadata": {},
   "outputs": [],
   "source": []
  },
  {
   "cell_type": "code",
   "execution_count": null,
   "metadata": {},
   "outputs": [],
   "source": []
  },
  {
   "cell_type": "code",
   "execution_count": null,
   "metadata": {},
   "outputs": [],
   "source": []
  },
  {
   "cell_type": "code",
   "execution_count": null,
   "metadata": {},
   "outputs": [],
   "source": []
  },
  {
   "cell_type": "code",
   "execution_count": null,
   "metadata": {},
   "outputs": [],
   "source": []
  },
  {
   "cell_type": "markdown",
   "metadata": {},
   "source": [
    "# 08-27"
   ]
  },
  {
   "cell_type": "code",
   "execution_count": 84,
   "metadata": {},
   "outputs": [
    {
     "data": {
      "text/plain": [
       "['2024-08-27_19-54-03_Simple_5d_constrained_normalized-input.log',\n",
       " '2024-08-27_20-10-06_Simple_5d_constrained2_normalized-input.log',\n",
       " '2024-08-27_20-12-18_Simple_5d_constrained_normalized-input_2.log',\n",
       " '2024-08-27_20-21-21_Simple_5d_constrained2_normalized-input_2.log',\n",
       " '2024-08-27_21-15-16_Simple_5d_unconstrained_normalized-input.log',\n",
       " '2024-08-27_23-53-39_Simple_5d_constrained3_normalized-input.log']"
      ]
     },
     "execution_count": 84,
     "metadata": {},
     "output_type": "execute_result"
    }
   ],
   "source": [
    "search_log_files(LOG_DIR, [\"2024-08-27\"])"
   ]
  },
  {
   "cell_type": "markdown",
   "metadata": {},
   "source": [
    "### visualization for constrained bo"
   ]
  },
  {
   "cell_type": "code",
   "execution_count": 81,
   "metadata": {},
   "outputs": [
    {
     "name": "stdout",
     "output_type": "stream",
     "text": [
      "実験設定\n"
     ]
    },
    {
     "data": {
      "text/plain": [
       "{'name': 'Simple_5d_constrained_normalized-input_2',\n",
       " 'device': 'cpu',\n",
       " 'bo_iter': 1000,\n",
       " 'initial_data_size': 10,\n",
       " 'model': {'hidden_unit_size': 64, 'num_hidden_layers': 3},\n",
       " 'model_optim': {'num_epochs': 1000, 'learning_rate': 0.01},\n",
       " 'acquisition_optim': {'beta': 0.1, 'num_restarts': 5, 'raw_samples': 20},\n",
       " 'memo': 'try input-normalization for numarical stability'}"
      ]
     },
     "metadata": {},
     "output_type": "display_data"
    },
    {
     "name": "stdout",
     "output_type": "stream",
     "text": [
      "\n"
     ]
    },
    {
     "data": {
      "text/html": [
       "<div>\n",
       "<style scoped>\n",
       "    .dataframe tbody tr th:only-of-type {\n",
       "        vertical-align: middle;\n",
       "    }\n",
       "\n",
       "    .dataframe tbody tr th {\n",
       "        vertical-align: top;\n",
       "    }\n",
       "\n",
       "    .dataframe thead th {\n",
       "        text-align: right;\n",
       "    }\n",
       "</style>\n",
       "<table border=\"1\" class=\"dataframe\">\n",
       "  <thead>\n",
       "    <tr style=\"text-align: right;\">\n",
       "      <th></th>\n",
       "      <th>iteration</th>\n",
       "      <th>iteration_time</th>\n",
       "      <th>candidate</th>\n",
       "      <th>function_value</th>\n",
       "      <th>best_f</th>\n",
       "      <th>acquisition_value</th>\n",
       "      <th>surrogate_mean</th>\n",
       "      <th>surrogate_covariance</th>\n",
       "      <th>final_training_loss</th>\n",
       "      <th>constraint</th>\n",
       "      <th>best_f_constrained</th>\n",
       "    </tr>\n",
       "  </thead>\n",
       "  <tbody>\n",
       "    <tr>\n",
       "      <th>0</th>\n",
       "      <td>0</td>\n",
       "      <td>NaN</td>\n",
       "      <td>[[-8.0, 10.0, 0.0, 6.0, -1.0]]</td>\n",
       "      <td>-201.0</td>\n",
       "      <td>-201.0</td>\n",
       "      <td>NaN</td>\n",
       "      <td>NaN</td>\n",
       "      <td>NaN</td>\n",
       "      <td>-5.000016e+06</td>\n",
       "      <td>False</td>\n",
       "      <td>NaN</td>\n",
       "    </tr>\n",
       "    <tr>\n",
       "      <th>1</th>\n",
       "      <td>0</td>\n",
       "      <td>NaN</td>\n",
       "      <td>[[9.0, 6.0, -2.0, 3.0, 2.0]]</td>\n",
       "      <td>-134.0</td>\n",
       "      <td>-134.0</td>\n",
       "      <td>NaN</td>\n",
       "      <td>NaN</td>\n",
       "      <td>NaN</td>\n",
       "      <td>-5.000016e+06</td>\n",
       "      <td>False</td>\n",
       "      <td>NaN</td>\n",
       "    </tr>\n",
       "    <tr>\n",
       "      <th>2</th>\n",
       "      <td>0</td>\n",
       "      <td>NaN</td>\n",
       "      <td>[[0.0, 3.0, 10.0, 9.0, -6.0]]</td>\n",
       "      <td>-226.0</td>\n",
       "      <td>-134.0</td>\n",
       "      <td>NaN</td>\n",
       "      <td>NaN</td>\n",
       "      <td>NaN</td>\n",
       "      <td>-5.000016e+06</td>\n",
       "      <td>False</td>\n",
       "      <td>NaN</td>\n",
       "    </tr>\n",
       "    <tr>\n",
       "      <th>3</th>\n",
       "      <td>0</td>\n",
       "      <td>NaN</td>\n",
       "      <td>[[0.0, -3.0, 8.0, 4.0, 0.0]]</td>\n",
       "      <td>-89.0</td>\n",
       "      <td>-89.0</td>\n",
       "      <td>NaN</td>\n",
       "      <td>NaN</td>\n",
       "      <td>NaN</td>\n",
       "      <td>-5.000016e+06</td>\n",
       "      <td>False</td>\n",
       "      <td>NaN</td>\n",
       "    </tr>\n",
       "    <tr>\n",
       "      <th>4</th>\n",
       "      <td>0</td>\n",
       "      <td>NaN</td>\n",
       "      <td>[[-6.0, 6.0, 7.0, -10.0, 6.0]]</td>\n",
       "      <td>-257.0</td>\n",
       "      <td>-89.0</td>\n",
       "      <td>NaN</td>\n",
       "      <td>NaN</td>\n",
       "      <td>NaN</td>\n",
       "      <td>-5.000016e+06</td>\n",
       "      <td>False</td>\n",
       "      <td>NaN</td>\n",
       "    </tr>\n",
       "    <tr>\n",
       "      <th>...</th>\n",
       "      <td>...</td>\n",
       "      <td>...</td>\n",
       "      <td>...</td>\n",
       "      <td>...</td>\n",
       "      <td>...</td>\n",
       "      <td>...</td>\n",
       "      <td>...</td>\n",
       "      <td>...</td>\n",
       "      <td>...</td>\n",
       "      <td>...</td>\n",
       "      <td>...</td>\n",
       "    </tr>\n",
       "    <tr>\n",
       "      <th>164</th>\n",
       "      <td>165</td>\n",
       "      <td>374.6810</td>\n",
       "      <td>[[-10.0, -10.0, 10.0, -10.0, -10.0]]</td>\n",
       "      <td>-500.0</td>\n",
       "      <td>-89.0</td>\n",
       "      <td>1.000003e+06</td>\n",
       "      <td>1000000.0</td>\n",
       "      <td>100.0</td>\n",
       "      <td>1.801114e+11</td>\n",
       "      <td>True</td>\n",
       "      <td>-313.0</td>\n",
       "    </tr>\n",
       "    <tr>\n",
       "      <th>165</th>\n",
       "      <td>166</td>\n",
       "      <td>377.1107</td>\n",
       "      <td>[[10.0, 10.0, 10.0, 10.0, -10.0]]</td>\n",
       "      <td>-500.0</td>\n",
       "      <td>-89.0</td>\n",
       "      <td>1.000003e+06</td>\n",
       "      <td>1000000.0</td>\n",
       "      <td>100.0</td>\n",
       "      <td>1.826137e+11</td>\n",
       "      <td>True</td>\n",
       "      <td>-313.0</td>\n",
       "    </tr>\n",
       "    <tr>\n",
       "      <th>166</th>\n",
       "      <td>167</td>\n",
       "      <td>379.1051</td>\n",
       "      <td>[[10.0, -10.0, 10.0, -10.0, 10.0]]</td>\n",
       "      <td>-500.0</td>\n",
       "      <td>-89.0</td>\n",
       "      <td>1.000003e+06</td>\n",
       "      <td>1000000.0</td>\n",
       "      <td>100.0</td>\n",
       "      <td>1.826133e+11</td>\n",
       "      <td>False</td>\n",
       "      <td>-313.0</td>\n",
       "    </tr>\n",
       "    <tr>\n",
       "      <th>167</th>\n",
       "      <td>168</td>\n",
       "      <td>381.0732</td>\n",
       "      <td>[[10.0, 10.0, -10.0, 4.0, -10.0]]</td>\n",
       "      <td>-416.0</td>\n",
       "      <td>-89.0</td>\n",
       "      <td>1.000003e+06</td>\n",
       "      <td>1000000.0</td>\n",
       "      <td>100.0</td>\n",
       "      <td>1.851155e+11</td>\n",
       "      <td>True</td>\n",
       "      <td>-313.0</td>\n",
       "    </tr>\n",
       "    <tr>\n",
       "      <th>168</th>\n",
       "      <td>169</td>\n",
       "      <td>NaN</td>\n",
       "      <td>[[-6.0, 5.0, 10.0, -10.0, 10.0]]</td>\n",
       "      <td>-361.0</td>\n",
       "      <td>-89.0</td>\n",
       "      <td>1.000003e+06</td>\n",
       "      <td>1000000.0</td>\n",
       "      <td>100.0</td>\n",
       "      <td>NaN</td>\n",
       "      <td>False</td>\n",
       "      <td>-313.0</td>\n",
       "    </tr>\n",
       "  </tbody>\n",
       "</table>\n",
       "<p>179 rows × 11 columns</p>\n",
       "</div>"
      ],
      "text/plain": [
       "     iteration  iteration_time                             candidate  \\\n",
       "0            0             NaN        [[-8.0, 10.0, 0.0, 6.0, -1.0]]   \n",
       "1            0             NaN          [[9.0, 6.0, -2.0, 3.0, 2.0]]   \n",
       "2            0             NaN         [[0.0, 3.0, 10.0, 9.0, -6.0]]   \n",
       "3            0             NaN          [[0.0, -3.0, 8.0, 4.0, 0.0]]   \n",
       "4            0             NaN        [[-6.0, 6.0, 7.0, -10.0, 6.0]]   \n",
       "..         ...             ...                                   ...   \n",
       "164        165        374.6810  [[-10.0, -10.0, 10.0, -10.0, -10.0]]   \n",
       "165        166        377.1107     [[10.0, 10.0, 10.0, 10.0, -10.0]]   \n",
       "166        167        379.1051    [[10.0, -10.0, 10.0, -10.0, 10.0]]   \n",
       "167        168        381.0732     [[10.0, 10.0, -10.0, 4.0, -10.0]]   \n",
       "168        169             NaN      [[-6.0, 5.0, 10.0, -10.0, 10.0]]   \n",
       "\n",
       "     function_value  best_f  acquisition_value  surrogate_mean  \\\n",
       "0            -201.0  -201.0                NaN             NaN   \n",
       "1            -134.0  -134.0                NaN             NaN   \n",
       "2            -226.0  -134.0                NaN             NaN   \n",
       "3             -89.0   -89.0                NaN             NaN   \n",
       "4            -257.0   -89.0                NaN             NaN   \n",
       "..              ...     ...                ...             ...   \n",
       "164          -500.0   -89.0       1.000003e+06       1000000.0   \n",
       "165          -500.0   -89.0       1.000003e+06       1000000.0   \n",
       "166          -500.0   -89.0       1.000003e+06       1000000.0   \n",
       "167          -416.0   -89.0       1.000003e+06       1000000.0   \n",
       "168          -361.0   -89.0       1.000003e+06       1000000.0   \n",
       "\n",
       "     surrogate_covariance  final_training_loss  constraint  best_f_constrained  \n",
       "0                     NaN        -5.000016e+06       False                 NaN  \n",
       "1                     NaN        -5.000016e+06       False                 NaN  \n",
       "2                     NaN        -5.000016e+06       False                 NaN  \n",
       "3                     NaN        -5.000016e+06       False                 NaN  \n",
       "4                     NaN        -5.000016e+06       False                 NaN  \n",
       "..                    ...                  ...         ...                 ...  \n",
       "164                 100.0         1.801114e+11        True              -313.0  \n",
       "165                 100.0         1.826137e+11        True              -313.0  \n",
       "166                 100.0         1.826133e+11       False              -313.0  \n",
       "167                 100.0         1.851155e+11        True              -313.0  \n",
       "168                 100.0                  NaN       False              -313.0  \n",
       "\n",
       "[179 rows x 11 columns]"
      ]
     },
     "metadata": {},
     "output_type": "display_data"
    },
    {
     "data": {
      "application/vnd.plotly.v1+json": {
       "config": {
        "plotlyServerURL": "https://plot.ly"
       },
       "data": [
        {
         "marker": {
          "color": [
           "blue",
           "blue",
           "blue",
           "blue",
           "blue",
           "blue",
           "blue",
           "blue",
           "blue",
           "blue",
           "blue",
           "blue",
           "orange",
           "orange",
           "blue",
           "blue",
           "orange",
           "blue",
           "orange",
           "blue",
           "orange",
           "orange",
           "orange",
           "blue",
           "orange",
           "blue",
           "blue",
           "blue",
           "orange",
           "orange",
           "blue",
           "orange",
           "blue",
           "orange",
           "blue",
           "orange",
           "blue",
           "blue",
           "orange",
           "blue",
           "orange",
           "blue",
           "blue",
           "blue",
           "blue",
           "blue",
           "blue",
           "blue",
           "blue",
           "blue",
           "blue",
           "blue",
           "orange",
           "blue",
           "orange",
           "blue",
           "blue",
           "blue",
           "orange",
           "blue",
           "blue",
           "blue",
           "blue",
           "orange",
           "orange",
           "blue",
           "blue",
           "blue",
           "blue",
           "orange",
           "orange",
           "blue",
           "blue",
           "blue",
           "blue",
           "blue",
           "blue",
           "orange",
           "blue",
           "blue",
           "orange",
           "orange",
           "orange",
           "blue",
           "blue",
           "blue",
           "blue",
           "orange",
           "blue",
           "blue",
           "blue",
           "blue",
           "orange",
           "orange",
           "orange",
           "orange",
           "blue",
           "orange",
           "blue",
           "blue",
           "blue",
           "blue",
           "blue",
           "orange",
           "blue",
           "orange",
           "orange",
           "orange",
           "blue",
           "orange",
           "orange",
           "blue",
           "orange",
           "blue",
           "orange",
           "orange",
           "orange",
           "blue",
           "blue",
           "blue",
           "orange",
           "orange",
           "orange",
           "orange",
           "blue",
           "blue",
           "blue",
           "orange",
           "blue",
           "blue",
           "orange",
           "blue",
           "blue",
           "orange",
           "orange",
           "blue",
           "blue",
           "orange",
           "orange",
           "orange",
           "blue",
           "blue",
           "blue",
           "orange",
           "orange",
           "blue",
           "orange",
           "orange",
           "blue",
           "orange",
           "orange",
           "blue",
           "orange",
           "blue",
           "blue",
           "orange",
           "orange",
           "blue",
           "blue",
           "blue",
           "orange",
           "orange",
           "orange",
           "orange",
           "blue",
           "blue",
           "orange",
           "blue",
           "orange",
           "orange",
           "orange",
           "orange",
           "blue",
           "blue",
           "orange",
           "orange",
           "blue",
           "orange",
           "blue"
          ]
         },
         "mode": "markers",
         "name": "Function Value",
         "type": "scatter",
         "x": [
          0,
          0,
          0,
          0,
          0,
          0,
          0,
          0,
          0,
          0,
          1,
          2,
          3,
          4,
          5,
          6,
          7,
          8,
          9,
          10,
          11,
          12,
          13,
          14,
          15,
          16,
          17,
          18,
          19,
          20,
          21,
          22,
          23,
          24,
          25,
          26,
          27,
          28,
          29,
          30,
          31,
          32,
          33,
          34,
          35,
          36,
          37,
          38,
          39,
          40,
          41,
          42,
          43,
          44,
          45,
          46,
          47,
          48,
          49,
          50,
          51,
          52,
          53,
          54,
          55,
          56,
          57,
          58,
          59,
          60,
          61,
          62,
          63,
          64,
          65,
          66,
          67,
          68,
          69,
          70,
          71,
          72,
          73,
          74,
          75,
          76,
          77,
          78,
          79,
          80,
          81,
          82,
          83,
          84,
          85,
          86,
          87,
          88,
          89,
          90,
          91,
          92,
          93,
          94,
          95,
          96,
          97,
          98,
          99,
          100,
          101,
          102,
          103,
          104,
          105,
          106,
          107,
          108,
          109,
          110,
          111,
          112,
          113,
          114,
          115,
          116,
          117,
          118,
          119,
          120,
          121,
          122,
          123,
          124,
          125,
          126,
          127,
          128,
          129,
          130,
          131,
          132,
          133,
          134,
          135,
          136,
          137,
          138,
          139,
          140,
          141,
          142,
          143,
          144,
          145,
          146,
          147,
          148,
          149,
          150,
          151,
          152,
          153,
          154,
          155,
          156,
          157,
          158,
          159,
          160,
          161,
          162,
          163,
          164,
          165,
          166,
          167,
          168,
          169
         ],
         "y": [
          -201,
          -134,
          -226,
          -89,
          -257,
          -126,
          -178,
          -158,
          -172,
          -143,
          -500,
          -500,
          -500,
          -425,
          -500,
          -500,
          -500,
          -500,
          -500,
          -416,
          -500,
          -436,
          -500,
          -500,
          -436,
          -305,
          -500,
          -500,
          -500,
          -500,
          -358,
          -404,
          -500,
          -425,
          -380,
          -500,
          -500,
          -500,
          -500,
          -500,
          -368,
          -500,
          -425,
          -500,
          -500,
          -500,
          -449,
          -481,
          -500,
          -500,
          -500,
          -500,
          -500,
          -464,
          -500,
          -500,
          -500,
          -500,
          -500,
          -449,
          -425,
          -500,
          -404,
          -500,
          -500,
          -416,
          -436,
          -500,
          -409,
          -500,
          -500,
          -401,
          -318,
          -464,
          -500,
          -406,
          -481,
          -464,
          -425,
          -500,
          -500,
          -400,
          -500,
          -500,
          -500,
          -481,
          -425,
          -500,
          -500,
          -409,
          -436,
          -436,
          -500,
          -500,
          -500,
          -500,
          -436,
          -500,
          -500,
          -500,
          -500,
          -385,
          -401,
          -500,
          -400,
          -500,
          -500,
          -313,
          -401,
          -449,
          -449,
          -500,
          -500,
          -500,
          -500,
          -416,
          -500,
          -409,
          -500,
          -358,
          -500,
          -500,
          -500,
          -500,
          -500,
          -500,
          -404,
          -500,
          -500,
          -425,
          -500,
          -464,
          -481,
          -464,
          -500,
          -500,
          -449,
          -401,
          -416,
          -500,
          -289,
          -500,
          -436,
          -500,
          -425,
          -500,
          -500,
          -500,
          -436,
          -500,
          -500,
          -500,
          -500,
          -500,
          -409,
          -500,
          -404,
          -500,
          -500,
          -500,
          -500,
          -500,
          -500,
          -409,
          -500,
          -409,
          -500,
          -481,
          -481,
          -500,
          -500,
          -500,
          -500,
          -500,
          -500,
          -500,
          -500,
          -416,
          -361
         ]
        },
        {
         "line": {
          "color": "red"
         },
         "mode": "lines",
         "name": "Best f",
         "type": "scatter",
         "x": [
          0,
          0,
          0,
          0,
          0,
          0,
          0,
          0,
          0,
          0,
          1,
          2,
          3,
          4,
          5,
          6,
          7,
          8,
          9,
          10,
          11,
          12,
          13,
          14,
          15,
          16,
          17,
          18,
          19,
          20,
          21,
          22,
          23,
          24,
          25,
          26,
          27,
          28,
          29,
          30,
          31,
          32,
          33,
          34,
          35,
          36,
          37,
          38,
          39,
          40,
          41,
          42,
          43,
          44,
          45,
          46,
          47,
          48,
          49,
          50,
          51,
          52,
          53,
          54,
          55,
          56,
          57,
          58,
          59,
          60,
          61,
          62,
          63,
          64,
          65,
          66,
          67,
          68,
          69,
          70,
          71,
          72,
          73,
          74,
          75,
          76,
          77,
          78,
          79,
          80,
          81,
          82,
          83,
          84,
          85,
          86,
          87,
          88,
          89,
          90,
          91,
          92,
          93,
          94,
          95,
          96,
          97,
          98,
          99,
          100,
          101,
          102,
          103,
          104,
          105,
          106,
          107,
          108,
          109,
          110,
          111,
          112,
          113,
          114,
          115,
          116,
          117,
          118,
          119,
          120,
          121,
          122,
          123,
          124,
          125,
          126,
          127,
          128,
          129,
          130,
          131,
          132,
          133,
          134,
          135,
          136,
          137,
          138,
          139,
          140,
          141,
          142,
          143,
          144,
          145,
          146,
          147,
          148,
          149,
          150,
          151,
          152,
          153,
          154,
          155,
          156,
          157,
          158,
          159,
          160,
          161,
          162,
          163,
          164,
          165,
          166,
          167,
          168,
          169
         ],
         "y": [
          -201,
          -134,
          -134,
          -89,
          -89,
          -89,
          -89,
          -89,
          -89,
          -89,
          -89,
          -89,
          -89,
          -89,
          -89,
          -89,
          -89,
          -89,
          -89,
          -89,
          -89,
          -89,
          -89,
          -89,
          -89,
          -89,
          -89,
          -89,
          -89,
          -89,
          -89,
          -89,
          -89,
          -89,
          -89,
          -89,
          -89,
          -89,
          -89,
          -89,
          -89,
          -89,
          -89,
          -89,
          -89,
          -89,
          -89,
          -89,
          -89,
          -89,
          -89,
          -89,
          -89,
          -89,
          -89,
          -89,
          -89,
          -89,
          -89,
          -89,
          -89,
          -89,
          -89,
          -89,
          -89,
          -89,
          -89,
          -89,
          -89,
          -89,
          -89,
          -89,
          -89,
          -89,
          -89,
          -89,
          -89,
          -89,
          -89,
          -89,
          -89,
          -89,
          -89,
          -89,
          -89,
          -89,
          -89,
          -89,
          -89,
          -89,
          -89,
          -89,
          -89,
          -89,
          -89,
          -89,
          -89,
          -89,
          -89,
          -89,
          -89,
          -89,
          -89,
          -89,
          -89,
          -89,
          -89,
          -89,
          -89,
          -89,
          -89,
          -89,
          -89,
          -89,
          -89,
          -89,
          -89,
          -89,
          -89,
          -89,
          -89,
          -89,
          -89,
          -89,
          -89,
          -89,
          -89,
          -89,
          -89,
          -89,
          -89,
          -89,
          -89,
          -89,
          -89,
          -89,
          -89,
          -89,
          -89,
          -89,
          -89,
          -89,
          -89,
          -89,
          -89,
          -89,
          -89,
          -89,
          -89,
          -89,
          -89,
          -89,
          -89,
          -89,
          -89,
          -89,
          -89,
          -89,
          -89,
          -89,
          -89,
          -89,
          -89,
          -89,
          -89,
          -89,
          -89,
          -89,
          -89,
          -89,
          -89,
          -89,
          -89,
          -89,
          -89,
          -89,
          -89,
          -89,
          -89
         ]
        },
        {
         "line": {
          "color": "green"
         },
         "mode": "lines",
         "name": "Best f under constraint",
         "type": "scatter",
         "x": [
          0,
          0,
          0,
          0,
          0,
          0,
          0,
          0,
          0,
          0,
          1,
          2,
          3,
          4,
          5,
          6,
          7,
          8,
          9,
          10,
          11,
          12,
          13,
          14,
          15,
          16,
          17,
          18,
          19,
          20,
          21,
          22,
          23,
          24,
          25,
          26,
          27,
          28,
          29,
          30,
          31,
          32,
          33,
          34,
          35,
          36,
          37,
          38,
          39,
          40,
          41,
          42,
          43,
          44,
          45,
          46,
          47,
          48,
          49,
          50,
          51,
          52,
          53,
          54,
          55,
          56,
          57,
          58,
          59,
          60,
          61,
          62,
          63,
          64,
          65,
          66,
          67,
          68,
          69,
          70,
          71,
          72,
          73,
          74,
          75,
          76,
          77,
          78,
          79,
          80,
          81,
          82,
          83,
          84,
          85,
          86,
          87,
          88,
          89,
          90,
          91,
          92,
          93,
          94,
          95,
          96,
          97,
          98,
          99,
          100,
          101,
          102,
          103,
          104,
          105,
          106,
          107,
          108,
          109,
          110,
          111,
          112,
          113,
          114,
          115,
          116,
          117,
          118,
          119,
          120,
          121,
          122,
          123,
          124,
          125,
          126,
          127,
          128,
          129,
          130,
          131,
          132,
          133,
          134,
          135,
          136,
          137,
          138,
          139,
          140,
          141,
          142,
          143,
          144,
          145,
          146,
          147,
          148,
          149,
          150,
          151,
          152,
          153,
          154,
          155,
          156,
          157,
          158,
          159,
          160,
          161,
          162,
          163,
          164,
          165,
          166,
          167,
          168,
          169
         ],
         "y": [
          null,
          null,
          null,
          null,
          null,
          null,
          null,
          null,
          null,
          null,
          null,
          null,
          -500,
          -425,
          -425,
          -425,
          -425,
          -425,
          -425,
          -425,
          -425,
          -425,
          -425,
          -425,
          -425,
          -425,
          -425,
          -425,
          -425,
          -425,
          -425,
          -404,
          -404,
          -404,
          -404,
          -404,
          -404,
          -404,
          -404,
          -404,
          -368,
          -368,
          -368,
          -368,
          -368,
          -368,
          -368,
          -368,
          -368,
          -368,
          -368,
          -368,
          -368,
          -368,
          -368,
          -368,
          -368,
          -368,
          -368,
          -368,
          -368,
          -368,
          -368,
          -368,
          -368,
          -368,
          -368,
          -368,
          -368,
          -368,
          -368,
          -368,
          -368,
          -368,
          -368,
          -368,
          -368,
          -368,
          -368,
          -368,
          -368,
          -368,
          -368,
          -368,
          -368,
          -368,
          -368,
          -368,
          -368,
          -368,
          -368,
          -368,
          -368,
          -368,
          -368,
          -368,
          -368,
          -368,
          -368,
          -368,
          -368,
          -368,
          -368,
          -368,
          -368,
          -368,
          -368,
          -313,
          -313,
          -313,
          -313,
          -313,
          -313,
          -313,
          -313,
          -313,
          -313,
          -313,
          -313,
          -313,
          -313,
          -313,
          -313,
          -313,
          -313,
          -313,
          -313,
          -313,
          -313,
          -313,
          -313,
          -313,
          -313,
          -313,
          -313,
          -313,
          -313,
          -313,
          -313,
          -313,
          -313,
          -313,
          -313,
          -313,
          -313,
          -313,
          -313,
          -313,
          -313,
          -313,
          -313,
          -313,
          -313,
          -313,
          -313,
          -313,
          -313,
          -313,
          -313,
          -313,
          -313,
          -313,
          -313,
          -313,
          -313,
          -313,
          -313,
          -313,
          -313,
          -313,
          -313,
          -313,
          -313,
          -313,
          -313,
          -313,
          -313,
          -313,
          -313
         ]
        }
       ],
       "layout": {
        "showlegend": true,
        "template": {
         "data": {
          "bar": [
           {
            "error_x": {
             "color": "#2a3f5f"
            },
            "error_y": {
             "color": "#2a3f5f"
            },
            "marker": {
             "line": {
              "color": "#E5ECF6",
              "width": 0.5
             },
             "pattern": {
              "fillmode": "overlay",
              "size": 10,
              "solidity": 0.2
             }
            },
            "type": "bar"
           }
          ],
          "barpolar": [
           {
            "marker": {
             "line": {
              "color": "#E5ECF6",
              "width": 0.5
             },
             "pattern": {
              "fillmode": "overlay",
              "size": 10,
              "solidity": 0.2
             }
            },
            "type": "barpolar"
           }
          ],
          "carpet": [
           {
            "aaxis": {
             "endlinecolor": "#2a3f5f",
             "gridcolor": "white",
             "linecolor": "white",
             "minorgridcolor": "white",
             "startlinecolor": "#2a3f5f"
            },
            "baxis": {
             "endlinecolor": "#2a3f5f",
             "gridcolor": "white",
             "linecolor": "white",
             "minorgridcolor": "white",
             "startlinecolor": "#2a3f5f"
            },
            "type": "carpet"
           }
          ],
          "choropleth": [
           {
            "colorbar": {
             "outlinewidth": 0,
             "ticks": ""
            },
            "type": "choropleth"
           }
          ],
          "contour": [
           {
            "colorbar": {
             "outlinewidth": 0,
             "ticks": ""
            },
            "colorscale": [
             [
              0,
              "#0d0887"
             ],
             [
              0.1111111111111111,
              "#46039f"
             ],
             [
              0.2222222222222222,
              "#7201a8"
             ],
             [
              0.3333333333333333,
              "#9c179e"
             ],
             [
              0.4444444444444444,
              "#bd3786"
             ],
             [
              0.5555555555555556,
              "#d8576b"
             ],
             [
              0.6666666666666666,
              "#ed7953"
             ],
             [
              0.7777777777777778,
              "#fb9f3a"
             ],
             [
              0.8888888888888888,
              "#fdca26"
             ],
             [
              1,
              "#f0f921"
             ]
            ],
            "type": "contour"
           }
          ],
          "contourcarpet": [
           {
            "colorbar": {
             "outlinewidth": 0,
             "ticks": ""
            },
            "type": "contourcarpet"
           }
          ],
          "heatmap": [
           {
            "colorbar": {
             "outlinewidth": 0,
             "ticks": ""
            },
            "colorscale": [
             [
              0,
              "#0d0887"
             ],
             [
              0.1111111111111111,
              "#46039f"
             ],
             [
              0.2222222222222222,
              "#7201a8"
             ],
             [
              0.3333333333333333,
              "#9c179e"
             ],
             [
              0.4444444444444444,
              "#bd3786"
             ],
             [
              0.5555555555555556,
              "#d8576b"
             ],
             [
              0.6666666666666666,
              "#ed7953"
             ],
             [
              0.7777777777777778,
              "#fb9f3a"
             ],
             [
              0.8888888888888888,
              "#fdca26"
             ],
             [
              1,
              "#f0f921"
             ]
            ],
            "type": "heatmap"
           }
          ],
          "heatmapgl": [
           {
            "colorbar": {
             "outlinewidth": 0,
             "ticks": ""
            },
            "colorscale": [
             [
              0,
              "#0d0887"
             ],
             [
              0.1111111111111111,
              "#46039f"
             ],
             [
              0.2222222222222222,
              "#7201a8"
             ],
             [
              0.3333333333333333,
              "#9c179e"
             ],
             [
              0.4444444444444444,
              "#bd3786"
             ],
             [
              0.5555555555555556,
              "#d8576b"
             ],
             [
              0.6666666666666666,
              "#ed7953"
             ],
             [
              0.7777777777777778,
              "#fb9f3a"
             ],
             [
              0.8888888888888888,
              "#fdca26"
             ],
             [
              1,
              "#f0f921"
             ]
            ],
            "type": "heatmapgl"
           }
          ],
          "histogram": [
           {
            "marker": {
             "pattern": {
              "fillmode": "overlay",
              "size": 10,
              "solidity": 0.2
             }
            },
            "type": "histogram"
           }
          ],
          "histogram2d": [
           {
            "colorbar": {
             "outlinewidth": 0,
             "ticks": ""
            },
            "colorscale": [
             [
              0,
              "#0d0887"
             ],
             [
              0.1111111111111111,
              "#46039f"
             ],
             [
              0.2222222222222222,
              "#7201a8"
             ],
             [
              0.3333333333333333,
              "#9c179e"
             ],
             [
              0.4444444444444444,
              "#bd3786"
             ],
             [
              0.5555555555555556,
              "#d8576b"
             ],
             [
              0.6666666666666666,
              "#ed7953"
             ],
             [
              0.7777777777777778,
              "#fb9f3a"
             ],
             [
              0.8888888888888888,
              "#fdca26"
             ],
             [
              1,
              "#f0f921"
             ]
            ],
            "type": "histogram2d"
           }
          ],
          "histogram2dcontour": [
           {
            "colorbar": {
             "outlinewidth": 0,
             "ticks": ""
            },
            "colorscale": [
             [
              0,
              "#0d0887"
             ],
             [
              0.1111111111111111,
              "#46039f"
             ],
             [
              0.2222222222222222,
              "#7201a8"
             ],
             [
              0.3333333333333333,
              "#9c179e"
             ],
             [
              0.4444444444444444,
              "#bd3786"
             ],
             [
              0.5555555555555556,
              "#d8576b"
             ],
             [
              0.6666666666666666,
              "#ed7953"
             ],
             [
              0.7777777777777778,
              "#fb9f3a"
             ],
             [
              0.8888888888888888,
              "#fdca26"
             ],
             [
              1,
              "#f0f921"
             ]
            ],
            "type": "histogram2dcontour"
           }
          ],
          "mesh3d": [
           {
            "colorbar": {
             "outlinewidth": 0,
             "ticks": ""
            },
            "type": "mesh3d"
           }
          ],
          "parcoords": [
           {
            "line": {
             "colorbar": {
              "outlinewidth": 0,
              "ticks": ""
             }
            },
            "type": "parcoords"
           }
          ],
          "pie": [
           {
            "automargin": true,
            "type": "pie"
           }
          ],
          "scatter": [
           {
            "fillpattern": {
             "fillmode": "overlay",
             "size": 10,
             "solidity": 0.2
            },
            "type": "scatter"
           }
          ],
          "scatter3d": [
           {
            "line": {
             "colorbar": {
              "outlinewidth": 0,
              "ticks": ""
             }
            },
            "marker": {
             "colorbar": {
              "outlinewidth": 0,
              "ticks": ""
             }
            },
            "type": "scatter3d"
           }
          ],
          "scattercarpet": [
           {
            "marker": {
             "colorbar": {
              "outlinewidth": 0,
              "ticks": ""
             }
            },
            "type": "scattercarpet"
           }
          ],
          "scattergeo": [
           {
            "marker": {
             "colorbar": {
              "outlinewidth": 0,
              "ticks": ""
             }
            },
            "type": "scattergeo"
           }
          ],
          "scattergl": [
           {
            "marker": {
             "colorbar": {
              "outlinewidth": 0,
              "ticks": ""
             }
            },
            "type": "scattergl"
           }
          ],
          "scattermapbox": [
           {
            "marker": {
             "colorbar": {
              "outlinewidth": 0,
              "ticks": ""
             }
            },
            "type": "scattermapbox"
           }
          ],
          "scatterpolar": [
           {
            "marker": {
             "colorbar": {
              "outlinewidth": 0,
              "ticks": ""
             }
            },
            "type": "scatterpolar"
           }
          ],
          "scatterpolargl": [
           {
            "marker": {
             "colorbar": {
              "outlinewidth": 0,
              "ticks": ""
             }
            },
            "type": "scatterpolargl"
           }
          ],
          "scatterternary": [
           {
            "marker": {
             "colorbar": {
              "outlinewidth": 0,
              "ticks": ""
             }
            },
            "type": "scatterternary"
           }
          ],
          "surface": [
           {
            "colorbar": {
             "outlinewidth": 0,
             "ticks": ""
            },
            "colorscale": [
             [
              0,
              "#0d0887"
             ],
             [
              0.1111111111111111,
              "#46039f"
             ],
             [
              0.2222222222222222,
              "#7201a8"
             ],
             [
              0.3333333333333333,
              "#9c179e"
             ],
             [
              0.4444444444444444,
              "#bd3786"
             ],
             [
              0.5555555555555556,
              "#d8576b"
             ],
             [
              0.6666666666666666,
              "#ed7953"
             ],
             [
              0.7777777777777778,
              "#fb9f3a"
             ],
             [
              0.8888888888888888,
              "#fdca26"
             ],
             [
              1,
              "#f0f921"
             ]
            ],
            "type": "surface"
           }
          ],
          "table": [
           {
            "cells": {
             "fill": {
              "color": "#EBF0F8"
             },
             "line": {
              "color": "white"
             }
            },
            "header": {
             "fill": {
              "color": "#C8D4E3"
             },
             "line": {
              "color": "white"
             }
            },
            "type": "table"
           }
          ]
         },
         "layout": {
          "annotationdefaults": {
           "arrowcolor": "#2a3f5f",
           "arrowhead": 0,
           "arrowwidth": 1
          },
          "autotypenumbers": "strict",
          "coloraxis": {
           "colorbar": {
            "outlinewidth": 0,
            "ticks": ""
           }
          },
          "colorscale": {
           "diverging": [
            [
             0,
             "#8e0152"
            ],
            [
             0.1,
             "#c51b7d"
            ],
            [
             0.2,
             "#de77ae"
            ],
            [
             0.3,
             "#f1b6da"
            ],
            [
             0.4,
             "#fde0ef"
            ],
            [
             0.5,
             "#f7f7f7"
            ],
            [
             0.6,
             "#e6f5d0"
            ],
            [
             0.7,
             "#b8e186"
            ],
            [
             0.8,
             "#7fbc41"
            ],
            [
             0.9,
             "#4d9221"
            ],
            [
             1,
             "#276419"
            ]
           ],
           "sequential": [
            [
             0,
             "#0d0887"
            ],
            [
             0.1111111111111111,
             "#46039f"
            ],
            [
             0.2222222222222222,
             "#7201a8"
            ],
            [
             0.3333333333333333,
             "#9c179e"
            ],
            [
             0.4444444444444444,
             "#bd3786"
            ],
            [
             0.5555555555555556,
             "#d8576b"
            ],
            [
             0.6666666666666666,
             "#ed7953"
            ],
            [
             0.7777777777777778,
             "#fb9f3a"
            ],
            [
             0.8888888888888888,
             "#fdca26"
            ],
            [
             1,
             "#f0f921"
            ]
           ],
           "sequentialminus": [
            [
             0,
             "#0d0887"
            ],
            [
             0.1111111111111111,
             "#46039f"
            ],
            [
             0.2222222222222222,
             "#7201a8"
            ],
            [
             0.3333333333333333,
             "#9c179e"
            ],
            [
             0.4444444444444444,
             "#bd3786"
            ],
            [
             0.5555555555555556,
             "#d8576b"
            ],
            [
             0.6666666666666666,
             "#ed7953"
            ],
            [
             0.7777777777777778,
             "#fb9f3a"
            ],
            [
             0.8888888888888888,
             "#fdca26"
            ],
            [
             1,
             "#f0f921"
            ]
           ]
          },
          "colorway": [
           "#636efa",
           "#EF553B",
           "#00cc96",
           "#ab63fa",
           "#FFA15A",
           "#19d3f3",
           "#FF6692",
           "#B6E880",
           "#FF97FF",
           "#FECB52"
          ],
          "font": {
           "color": "#2a3f5f"
          },
          "geo": {
           "bgcolor": "white",
           "lakecolor": "white",
           "landcolor": "#E5ECF6",
           "showlakes": true,
           "showland": true,
           "subunitcolor": "white"
          },
          "hoverlabel": {
           "align": "left"
          },
          "hovermode": "closest",
          "mapbox": {
           "style": "light"
          },
          "paper_bgcolor": "white",
          "plot_bgcolor": "#E5ECF6",
          "polar": {
           "angularaxis": {
            "gridcolor": "white",
            "linecolor": "white",
            "ticks": ""
           },
           "bgcolor": "#E5ECF6",
           "radialaxis": {
            "gridcolor": "white",
            "linecolor": "white",
            "ticks": ""
           }
          },
          "scene": {
           "xaxis": {
            "backgroundcolor": "#E5ECF6",
            "gridcolor": "white",
            "gridwidth": 2,
            "linecolor": "white",
            "showbackground": true,
            "ticks": "",
            "zerolinecolor": "white"
           },
           "yaxis": {
            "backgroundcolor": "#E5ECF6",
            "gridcolor": "white",
            "gridwidth": 2,
            "linecolor": "white",
            "showbackground": true,
            "ticks": "",
            "zerolinecolor": "white"
           },
           "zaxis": {
            "backgroundcolor": "#E5ECF6",
            "gridcolor": "white",
            "gridwidth": 2,
            "linecolor": "white",
            "showbackground": true,
            "ticks": "",
            "zerolinecolor": "white"
           }
          },
          "shapedefaults": {
           "line": {
            "color": "#2a3f5f"
           }
          },
          "ternary": {
           "aaxis": {
            "gridcolor": "white",
            "linecolor": "white",
            "ticks": ""
           },
           "baxis": {
            "gridcolor": "white",
            "linecolor": "white",
            "ticks": ""
           },
           "bgcolor": "#E5ECF6",
           "caxis": {
            "gridcolor": "white",
            "linecolor": "white",
            "ticks": ""
           }
          },
          "title": {
           "x": 0.05
          },
          "xaxis": {
           "automargin": true,
           "gridcolor": "white",
           "linecolor": "white",
           "ticks": "",
           "title": {
            "standoff": 15
           },
           "zerolinecolor": "white",
           "zerolinewidth": 2
          },
          "yaxis": {
           "automargin": true,
           "gridcolor": "white",
           "linecolor": "white",
           "ticks": "",
           "title": {
            "standoff": 15
           },
           "zerolinecolor": "white",
           "zerolinewidth": 2
          }
         }
        },
        "title": {
         "text": "Function Value over Iterations with Constraints"
        },
        "xaxis": {
         "title": {
          "text": "Iteration"
         }
        },
        "yaxis": {
         "title": {
          "text": "Function Value"
         }
        }
       }
      }
     },
     "metadata": {},
     "output_type": "display_data"
    }
   ],
   "source": [
    "import os\n",
    "import numpy as np\n",
    "import pandas as pd\n",
    "import plotly.graph_objects as go\n",
    "\n",
    "from src.utils_experiment import OptimLogParser\n",
    "\n",
    "\n",
    "# Function to parse the log file and return the merged DataFrame\n",
    "def parse_and_prepare_data(log_file_path):\n",
    "    parser = OptimLogParser(log_file_path)\n",
    "    parser.parse_log_file()\n",
    "\n",
    "    settings = parser.settings\n",
    "    initial_data = parser.initial_data\n",
    "    bo_data = parser.bo_data\n",
    "\n",
    "    columns = [\n",
    "        \"iteration\",\n",
    "        \"iteration_time\",\n",
    "        \"candidate\",\n",
    "        \"function_value\",\n",
    "        \"best_f\",\n",
    "        \"acquisition_value\",\n",
    "        \"surrogate_mean\",\n",
    "        \"surrogate_covariance\",\n",
    "        \"final_training_loss\",\n",
    "    ]\n",
    "\n",
    "    df_merged = pd.concat([initial_data, bo_data], axis=0)\n",
    "    df_merged[\"best_f\"] = df_merged[\"function_value\"].cummax()\n",
    "    df_merged = df_merged[columns]\n",
    "    df_merged[\"iteration\"] = df_merged[\"iteration\"].fillna(0).astype(int)\n",
    "\n",
    "    # Apply constraints\n",
    "    df_merged[\"candidate\"] = df_merged[\"candidate\"].apply(restore_array)\n",
    "    df_merged[\"constraint\"] = df_merged[\"candidate\"].apply(g)\n",
    "\n",
    "    # Calculate best_f_constrained, considering only rows where constraint is True\n",
    "    df_merged[\"best_f_constrained\"] = df_merged.apply(\n",
    "        lambda row: row[\"function_value\"] if row[\"constraint\"] else float(\"-inf\"),\n",
    "        axis=1,\n",
    "    ).cummax()\n",
    "\n",
    "    # Replace negative infinity with NaN for rows where constraint is False\n",
    "    df_merged[\"best_f_constrained\"] = df_merged[\"best_f_constrained\"].replace(\n",
    "        float(\"-inf\"), np.nan\n",
    "    )\n",
    "\n",
    "    return df_merged, settings\n",
    "\n",
    "\n",
    "# Function to restore array from string representation\n",
    "def restore_array(str_array):\n",
    "    str_array = str_array.strip(\"'\").strip(\"[]\")\n",
    "    array = np.fromstring(str_array, sep=\" \")\n",
    "    return array.reshape(1, -1)\n",
    "\n",
    "\n",
    "# Constraint function\n",
    "def g(X):\n",
    "    \"\"\"\n",
    "    Constraint: x1 == x2\n",
    "    \"\"\"\n",
    "    X1 = X[:, 0]\n",
    "    X2 = X[:, 1]\n",
    "\n",
    "    return (X1 == X2)[0]\n",
    "\n",
    "\n",
    "# Function to plot the data\n",
    "def plot_function_values(df_merged):\n",
    "    fig = go.Figure()\n",
    "\n",
    "    # Add scatter trace for function_value with color based on constraint\n",
    "    fig.add_trace(\n",
    "        go.Scatter(\n",
    "            x=df_merged[\"iteration\"],\n",
    "            y=df_merged[\"function_value\"],\n",
    "            mode=\"markers\",\n",
    "            marker=dict(\n",
    "                color=df_merged[\"constraint\"].apply(lambda x: \"orange\" if x else \"blue\")\n",
    "            ),\n",
    "            name=\"Function Value\",\n",
    "        )\n",
    "    )\n",
    "\n",
    "    # Add line trace for best_f\n",
    "    fig.add_trace(\n",
    "        go.Scatter(\n",
    "            x=df_merged[\"iteration\"],\n",
    "            y=df_merged[\"best_f\"],\n",
    "            mode=\"lines\",\n",
    "            line=dict(color=\"red\"),\n",
    "            name=\"Best f\",\n",
    "        )\n",
    "    )\n",
    "\n",
    "    # Add line trace for best_f_constrained\n",
    "    fig.add_trace(\n",
    "        go.Scatter(\n",
    "            x=df_merged[\"iteration\"],\n",
    "            y=df_merged[\"best_f_constrained\"],\n",
    "            mode=\"lines\",\n",
    "            line=dict(color=\"green\"),\n",
    "            name=\"Best f under constraint\",\n",
    "        )\n",
    "    )\n",
    "\n",
    "    # Update layout\n",
    "    fig.update_layout(\n",
    "        title=\"Function Value over Iterations with Constraints\",\n",
    "        xaxis_title=\"Iteration\",\n",
    "        yaxis_title=\"Function Value\",\n",
    "        showlegend=True,\n",
    "    )\n",
    "\n",
    "    # Show the figure\n",
    "    fig.show()\n",
    "\n",
    "\n",
    "# Example usage ------------------------------------------------------------------------------\n",
    "log_file_path = os.path.join(\n",
    "    LOG_DIR, \"2024-08-27_20-12-18_Simple_5d_constrained_normalized-input_2.log\"\n",
    ")\n",
    "df_merged, settings = parse_and_prepare_data(log_file_path)\n",
    "\n",
    "print(\"実験設定\")\n",
    "display(settings)\n",
    "print()\n",
    "display(df_merged)\n",
    "\n",
    "plot_function_values(df_merged)\n"
   ]
  },
  {
   "cell_type": "code",
   "execution_count": null,
   "metadata": {},
   "outputs": [],
   "source": []
  },
  {
   "cell_type": "code",
   "execution_count": 85,
   "metadata": {},
   "outputs": [
    {
     "data": {
      "text/plain": [
       "['2024-08-27_19-54-03_Simple_5d_constrained_normalized-input.log',\n",
       " '2024-08-27_20-10-06_Simple_5d_constrained2_normalized-input.log',\n",
       " '2024-08-27_20-12-18_Simple_5d_constrained_normalized-input_2.log',\n",
       " '2024-08-27_20-21-21_Simple_5d_constrained2_normalized-input_2.log',\n",
       " '2024-08-27_21-15-16_Simple_5d_unconstrained_normalized-input.log',\n",
       " '2024-08-27_23-53-39_Simple_5d_constrained3_normalized-input.log']"
      ]
     },
     "execution_count": 85,
     "metadata": {},
     "output_type": "execute_result"
    }
   ],
   "source": [
    "search_log_files(LOG_DIR, [\"2024-08-27\"])"
   ]
  },
  {
   "cell_type": "markdown",
   "metadata": {},
   "source": [
    "#### lambda1=0.5, lambda2=0.5, clipping=False\n",
    "\n",
    "- 獲得関数の符号を間違えている"
   ]
  },
  {
   "cell_type": "code",
   "execution_count": 86,
   "metadata": {},
   "outputs": [
    {
     "name": "stdout",
     "output_type": "stream",
     "text": [
      "2024-08-27_19-54-03_Simple_5d_constrained_normalized-input.log\n",
      "\n",
      "実験設定\n"
     ]
    },
    {
     "data": {
      "text/plain": [
       "{'name': 'Simple_5d_constrained_normalized-input',\n",
       " 'device': 'cpu',\n",
       " 'bo_iter': 1000,\n",
       " 'initial_data_size': 10,\n",
       " 'model': {'hidden_unit_size': 64, 'num_hidden_layers': 3},\n",
       " 'model_optim': {'num_epochs': 1000, 'learning_rate': 0.01},\n",
       " 'acquisition_optim': {'beta': 0.1, 'num_restarts': 5, 'raw_samples': 20},\n",
       " 'memo': 'try input-normalization for numarical stability'}"
      ]
     },
     "metadata": {},
     "output_type": "display_data"
    },
    {
     "name": "stdout",
     "output_type": "stream",
     "text": [
      "\n"
     ]
    },
    {
     "data": {
      "text/html": [
       "<div>\n",
       "<style scoped>\n",
       "    .dataframe tbody tr th:only-of-type {\n",
       "        vertical-align: middle;\n",
       "    }\n",
       "\n",
       "    .dataframe tbody tr th {\n",
       "        vertical-align: top;\n",
       "    }\n",
       "\n",
       "    .dataframe thead th {\n",
       "        text-align: right;\n",
       "    }\n",
       "</style>\n",
       "<table border=\"1\" class=\"dataframe\">\n",
       "  <thead>\n",
       "    <tr style=\"text-align: right;\">\n",
       "      <th></th>\n",
       "      <th>iteration</th>\n",
       "      <th>iteration_time</th>\n",
       "      <th>candidate</th>\n",
       "      <th>function_value</th>\n",
       "      <th>best_f</th>\n",
       "      <th>acquisition_value</th>\n",
       "      <th>surrogate_mean</th>\n",
       "      <th>surrogate_covariance</th>\n",
       "      <th>final_training_loss</th>\n",
       "      <th>constraint</th>\n",
       "      <th>best_f_constrained</th>\n",
       "    </tr>\n",
       "  </thead>\n",
       "  <tbody>\n",
       "    <tr>\n",
       "      <th>0</th>\n",
       "      <td>0</td>\n",
       "      <td>NaN</td>\n",
       "      <td>[[-8.0, -2.0, 8.0, 0.0, 9.0]]</td>\n",
       "      <td>-213.0</td>\n",
       "      <td>-213.0</td>\n",
       "      <td>NaN</td>\n",
       "      <td>NaN</td>\n",
       "      <td>NaN</td>\n",
       "      <td>-6.212113e+09</td>\n",
       "      <td>False</td>\n",
       "      <td>NaN</td>\n",
       "    </tr>\n",
       "    <tr>\n",
       "      <th>1</th>\n",
       "      <td>0</td>\n",
       "      <td>NaN</td>\n",
       "      <td>[[0.0, -7.0, -3.0, -8.0, 1.0]]</td>\n",
       "      <td>-123.0</td>\n",
       "      <td>-123.0</td>\n",
       "      <td>NaN</td>\n",
       "      <td>NaN</td>\n",
       "      <td>NaN</td>\n",
       "      <td>-6.212113e+09</td>\n",
       "      <td>False</td>\n",
       "      <td>NaN</td>\n",
       "    </tr>\n",
       "    <tr>\n",
       "      <th>2</th>\n",
       "      <td>0</td>\n",
       "      <td>NaN</td>\n",
       "      <td>[[10.0, 9.0, -3.0, 0.0, 5.0]]</td>\n",
       "      <td>-215.0</td>\n",
       "      <td>-123.0</td>\n",
       "      <td>NaN</td>\n",
       "      <td>NaN</td>\n",
       "      <td>NaN</td>\n",
       "      <td>-6.212113e+09</td>\n",
       "      <td>False</td>\n",
       "      <td>NaN</td>\n",
       "    </tr>\n",
       "    <tr>\n",
       "      <th>3</th>\n",
       "      <td>0</td>\n",
       "      <td>NaN</td>\n",
       "      <td>[[1.0, -7.0, 9.0, 5.0, 0.0]]</td>\n",
       "      <td>-156.0</td>\n",
       "      <td>-123.0</td>\n",
       "      <td>NaN</td>\n",
       "      <td>NaN</td>\n",
       "      <td>NaN</td>\n",
       "      <td>-6.212113e+09</td>\n",
       "      <td>False</td>\n",
       "      <td>NaN</td>\n",
       "    </tr>\n",
       "    <tr>\n",
       "      <th>4</th>\n",
       "      <td>0</td>\n",
       "      <td>NaN</td>\n",
       "      <td>[[-2.0, 8.0, -2.0, -8.0, 0.0]]</td>\n",
       "      <td>-136.0</td>\n",
       "      <td>-123.0</td>\n",
       "      <td>NaN</td>\n",
       "      <td>NaN</td>\n",
       "      <td>NaN</td>\n",
       "      <td>-6.212113e+09</td>\n",
       "      <td>False</td>\n",
       "      <td>NaN</td>\n",
       "    </tr>\n",
       "    <tr>\n",
       "      <th>5</th>\n",
       "      <td>0</td>\n",
       "      <td>NaN</td>\n",
       "      <td>[[0.0, 7.0, 6.0, 5.0, -4.0]]</td>\n",
       "      <td>-126.0</td>\n",
       "      <td>-123.0</td>\n",
       "      <td>NaN</td>\n",
       "      <td>NaN</td>\n",
       "      <td>NaN</td>\n",
       "      <td>-6.212113e+09</td>\n",
       "      <td>False</td>\n",
       "      <td>NaN</td>\n",
       "    </tr>\n",
       "    <tr>\n",
       "      <th>6</th>\n",
       "      <td>0</td>\n",
       "      <td>NaN</td>\n",
       "      <td>[[-9.0, -3.0, -4.0, 6.0, -2.0]]</td>\n",
       "      <td>-146.0</td>\n",
       "      <td>-123.0</td>\n",
       "      <td>NaN</td>\n",
       "      <td>NaN</td>\n",
       "      <td>NaN</td>\n",
       "      <td>-6.212113e+09</td>\n",
       "      <td>False</td>\n",
       "      <td>NaN</td>\n",
       "    </tr>\n",
       "    <tr>\n",
       "      <th>7</th>\n",
       "      <td>0</td>\n",
       "      <td>NaN</td>\n",
       "      <td>[[-3.0, 0.0, -2.0, 10.0, 6.0]]</td>\n",
       "      <td>-149.0</td>\n",
       "      <td>-123.0</td>\n",
       "      <td>NaN</td>\n",
       "      <td>NaN</td>\n",
       "      <td>NaN</td>\n",
       "      <td>-6.212113e+09</td>\n",
       "      <td>False</td>\n",
       "      <td>NaN</td>\n",
       "    </tr>\n",
       "    <tr>\n",
       "      <th>8</th>\n",
       "      <td>0</td>\n",
       "      <td>NaN</td>\n",
       "      <td>[[4.0, 0.0, -6.0, 6.0, 8.0]]</td>\n",
       "      <td>-152.0</td>\n",
       "      <td>-123.0</td>\n",
       "      <td>NaN</td>\n",
       "      <td>NaN</td>\n",
       "      <td>NaN</td>\n",
       "      <td>-6.212113e+09</td>\n",
       "      <td>False</td>\n",
       "      <td>NaN</td>\n",
       "    </tr>\n",
       "    <tr>\n",
       "      <th>9</th>\n",
       "      <td>0</td>\n",
       "      <td>NaN</td>\n",
       "      <td>[[1.0, 1.0, -2.0, -10.0, 10.0]]</td>\n",
       "      <td>-206.0</td>\n",
       "      <td>-123.0</td>\n",
       "      <td>NaN</td>\n",
       "      <td>NaN</td>\n",
       "      <td>NaN</td>\n",
       "      <td>-6.212113e+09</td>\n",
       "      <td>True</td>\n",
       "      <td>-206.0</td>\n",
       "    </tr>\n",
       "    <tr>\n",
       "      <th>0</th>\n",
       "      <td>1</td>\n",
       "      <td>39.9377</td>\n",
       "      <td>[[-10.0, 10.0, 10.0, 10.0, 10.0]]</td>\n",
       "      <td>-500.0</td>\n",
       "      <td>-123.0</td>\n",
       "      <td>9.158427e+09</td>\n",
       "      <td>8.464731e+09</td>\n",
       "      <td>1.802531</td>\n",
       "      <td>-3.157507e+13</td>\n",
       "      <td>False</td>\n",
       "      <td>-206.0</td>\n",
       "    </tr>\n",
       "    <tr>\n",
       "      <th>1</th>\n",
       "      <td>2</td>\n",
       "      <td>33.5913</td>\n",
       "      <td>[[10.0, -10.0, -10.0, -10.0, -10.0]]</td>\n",
       "      <td>-500.0</td>\n",
       "      <td>-123.0</td>\n",
       "      <td>2.220397e+08</td>\n",
       "      <td>5.586540e+08</td>\n",
       "      <td>6.566104</td>\n",
       "      <td>-4.575743e+16</td>\n",
       "      <td>False</td>\n",
       "      <td>-206.0</td>\n",
       "    </tr>\n",
       "    <tr>\n",
       "      <th>2</th>\n",
       "      <td>3</td>\n",
       "      <td>NaN</td>\n",
       "      <td>[[10.0, -10.0, 10.0, 10.0, -10.0]]</td>\n",
       "      <td>-500.0</td>\n",
       "      <td>-123.0</td>\n",
       "      <td>-6.158017e+15</td>\n",
       "      <td>4.672888e+15</td>\n",
       "      <td>2.646202</td>\n",
       "      <td>NaN</td>\n",
       "      <td>False</td>\n",
       "      <td>-206.0</td>\n",
       "    </tr>\n",
       "  </tbody>\n",
       "</table>\n",
       "</div>"
      ],
      "text/plain": [
       "   iteration  iteration_time                             candidate  \\\n",
       "0          0             NaN         [[-8.0, -2.0, 8.0, 0.0, 9.0]]   \n",
       "1          0             NaN        [[0.0, -7.0, -3.0, -8.0, 1.0]]   \n",
       "2          0             NaN         [[10.0, 9.0, -3.0, 0.0, 5.0]]   \n",
       "3          0             NaN          [[1.0, -7.0, 9.0, 5.0, 0.0]]   \n",
       "4          0             NaN        [[-2.0, 8.0, -2.0, -8.0, 0.0]]   \n",
       "5          0             NaN          [[0.0, 7.0, 6.0, 5.0, -4.0]]   \n",
       "6          0             NaN       [[-9.0, -3.0, -4.0, 6.0, -2.0]]   \n",
       "7          0             NaN        [[-3.0, 0.0, -2.0, 10.0, 6.0]]   \n",
       "8          0             NaN          [[4.0, 0.0, -6.0, 6.0, 8.0]]   \n",
       "9          0             NaN       [[1.0, 1.0, -2.0, -10.0, 10.0]]   \n",
       "0          1         39.9377     [[-10.0, 10.0, 10.0, 10.0, 10.0]]   \n",
       "1          2         33.5913  [[10.0, -10.0, -10.0, -10.0, -10.0]]   \n",
       "2          3             NaN    [[10.0, -10.0, 10.0, 10.0, -10.0]]   \n",
       "\n",
       "   function_value  best_f  acquisition_value  surrogate_mean  \\\n",
       "0          -213.0  -213.0                NaN             NaN   \n",
       "1          -123.0  -123.0                NaN             NaN   \n",
       "2          -215.0  -123.0                NaN             NaN   \n",
       "3          -156.0  -123.0                NaN             NaN   \n",
       "4          -136.0  -123.0                NaN             NaN   \n",
       "5          -126.0  -123.0                NaN             NaN   \n",
       "6          -146.0  -123.0                NaN             NaN   \n",
       "7          -149.0  -123.0                NaN             NaN   \n",
       "8          -152.0  -123.0                NaN             NaN   \n",
       "9          -206.0  -123.0                NaN             NaN   \n",
       "0          -500.0  -123.0       9.158427e+09    8.464731e+09   \n",
       "1          -500.0  -123.0       2.220397e+08    5.586540e+08   \n",
       "2          -500.0  -123.0      -6.158017e+15    4.672888e+15   \n",
       "\n",
       "   surrogate_covariance  final_training_loss  constraint  best_f_constrained  \n",
       "0                   NaN        -6.212113e+09       False                 NaN  \n",
       "1                   NaN        -6.212113e+09       False                 NaN  \n",
       "2                   NaN        -6.212113e+09       False                 NaN  \n",
       "3                   NaN        -6.212113e+09       False                 NaN  \n",
       "4                   NaN        -6.212113e+09       False                 NaN  \n",
       "5                   NaN        -6.212113e+09       False                 NaN  \n",
       "6                   NaN        -6.212113e+09       False                 NaN  \n",
       "7                   NaN        -6.212113e+09       False                 NaN  \n",
       "8                   NaN        -6.212113e+09       False                 NaN  \n",
       "9                   NaN        -6.212113e+09        True              -206.0  \n",
       "0              1.802531        -3.157507e+13       False              -206.0  \n",
       "1              6.566104        -4.575743e+16       False              -206.0  \n",
       "2              2.646202                  NaN       False              -206.0  "
      ]
     },
     "metadata": {},
     "output_type": "display_data"
    },
    {
     "data": {
      "application/vnd.plotly.v1+json": {
       "config": {
        "plotlyServerURL": "https://plot.ly"
       },
       "data": [
        {
         "marker": {
          "color": [
           "blue",
           "blue",
           "blue",
           "blue",
           "blue",
           "blue",
           "blue",
           "blue",
           "blue",
           "orange",
           "blue",
           "blue",
           "blue"
          ]
         },
         "mode": "markers",
         "name": "Function Value",
         "type": "scatter",
         "x": [
          0,
          0,
          0,
          0,
          0,
          0,
          0,
          0,
          0,
          0,
          1,
          2,
          3
         ],
         "y": [
          -213,
          -123,
          -215,
          -156,
          -136,
          -126,
          -146,
          -149,
          -152,
          -206,
          -500,
          -500,
          -500
         ]
        },
        {
         "line": {
          "color": "red"
         },
         "mode": "lines",
         "name": "Best f",
         "type": "scatter",
         "x": [
          0,
          0,
          0,
          0,
          0,
          0,
          0,
          0,
          0,
          0,
          1,
          2,
          3
         ],
         "y": [
          -213,
          -123,
          -123,
          -123,
          -123,
          -123,
          -123,
          -123,
          -123,
          -123,
          -123,
          -123,
          -123
         ]
        },
        {
         "line": {
          "color": "green"
         },
         "mode": "lines",
         "name": "Best f under constraint",
         "type": "scatter",
         "x": [
          0,
          0,
          0,
          0,
          0,
          0,
          0,
          0,
          0,
          0,
          1,
          2,
          3
         ],
         "y": [
          null,
          null,
          null,
          null,
          null,
          null,
          null,
          null,
          null,
          -206,
          -206,
          -206,
          -206
         ]
        }
       ],
       "layout": {
        "showlegend": true,
        "template": {
         "data": {
          "bar": [
           {
            "error_x": {
             "color": "#2a3f5f"
            },
            "error_y": {
             "color": "#2a3f5f"
            },
            "marker": {
             "line": {
              "color": "#E5ECF6",
              "width": 0.5
             },
             "pattern": {
              "fillmode": "overlay",
              "size": 10,
              "solidity": 0.2
             }
            },
            "type": "bar"
           }
          ],
          "barpolar": [
           {
            "marker": {
             "line": {
              "color": "#E5ECF6",
              "width": 0.5
             },
             "pattern": {
              "fillmode": "overlay",
              "size": 10,
              "solidity": 0.2
             }
            },
            "type": "barpolar"
           }
          ],
          "carpet": [
           {
            "aaxis": {
             "endlinecolor": "#2a3f5f",
             "gridcolor": "white",
             "linecolor": "white",
             "minorgridcolor": "white",
             "startlinecolor": "#2a3f5f"
            },
            "baxis": {
             "endlinecolor": "#2a3f5f",
             "gridcolor": "white",
             "linecolor": "white",
             "minorgridcolor": "white",
             "startlinecolor": "#2a3f5f"
            },
            "type": "carpet"
           }
          ],
          "choropleth": [
           {
            "colorbar": {
             "outlinewidth": 0,
             "ticks": ""
            },
            "type": "choropleth"
           }
          ],
          "contour": [
           {
            "colorbar": {
             "outlinewidth": 0,
             "ticks": ""
            },
            "colorscale": [
             [
              0,
              "#0d0887"
             ],
             [
              0.1111111111111111,
              "#46039f"
             ],
             [
              0.2222222222222222,
              "#7201a8"
             ],
             [
              0.3333333333333333,
              "#9c179e"
             ],
             [
              0.4444444444444444,
              "#bd3786"
             ],
             [
              0.5555555555555556,
              "#d8576b"
             ],
             [
              0.6666666666666666,
              "#ed7953"
             ],
             [
              0.7777777777777778,
              "#fb9f3a"
             ],
             [
              0.8888888888888888,
              "#fdca26"
             ],
             [
              1,
              "#f0f921"
             ]
            ],
            "type": "contour"
           }
          ],
          "contourcarpet": [
           {
            "colorbar": {
             "outlinewidth": 0,
             "ticks": ""
            },
            "type": "contourcarpet"
           }
          ],
          "heatmap": [
           {
            "colorbar": {
             "outlinewidth": 0,
             "ticks": ""
            },
            "colorscale": [
             [
              0,
              "#0d0887"
             ],
             [
              0.1111111111111111,
              "#46039f"
             ],
             [
              0.2222222222222222,
              "#7201a8"
             ],
             [
              0.3333333333333333,
              "#9c179e"
             ],
             [
              0.4444444444444444,
              "#bd3786"
             ],
             [
              0.5555555555555556,
              "#d8576b"
             ],
             [
              0.6666666666666666,
              "#ed7953"
             ],
             [
              0.7777777777777778,
              "#fb9f3a"
             ],
             [
              0.8888888888888888,
              "#fdca26"
             ],
             [
              1,
              "#f0f921"
             ]
            ],
            "type": "heatmap"
           }
          ],
          "heatmapgl": [
           {
            "colorbar": {
             "outlinewidth": 0,
             "ticks": ""
            },
            "colorscale": [
             [
              0,
              "#0d0887"
             ],
             [
              0.1111111111111111,
              "#46039f"
             ],
             [
              0.2222222222222222,
              "#7201a8"
             ],
             [
              0.3333333333333333,
              "#9c179e"
             ],
             [
              0.4444444444444444,
              "#bd3786"
             ],
             [
              0.5555555555555556,
              "#d8576b"
             ],
             [
              0.6666666666666666,
              "#ed7953"
             ],
             [
              0.7777777777777778,
              "#fb9f3a"
             ],
             [
              0.8888888888888888,
              "#fdca26"
             ],
             [
              1,
              "#f0f921"
             ]
            ],
            "type": "heatmapgl"
           }
          ],
          "histogram": [
           {
            "marker": {
             "pattern": {
              "fillmode": "overlay",
              "size": 10,
              "solidity": 0.2
             }
            },
            "type": "histogram"
           }
          ],
          "histogram2d": [
           {
            "colorbar": {
             "outlinewidth": 0,
             "ticks": ""
            },
            "colorscale": [
             [
              0,
              "#0d0887"
             ],
             [
              0.1111111111111111,
              "#46039f"
             ],
             [
              0.2222222222222222,
              "#7201a8"
             ],
             [
              0.3333333333333333,
              "#9c179e"
             ],
             [
              0.4444444444444444,
              "#bd3786"
             ],
             [
              0.5555555555555556,
              "#d8576b"
             ],
             [
              0.6666666666666666,
              "#ed7953"
             ],
             [
              0.7777777777777778,
              "#fb9f3a"
             ],
             [
              0.8888888888888888,
              "#fdca26"
             ],
             [
              1,
              "#f0f921"
             ]
            ],
            "type": "histogram2d"
           }
          ],
          "histogram2dcontour": [
           {
            "colorbar": {
             "outlinewidth": 0,
             "ticks": ""
            },
            "colorscale": [
             [
              0,
              "#0d0887"
             ],
             [
              0.1111111111111111,
              "#46039f"
             ],
             [
              0.2222222222222222,
              "#7201a8"
             ],
             [
              0.3333333333333333,
              "#9c179e"
             ],
             [
              0.4444444444444444,
              "#bd3786"
             ],
             [
              0.5555555555555556,
              "#d8576b"
             ],
             [
              0.6666666666666666,
              "#ed7953"
             ],
             [
              0.7777777777777778,
              "#fb9f3a"
             ],
             [
              0.8888888888888888,
              "#fdca26"
             ],
             [
              1,
              "#f0f921"
             ]
            ],
            "type": "histogram2dcontour"
           }
          ],
          "mesh3d": [
           {
            "colorbar": {
             "outlinewidth": 0,
             "ticks": ""
            },
            "type": "mesh3d"
           }
          ],
          "parcoords": [
           {
            "line": {
             "colorbar": {
              "outlinewidth": 0,
              "ticks": ""
             }
            },
            "type": "parcoords"
           }
          ],
          "pie": [
           {
            "automargin": true,
            "type": "pie"
           }
          ],
          "scatter": [
           {
            "fillpattern": {
             "fillmode": "overlay",
             "size": 10,
             "solidity": 0.2
            },
            "type": "scatter"
           }
          ],
          "scatter3d": [
           {
            "line": {
             "colorbar": {
              "outlinewidth": 0,
              "ticks": ""
             }
            },
            "marker": {
             "colorbar": {
              "outlinewidth": 0,
              "ticks": ""
             }
            },
            "type": "scatter3d"
           }
          ],
          "scattercarpet": [
           {
            "marker": {
             "colorbar": {
              "outlinewidth": 0,
              "ticks": ""
             }
            },
            "type": "scattercarpet"
           }
          ],
          "scattergeo": [
           {
            "marker": {
             "colorbar": {
              "outlinewidth": 0,
              "ticks": ""
             }
            },
            "type": "scattergeo"
           }
          ],
          "scattergl": [
           {
            "marker": {
             "colorbar": {
              "outlinewidth": 0,
              "ticks": ""
             }
            },
            "type": "scattergl"
           }
          ],
          "scattermapbox": [
           {
            "marker": {
             "colorbar": {
              "outlinewidth": 0,
              "ticks": ""
             }
            },
            "type": "scattermapbox"
           }
          ],
          "scatterpolar": [
           {
            "marker": {
             "colorbar": {
              "outlinewidth": 0,
              "ticks": ""
             }
            },
            "type": "scatterpolar"
           }
          ],
          "scatterpolargl": [
           {
            "marker": {
             "colorbar": {
              "outlinewidth": 0,
              "ticks": ""
             }
            },
            "type": "scatterpolargl"
           }
          ],
          "scatterternary": [
           {
            "marker": {
             "colorbar": {
              "outlinewidth": 0,
              "ticks": ""
             }
            },
            "type": "scatterternary"
           }
          ],
          "surface": [
           {
            "colorbar": {
             "outlinewidth": 0,
             "ticks": ""
            },
            "colorscale": [
             [
              0,
              "#0d0887"
             ],
             [
              0.1111111111111111,
              "#46039f"
             ],
             [
              0.2222222222222222,
              "#7201a8"
             ],
             [
              0.3333333333333333,
              "#9c179e"
             ],
             [
              0.4444444444444444,
              "#bd3786"
             ],
             [
              0.5555555555555556,
              "#d8576b"
             ],
             [
              0.6666666666666666,
              "#ed7953"
             ],
             [
              0.7777777777777778,
              "#fb9f3a"
             ],
             [
              0.8888888888888888,
              "#fdca26"
             ],
             [
              1,
              "#f0f921"
             ]
            ],
            "type": "surface"
           }
          ],
          "table": [
           {
            "cells": {
             "fill": {
              "color": "#EBF0F8"
             },
             "line": {
              "color": "white"
             }
            },
            "header": {
             "fill": {
              "color": "#C8D4E3"
             },
             "line": {
              "color": "white"
             }
            },
            "type": "table"
           }
          ]
         },
         "layout": {
          "annotationdefaults": {
           "arrowcolor": "#2a3f5f",
           "arrowhead": 0,
           "arrowwidth": 1
          },
          "autotypenumbers": "strict",
          "coloraxis": {
           "colorbar": {
            "outlinewidth": 0,
            "ticks": ""
           }
          },
          "colorscale": {
           "diverging": [
            [
             0,
             "#8e0152"
            ],
            [
             0.1,
             "#c51b7d"
            ],
            [
             0.2,
             "#de77ae"
            ],
            [
             0.3,
             "#f1b6da"
            ],
            [
             0.4,
             "#fde0ef"
            ],
            [
             0.5,
             "#f7f7f7"
            ],
            [
             0.6,
             "#e6f5d0"
            ],
            [
             0.7,
             "#b8e186"
            ],
            [
             0.8,
             "#7fbc41"
            ],
            [
             0.9,
             "#4d9221"
            ],
            [
             1,
             "#276419"
            ]
           ],
           "sequential": [
            [
             0,
             "#0d0887"
            ],
            [
             0.1111111111111111,
             "#46039f"
            ],
            [
             0.2222222222222222,
             "#7201a8"
            ],
            [
             0.3333333333333333,
             "#9c179e"
            ],
            [
             0.4444444444444444,
             "#bd3786"
            ],
            [
             0.5555555555555556,
             "#d8576b"
            ],
            [
             0.6666666666666666,
             "#ed7953"
            ],
            [
             0.7777777777777778,
             "#fb9f3a"
            ],
            [
             0.8888888888888888,
             "#fdca26"
            ],
            [
             1,
             "#f0f921"
            ]
           ],
           "sequentialminus": [
            [
             0,
             "#0d0887"
            ],
            [
             0.1111111111111111,
             "#46039f"
            ],
            [
             0.2222222222222222,
             "#7201a8"
            ],
            [
             0.3333333333333333,
             "#9c179e"
            ],
            [
             0.4444444444444444,
             "#bd3786"
            ],
            [
             0.5555555555555556,
             "#d8576b"
            ],
            [
             0.6666666666666666,
             "#ed7953"
            ],
            [
             0.7777777777777778,
             "#fb9f3a"
            ],
            [
             0.8888888888888888,
             "#fdca26"
            ],
            [
             1,
             "#f0f921"
            ]
           ]
          },
          "colorway": [
           "#636efa",
           "#EF553B",
           "#00cc96",
           "#ab63fa",
           "#FFA15A",
           "#19d3f3",
           "#FF6692",
           "#B6E880",
           "#FF97FF",
           "#FECB52"
          ],
          "font": {
           "color": "#2a3f5f"
          },
          "geo": {
           "bgcolor": "white",
           "lakecolor": "white",
           "landcolor": "#E5ECF6",
           "showlakes": true,
           "showland": true,
           "subunitcolor": "white"
          },
          "hoverlabel": {
           "align": "left"
          },
          "hovermode": "closest",
          "mapbox": {
           "style": "light"
          },
          "paper_bgcolor": "white",
          "plot_bgcolor": "#E5ECF6",
          "polar": {
           "angularaxis": {
            "gridcolor": "white",
            "linecolor": "white",
            "ticks": ""
           },
           "bgcolor": "#E5ECF6",
           "radialaxis": {
            "gridcolor": "white",
            "linecolor": "white",
            "ticks": ""
           }
          },
          "scene": {
           "xaxis": {
            "backgroundcolor": "#E5ECF6",
            "gridcolor": "white",
            "gridwidth": 2,
            "linecolor": "white",
            "showbackground": true,
            "ticks": "",
            "zerolinecolor": "white"
           },
           "yaxis": {
            "backgroundcolor": "#E5ECF6",
            "gridcolor": "white",
            "gridwidth": 2,
            "linecolor": "white",
            "showbackground": true,
            "ticks": "",
            "zerolinecolor": "white"
           },
           "zaxis": {
            "backgroundcolor": "#E5ECF6",
            "gridcolor": "white",
            "gridwidth": 2,
            "linecolor": "white",
            "showbackground": true,
            "ticks": "",
            "zerolinecolor": "white"
           }
          },
          "shapedefaults": {
           "line": {
            "color": "#2a3f5f"
           }
          },
          "ternary": {
           "aaxis": {
            "gridcolor": "white",
            "linecolor": "white",
            "ticks": ""
           },
           "baxis": {
            "gridcolor": "white",
            "linecolor": "white",
            "ticks": ""
           },
           "bgcolor": "#E5ECF6",
           "caxis": {
            "gridcolor": "white",
            "linecolor": "white",
            "ticks": ""
           }
          },
          "title": {
           "x": 0.05
          },
          "xaxis": {
           "automargin": true,
           "gridcolor": "white",
           "linecolor": "white",
           "ticks": "",
           "title": {
            "standoff": 15
           },
           "zerolinecolor": "white",
           "zerolinewidth": 2
          },
          "yaxis": {
           "automargin": true,
           "gridcolor": "white",
           "linecolor": "white",
           "ticks": "",
           "title": {
            "standoff": 15
           },
           "zerolinecolor": "white",
           "zerolinewidth": 2
          }
         }
        },
        "title": {
         "text": "Function Value over Iterations with Constraints"
        },
        "xaxis": {
         "title": {
          "text": "Iteration"
         }
        },
        "yaxis": {
         "title": {
          "text": "Function Value"
         }
        }
       }
      }
     },
     "metadata": {},
     "output_type": "display_data"
    }
   ],
   "source": [
    "filename = search_log_files(LOG_DIR, [\"2024-08-27\"])[0]\n",
    "print(filename)\n",
    "print()\n",
    "\n",
    "log_file_path = os.path.join(LOG_DIR, filename)\n",
    "df_merged, settings = parse_and_prepare_data(log_file_path)\n",
    "\n",
    "print(\"実験設定\")\n",
    "display(settings)\n",
    "print()\n",
    "display(df_merged)\n",
    "\n",
    "plot_function_values(df_merged)"
   ]
  },
  {
   "cell_type": "markdown",
   "metadata": {},
   "source": [
    "#### lambda1=0.5, lambda2=0.5, clipping=True\n",
    "\n",
    "- 獲得関数の符号を間違えている"
   ]
  },
  {
   "cell_type": "code",
   "execution_count": 88,
   "metadata": {},
   "outputs": [
    {
     "name": "stdout",
     "output_type": "stream",
     "text": [
      "2024-08-27_20-12-18_Simple_5d_constrained_normalized-input_2.log\n",
      "\n",
      "実験設定\n"
     ]
    },
    {
     "data": {
      "text/plain": [
       "{'name': 'Simple_5d_constrained_normalized-input_2',\n",
       " 'device': 'cpu',\n",
       " 'bo_iter': 1000,\n",
       " 'initial_data_size': 10,\n",
       " 'model': {'hidden_unit_size': 64, 'num_hidden_layers': 3},\n",
       " 'model_optim': {'num_epochs': 1000, 'learning_rate': 0.01},\n",
       " 'acquisition_optim': {'beta': 0.1, 'num_restarts': 5, 'raw_samples': 20},\n",
       " 'memo': 'try input-normalization for numarical stability'}"
      ]
     },
     "metadata": {},
     "output_type": "display_data"
    },
    {
     "name": "stdout",
     "output_type": "stream",
     "text": [
      "\n"
     ]
    },
    {
     "data": {
      "text/html": [
       "<div>\n",
       "<style scoped>\n",
       "    .dataframe tbody tr th:only-of-type {\n",
       "        vertical-align: middle;\n",
       "    }\n",
       "\n",
       "    .dataframe tbody tr th {\n",
       "        vertical-align: top;\n",
       "    }\n",
       "\n",
       "    .dataframe thead th {\n",
       "        text-align: right;\n",
       "    }\n",
       "</style>\n",
       "<table border=\"1\" class=\"dataframe\">\n",
       "  <thead>\n",
       "    <tr style=\"text-align: right;\">\n",
       "      <th></th>\n",
       "      <th>iteration</th>\n",
       "      <th>iteration_time</th>\n",
       "      <th>candidate</th>\n",
       "      <th>function_value</th>\n",
       "      <th>best_f</th>\n",
       "      <th>acquisition_value</th>\n",
       "      <th>surrogate_mean</th>\n",
       "      <th>surrogate_covariance</th>\n",
       "      <th>final_training_loss</th>\n",
       "      <th>constraint</th>\n",
       "      <th>best_f_constrained</th>\n",
       "    </tr>\n",
       "  </thead>\n",
       "  <tbody>\n",
       "    <tr>\n",
       "      <th>0</th>\n",
       "      <td>0</td>\n",
       "      <td>NaN</td>\n",
       "      <td>[[-8.0, 10.0, 0.0, 6.0, -1.0]]</td>\n",
       "      <td>-201.0</td>\n",
       "      <td>-201.0</td>\n",
       "      <td>NaN</td>\n",
       "      <td>NaN</td>\n",
       "      <td>NaN</td>\n",
       "      <td>-5.000016e+06</td>\n",
       "      <td>False</td>\n",
       "      <td>NaN</td>\n",
       "    </tr>\n",
       "    <tr>\n",
       "      <th>1</th>\n",
       "      <td>0</td>\n",
       "      <td>NaN</td>\n",
       "      <td>[[9.0, 6.0, -2.0, 3.0, 2.0]]</td>\n",
       "      <td>-134.0</td>\n",
       "      <td>-134.0</td>\n",
       "      <td>NaN</td>\n",
       "      <td>NaN</td>\n",
       "      <td>NaN</td>\n",
       "      <td>-5.000016e+06</td>\n",
       "      <td>False</td>\n",
       "      <td>NaN</td>\n",
       "    </tr>\n",
       "    <tr>\n",
       "      <th>2</th>\n",
       "      <td>0</td>\n",
       "      <td>NaN</td>\n",
       "      <td>[[0.0, 3.0, 10.0, 9.0, -6.0]]</td>\n",
       "      <td>-226.0</td>\n",
       "      <td>-134.0</td>\n",
       "      <td>NaN</td>\n",
       "      <td>NaN</td>\n",
       "      <td>NaN</td>\n",
       "      <td>-5.000016e+06</td>\n",
       "      <td>False</td>\n",
       "      <td>NaN</td>\n",
       "    </tr>\n",
       "    <tr>\n",
       "      <th>3</th>\n",
       "      <td>0</td>\n",
       "      <td>NaN</td>\n",
       "      <td>[[0.0, -3.0, 8.0, 4.0, 0.0]]</td>\n",
       "      <td>-89.0</td>\n",
       "      <td>-89.0</td>\n",
       "      <td>NaN</td>\n",
       "      <td>NaN</td>\n",
       "      <td>NaN</td>\n",
       "      <td>-5.000016e+06</td>\n",
       "      <td>False</td>\n",
       "      <td>NaN</td>\n",
       "    </tr>\n",
       "    <tr>\n",
       "      <th>4</th>\n",
       "      <td>0</td>\n",
       "      <td>NaN</td>\n",
       "      <td>[[-6.0, 6.0, 7.0, -10.0, 6.0]]</td>\n",
       "      <td>-257.0</td>\n",
       "      <td>-89.0</td>\n",
       "      <td>NaN</td>\n",
       "      <td>NaN</td>\n",
       "      <td>NaN</td>\n",
       "      <td>-5.000016e+06</td>\n",
       "      <td>False</td>\n",
       "      <td>NaN</td>\n",
       "    </tr>\n",
       "    <tr>\n",
       "      <th>...</th>\n",
       "      <td>...</td>\n",
       "      <td>...</td>\n",
       "      <td>...</td>\n",
       "      <td>...</td>\n",
       "      <td>...</td>\n",
       "      <td>...</td>\n",
       "      <td>...</td>\n",
       "      <td>...</td>\n",
       "      <td>...</td>\n",
       "      <td>...</td>\n",
       "      <td>...</td>\n",
       "    </tr>\n",
       "    <tr>\n",
       "      <th>164</th>\n",
       "      <td>165</td>\n",
       "      <td>374.6810</td>\n",
       "      <td>[[-10.0, -10.0, 10.0, -10.0, -10.0]]</td>\n",
       "      <td>-500.0</td>\n",
       "      <td>-89.0</td>\n",
       "      <td>1.000003e+06</td>\n",
       "      <td>1000000.0</td>\n",
       "      <td>100.0</td>\n",
       "      <td>1.801114e+11</td>\n",
       "      <td>True</td>\n",
       "      <td>-313.0</td>\n",
       "    </tr>\n",
       "    <tr>\n",
       "      <th>165</th>\n",
       "      <td>166</td>\n",
       "      <td>377.1107</td>\n",
       "      <td>[[10.0, 10.0, 10.0, 10.0, -10.0]]</td>\n",
       "      <td>-500.0</td>\n",
       "      <td>-89.0</td>\n",
       "      <td>1.000003e+06</td>\n",
       "      <td>1000000.0</td>\n",
       "      <td>100.0</td>\n",
       "      <td>1.826137e+11</td>\n",
       "      <td>True</td>\n",
       "      <td>-313.0</td>\n",
       "    </tr>\n",
       "    <tr>\n",
       "      <th>166</th>\n",
       "      <td>167</td>\n",
       "      <td>379.1051</td>\n",
       "      <td>[[10.0, -10.0, 10.0, -10.0, 10.0]]</td>\n",
       "      <td>-500.0</td>\n",
       "      <td>-89.0</td>\n",
       "      <td>1.000003e+06</td>\n",
       "      <td>1000000.0</td>\n",
       "      <td>100.0</td>\n",
       "      <td>1.826133e+11</td>\n",
       "      <td>False</td>\n",
       "      <td>-313.0</td>\n",
       "    </tr>\n",
       "    <tr>\n",
       "      <th>167</th>\n",
       "      <td>168</td>\n",
       "      <td>381.0732</td>\n",
       "      <td>[[10.0, 10.0, -10.0, 4.0, -10.0]]</td>\n",
       "      <td>-416.0</td>\n",
       "      <td>-89.0</td>\n",
       "      <td>1.000003e+06</td>\n",
       "      <td>1000000.0</td>\n",
       "      <td>100.0</td>\n",
       "      <td>1.851155e+11</td>\n",
       "      <td>True</td>\n",
       "      <td>-313.0</td>\n",
       "    </tr>\n",
       "    <tr>\n",
       "      <th>168</th>\n",
       "      <td>169</td>\n",
       "      <td>NaN</td>\n",
       "      <td>[[-6.0, 5.0, 10.0, -10.0, 10.0]]</td>\n",
       "      <td>-361.0</td>\n",
       "      <td>-89.0</td>\n",
       "      <td>1.000003e+06</td>\n",
       "      <td>1000000.0</td>\n",
       "      <td>100.0</td>\n",
       "      <td>NaN</td>\n",
       "      <td>False</td>\n",
       "      <td>-313.0</td>\n",
       "    </tr>\n",
       "  </tbody>\n",
       "</table>\n",
       "<p>179 rows × 11 columns</p>\n",
       "</div>"
      ],
      "text/plain": [
       "     iteration  iteration_time                             candidate  \\\n",
       "0            0             NaN        [[-8.0, 10.0, 0.0, 6.0, -1.0]]   \n",
       "1            0             NaN          [[9.0, 6.0, -2.0, 3.0, 2.0]]   \n",
       "2            0             NaN         [[0.0, 3.0, 10.0, 9.0, -6.0]]   \n",
       "3            0             NaN          [[0.0, -3.0, 8.0, 4.0, 0.0]]   \n",
       "4            0             NaN        [[-6.0, 6.0, 7.0, -10.0, 6.0]]   \n",
       "..         ...             ...                                   ...   \n",
       "164        165        374.6810  [[-10.0, -10.0, 10.0, -10.0, -10.0]]   \n",
       "165        166        377.1107     [[10.0, 10.0, 10.0, 10.0, -10.0]]   \n",
       "166        167        379.1051    [[10.0, -10.0, 10.0, -10.0, 10.0]]   \n",
       "167        168        381.0732     [[10.0, 10.0, -10.0, 4.0, -10.0]]   \n",
       "168        169             NaN      [[-6.0, 5.0, 10.0, -10.0, 10.0]]   \n",
       "\n",
       "     function_value  best_f  acquisition_value  surrogate_mean  \\\n",
       "0            -201.0  -201.0                NaN             NaN   \n",
       "1            -134.0  -134.0                NaN             NaN   \n",
       "2            -226.0  -134.0                NaN             NaN   \n",
       "3             -89.0   -89.0                NaN             NaN   \n",
       "4            -257.0   -89.0                NaN             NaN   \n",
       "..              ...     ...                ...             ...   \n",
       "164          -500.0   -89.0       1.000003e+06       1000000.0   \n",
       "165          -500.0   -89.0       1.000003e+06       1000000.0   \n",
       "166          -500.0   -89.0       1.000003e+06       1000000.0   \n",
       "167          -416.0   -89.0       1.000003e+06       1000000.0   \n",
       "168          -361.0   -89.0       1.000003e+06       1000000.0   \n",
       "\n",
       "     surrogate_covariance  final_training_loss  constraint  best_f_constrained  \n",
       "0                     NaN        -5.000016e+06       False                 NaN  \n",
       "1                     NaN        -5.000016e+06       False                 NaN  \n",
       "2                     NaN        -5.000016e+06       False                 NaN  \n",
       "3                     NaN        -5.000016e+06       False                 NaN  \n",
       "4                     NaN        -5.000016e+06       False                 NaN  \n",
       "..                    ...                  ...         ...                 ...  \n",
       "164                 100.0         1.801114e+11        True              -313.0  \n",
       "165                 100.0         1.826137e+11        True              -313.0  \n",
       "166                 100.0         1.826133e+11       False              -313.0  \n",
       "167                 100.0         1.851155e+11        True              -313.0  \n",
       "168                 100.0                  NaN       False              -313.0  \n",
       "\n",
       "[179 rows x 11 columns]"
      ]
     },
     "metadata": {},
     "output_type": "display_data"
    },
    {
     "data": {
      "application/vnd.plotly.v1+json": {
       "config": {
        "plotlyServerURL": "https://plot.ly"
       },
       "data": [
        {
         "marker": {
          "color": [
           "blue",
           "blue",
           "blue",
           "blue",
           "blue",
           "blue",
           "blue",
           "blue",
           "blue",
           "blue",
           "blue",
           "blue",
           "orange",
           "orange",
           "blue",
           "blue",
           "orange",
           "blue",
           "orange",
           "blue",
           "orange",
           "orange",
           "orange",
           "blue",
           "orange",
           "blue",
           "blue",
           "blue",
           "orange",
           "orange",
           "blue",
           "orange",
           "blue",
           "orange",
           "blue",
           "orange",
           "blue",
           "blue",
           "orange",
           "blue",
           "orange",
           "blue",
           "blue",
           "blue",
           "blue",
           "blue",
           "blue",
           "blue",
           "blue",
           "blue",
           "blue",
           "blue",
           "orange",
           "blue",
           "orange",
           "blue",
           "blue",
           "blue",
           "orange",
           "blue",
           "blue",
           "blue",
           "blue",
           "orange",
           "orange",
           "blue",
           "blue",
           "blue",
           "blue",
           "orange",
           "orange",
           "blue",
           "blue",
           "blue",
           "blue",
           "blue",
           "blue",
           "orange",
           "blue",
           "blue",
           "orange",
           "orange",
           "orange",
           "blue",
           "blue",
           "blue",
           "blue",
           "orange",
           "blue",
           "blue",
           "blue",
           "blue",
           "orange",
           "orange",
           "orange",
           "orange",
           "blue",
           "orange",
           "blue",
           "blue",
           "blue",
           "blue",
           "blue",
           "orange",
           "blue",
           "orange",
           "orange",
           "orange",
           "blue",
           "orange",
           "orange",
           "blue",
           "orange",
           "blue",
           "orange",
           "orange",
           "orange",
           "blue",
           "blue",
           "blue",
           "orange",
           "orange",
           "orange",
           "orange",
           "blue",
           "blue",
           "blue",
           "orange",
           "blue",
           "blue",
           "orange",
           "blue",
           "blue",
           "orange",
           "orange",
           "blue",
           "blue",
           "orange",
           "orange",
           "orange",
           "blue",
           "blue",
           "blue",
           "orange",
           "orange",
           "blue",
           "orange",
           "orange",
           "blue",
           "orange",
           "orange",
           "blue",
           "orange",
           "blue",
           "blue",
           "orange",
           "orange",
           "blue",
           "blue",
           "blue",
           "orange",
           "orange",
           "orange",
           "orange",
           "blue",
           "blue",
           "orange",
           "blue",
           "orange",
           "orange",
           "orange",
           "orange",
           "blue",
           "blue",
           "orange",
           "orange",
           "blue",
           "orange",
           "blue"
          ]
         },
         "mode": "markers",
         "name": "Function Value",
         "type": "scatter",
         "x": [
          0,
          0,
          0,
          0,
          0,
          0,
          0,
          0,
          0,
          0,
          1,
          2,
          3,
          4,
          5,
          6,
          7,
          8,
          9,
          10,
          11,
          12,
          13,
          14,
          15,
          16,
          17,
          18,
          19,
          20,
          21,
          22,
          23,
          24,
          25,
          26,
          27,
          28,
          29,
          30,
          31,
          32,
          33,
          34,
          35,
          36,
          37,
          38,
          39,
          40,
          41,
          42,
          43,
          44,
          45,
          46,
          47,
          48,
          49,
          50,
          51,
          52,
          53,
          54,
          55,
          56,
          57,
          58,
          59,
          60,
          61,
          62,
          63,
          64,
          65,
          66,
          67,
          68,
          69,
          70,
          71,
          72,
          73,
          74,
          75,
          76,
          77,
          78,
          79,
          80,
          81,
          82,
          83,
          84,
          85,
          86,
          87,
          88,
          89,
          90,
          91,
          92,
          93,
          94,
          95,
          96,
          97,
          98,
          99,
          100,
          101,
          102,
          103,
          104,
          105,
          106,
          107,
          108,
          109,
          110,
          111,
          112,
          113,
          114,
          115,
          116,
          117,
          118,
          119,
          120,
          121,
          122,
          123,
          124,
          125,
          126,
          127,
          128,
          129,
          130,
          131,
          132,
          133,
          134,
          135,
          136,
          137,
          138,
          139,
          140,
          141,
          142,
          143,
          144,
          145,
          146,
          147,
          148,
          149,
          150,
          151,
          152,
          153,
          154,
          155,
          156,
          157,
          158,
          159,
          160,
          161,
          162,
          163,
          164,
          165,
          166,
          167,
          168,
          169
         ],
         "y": [
          -201,
          -134,
          -226,
          -89,
          -257,
          -126,
          -178,
          -158,
          -172,
          -143,
          -500,
          -500,
          -500,
          -425,
          -500,
          -500,
          -500,
          -500,
          -500,
          -416,
          -500,
          -436,
          -500,
          -500,
          -436,
          -305,
          -500,
          -500,
          -500,
          -500,
          -358,
          -404,
          -500,
          -425,
          -380,
          -500,
          -500,
          -500,
          -500,
          -500,
          -368,
          -500,
          -425,
          -500,
          -500,
          -500,
          -449,
          -481,
          -500,
          -500,
          -500,
          -500,
          -500,
          -464,
          -500,
          -500,
          -500,
          -500,
          -500,
          -449,
          -425,
          -500,
          -404,
          -500,
          -500,
          -416,
          -436,
          -500,
          -409,
          -500,
          -500,
          -401,
          -318,
          -464,
          -500,
          -406,
          -481,
          -464,
          -425,
          -500,
          -500,
          -400,
          -500,
          -500,
          -500,
          -481,
          -425,
          -500,
          -500,
          -409,
          -436,
          -436,
          -500,
          -500,
          -500,
          -500,
          -436,
          -500,
          -500,
          -500,
          -500,
          -385,
          -401,
          -500,
          -400,
          -500,
          -500,
          -313,
          -401,
          -449,
          -449,
          -500,
          -500,
          -500,
          -500,
          -416,
          -500,
          -409,
          -500,
          -358,
          -500,
          -500,
          -500,
          -500,
          -500,
          -500,
          -404,
          -500,
          -500,
          -425,
          -500,
          -464,
          -481,
          -464,
          -500,
          -500,
          -449,
          -401,
          -416,
          -500,
          -289,
          -500,
          -436,
          -500,
          -425,
          -500,
          -500,
          -500,
          -436,
          -500,
          -500,
          -500,
          -500,
          -500,
          -409,
          -500,
          -404,
          -500,
          -500,
          -500,
          -500,
          -500,
          -500,
          -409,
          -500,
          -409,
          -500,
          -481,
          -481,
          -500,
          -500,
          -500,
          -500,
          -500,
          -500,
          -500,
          -500,
          -416,
          -361
         ]
        },
        {
         "line": {
          "color": "red"
         },
         "mode": "lines",
         "name": "Best f",
         "type": "scatter",
         "x": [
          0,
          0,
          0,
          0,
          0,
          0,
          0,
          0,
          0,
          0,
          1,
          2,
          3,
          4,
          5,
          6,
          7,
          8,
          9,
          10,
          11,
          12,
          13,
          14,
          15,
          16,
          17,
          18,
          19,
          20,
          21,
          22,
          23,
          24,
          25,
          26,
          27,
          28,
          29,
          30,
          31,
          32,
          33,
          34,
          35,
          36,
          37,
          38,
          39,
          40,
          41,
          42,
          43,
          44,
          45,
          46,
          47,
          48,
          49,
          50,
          51,
          52,
          53,
          54,
          55,
          56,
          57,
          58,
          59,
          60,
          61,
          62,
          63,
          64,
          65,
          66,
          67,
          68,
          69,
          70,
          71,
          72,
          73,
          74,
          75,
          76,
          77,
          78,
          79,
          80,
          81,
          82,
          83,
          84,
          85,
          86,
          87,
          88,
          89,
          90,
          91,
          92,
          93,
          94,
          95,
          96,
          97,
          98,
          99,
          100,
          101,
          102,
          103,
          104,
          105,
          106,
          107,
          108,
          109,
          110,
          111,
          112,
          113,
          114,
          115,
          116,
          117,
          118,
          119,
          120,
          121,
          122,
          123,
          124,
          125,
          126,
          127,
          128,
          129,
          130,
          131,
          132,
          133,
          134,
          135,
          136,
          137,
          138,
          139,
          140,
          141,
          142,
          143,
          144,
          145,
          146,
          147,
          148,
          149,
          150,
          151,
          152,
          153,
          154,
          155,
          156,
          157,
          158,
          159,
          160,
          161,
          162,
          163,
          164,
          165,
          166,
          167,
          168,
          169
         ],
         "y": [
          -201,
          -134,
          -134,
          -89,
          -89,
          -89,
          -89,
          -89,
          -89,
          -89,
          -89,
          -89,
          -89,
          -89,
          -89,
          -89,
          -89,
          -89,
          -89,
          -89,
          -89,
          -89,
          -89,
          -89,
          -89,
          -89,
          -89,
          -89,
          -89,
          -89,
          -89,
          -89,
          -89,
          -89,
          -89,
          -89,
          -89,
          -89,
          -89,
          -89,
          -89,
          -89,
          -89,
          -89,
          -89,
          -89,
          -89,
          -89,
          -89,
          -89,
          -89,
          -89,
          -89,
          -89,
          -89,
          -89,
          -89,
          -89,
          -89,
          -89,
          -89,
          -89,
          -89,
          -89,
          -89,
          -89,
          -89,
          -89,
          -89,
          -89,
          -89,
          -89,
          -89,
          -89,
          -89,
          -89,
          -89,
          -89,
          -89,
          -89,
          -89,
          -89,
          -89,
          -89,
          -89,
          -89,
          -89,
          -89,
          -89,
          -89,
          -89,
          -89,
          -89,
          -89,
          -89,
          -89,
          -89,
          -89,
          -89,
          -89,
          -89,
          -89,
          -89,
          -89,
          -89,
          -89,
          -89,
          -89,
          -89,
          -89,
          -89,
          -89,
          -89,
          -89,
          -89,
          -89,
          -89,
          -89,
          -89,
          -89,
          -89,
          -89,
          -89,
          -89,
          -89,
          -89,
          -89,
          -89,
          -89,
          -89,
          -89,
          -89,
          -89,
          -89,
          -89,
          -89,
          -89,
          -89,
          -89,
          -89,
          -89,
          -89,
          -89,
          -89,
          -89,
          -89,
          -89,
          -89,
          -89,
          -89,
          -89,
          -89,
          -89,
          -89,
          -89,
          -89,
          -89,
          -89,
          -89,
          -89,
          -89,
          -89,
          -89,
          -89,
          -89,
          -89,
          -89,
          -89,
          -89,
          -89,
          -89,
          -89,
          -89,
          -89,
          -89,
          -89,
          -89,
          -89,
          -89
         ]
        },
        {
         "line": {
          "color": "green"
         },
         "mode": "lines",
         "name": "Best f under constraint",
         "type": "scatter",
         "x": [
          0,
          0,
          0,
          0,
          0,
          0,
          0,
          0,
          0,
          0,
          1,
          2,
          3,
          4,
          5,
          6,
          7,
          8,
          9,
          10,
          11,
          12,
          13,
          14,
          15,
          16,
          17,
          18,
          19,
          20,
          21,
          22,
          23,
          24,
          25,
          26,
          27,
          28,
          29,
          30,
          31,
          32,
          33,
          34,
          35,
          36,
          37,
          38,
          39,
          40,
          41,
          42,
          43,
          44,
          45,
          46,
          47,
          48,
          49,
          50,
          51,
          52,
          53,
          54,
          55,
          56,
          57,
          58,
          59,
          60,
          61,
          62,
          63,
          64,
          65,
          66,
          67,
          68,
          69,
          70,
          71,
          72,
          73,
          74,
          75,
          76,
          77,
          78,
          79,
          80,
          81,
          82,
          83,
          84,
          85,
          86,
          87,
          88,
          89,
          90,
          91,
          92,
          93,
          94,
          95,
          96,
          97,
          98,
          99,
          100,
          101,
          102,
          103,
          104,
          105,
          106,
          107,
          108,
          109,
          110,
          111,
          112,
          113,
          114,
          115,
          116,
          117,
          118,
          119,
          120,
          121,
          122,
          123,
          124,
          125,
          126,
          127,
          128,
          129,
          130,
          131,
          132,
          133,
          134,
          135,
          136,
          137,
          138,
          139,
          140,
          141,
          142,
          143,
          144,
          145,
          146,
          147,
          148,
          149,
          150,
          151,
          152,
          153,
          154,
          155,
          156,
          157,
          158,
          159,
          160,
          161,
          162,
          163,
          164,
          165,
          166,
          167,
          168,
          169
         ],
         "y": [
          null,
          null,
          null,
          null,
          null,
          null,
          null,
          null,
          null,
          null,
          null,
          null,
          -500,
          -425,
          -425,
          -425,
          -425,
          -425,
          -425,
          -425,
          -425,
          -425,
          -425,
          -425,
          -425,
          -425,
          -425,
          -425,
          -425,
          -425,
          -425,
          -404,
          -404,
          -404,
          -404,
          -404,
          -404,
          -404,
          -404,
          -404,
          -368,
          -368,
          -368,
          -368,
          -368,
          -368,
          -368,
          -368,
          -368,
          -368,
          -368,
          -368,
          -368,
          -368,
          -368,
          -368,
          -368,
          -368,
          -368,
          -368,
          -368,
          -368,
          -368,
          -368,
          -368,
          -368,
          -368,
          -368,
          -368,
          -368,
          -368,
          -368,
          -368,
          -368,
          -368,
          -368,
          -368,
          -368,
          -368,
          -368,
          -368,
          -368,
          -368,
          -368,
          -368,
          -368,
          -368,
          -368,
          -368,
          -368,
          -368,
          -368,
          -368,
          -368,
          -368,
          -368,
          -368,
          -368,
          -368,
          -368,
          -368,
          -368,
          -368,
          -368,
          -368,
          -368,
          -368,
          -313,
          -313,
          -313,
          -313,
          -313,
          -313,
          -313,
          -313,
          -313,
          -313,
          -313,
          -313,
          -313,
          -313,
          -313,
          -313,
          -313,
          -313,
          -313,
          -313,
          -313,
          -313,
          -313,
          -313,
          -313,
          -313,
          -313,
          -313,
          -313,
          -313,
          -313,
          -313,
          -313,
          -313,
          -313,
          -313,
          -313,
          -313,
          -313,
          -313,
          -313,
          -313,
          -313,
          -313,
          -313,
          -313,
          -313,
          -313,
          -313,
          -313,
          -313,
          -313,
          -313,
          -313,
          -313,
          -313,
          -313,
          -313,
          -313,
          -313,
          -313,
          -313,
          -313,
          -313,
          -313,
          -313,
          -313,
          -313,
          -313,
          -313,
          -313,
          -313
         ]
        }
       ],
       "layout": {
        "showlegend": true,
        "template": {
         "data": {
          "bar": [
           {
            "error_x": {
             "color": "#2a3f5f"
            },
            "error_y": {
             "color": "#2a3f5f"
            },
            "marker": {
             "line": {
              "color": "#E5ECF6",
              "width": 0.5
             },
             "pattern": {
              "fillmode": "overlay",
              "size": 10,
              "solidity": 0.2
             }
            },
            "type": "bar"
           }
          ],
          "barpolar": [
           {
            "marker": {
             "line": {
              "color": "#E5ECF6",
              "width": 0.5
             },
             "pattern": {
              "fillmode": "overlay",
              "size": 10,
              "solidity": 0.2
             }
            },
            "type": "barpolar"
           }
          ],
          "carpet": [
           {
            "aaxis": {
             "endlinecolor": "#2a3f5f",
             "gridcolor": "white",
             "linecolor": "white",
             "minorgridcolor": "white",
             "startlinecolor": "#2a3f5f"
            },
            "baxis": {
             "endlinecolor": "#2a3f5f",
             "gridcolor": "white",
             "linecolor": "white",
             "minorgridcolor": "white",
             "startlinecolor": "#2a3f5f"
            },
            "type": "carpet"
           }
          ],
          "choropleth": [
           {
            "colorbar": {
             "outlinewidth": 0,
             "ticks": ""
            },
            "type": "choropleth"
           }
          ],
          "contour": [
           {
            "colorbar": {
             "outlinewidth": 0,
             "ticks": ""
            },
            "colorscale": [
             [
              0,
              "#0d0887"
             ],
             [
              0.1111111111111111,
              "#46039f"
             ],
             [
              0.2222222222222222,
              "#7201a8"
             ],
             [
              0.3333333333333333,
              "#9c179e"
             ],
             [
              0.4444444444444444,
              "#bd3786"
             ],
             [
              0.5555555555555556,
              "#d8576b"
             ],
             [
              0.6666666666666666,
              "#ed7953"
             ],
             [
              0.7777777777777778,
              "#fb9f3a"
             ],
             [
              0.8888888888888888,
              "#fdca26"
             ],
             [
              1,
              "#f0f921"
             ]
            ],
            "type": "contour"
           }
          ],
          "contourcarpet": [
           {
            "colorbar": {
             "outlinewidth": 0,
             "ticks": ""
            },
            "type": "contourcarpet"
           }
          ],
          "heatmap": [
           {
            "colorbar": {
             "outlinewidth": 0,
             "ticks": ""
            },
            "colorscale": [
             [
              0,
              "#0d0887"
             ],
             [
              0.1111111111111111,
              "#46039f"
             ],
             [
              0.2222222222222222,
              "#7201a8"
             ],
             [
              0.3333333333333333,
              "#9c179e"
             ],
             [
              0.4444444444444444,
              "#bd3786"
             ],
             [
              0.5555555555555556,
              "#d8576b"
             ],
             [
              0.6666666666666666,
              "#ed7953"
             ],
             [
              0.7777777777777778,
              "#fb9f3a"
             ],
             [
              0.8888888888888888,
              "#fdca26"
             ],
             [
              1,
              "#f0f921"
             ]
            ],
            "type": "heatmap"
           }
          ],
          "heatmapgl": [
           {
            "colorbar": {
             "outlinewidth": 0,
             "ticks": ""
            },
            "colorscale": [
             [
              0,
              "#0d0887"
             ],
             [
              0.1111111111111111,
              "#46039f"
             ],
             [
              0.2222222222222222,
              "#7201a8"
             ],
             [
              0.3333333333333333,
              "#9c179e"
             ],
             [
              0.4444444444444444,
              "#bd3786"
             ],
             [
              0.5555555555555556,
              "#d8576b"
             ],
             [
              0.6666666666666666,
              "#ed7953"
             ],
             [
              0.7777777777777778,
              "#fb9f3a"
             ],
             [
              0.8888888888888888,
              "#fdca26"
             ],
             [
              1,
              "#f0f921"
             ]
            ],
            "type": "heatmapgl"
           }
          ],
          "histogram": [
           {
            "marker": {
             "pattern": {
              "fillmode": "overlay",
              "size": 10,
              "solidity": 0.2
             }
            },
            "type": "histogram"
           }
          ],
          "histogram2d": [
           {
            "colorbar": {
             "outlinewidth": 0,
             "ticks": ""
            },
            "colorscale": [
             [
              0,
              "#0d0887"
             ],
             [
              0.1111111111111111,
              "#46039f"
             ],
             [
              0.2222222222222222,
              "#7201a8"
             ],
             [
              0.3333333333333333,
              "#9c179e"
             ],
             [
              0.4444444444444444,
              "#bd3786"
             ],
             [
              0.5555555555555556,
              "#d8576b"
             ],
             [
              0.6666666666666666,
              "#ed7953"
             ],
             [
              0.7777777777777778,
              "#fb9f3a"
             ],
             [
              0.8888888888888888,
              "#fdca26"
             ],
             [
              1,
              "#f0f921"
             ]
            ],
            "type": "histogram2d"
           }
          ],
          "histogram2dcontour": [
           {
            "colorbar": {
             "outlinewidth": 0,
             "ticks": ""
            },
            "colorscale": [
             [
              0,
              "#0d0887"
             ],
             [
              0.1111111111111111,
              "#46039f"
             ],
             [
              0.2222222222222222,
              "#7201a8"
             ],
             [
              0.3333333333333333,
              "#9c179e"
             ],
             [
              0.4444444444444444,
              "#bd3786"
             ],
             [
              0.5555555555555556,
              "#d8576b"
             ],
             [
              0.6666666666666666,
              "#ed7953"
             ],
             [
              0.7777777777777778,
              "#fb9f3a"
             ],
             [
              0.8888888888888888,
              "#fdca26"
             ],
             [
              1,
              "#f0f921"
             ]
            ],
            "type": "histogram2dcontour"
           }
          ],
          "mesh3d": [
           {
            "colorbar": {
             "outlinewidth": 0,
             "ticks": ""
            },
            "type": "mesh3d"
           }
          ],
          "parcoords": [
           {
            "line": {
             "colorbar": {
              "outlinewidth": 0,
              "ticks": ""
             }
            },
            "type": "parcoords"
           }
          ],
          "pie": [
           {
            "automargin": true,
            "type": "pie"
           }
          ],
          "scatter": [
           {
            "fillpattern": {
             "fillmode": "overlay",
             "size": 10,
             "solidity": 0.2
            },
            "type": "scatter"
           }
          ],
          "scatter3d": [
           {
            "line": {
             "colorbar": {
              "outlinewidth": 0,
              "ticks": ""
             }
            },
            "marker": {
             "colorbar": {
              "outlinewidth": 0,
              "ticks": ""
             }
            },
            "type": "scatter3d"
           }
          ],
          "scattercarpet": [
           {
            "marker": {
             "colorbar": {
              "outlinewidth": 0,
              "ticks": ""
             }
            },
            "type": "scattercarpet"
           }
          ],
          "scattergeo": [
           {
            "marker": {
             "colorbar": {
              "outlinewidth": 0,
              "ticks": ""
             }
            },
            "type": "scattergeo"
           }
          ],
          "scattergl": [
           {
            "marker": {
             "colorbar": {
              "outlinewidth": 0,
              "ticks": ""
             }
            },
            "type": "scattergl"
           }
          ],
          "scattermapbox": [
           {
            "marker": {
             "colorbar": {
              "outlinewidth": 0,
              "ticks": ""
             }
            },
            "type": "scattermapbox"
           }
          ],
          "scatterpolar": [
           {
            "marker": {
             "colorbar": {
              "outlinewidth": 0,
              "ticks": ""
             }
            },
            "type": "scatterpolar"
           }
          ],
          "scatterpolargl": [
           {
            "marker": {
             "colorbar": {
              "outlinewidth": 0,
              "ticks": ""
             }
            },
            "type": "scatterpolargl"
           }
          ],
          "scatterternary": [
           {
            "marker": {
             "colorbar": {
              "outlinewidth": 0,
              "ticks": ""
             }
            },
            "type": "scatterternary"
           }
          ],
          "surface": [
           {
            "colorbar": {
             "outlinewidth": 0,
             "ticks": ""
            },
            "colorscale": [
             [
              0,
              "#0d0887"
             ],
             [
              0.1111111111111111,
              "#46039f"
             ],
             [
              0.2222222222222222,
              "#7201a8"
             ],
             [
              0.3333333333333333,
              "#9c179e"
             ],
             [
              0.4444444444444444,
              "#bd3786"
             ],
             [
              0.5555555555555556,
              "#d8576b"
             ],
             [
              0.6666666666666666,
              "#ed7953"
             ],
             [
              0.7777777777777778,
              "#fb9f3a"
             ],
             [
              0.8888888888888888,
              "#fdca26"
             ],
             [
              1,
              "#f0f921"
             ]
            ],
            "type": "surface"
           }
          ],
          "table": [
           {
            "cells": {
             "fill": {
              "color": "#EBF0F8"
             },
             "line": {
              "color": "white"
             }
            },
            "header": {
             "fill": {
              "color": "#C8D4E3"
             },
             "line": {
              "color": "white"
             }
            },
            "type": "table"
           }
          ]
         },
         "layout": {
          "annotationdefaults": {
           "arrowcolor": "#2a3f5f",
           "arrowhead": 0,
           "arrowwidth": 1
          },
          "autotypenumbers": "strict",
          "coloraxis": {
           "colorbar": {
            "outlinewidth": 0,
            "ticks": ""
           }
          },
          "colorscale": {
           "diverging": [
            [
             0,
             "#8e0152"
            ],
            [
             0.1,
             "#c51b7d"
            ],
            [
             0.2,
             "#de77ae"
            ],
            [
             0.3,
             "#f1b6da"
            ],
            [
             0.4,
             "#fde0ef"
            ],
            [
             0.5,
             "#f7f7f7"
            ],
            [
             0.6,
             "#e6f5d0"
            ],
            [
             0.7,
             "#b8e186"
            ],
            [
             0.8,
             "#7fbc41"
            ],
            [
             0.9,
             "#4d9221"
            ],
            [
             1,
             "#276419"
            ]
           ],
           "sequential": [
            [
             0,
             "#0d0887"
            ],
            [
             0.1111111111111111,
             "#46039f"
            ],
            [
             0.2222222222222222,
             "#7201a8"
            ],
            [
             0.3333333333333333,
             "#9c179e"
            ],
            [
             0.4444444444444444,
             "#bd3786"
            ],
            [
             0.5555555555555556,
             "#d8576b"
            ],
            [
             0.6666666666666666,
             "#ed7953"
            ],
            [
             0.7777777777777778,
             "#fb9f3a"
            ],
            [
             0.8888888888888888,
             "#fdca26"
            ],
            [
             1,
             "#f0f921"
            ]
           ],
           "sequentialminus": [
            [
             0,
             "#0d0887"
            ],
            [
             0.1111111111111111,
             "#46039f"
            ],
            [
             0.2222222222222222,
             "#7201a8"
            ],
            [
             0.3333333333333333,
             "#9c179e"
            ],
            [
             0.4444444444444444,
             "#bd3786"
            ],
            [
             0.5555555555555556,
             "#d8576b"
            ],
            [
             0.6666666666666666,
             "#ed7953"
            ],
            [
             0.7777777777777778,
             "#fb9f3a"
            ],
            [
             0.8888888888888888,
             "#fdca26"
            ],
            [
             1,
             "#f0f921"
            ]
           ]
          },
          "colorway": [
           "#636efa",
           "#EF553B",
           "#00cc96",
           "#ab63fa",
           "#FFA15A",
           "#19d3f3",
           "#FF6692",
           "#B6E880",
           "#FF97FF",
           "#FECB52"
          ],
          "font": {
           "color": "#2a3f5f"
          },
          "geo": {
           "bgcolor": "white",
           "lakecolor": "white",
           "landcolor": "#E5ECF6",
           "showlakes": true,
           "showland": true,
           "subunitcolor": "white"
          },
          "hoverlabel": {
           "align": "left"
          },
          "hovermode": "closest",
          "mapbox": {
           "style": "light"
          },
          "paper_bgcolor": "white",
          "plot_bgcolor": "#E5ECF6",
          "polar": {
           "angularaxis": {
            "gridcolor": "white",
            "linecolor": "white",
            "ticks": ""
           },
           "bgcolor": "#E5ECF6",
           "radialaxis": {
            "gridcolor": "white",
            "linecolor": "white",
            "ticks": ""
           }
          },
          "scene": {
           "xaxis": {
            "backgroundcolor": "#E5ECF6",
            "gridcolor": "white",
            "gridwidth": 2,
            "linecolor": "white",
            "showbackground": true,
            "ticks": "",
            "zerolinecolor": "white"
           },
           "yaxis": {
            "backgroundcolor": "#E5ECF6",
            "gridcolor": "white",
            "gridwidth": 2,
            "linecolor": "white",
            "showbackground": true,
            "ticks": "",
            "zerolinecolor": "white"
           },
           "zaxis": {
            "backgroundcolor": "#E5ECF6",
            "gridcolor": "white",
            "gridwidth": 2,
            "linecolor": "white",
            "showbackground": true,
            "ticks": "",
            "zerolinecolor": "white"
           }
          },
          "shapedefaults": {
           "line": {
            "color": "#2a3f5f"
           }
          },
          "ternary": {
           "aaxis": {
            "gridcolor": "white",
            "linecolor": "white",
            "ticks": ""
           },
           "baxis": {
            "gridcolor": "white",
            "linecolor": "white",
            "ticks": ""
           },
           "bgcolor": "#E5ECF6",
           "caxis": {
            "gridcolor": "white",
            "linecolor": "white",
            "ticks": ""
           }
          },
          "title": {
           "x": 0.05
          },
          "xaxis": {
           "automargin": true,
           "gridcolor": "white",
           "linecolor": "white",
           "ticks": "",
           "title": {
            "standoff": 15
           },
           "zerolinecolor": "white",
           "zerolinewidth": 2
          },
          "yaxis": {
           "automargin": true,
           "gridcolor": "white",
           "linecolor": "white",
           "ticks": "",
           "title": {
            "standoff": 15
           },
           "zerolinecolor": "white",
           "zerolinewidth": 2
          }
         }
        },
        "title": {
         "text": "Function Value over Iterations with Constraints"
        },
        "xaxis": {
         "title": {
          "text": "Iteration"
         }
        },
        "yaxis": {
         "title": {
          "text": "Function Value"
         }
        }
       }
      }
     },
     "metadata": {},
     "output_type": "display_data"
    }
   ],
   "source": [
    "filename = search_log_files(LOG_DIR, [\"2024-08-27\"])[2]\n",
    "print(filename)\n",
    "print()\n",
    "\n",
    "log_file_path = os.path.join(LOG_DIR, filename)\n",
    "df_merged, settings = parse_and_prepare_data(log_file_path)\n",
    "\n",
    "print(\"実験設定\")\n",
    "display(settings)\n",
    "print()\n",
    "display(df_merged)\n",
    "\n",
    "plot_function_values(df_merged)"
   ]
  },
  {
   "cell_type": "code",
   "execution_count": null,
   "metadata": {},
   "outputs": [],
   "source": []
  },
  {
   "cell_type": "markdown",
   "metadata": {},
   "source": [
    "#### lambda1=0, lambda2=1, clipping=False\n",
    "\n",
    "- 損失関数中の獲得関数の符号を間違えている（今回は lambda1=0 なので問題なし）"
   ]
  },
  {
   "cell_type": "code",
   "execution_count": 89,
   "metadata": {},
   "outputs": [
    {
     "name": "stdout",
     "output_type": "stream",
     "text": [
      "2024-08-27_20-10-06_Simple_5d_constrained2_normalized-input.log\n",
      "\n",
      "実験設定\n"
     ]
    },
    {
     "data": {
      "text/plain": [
       "{'name': 'Simple_5d_constrained2_normalized-input',\n",
       " 'device': 'cpu',\n",
       " 'bo_iter': 1000,\n",
       " 'initial_data_size': 10,\n",
       " 'model': {'hidden_unit_size': 64, 'num_hidden_layers': 3},\n",
       " 'model_optim': {'num_epochs': 1000, 'learning_rate': 0.01},\n",
       " 'acquisition_optim': {'beta': 0.1, 'num_restarts': 5, 'raw_samples': 20},\n",
       " 'memo': 'try input-normalization for numarical stability'}"
      ]
     },
     "metadata": {},
     "output_type": "display_data"
    },
    {
     "name": "stdout",
     "output_type": "stream",
     "text": [
      "\n"
     ]
    },
    {
     "data": {
      "text/html": [
       "<div>\n",
       "<style scoped>\n",
       "    .dataframe tbody tr th:only-of-type {\n",
       "        vertical-align: middle;\n",
       "    }\n",
       "\n",
       "    .dataframe tbody tr th {\n",
       "        vertical-align: top;\n",
       "    }\n",
       "\n",
       "    .dataframe thead th {\n",
       "        text-align: right;\n",
       "    }\n",
       "</style>\n",
       "<table border=\"1\" class=\"dataframe\">\n",
       "  <thead>\n",
       "    <tr style=\"text-align: right;\">\n",
       "      <th></th>\n",
       "      <th>iteration</th>\n",
       "      <th>iteration_time</th>\n",
       "      <th>candidate</th>\n",
       "      <th>function_value</th>\n",
       "      <th>best_f</th>\n",
       "      <th>acquisition_value</th>\n",
       "      <th>surrogate_mean</th>\n",
       "      <th>surrogate_covariance</th>\n",
       "      <th>final_training_loss</th>\n",
       "      <th>constraint</th>\n",
       "      <th>best_f_constrained</th>\n",
       "    </tr>\n",
       "  </thead>\n",
       "  <tbody>\n",
       "    <tr>\n",
       "      <th>0</th>\n",
       "      <td>0</td>\n",
       "      <td>NaN</td>\n",
       "      <td>[[-8.0, -7.0, -10.0, -9.0, -5.0]]</td>\n",
       "      <td>-319.0</td>\n",
       "      <td>-319.0</td>\n",
       "      <td>NaN</td>\n",
       "      <td>NaN</td>\n",
       "      <td>NaN</td>\n",
       "      <td>0.000000</td>\n",
       "      <td>False</td>\n",
       "      <td>NaN</td>\n",
       "    </tr>\n",
       "    <tr>\n",
       "      <th>1</th>\n",
       "      <td>0</td>\n",
       "      <td>NaN</td>\n",
       "      <td>[[4.0, 10.0, 0.0, -5.0, 4.0]]</td>\n",
       "      <td>-157.0</td>\n",
       "      <td>-157.0</td>\n",
       "      <td>NaN</td>\n",
       "      <td>NaN</td>\n",
       "      <td>NaN</td>\n",
       "      <td>0.000000</td>\n",
       "      <td>False</td>\n",
       "      <td>NaN</td>\n",
       "    </tr>\n",
       "    <tr>\n",
       "      <th>2</th>\n",
       "      <td>0</td>\n",
       "      <td>NaN</td>\n",
       "      <td>[[3.0, -8.0, 10.0, -3.0, -7.0]]</td>\n",
       "      <td>-231.0</td>\n",
       "      <td>-157.0</td>\n",
       "      <td>NaN</td>\n",
       "      <td>NaN</td>\n",
       "      <td>NaN</td>\n",
       "      <td>0.000000</td>\n",
       "      <td>False</td>\n",
       "      <td>NaN</td>\n",
       "    </tr>\n",
       "    <tr>\n",
       "      <th>3</th>\n",
       "      <td>0</td>\n",
       "      <td>NaN</td>\n",
       "      <td>[[10.0, 0.0, -9.0, 4.0, 0.0]]</td>\n",
       "      <td>-197.0</td>\n",
       "      <td>-157.0</td>\n",
       "      <td>NaN</td>\n",
       "      <td>NaN</td>\n",
       "      <td>NaN</td>\n",
       "      <td>0.000000</td>\n",
       "      <td>False</td>\n",
       "      <td>NaN</td>\n",
       "    </tr>\n",
       "    <tr>\n",
       "      <th>4</th>\n",
       "      <td>0</td>\n",
       "      <td>NaN</td>\n",
       "      <td>[[5.0, -6.0, 10.0, -8.0, -6.0]]</td>\n",
       "      <td>-261.0</td>\n",
       "      <td>-157.0</td>\n",
       "      <td>NaN</td>\n",
       "      <td>NaN</td>\n",
       "      <td>NaN</td>\n",
       "      <td>0.000000</td>\n",
       "      <td>False</td>\n",
       "      <td>NaN</td>\n",
       "    </tr>\n",
       "    <tr>\n",
       "      <th>...</th>\n",
       "      <td>...</td>\n",
       "      <td>...</td>\n",
       "      <td>...</td>\n",
       "      <td>...</td>\n",
       "      <td>...</td>\n",
       "      <td>...</td>\n",
       "      <td>...</td>\n",
       "      <td>...</td>\n",
       "      <td>...</td>\n",
       "      <td>...</td>\n",
       "      <td>...</td>\n",
       "    </tr>\n",
       "    <tr>\n",
       "      <th>171</th>\n",
       "      <td>172</td>\n",
       "      <td>375.2415</td>\n",
       "      <td>[[10.0, 10.0, -10.0, 10.0, 7.0]]</td>\n",
       "      <td>-449.0</td>\n",
       "      <td>-125.0</td>\n",
       "      <td>-544.579773</td>\n",
       "      <td>-505.670776</td>\n",
       "      <td>6500.875488</td>\n",
       "      <td>848.836548</td>\n",
       "      <td>True</td>\n",
       "      <td>-305.0</td>\n",
       "    </tr>\n",
       "    <tr>\n",
       "      <th>172</th>\n",
       "      <td>173</td>\n",
       "      <td>377.0800</td>\n",
       "      <td>[[10.0, 10.0, -10.0, -10.0, 10.0]]</td>\n",
       "      <td>-500.0</td>\n",
       "      <td>-125.0</td>\n",
       "      <td>-310.092102</td>\n",
       "      <td>-530.348328</td>\n",
       "      <td>6381.521973</td>\n",
       "      <td>817.666138</td>\n",
       "      <td>True</td>\n",
       "      <td>-305.0</td>\n",
       "    </tr>\n",
       "    <tr>\n",
       "      <th>173</th>\n",
       "      <td>174</td>\n",
       "      <td>379.1084</td>\n",
       "      <td>[[10.0, 10.0, -10.0, -10.0, 10.0]]</td>\n",
       "      <td>-500.0</td>\n",
       "      <td>-125.0</td>\n",
       "      <td>-491.351868</td>\n",
       "      <td>-286.946564</td>\n",
       "      <td>6335.907227</td>\n",
       "      <td>809.676880</td>\n",
       "      <td>True</td>\n",
       "      <td>-305.0</td>\n",
       "    </tr>\n",
       "    <tr>\n",
       "      <th>174</th>\n",
       "      <td>175</td>\n",
       "      <td>380.8352</td>\n",
       "      <td>[[10.0, 10.0, 10.0, -10.0, 10.0]]</td>\n",
       "      <td>-500.0</td>\n",
       "      <td>-125.0</td>\n",
       "      <td>-385.862366</td>\n",
       "      <td>-493.666260</td>\n",
       "      <td>7933.112793</td>\n",
       "      <td>807.576782</td>\n",
       "      <td>True</td>\n",
       "      <td>-305.0</td>\n",
       "    </tr>\n",
       "    <tr>\n",
       "      <th>175</th>\n",
       "      <td>176</td>\n",
       "      <td>NaN</td>\n",
       "      <td>[[10.0, 10.0, -10.0, 10.0, 10.0]]</td>\n",
       "      <td>-500.0</td>\n",
       "      <td>-125.0</td>\n",
       "      <td>-507.326080</td>\n",
       "      <td>-506.669006</td>\n",
       "      <td>5720.563477</td>\n",
       "      <td>NaN</td>\n",
       "      <td>True</td>\n",
       "      <td>-305.0</td>\n",
       "    </tr>\n",
       "  </tbody>\n",
       "</table>\n",
       "<p>186 rows × 11 columns</p>\n",
       "</div>"
      ],
      "text/plain": [
       "     iteration  iteration_time                           candidate  \\\n",
       "0            0             NaN   [[-8.0, -7.0, -10.0, -9.0, -5.0]]   \n",
       "1            0             NaN       [[4.0, 10.0, 0.0, -5.0, 4.0]]   \n",
       "2            0             NaN     [[3.0, -8.0, 10.0, -3.0, -7.0]]   \n",
       "3            0             NaN       [[10.0, 0.0, -9.0, 4.0, 0.0]]   \n",
       "4            0             NaN     [[5.0, -6.0, 10.0, -8.0, -6.0]]   \n",
       "..         ...             ...                                 ...   \n",
       "171        172        375.2415    [[10.0, 10.0, -10.0, 10.0, 7.0]]   \n",
       "172        173        377.0800  [[10.0, 10.0, -10.0, -10.0, 10.0]]   \n",
       "173        174        379.1084  [[10.0, 10.0, -10.0, -10.0, 10.0]]   \n",
       "174        175        380.8352   [[10.0, 10.0, 10.0, -10.0, 10.0]]   \n",
       "175        176             NaN   [[10.0, 10.0, -10.0, 10.0, 10.0]]   \n",
       "\n",
       "     function_value  best_f  acquisition_value  surrogate_mean  \\\n",
       "0            -319.0  -319.0                NaN             NaN   \n",
       "1            -157.0  -157.0                NaN             NaN   \n",
       "2            -231.0  -157.0                NaN             NaN   \n",
       "3            -197.0  -157.0                NaN             NaN   \n",
       "4            -261.0  -157.0                NaN             NaN   \n",
       "..              ...     ...                ...             ...   \n",
       "171          -449.0  -125.0        -544.579773     -505.670776   \n",
       "172          -500.0  -125.0        -310.092102     -530.348328   \n",
       "173          -500.0  -125.0        -491.351868     -286.946564   \n",
       "174          -500.0  -125.0        -385.862366     -493.666260   \n",
       "175          -500.0  -125.0        -507.326080     -506.669006   \n",
       "\n",
       "     surrogate_covariance  final_training_loss  constraint  best_f_constrained  \n",
       "0                     NaN             0.000000       False                 NaN  \n",
       "1                     NaN             0.000000       False                 NaN  \n",
       "2                     NaN             0.000000       False                 NaN  \n",
       "3                     NaN             0.000000       False                 NaN  \n",
       "4                     NaN             0.000000       False                 NaN  \n",
       "..                    ...                  ...         ...                 ...  \n",
       "171           6500.875488           848.836548        True              -305.0  \n",
       "172           6381.521973           817.666138        True              -305.0  \n",
       "173           6335.907227           809.676880        True              -305.0  \n",
       "174           7933.112793           807.576782        True              -305.0  \n",
       "175           5720.563477                  NaN        True              -305.0  \n",
       "\n",
       "[186 rows x 11 columns]"
      ]
     },
     "metadata": {},
     "output_type": "display_data"
    },
    {
     "data": {
      "application/vnd.plotly.v1+json": {
       "config": {
        "plotlyServerURL": "https://plot.ly"
       },
       "data": [
        {
         "marker": {
          "color": [
           "blue",
           "blue",
           "blue",
           "blue",
           "blue",
           "blue",
           "blue",
           "blue",
           "blue",
           "blue",
           "blue",
           "blue",
           "orange",
           "orange",
           "blue",
           "blue",
           "blue",
           "orange",
           "blue",
           "blue",
           "orange",
           "blue",
           "blue",
           "blue",
           "blue",
           "blue",
           "blue",
           "blue",
           "orange",
           "blue",
           "orange",
           "orange",
           "blue",
           "orange",
           "orange",
           "blue",
           "blue",
           "orange",
           "blue",
           "blue",
           "blue",
           "blue",
           "blue",
           "blue",
           "blue",
           "orange",
           "blue",
           "blue",
           "blue",
           "orange",
           "blue",
           "orange",
           "orange",
           "blue",
           "orange",
           "blue",
           "blue",
           "blue",
           "blue",
           "orange",
           "orange",
           "orange",
           "orange",
           "orange",
           "orange",
           "orange",
           "orange",
           "orange",
           "orange",
           "orange",
           "orange",
           "orange",
           "orange",
           "orange",
           "orange",
           "orange",
           "orange",
           "orange",
           "orange",
           "orange",
           "orange",
           "orange",
           "orange",
           "orange",
           "orange",
           "orange",
           "orange",
           "orange",
           "orange",
           "orange",
           "orange",
           "orange",
           "orange",
           "orange",
           "orange",
           "orange",
           "orange",
           "orange",
           "orange",
           "orange",
           "orange",
           "orange",
           "orange",
           "orange",
           "orange",
           "orange",
           "orange",
           "orange",
           "orange",
           "orange",
           "orange",
           "orange",
           "orange",
           "orange",
           "orange",
           "orange",
           "orange",
           "orange",
           "orange",
           "orange",
           "orange",
           "orange",
           "orange",
           "orange",
           "orange",
           "orange",
           "orange",
           "orange",
           "orange",
           "orange",
           "orange",
           "orange",
           "orange",
           "orange",
           "orange",
           "orange",
           "orange",
           "orange",
           "orange",
           "orange",
           "orange",
           "blue",
           "orange",
           "orange",
           "orange",
           "orange",
           "orange",
           "orange",
           "orange",
           "orange",
           "orange",
           "orange",
           "orange",
           "orange",
           "orange",
           "orange",
           "orange",
           "orange",
           "orange",
           "orange",
           "orange",
           "orange",
           "orange",
           "orange",
           "orange",
           "orange",
           "orange",
           "orange",
           "orange",
           "orange",
           "orange",
           "orange",
           "orange",
           "orange",
           "orange",
           "orange",
           "orange",
           "orange",
           "orange",
           "orange",
           "orange",
           "orange",
           "orange",
           "orange",
           "orange",
           "orange"
          ]
         },
         "mode": "markers",
         "name": "Function Value",
         "type": "scatter",
         "x": [
          0,
          0,
          0,
          0,
          0,
          0,
          0,
          0,
          0,
          0,
          1,
          2,
          3,
          4,
          5,
          6,
          7,
          8,
          9,
          10,
          11,
          12,
          13,
          14,
          15,
          16,
          17,
          18,
          19,
          20,
          21,
          22,
          23,
          24,
          25,
          26,
          27,
          28,
          29,
          30,
          31,
          32,
          33,
          34,
          35,
          36,
          37,
          38,
          39,
          40,
          41,
          42,
          43,
          44,
          45,
          46,
          47,
          48,
          49,
          50,
          51,
          52,
          53,
          54,
          55,
          56,
          57,
          58,
          59,
          60,
          61,
          62,
          63,
          64,
          65,
          66,
          67,
          68,
          69,
          70,
          71,
          72,
          73,
          74,
          75,
          76,
          77,
          78,
          79,
          80,
          81,
          82,
          83,
          84,
          85,
          86,
          87,
          88,
          89,
          90,
          91,
          92,
          93,
          94,
          95,
          96,
          97,
          98,
          99,
          100,
          101,
          102,
          103,
          104,
          105,
          106,
          107,
          108,
          109,
          110,
          111,
          112,
          113,
          114,
          115,
          116,
          117,
          118,
          119,
          120,
          121,
          122,
          123,
          124,
          125,
          126,
          127,
          128,
          129,
          130,
          131,
          132,
          133,
          134,
          135,
          136,
          137,
          138,
          139,
          140,
          141,
          142,
          143,
          144,
          145,
          146,
          147,
          148,
          149,
          150,
          151,
          152,
          153,
          154,
          155,
          156,
          157,
          158,
          159,
          160,
          161,
          162,
          163,
          164,
          165,
          166,
          167,
          168,
          169,
          170,
          171,
          172,
          173,
          174,
          175,
          176
         ],
         "y": [
          -319,
          -157,
          -231,
          -197,
          -261,
          -159,
          -226,
          -156,
          -304,
          -125,
          -416,
          -500,
          -500,
          -416,
          -436,
          -401,
          -500,
          -416,
          -500,
          -436,
          -500,
          -500,
          -449,
          -500,
          -464,
          -341,
          -305,
          -464,
          -464,
          -409,
          -464,
          -500,
          -500,
          -500,
          -500,
          -500,
          -500,
          -500,
          -500,
          -500,
          -500,
          -345,
          -500,
          -481,
          -425,
          -500,
          -500,
          -416,
          -329,
          -401,
          -500,
          -500,
          -500,
          -500,
          -500,
          -409,
          -401,
          -481,
          -449,
          -400,
          -500,
          -500,
          -425,
          -500,
          -500,
          -500,
          -481,
          -481,
          -500,
          -500,
          -401,
          -449,
          -390,
          -400,
          -500,
          -425,
          -305,
          -481,
          -404,
          -425,
          -500,
          -500,
          -310,
          -500,
          -500,
          -500,
          -500,
          -416,
          -449,
          -401,
          -382,
          -425,
          -500,
          -500,
          -500,
          -500,
          -500,
          -436,
          -464,
          -500,
          -436,
          -449,
          -500,
          -500,
          -436,
          -404,
          -449,
          -500,
          -500,
          -500,
          -500,
          -464,
          -500,
          -500,
          -449,
          -464,
          -340,
          -500,
          -500,
          -500,
          -500,
          -400,
          -500,
          -500,
          -500,
          -500,
          -500,
          -500,
          -500,
          -500,
          -500,
          -500,
          -500,
          -334,
          -449,
          -500,
          -464,
          -500,
          -401,
          -500,
          -500,
          -349,
          -500,
          -500,
          -417,
          -500,
          -416,
          -500,
          -310,
          -500,
          -381,
          -500,
          -352,
          -500,
          -500,
          -500,
          -500,
          -500,
          -500,
          -500,
          -500,
          -416,
          -372,
          -481,
          -500,
          -500,
          -500,
          -500,
          -500,
          -500,
          -417,
          -500,
          -400,
          -409,
          -500,
          -500,
          -425,
          -500,
          -500,
          -500,
          -500,
          -449,
          -500,
          -500,
          -500,
          -500
         ]
        },
        {
         "line": {
          "color": "red"
         },
         "mode": "lines",
         "name": "Best f",
         "type": "scatter",
         "x": [
          0,
          0,
          0,
          0,
          0,
          0,
          0,
          0,
          0,
          0,
          1,
          2,
          3,
          4,
          5,
          6,
          7,
          8,
          9,
          10,
          11,
          12,
          13,
          14,
          15,
          16,
          17,
          18,
          19,
          20,
          21,
          22,
          23,
          24,
          25,
          26,
          27,
          28,
          29,
          30,
          31,
          32,
          33,
          34,
          35,
          36,
          37,
          38,
          39,
          40,
          41,
          42,
          43,
          44,
          45,
          46,
          47,
          48,
          49,
          50,
          51,
          52,
          53,
          54,
          55,
          56,
          57,
          58,
          59,
          60,
          61,
          62,
          63,
          64,
          65,
          66,
          67,
          68,
          69,
          70,
          71,
          72,
          73,
          74,
          75,
          76,
          77,
          78,
          79,
          80,
          81,
          82,
          83,
          84,
          85,
          86,
          87,
          88,
          89,
          90,
          91,
          92,
          93,
          94,
          95,
          96,
          97,
          98,
          99,
          100,
          101,
          102,
          103,
          104,
          105,
          106,
          107,
          108,
          109,
          110,
          111,
          112,
          113,
          114,
          115,
          116,
          117,
          118,
          119,
          120,
          121,
          122,
          123,
          124,
          125,
          126,
          127,
          128,
          129,
          130,
          131,
          132,
          133,
          134,
          135,
          136,
          137,
          138,
          139,
          140,
          141,
          142,
          143,
          144,
          145,
          146,
          147,
          148,
          149,
          150,
          151,
          152,
          153,
          154,
          155,
          156,
          157,
          158,
          159,
          160,
          161,
          162,
          163,
          164,
          165,
          166,
          167,
          168,
          169,
          170,
          171,
          172,
          173,
          174,
          175,
          176
         ],
         "y": [
          -319,
          -157,
          -157,
          -157,
          -157,
          -157,
          -157,
          -156,
          -156,
          -125,
          -125,
          -125,
          -125,
          -125,
          -125,
          -125,
          -125,
          -125,
          -125,
          -125,
          -125,
          -125,
          -125,
          -125,
          -125,
          -125,
          -125,
          -125,
          -125,
          -125,
          -125,
          -125,
          -125,
          -125,
          -125,
          -125,
          -125,
          -125,
          -125,
          -125,
          -125,
          -125,
          -125,
          -125,
          -125,
          -125,
          -125,
          -125,
          -125,
          -125,
          -125,
          -125,
          -125,
          -125,
          -125,
          -125,
          -125,
          -125,
          -125,
          -125,
          -125,
          -125,
          -125,
          -125,
          -125,
          -125,
          -125,
          -125,
          -125,
          -125,
          -125,
          -125,
          -125,
          -125,
          -125,
          -125,
          -125,
          -125,
          -125,
          -125,
          -125,
          -125,
          -125,
          -125,
          -125,
          -125,
          -125,
          -125,
          -125,
          -125,
          -125,
          -125,
          -125,
          -125,
          -125,
          -125,
          -125,
          -125,
          -125,
          -125,
          -125,
          -125,
          -125,
          -125,
          -125,
          -125,
          -125,
          -125,
          -125,
          -125,
          -125,
          -125,
          -125,
          -125,
          -125,
          -125,
          -125,
          -125,
          -125,
          -125,
          -125,
          -125,
          -125,
          -125,
          -125,
          -125,
          -125,
          -125,
          -125,
          -125,
          -125,
          -125,
          -125,
          -125,
          -125,
          -125,
          -125,
          -125,
          -125,
          -125,
          -125,
          -125,
          -125,
          -125,
          -125,
          -125,
          -125,
          -125,
          -125,
          -125,
          -125,
          -125,
          -125,
          -125,
          -125,
          -125,
          -125,
          -125,
          -125,
          -125,
          -125,
          -125,
          -125,
          -125,
          -125,
          -125,
          -125,
          -125,
          -125,
          -125,
          -125,
          -125,
          -125,
          -125,
          -125,
          -125,
          -125,
          -125,
          -125,
          -125,
          -125,
          -125,
          -125,
          -125,
          -125,
          -125
         ]
        },
        {
         "line": {
          "color": "green"
         },
         "mode": "lines",
         "name": "Best f under constraint",
         "type": "scatter",
         "x": [
          0,
          0,
          0,
          0,
          0,
          0,
          0,
          0,
          0,
          0,
          1,
          2,
          3,
          4,
          5,
          6,
          7,
          8,
          9,
          10,
          11,
          12,
          13,
          14,
          15,
          16,
          17,
          18,
          19,
          20,
          21,
          22,
          23,
          24,
          25,
          26,
          27,
          28,
          29,
          30,
          31,
          32,
          33,
          34,
          35,
          36,
          37,
          38,
          39,
          40,
          41,
          42,
          43,
          44,
          45,
          46,
          47,
          48,
          49,
          50,
          51,
          52,
          53,
          54,
          55,
          56,
          57,
          58,
          59,
          60,
          61,
          62,
          63,
          64,
          65,
          66,
          67,
          68,
          69,
          70,
          71,
          72,
          73,
          74,
          75,
          76,
          77,
          78,
          79,
          80,
          81,
          82,
          83,
          84,
          85,
          86,
          87,
          88,
          89,
          90,
          91,
          92,
          93,
          94,
          95,
          96,
          97,
          98,
          99,
          100,
          101,
          102,
          103,
          104,
          105,
          106,
          107,
          108,
          109,
          110,
          111,
          112,
          113,
          114,
          115,
          116,
          117,
          118,
          119,
          120,
          121,
          122,
          123,
          124,
          125,
          126,
          127,
          128,
          129,
          130,
          131,
          132,
          133,
          134,
          135,
          136,
          137,
          138,
          139,
          140,
          141,
          142,
          143,
          144,
          145,
          146,
          147,
          148,
          149,
          150,
          151,
          152,
          153,
          154,
          155,
          156,
          157,
          158,
          159,
          160,
          161,
          162,
          163,
          164,
          165,
          166,
          167,
          168,
          169,
          170,
          171,
          172,
          173,
          174,
          175,
          176
         ],
         "y": [
          null,
          null,
          null,
          null,
          null,
          null,
          null,
          null,
          null,
          null,
          null,
          null,
          -500,
          -416,
          -416,
          -416,
          -416,
          -416,
          -416,
          -416,
          -416,
          -416,
          -416,
          -416,
          -416,
          -416,
          -416,
          -416,
          -416,
          -416,
          -416,
          -416,
          -416,
          -416,
          -416,
          -416,
          -416,
          -416,
          -416,
          -416,
          -416,
          -416,
          -416,
          -416,
          -416,
          -416,
          -416,
          -416,
          -416,
          -401,
          -401,
          -401,
          -401,
          -401,
          -401,
          -401,
          -401,
          -401,
          -401,
          -400,
          -400,
          -400,
          -400,
          -400,
          -400,
          -400,
          -400,
          -400,
          -400,
          -400,
          -400,
          -400,
          -390,
          -390,
          -390,
          -390,
          -305,
          -305,
          -305,
          -305,
          -305,
          -305,
          -305,
          -305,
          -305,
          -305,
          -305,
          -305,
          -305,
          -305,
          -305,
          -305,
          -305,
          -305,
          -305,
          -305,
          -305,
          -305,
          -305,
          -305,
          -305,
          -305,
          -305,
          -305,
          -305,
          -305,
          -305,
          -305,
          -305,
          -305,
          -305,
          -305,
          -305,
          -305,
          -305,
          -305,
          -305,
          -305,
          -305,
          -305,
          -305,
          -305,
          -305,
          -305,
          -305,
          -305,
          -305,
          -305,
          -305,
          -305,
          -305,
          -305,
          -305,
          -305,
          -305,
          -305,
          -305,
          -305,
          -305,
          -305,
          -305,
          -305,
          -305,
          -305,
          -305,
          -305,
          -305,
          -305,
          -305,
          -305,
          -305,
          -305,
          -305,
          -305,
          -305,
          -305,
          -305,
          -305,
          -305,
          -305,
          -305,
          -305,
          -305,
          -305,
          -305,
          -305,
          -305,
          -305,
          -305,
          -305,
          -305,
          -305,
          -305,
          -305,
          -305,
          -305,
          -305,
          -305,
          -305,
          -305,
          -305,
          -305,
          -305,
          -305,
          -305,
          -305
         ]
        }
       ],
       "layout": {
        "showlegend": true,
        "template": {
         "data": {
          "bar": [
           {
            "error_x": {
             "color": "#2a3f5f"
            },
            "error_y": {
             "color": "#2a3f5f"
            },
            "marker": {
             "line": {
              "color": "#E5ECF6",
              "width": 0.5
             },
             "pattern": {
              "fillmode": "overlay",
              "size": 10,
              "solidity": 0.2
             }
            },
            "type": "bar"
           }
          ],
          "barpolar": [
           {
            "marker": {
             "line": {
              "color": "#E5ECF6",
              "width": 0.5
             },
             "pattern": {
              "fillmode": "overlay",
              "size": 10,
              "solidity": 0.2
             }
            },
            "type": "barpolar"
           }
          ],
          "carpet": [
           {
            "aaxis": {
             "endlinecolor": "#2a3f5f",
             "gridcolor": "white",
             "linecolor": "white",
             "minorgridcolor": "white",
             "startlinecolor": "#2a3f5f"
            },
            "baxis": {
             "endlinecolor": "#2a3f5f",
             "gridcolor": "white",
             "linecolor": "white",
             "minorgridcolor": "white",
             "startlinecolor": "#2a3f5f"
            },
            "type": "carpet"
           }
          ],
          "choropleth": [
           {
            "colorbar": {
             "outlinewidth": 0,
             "ticks": ""
            },
            "type": "choropleth"
           }
          ],
          "contour": [
           {
            "colorbar": {
             "outlinewidth": 0,
             "ticks": ""
            },
            "colorscale": [
             [
              0,
              "#0d0887"
             ],
             [
              0.1111111111111111,
              "#46039f"
             ],
             [
              0.2222222222222222,
              "#7201a8"
             ],
             [
              0.3333333333333333,
              "#9c179e"
             ],
             [
              0.4444444444444444,
              "#bd3786"
             ],
             [
              0.5555555555555556,
              "#d8576b"
             ],
             [
              0.6666666666666666,
              "#ed7953"
             ],
             [
              0.7777777777777778,
              "#fb9f3a"
             ],
             [
              0.8888888888888888,
              "#fdca26"
             ],
             [
              1,
              "#f0f921"
             ]
            ],
            "type": "contour"
           }
          ],
          "contourcarpet": [
           {
            "colorbar": {
             "outlinewidth": 0,
             "ticks": ""
            },
            "type": "contourcarpet"
           }
          ],
          "heatmap": [
           {
            "colorbar": {
             "outlinewidth": 0,
             "ticks": ""
            },
            "colorscale": [
             [
              0,
              "#0d0887"
             ],
             [
              0.1111111111111111,
              "#46039f"
             ],
             [
              0.2222222222222222,
              "#7201a8"
             ],
             [
              0.3333333333333333,
              "#9c179e"
             ],
             [
              0.4444444444444444,
              "#bd3786"
             ],
             [
              0.5555555555555556,
              "#d8576b"
             ],
             [
              0.6666666666666666,
              "#ed7953"
             ],
             [
              0.7777777777777778,
              "#fb9f3a"
             ],
             [
              0.8888888888888888,
              "#fdca26"
             ],
             [
              1,
              "#f0f921"
             ]
            ],
            "type": "heatmap"
           }
          ],
          "heatmapgl": [
           {
            "colorbar": {
             "outlinewidth": 0,
             "ticks": ""
            },
            "colorscale": [
             [
              0,
              "#0d0887"
             ],
             [
              0.1111111111111111,
              "#46039f"
             ],
             [
              0.2222222222222222,
              "#7201a8"
             ],
             [
              0.3333333333333333,
              "#9c179e"
             ],
             [
              0.4444444444444444,
              "#bd3786"
             ],
             [
              0.5555555555555556,
              "#d8576b"
             ],
             [
              0.6666666666666666,
              "#ed7953"
             ],
             [
              0.7777777777777778,
              "#fb9f3a"
             ],
             [
              0.8888888888888888,
              "#fdca26"
             ],
             [
              1,
              "#f0f921"
             ]
            ],
            "type": "heatmapgl"
           }
          ],
          "histogram": [
           {
            "marker": {
             "pattern": {
              "fillmode": "overlay",
              "size": 10,
              "solidity": 0.2
             }
            },
            "type": "histogram"
           }
          ],
          "histogram2d": [
           {
            "colorbar": {
             "outlinewidth": 0,
             "ticks": ""
            },
            "colorscale": [
             [
              0,
              "#0d0887"
             ],
             [
              0.1111111111111111,
              "#46039f"
             ],
             [
              0.2222222222222222,
              "#7201a8"
             ],
             [
              0.3333333333333333,
              "#9c179e"
             ],
             [
              0.4444444444444444,
              "#bd3786"
             ],
             [
              0.5555555555555556,
              "#d8576b"
             ],
             [
              0.6666666666666666,
              "#ed7953"
             ],
             [
              0.7777777777777778,
              "#fb9f3a"
             ],
             [
              0.8888888888888888,
              "#fdca26"
             ],
             [
              1,
              "#f0f921"
             ]
            ],
            "type": "histogram2d"
           }
          ],
          "histogram2dcontour": [
           {
            "colorbar": {
             "outlinewidth": 0,
             "ticks": ""
            },
            "colorscale": [
             [
              0,
              "#0d0887"
             ],
             [
              0.1111111111111111,
              "#46039f"
             ],
             [
              0.2222222222222222,
              "#7201a8"
             ],
             [
              0.3333333333333333,
              "#9c179e"
             ],
             [
              0.4444444444444444,
              "#bd3786"
             ],
             [
              0.5555555555555556,
              "#d8576b"
             ],
             [
              0.6666666666666666,
              "#ed7953"
             ],
             [
              0.7777777777777778,
              "#fb9f3a"
             ],
             [
              0.8888888888888888,
              "#fdca26"
             ],
             [
              1,
              "#f0f921"
             ]
            ],
            "type": "histogram2dcontour"
           }
          ],
          "mesh3d": [
           {
            "colorbar": {
             "outlinewidth": 0,
             "ticks": ""
            },
            "type": "mesh3d"
           }
          ],
          "parcoords": [
           {
            "line": {
             "colorbar": {
              "outlinewidth": 0,
              "ticks": ""
             }
            },
            "type": "parcoords"
           }
          ],
          "pie": [
           {
            "automargin": true,
            "type": "pie"
           }
          ],
          "scatter": [
           {
            "fillpattern": {
             "fillmode": "overlay",
             "size": 10,
             "solidity": 0.2
            },
            "type": "scatter"
           }
          ],
          "scatter3d": [
           {
            "line": {
             "colorbar": {
              "outlinewidth": 0,
              "ticks": ""
             }
            },
            "marker": {
             "colorbar": {
              "outlinewidth": 0,
              "ticks": ""
             }
            },
            "type": "scatter3d"
           }
          ],
          "scattercarpet": [
           {
            "marker": {
             "colorbar": {
              "outlinewidth": 0,
              "ticks": ""
             }
            },
            "type": "scattercarpet"
           }
          ],
          "scattergeo": [
           {
            "marker": {
             "colorbar": {
              "outlinewidth": 0,
              "ticks": ""
             }
            },
            "type": "scattergeo"
           }
          ],
          "scattergl": [
           {
            "marker": {
             "colorbar": {
              "outlinewidth": 0,
              "ticks": ""
             }
            },
            "type": "scattergl"
           }
          ],
          "scattermapbox": [
           {
            "marker": {
             "colorbar": {
              "outlinewidth": 0,
              "ticks": ""
             }
            },
            "type": "scattermapbox"
           }
          ],
          "scatterpolar": [
           {
            "marker": {
             "colorbar": {
              "outlinewidth": 0,
              "ticks": ""
             }
            },
            "type": "scatterpolar"
           }
          ],
          "scatterpolargl": [
           {
            "marker": {
             "colorbar": {
              "outlinewidth": 0,
              "ticks": ""
             }
            },
            "type": "scatterpolargl"
           }
          ],
          "scatterternary": [
           {
            "marker": {
             "colorbar": {
              "outlinewidth": 0,
              "ticks": ""
             }
            },
            "type": "scatterternary"
           }
          ],
          "surface": [
           {
            "colorbar": {
             "outlinewidth": 0,
             "ticks": ""
            },
            "colorscale": [
             [
              0,
              "#0d0887"
             ],
             [
              0.1111111111111111,
              "#46039f"
             ],
             [
              0.2222222222222222,
              "#7201a8"
             ],
             [
              0.3333333333333333,
              "#9c179e"
             ],
             [
              0.4444444444444444,
              "#bd3786"
             ],
             [
              0.5555555555555556,
              "#d8576b"
             ],
             [
              0.6666666666666666,
              "#ed7953"
             ],
             [
              0.7777777777777778,
              "#fb9f3a"
             ],
             [
              0.8888888888888888,
              "#fdca26"
             ],
             [
              1,
              "#f0f921"
             ]
            ],
            "type": "surface"
           }
          ],
          "table": [
           {
            "cells": {
             "fill": {
              "color": "#EBF0F8"
             },
             "line": {
              "color": "white"
             }
            },
            "header": {
             "fill": {
              "color": "#C8D4E3"
             },
             "line": {
              "color": "white"
             }
            },
            "type": "table"
           }
          ]
         },
         "layout": {
          "annotationdefaults": {
           "arrowcolor": "#2a3f5f",
           "arrowhead": 0,
           "arrowwidth": 1
          },
          "autotypenumbers": "strict",
          "coloraxis": {
           "colorbar": {
            "outlinewidth": 0,
            "ticks": ""
           }
          },
          "colorscale": {
           "diverging": [
            [
             0,
             "#8e0152"
            ],
            [
             0.1,
             "#c51b7d"
            ],
            [
             0.2,
             "#de77ae"
            ],
            [
             0.3,
             "#f1b6da"
            ],
            [
             0.4,
             "#fde0ef"
            ],
            [
             0.5,
             "#f7f7f7"
            ],
            [
             0.6,
             "#e6f5d0"
            ],
            [
             0.7,
             "#b8e186"
            ],
            [
             0.8,
             "#7fbc41"
            ],
            [
             0.9,
             "#4d9221"
            ],
            [
             1,
             "#276419"
            ]
           ],
           "sequential": [
            [
             0,
             "#0d0887"
            ],
            [
             0.1111111111111111,
             "#46039f"
            ],
            [
             0.2222222222222222,
             "#7201a8"
            ],
            [
             0.3333333333333333,
             "#9c179e"
            ],
            [
             0.4444444444444444,
             "#bd3786"
            ],
            [
             0.5555555555555556,
             "#d8576b"
            ],
            [
             0.6666666666666666,
             "#ed7953"
            ],
            [
             0.7777777777777778,
             "#fb9f3a"
            ],
            [
             0.8888888888888888,
             "#fdca26"
            ],
            [
             1,
             "#f0f921"
            ]
           ],
           "sequentialminus": [
            [
             0,
             "#0d0887"
            ],
            [
             0.1111111111111111,
             "#46039f"
            ],
            [
             0.2222222222222222,
             "#7201a8"
            ],
            [
             0.3333333333333333,
             "#9c179e"
            ],
            [
             0.4444444444444444,
             "#bd3786"
            ],
            [
             0.5555555555555556,
             "#d8576b"
            ],
            [
             0.6666666666666666,
             "#ed7953"
            ],
            [
             0.7777777777777778,
             "#fb9f3a"
            ],
            [
             0.8888888888888888,
             "#fdca26"
            ],
            [
             1,
             "#f0f921"
            ]
           ]
          },
          "colorway": [
           "#636efa",
           "#EF553B",
           "#00cc96",
           "#ab63fa",
           "#FFA15A",
           "#19d3f3",
           "#FF6692",
           "#B6E880",
           "#FF97FF",
           "#FECB52"
          ],
          "font": {
           "color": "#2a3f5f"
          },
          "geo": {
           "bgcolor": "white",
           "lakecolor": "white",
           "landcolor": "#E5ECF6",
           "showlakes": true,
           "showland": true,
           "subunitcolor": "white"
          },
          "hoverlabel": {
           "align": "left"
          },
          "hovermode": "closest",
          "mapbox": {
           "style": "light"
          },
          "paper_bgcolor": "white",
          "plot_bgcolor": "#E5ECF6",
          "polar": {
           "angularaxis": {
            "gridcolor": "white",
            "linecolor": "white",
            "ticks": ""
           },
           "bgcolor": "#E5ECF6",
           "radialaxis": {
            "gridcolor": "white",
            "linecolor": "white",
            "ticks": ""
           }
          },
          "scene": {
           "xaxis": {
            "backgroundcolor": "#E5ECF6",
            "gridcolor": "white",
            "gridwidth": 2,
            "linecolor": "white",
            "showbackground": true,
            "ticks": "",
            "zerolinecolor": "white"
           },
           "yaxis": {
            "backgroundcolor": "#E5ECF6",
            "gridcolor": "white",
            "gridwidth": 2,
            "linecolor": "white",
            "showbackground": true,
            "ticks": "",
            "zerolinecolor": "white"
           },
           "zaxis": {
            "backgroundcolor": "#E5ECF6",
            "gridcolor": "white",
            "gridwidth": 2,
            "linecolor": "white",
            "showbackground": true,
            "ticks": "",
            "zerolinecolor": "white"
           }
          },
          "shapedefaults": {
           "line": {
            "color": "#2a3f5f"
           }
          },
          "ternary": {
           "aaxis": {
            "gridcolor": "white",
            "linecolor": "white",
            "ticks": ""
           },
           "baxis": {
            "gridcolor": "white",
            "linecolor": "white",
            "ticks": ""
           },
           "bgcolor": "#E5ECF6",
           "caxis": {
            "gridcolor": "white",
            "linecolor": "white",
            "ticks": ""
           }
          },
          "title": {
           "x": 0.05
          },
          "xaxis": {
           "automargin": true,
           "gridcolor": "white",
           "linecolor": "white",
           "ticks": "",
           "title": {
            "standoff": 15
           },
           "zerolinecolor": "white",
           "zerolinewidth": 2
          },
          "yaxis": {
           "automargin": true,
           "gridcolor": "white",
           "linecolor": "white",
           "ticks": "",
           "title": {
            "standoff": 15
           },
           "zerolinecolor": "white",
           "zerolinewidth": 2
          }
         }
        },
        "title": {
         "text": "Function Value over Iterations with Constraints"
        },
        "xaxis": {
         "title": {
          "text": "Iteration"
         }
        },
        "yaxis": {
         "title": {
          "text": "Function Value"
         }
        }
       }
      }
     },
     "metadata": {},
     "output_type": "display_data"
    }
   ],
   "source": [
    "filename = search_log_files(LOG_DIR, [\"2024-08-27\"])[1]\n",
    "print(filename)\n",
    "print()\n",
    "\n",
    "log_file_path = os.path.join(LOG_DIR, filename)\n",
    "df_merged, settings = parse_and_prepare_data(log_file_path)\n",
    "\n",
    "print(\"実験設定\")\n",
    "display(settings)\n",
    "print()\n",
    "display(df_merged)\n",
    "\n",
    "plot_function_values(df_merged)"
   ]
  },
  {
   "cell_type": "code",
   "execution_count": null,
   "metadata": {},
   "outputs": [],
   "source": []
  },
  {
   "cell_type": "markdown",
   "metadata": {},
   "source": [
    "#### lambda1=0, lambda2=1, clipping=True\n",
    "\n",
    "- 損失関数中の獲得関数の符号を間違えている（今回は lambda1=0 なので問題なし）"
   ]
  },
  {
   "cell_type": "code",
   "execution_count": 92,
   "metadata": {},
   "outputs": [
    {
     "name": "stdout",
     "output_type": "stream",
     "text": [
      "2024-08-27_20-21-21_Simple_5d_constrained2_normalized-input_2.log\n",
      "\n",
      "実験設定\n"
     ]
    },
    {
     "data": {
      "text/plain": [
       "{'name': 'Simple_5d_constrained2_normalized-input_2',\n",
       " 'device': 'cpu',\n",
       " 'bo_iter': 1000,\n",
       " 'initial_data_size': 10,\n",
       " 'model': {'hidden_unit_size': 64, 'num_hidden_layers': 3},\n",
       " 'model_optim': {'num_epochs': 1000, 'learning_rate': 0.01},\n",
       " 'acquisition_optim': {'beta': 0.1, 'num_restarts': 5, 'raw_samples': 20},\n",
       " 'memo': 'try input-normalization for numarical stability'}"
      ]
     },
     "metadata": {},
     "output_type": "display_data"
    },
    {
     "name": "stdout",
     "output_type": "stream",
     "text": [
      "\n"
     ]
    },
    {
     "data": {
      "text/html": [
       "<div>\n",
       "<style scoped>\n",
       "    .dataframe tbody tr th:only-of-type {\n",
       "        vertical-align: middle;\n",
       "    }\n",
       "\n",
       "    .dataframe tbody tr th {\n",
       "        vertical-align: top;\n",
       "    }\n",
       "\n",
       "    .dataframe thead th {\n",
       "        text-align: right;\n",
       "    }\n",
       "</style>\n",
       "<table border=\"1\" class=\"dataframe\">\n",
       "  <thead>\n",
       "    <tr style=\"text-align: right;\">\n",
       "      <th></th>\n",
       "      <th>iteration</th>\n",
       "      <th>iteration_time</th>\n",
       "      <th>candidate</th>\n",
       "      <th>function_value</th>\n",
       "      <th>best_f</th>\n",
       "      <th>acquisition_value</th>\n",
       "      <th>surrogate_mean</th>\n",
       "      <th>surrogate_covariance</th>\n",
       "      <th>final_training_loss</th>\n",
       "      <th>constraint</th>\n",
       "      <th>best_f_constrained</th>\n",
       "    </tr>\n",
       "  </thead>\n",
       "  <tbody>\n",
       "    <tr>\n",
       "      <th>0</th>\n",
       "      <td>0</td>\n",
       "      <td>NaN</td>\n",
       "      <td>[[-8.0, -5.0, 3.0, -1.0, 9.0]]</td>\n",
       "      <td>-180.0</td>\n",
       "      <td>-180.0</td>\n",
       "      <td>NaN</td>\n",
       "      <td>NaN</td>\n",
       "      <td>NaN</td>\n",
       "      <td>0.000000</td>\n",
       "      <td>False</td>\n",
       "      <td>NaN</td>\n",
       "    </tr>\n",
       "    <tr>\n",
       "      <th>1</th>\n",
       "      <td>0</td>\n",
       "      <td>NaN</td>\n",
       "      <td>[[-4.0, -3.0, -5.0, -9.0, -5.0]]</td>\n",
       "      <td>-156.0</td>\n",
       "      <td>-156.0</td>\n",
       "      <td>NaN</td>\n",
       "      <td>NaN</td>\n",
       "      <td>NaN</td>\n",
       "      <td>0.000000</td>\n",
       "      <td>False</td>\n",
       "      <td>NaN</td>\n",
       "    </tr>\n",
       "    <tr>\n",
       "      <th>2</th>\n",
       "      <td>0</td>\n",
       "      <td>NaN</td>\n",
       "      <td>[[-5.0, 8.0, -7.0, -5.0, 9.0]]</td>\n",
       "      <td>-244.0</td>\n",
       "      <td>-156.0</td>\n",
       "      <td>NaN</td>\n",
       "      <td>NaN</td>\n",
       "      <td>NaN</td>\n",
       "      <td>0.000000</td>\n",
       "      <td>False</td>\n",
       "      <td>NaN</td>\n",
       "    </tr>\n",
       "    <tr>\n",
       "      <th>3</th>\n",
       "      <td>0</td>\n",
       "      <td>NaN</td>\n",
       "      <td>[[4.0, -3.0, 7.0, 7.0, 9.0]]</td>\n",
       "      <td>-204.0</td>\n",
       "      <td>-156.0</td>\n",
       "      <td>NaN</td>\n",
       "      <td>NaN</td>\n",
       "      <td>NaN</td>\n",
       "      <td>0.000000</td>\n",
       "      <td>False</td>\n",
       "      <td>NaN</td>\n",
       "    </tr>\n",
       "    <tr>\n",
       "      <th>4</th>\n",
       "      <td>0</td>\n",
       "      <td>NaN</td>\n",
       "      <td>[[5.0, 0.0, -4.0, -6.0, -2.0]]</td>\n",
       "      <td>-81.0</td>\n",
       "      <td>-81.0</td>\n",
       "      <td>NaN</td>\n",
       "      <td>NaN</td>\n",
       "      <td>NaN</td>\n",
       "      <td>0.000000</td>\n",
       "      <td>False</td>\n",
       "      <td>NaN</td>\n",
       "    </tr>\n",
       "    <tr>\n",
       "      <th>...</th>\n",
       "      <td>...</td>\n",
       "      <td>...</td>\n",
       "      <td>...</td>\n",
       "      <td>...</td>\n",
       "      <td>...</td>\n",
       "      <td>...</td>\n",
       "      <td>...</td>\n",
       "      <td>...</td>\n",
       "      <td>...</td>\n",
       "      <td>...</td>\n",
       "      <td>...</td>\n",
       "    </tr>\n",
       "    <tr>\n",
       "      <th>165</th>\n",
       "      <td>166</td>\n",
       "      <td>383.6855</td>\n",
       "      <td>[[-10.0, -10.0, -10.0, 10.0, 10.0]]</td>\n",
       "      <td>-500.0</td>\n",
       "      <td>-27.0</td>\n",
       "      <td>-431.474640</td>\n",
       "      <td>-452.862915</td>\n",
       "      <td>100.000000</td>\n",
       "      <td>1656.790527</td>\n",
       "      <td>True</td>\n",
       "      <td>-409.0</td>\n",
       "    </tr>\n",
       "    <tr>\n",
       "      <th>166</th>\n",
       "      <td>167</td>\n",
       "      <td>386.0200</td>\n",
       "      <td>[[-10.0, -10.0, 10.0, 10.0, 10.0]]</td>\n",
       "      <td>-500.0</td>\n",
       "      <td>-27.0</td>\n",
       "      <td>-422.059753</td>\n",
       "      <td>-413.661835</td>\n",
       "      <td>91.434387</td>\n",
       "      <td>1696.064087</td>\n",
       "      <td>True</td>\n",
       "      <td>-409.0</td>\n",
       "    </tr>\n",
       "    <tr>\n",
       "      <th>167</th>\n",
       "      <td>168</td>\n",
       "      <td>387.4882</td>\n",
       "      <td>[[-10.0, 10.0, -5.0, 10.0, 10.0]]</td>\n",
       "      <td>-425.0</td>\n",
       "      <td>-27.0</td>\n",
       "      <td>-431.860840</td>\n",
       "      <td>-453.001068</td>\n",
       "      <td>100.000000</td>\n",
       "      <td>1745.204712</td>\n",
       "      <td>False</td>\n",
       "      <td>-409.0</td>\n",
       "    </tr>\n",
       "    <tr>\n",
       "      <th>168</th>\n",
       "      <td>169</td>\n",
       "      <td>383.9424</td>\n",
       "      <td>[[-0.0, -10.0, -10.0, -10.0, 10.0]]</td>\n",
       "      <td>-400.0</td>\n",
       "      <td>-27.0</td>\n",
       "      <td>-437.161682</td>\n",
       "      <td>-446.458069</td>\n",
       "      <td>100.000000</td>\n",
       "      <td>1733.167847</td>\n",
       "      <td>False</td>\n",
       "      <td>-409.0</td>\n",
       "    </tr>\n",
       "    <tr>\n",
       "      <th>169</th>\n",
       "      <td>170</td>\n",
       "      <td>NaN</td>\n",
       "      <td>[[-10.0, -10.0, -10.0, -10.0, 10.0]]</td>\n",
       "      <td>-500.0</td>\n",
       "      <td>-27.0</td>\n",
       "      <td>-416.801666</td>\n",
       "      <td>-431.884827</td>\n",
       "      <td>100.000000</td>\n",
       "      <td>NaN</td>\n",
       "      <td>True</td>\n",
       "      <td>-409.0</td>\n",
       "    </tr>\n",
       "  </tbody>\n",
       "</table>\n",
       "<p>180 rows × 11 columns</p>\n",
       "</div>"
      ],
      "text/plain": [
       "     iteration  iteration_time                             candidate  \\\n",
       "0            0             NaN        [[-8.0, -5.0, 3.0, -1.0, 9.0]]   \n",
       "1            0             NaN      [[-4.0, -3.0, -5.0, -9.0, -5.0]]   \n",
       "2            0             NaN        [[-5.0, 8.0, -7.0, -5.0, 9.0]]   \n",
       "3            0             NaN          [[4.0, -3.0, 7.0, 7.0, 9.0]]   \n",
       "4            0             NaN        [[5.0, 0.0, -4.0, -6.0, -2.0]]   \n",
       "..         ...             ...                                   ...   \n",
       "165        166        383.6855   [[-10.0, -10.0, -10.0, 10.0, 10.0]]   \n",
       "166        167        386.0200    [[-10.0, -10.0, 10.0, 10.0, 10.0]]   \n",
       "167        168        387.4882     [[-10.0, 10.0, -5.0, 10.0, 10.0]]   \n",
       "168        169        383.9424   [[-0.0, -10.0, -10.0, -10.0, 10.0]]   \n",
       "169        170             NaN  [[-10.0, -10.0, -10.0, -10.0, 10.0]]   \n",
       "\n",
       "     function_value  best_f  acquisition_value  surrogate_mean  \\\n",
       "0            -180.0  -180.0                NaN             NaN   \n",
       "1            -156.0  -156.0                NaN             NaN   \n",
       "2            -244.0  -156.0                NaN             NaN   \n",
       "3            -204.0  -156.0                NaN             NaN   \n",
       "4             -81.0   -81.0                NaN             NaN   \n",
       "..              ...     ...                ...             ...   \n",
       "165          -500.0   -27.0        -431.474640     -452.862915   \n",
       "166          -500.0   -27.0        -422.059753     -413.661835   \n",
       "167          -425.0   -27.0        -431.860840     -453.001068   \n",
       "168          -400.0   -27.0        -437.161682     -446.458069   \n",
       "169          -500.0   -27.0        -416.801666     -431.884827   \n",
       "\n",
       "     surrogate_covariance  final_training_loss  constraint  best_f_constrained  \n",
       "0                     NaN             0.000000       False                 NaN  \n",
       "1                     NaN             0.000000       False                 NaN  \n",
       "2                     NaN             0.000000       False                 NaN  \n",
       "3                     NaN             0.000000       False                 NaN  \n",
       "4                     NaN             0.000000       False                 NaN  \n",
       "..                    ...                  ...         ...                 ...  \n",
       "165            100.000000          1656.790527        True              -409.0  \n",
       "166             91.434387          1696.064087        True              -409.0  \n",
       "167            100.000000          1745.204712       False              -409.0  \n",
       "168            100.000000          1733.167847       False              -409.0  \n",
       "169            100.000000                  NaN        True              -409.0  \n",
       "\n",
       "[180 rows x 11 columns]"
      ]
     },
     "metadata": {},
     "output_type": "display_data"
    },
    {
     "data": {
      "application/vnd.plotly.v1+json": {
       "config": {
        "plotlyServerURL": "https://plot.ly"
       },
       "data": [
        {
         "marker": {
          "color": [
           "blue",
           "blue",
           "blue",
           "blue",
           "blue",
           "blue",
           "blue",
           "blue",
           "blue",
           "blue",
           "blue",
           "blue",
           "orange",
           "blue",
           "blue",
           "blue",
           "orange",
           "blue",
           "blue",
           "orange",
           "orange",
           "blue",
           "blue",
           "blue",
           "blue",
           "blue",
           "blue",
           "blue",
           "blue",
           "blue",
           "blue",
           "blue",
           "blue",
           "blue",
           "blue",
           "blue",
           "blue",
           "blue",
           "blue",
           "blue",
           "orange",
           "blue",
           "blue",
           "blue",
           "blue",
           "orange",
           "blue",
           "orange",
           "orange",
           "orange",
           "orange",
           "blue",
           "blue",
           "blue",
           "blue",
           "blue",
           "orange",
           "blue",
           "blue",
           "blue",
           "blue",
           "blue",
           "blue",
           "blue",
           "orange",
           "blue",
           "blue",
           "blue",
           "blue",
           "blue",
           "blue",
           "blue",
           "blue",
           "blue",
           "blue",
           "blue",
           "blue",
           "blue",
           "blue",
           "blue",
           "blue",
           "orange",
           "blue",
           "blue",
           "blue",
           "blue",
           "blue",
           "blue",
           "blue",
           "blue",
           "blue",
           "blue",
           "blue",
           "blue",
           "blue",
           "blue",
           "blue",
           "blue",
           "blue",
           "blue",
           "blue",
           "blue",
           "blue",
           "blue",
           "blue",
           "blue",
           "blue",
           "blue",
           "blue",
           "blue",
           "orange",
           "blue",
           "orange",
           "orange",
           "blue",
           "blue",
           "blue",
           "blue",
           "blue",
           "orange",
           "blue",
           "orange",
           "orange",
           "blue",
           "blue",
           "blue",
           "blue",
           "blue",
           "blue",
           "blue",
           "orange",
           "blue",
           "blue",
           "blue",
           "orange",
           "blue",
           "orange",
           "blue",
           "orange",
           "blue",
           "orange",
           "orange",
           "orange",
           "blue",
           "blue",
           "blue",
           "blue",
           "orange",
           "blue",
           "orange",
           "orange",
           "blue",
           "orange",
           "orange",
           "blue",
           "orange",
           "blue",
           "orange",
           "blue",
           "blue",
           "blue",
           "blue",
           "blue",
           "blue",
           "blue",
           "orange",
           "blue",
           "orange",
           "blue",
           "blue",
           "blue",
           "blue",
           "orange",
           "blue",
           "blue",
           "orange",
           "orange",
           "blue",
           "blue",
           "orange"
          ]
         },
         "mode": "markers",
         "name": "Function Value",
         "type": "scatter",
         "x": [
          0,
          0,
          0,
          0,
          0,
          0,
          0,
          0,
          0,
          0,
          1,
          2,
          3,
          4,
          5,
          6,
          7,
          8,
          9,
          10,
          11,
          12,
          13,
          14,
          15,
          16,
          17,
          18,
          19,
          20,
          21,
          22,
          23,
          24,
          25,
          26,
          27,
          28,
          29,
          30,
          31,
          32,
          33,
          34,
          35,
          36,
          37,
          38,
          39,
          40,
          41,
          42,
          43,
          44,
          45,
          46,
          47,
          48,
          49,
          50,
          51,
          52,
          53,
          54,
          55,
          56,
          57,
          58,
          59,
          60,
          61,
          62,
          63,
          64,
          65,
          66,
          67,
          68,
          69,
          70,
          71,
          72,
          73,
          74,
          75,
          76,
          77,
          78,
          79,
          80,
          81,
          82,
          83,
          84,
          85,
          86,
          87,
          88,
          89,
          90,
          91,
          92,
          93,
          94,
          95,
          96,
          97,
          98,
          99,
          100,
          101,
          102,
          103,
          104,
          105,
          106,
          107,
          108,
          109,
          110,
          111,
          112,
          113,
          114,
          115,
          116,
          117,
          118,
          119,
          120,
          121,
          122,
          123,
          124,
          125,
          126,
          127,
          128,
          129,
          130,
          131,
          132,
          133,
          134,
          135,
          136,
          137,
          138,
          139,
          140,
          141,
          142,
          143,
          144,
          145,
          146,
          147,
          148,
          149,
          150,
          151,
          152,
          153,
          154,
          155,
          156,
          157,
          158,
          159,
          160,
          161,
          162,
          163,
          164,
          165,
          166,
          167,
          168,
          169,
          170
         ],
         "y": [
          -180,
          -156,
          -244,
          -204,
          -81,
          -27,
          -227,
          -102,
          -223,
          -106,
          -449,
          -500,
          -500,
          -404,
          -500,
          -500,
          -500,
          -336,
          -409,
          -464,
          -500,
          -425,
          -500,
          -404,
          -361,
          -500,
          -500,
          -401,
          -436,
          -409,
          -500,
          -500,
          -500,
          -500,
          -481,
          -500,
          -500,
          -481,
          -500,
          -317,
          -500,
          -416,
          -481,
          -401,
          -500,
          -500,
          -464,
          -416,
          -481,
          -500,
          -500,
          -409,
          -500,
          -500,
          -416,
          -416,
          -500,
          -500,
          -329,
          -325,
          -500,
          -449,
          -250,
          -500,
          -500,
          -500,
          -500,
          -500,
          -500,
          -500,
          -500,
          -464,
          -481,
          -449,
          -500,
          -500,
          -436,
          -500,
          -500,
          -500,
          -317,
          -500,
          -436,
          -464,
          -404,
          -500,
          -500,
          -500,
          -295,
          -416,
          -500,
          -500,
          -500,
          -500,
          -500,
          -500,
          -221,
          -425,
          -500,
          -500,
          -500,
          -500,
          -481,
          -374,
          -500,
          -500,
          -425,
          -500,
          -425,
          -413,
          -409,
          -409,
          -500,
          -481,
          -409,
          -400,
          -332,
          -500,
          -481,
          -500,
          -425,
          -500,
          -500,
          -500,
          -404,
          -500,
          -400,
          -401,
          -500,
          -436,
          -500,
          -481,
          -500,
          -500,
          -500,
          -500,
          -500,
          -500,
          -500,
          -500,
          -500,
          -425,
          -500,
          -416,
          -500,
          -500,
          -500,
          -500,
          -481,
          -500,
          -500,
          -425,
          -500,
          -464,
          -500,
          -500,
          -500,
          -500,
          -500,
          -500,
          -500,
          -500,
          -500,
          -400,
          -500,
          -500,
          -500,
          -500,
          -401,
          -404,
          -500,
          -500,
          -500,
          -500,
          -500,
          -500,
          -500,
          -425,
          -400,
          -500
         ]
        },
        {
         "line": {
          "color": "red"
         },
         "mode": "lines",
         "name": "Best f",
         "type": "scatter",
         "x": [
          0,
          0,
          0,
          0,
          0,
          0,
          0,
          0,
          0,
          0,
          1,
          2,
          3,
          4,
          5,
          6,
          7,
          8,
          9,
          10,
          11,
          12,
          13,
          14,
          15,
          16,
          17,
          18,
          19,
          20,
          21,
          22,
          23,
          24,
          25,
          26,
          27,
          28,
          29,
          30,
          31,
          32,
          33,
          34,
          35,
          36,
          37,
          38,
          39,
          40,
          41,
          42,
          43,
          44,
          45,
          46,
          47,
          48,
          49,
          50,
          51,
          52,
          53,
          54,
          55,
          56,
          57,
          58,
          59,
          60,
          61,
          62,
          63,
          64,
          65,
          66,
          67,
          68,
          69,
          70,
          71,
          72,
          73,
          74,
          75,
          76,
          77,
          78,
          79,
          80,
          81,
          82,
          83,
          84,
          85,
          86,
          87,
          88,
          89,
          90,
          91,
          92,
          93,
          94,
          95,
          96,
          97,
          98,
          99,
          100,
          101,
          102,
          103,
          104,
          105,
          106,
          107,
          108,
          109,
          110,
          111,
          112,
          113,
          114,
          115,
          116,
          117,
          118,
          119,
          120,
          121,
          122,
          123,
          124,
          125,
          126,
          127,
          128,
          129,
          130,
          131,
          132,
          133,
          134,
          135,
          136,
          137,
          138,
          139,
          140,
          141,
          142,
          143,
          144,
          145,
          146,
          147,
          148,
          149,
          150,
          151,
          152,
          153,
          154,
          155,
          156,
          157,
          158,
          159,
          160,
          161,
          162,
          163,
          164,
          165,
          166,
          167,
          168,
          169,
          170
         ],
         "y": [
          -180,
          -156,
          -156,
          -156,
          -81,
          -27,
          -27,
          -27,
          -27,
          -27,
          -27,
          -27,
          -27,
          -27,
          -27,
          -27,
          -27,
          -27,
          -27,
          -27,
          -27,
          -27,
          -27,
          -27,
          -27,
          -27,
          -27,
          -27,
          -27,
          -27,
          -27,
          -27,
          -27,
          -27,
          -27,
          -27,
          -27,
          -27,
          -27,
          -27,
          -27,
          -27,
          -27,
          -27,
          -27,
          -27,
          -27,
          -27,
          -27,
          -27,
          -27,
          -27,
          -27,
          -27,
          -27,
          -27,
          -27,
          -27,
          -27,
          -27,
          -27,
          -27,
          -27,
          -27,
          -27,
          -27,
          -27,
          -27,
          -27,
          -27,
          -27,
          -27,
          -27,
          -27,
          -27,
          -27,
          -27,
          -27,
          -27,
          -27,
          -27,
          -27,
          -27,
          -27,
          -27,
          -27,
          -27,
          -27,
          -27,
          -27,
          -27,
          -27,
          -27,
          -27,
          -27,
          -27,
          -27,
          -27,
          -27,
          -27,
          -27,
          -27,
          -27,
          -27,
          -27,
          -27,
          -27,
          -27,
          -27,
          -27,
          -27,
          -27,
          -27,
          -27,
          -27,
          -27,
          -27,
          -27,
          -27,
          -27,
          -27,
          -27,
          -27,
          -27,
          -27,
          -27,
          -27,
          -27,
          -27,
          -27,
          -27,
          -27,
          -27,
          -27,
          -27,
          -27,
          -27,
          -27,
          -27,
          -27,
          -27,
          -27,
          -27,
          -27,
          -27,
          -27,
          -27,
          -27,
          -27,
          -27,
          -27,
          -27,
          -27,
          -27,
          -27,
          -27,
          -27,
          -27,
          -27,
          -27,
          -27,
          -27,
          -27,
          -27,
          -27,
          -27,
          -27,
          -27,
          -27,
          -27,
          -27,
          -27,
          -27,
          -27,
          -27,
          -27,
          -27,
          -27,
          -27,
          -27
         ]
        },
        {
         "line": {
          "color": "green"
         },
         "mode": "lines",
         "name": "Best f under constraint",
         "type": "scatter",
         "x": [
          0,
          0,
          0,
          0,
          0,
          0,
          0,
          0,
          0,
          0,
          1,
          2,
          3,
          4,
          5,
          6,
          7,
          8,
          9,
          10,
          11,
          12,
          13,
          14,
          15,
          16,
          17,
          18,
          19,
          20,
          21,
          22,
          23,
          24,
          25,
          26,
          27,
          28,
          29,
          30,
          31,
          32,
          33,
          34,
          35,
          36,
          37,
          38,
          39,
          40,
          41,
          42,
          43,
          44,
          45,
          46,
          47,
          48,
          49,
          50,
          51,
          52,
          53,
          54,
          55,
          56,
          57,
          58,
          59,
          60,
          61,
          62,
          63,
          64,
          65,
          66,
          67,
          68,
          69,
          70,
          71,
          72,
          73,
          74,
          75,
          76,
          77,
          78,
          79,
          80,
          81,
          82,
          83,
          84,
          85,
          86,
          87,
          88,
          89,
          90,
          91,
          92,
          93,
          94,
          95,
          96,
          97,
          98,
          99,
          100,
          101,
          102,
          103,
          104,
          105,
          106,
          107,
          108,
          109,
          110,
          111,
          112,
          113,
          114,
          115,
          116,
          117,
          118,
          119,
          120,
          121,
          122,
          123,
          124,
          125,
          126,
          127,
          128,
          129,
          130,
          131,
          132,
          133,
          134,
          135,
          136,
          137,
          138,
          139,
          140,
          141,
          142,
          143,
          144,
          145,
          146,
          147,
          148,
          149,
          150,
          151,
          152,
          153,
          154,
          155,
          156,
          157,
          158,
          159,
          160,
          161,
          162,
          163,
          164,
          165,
          166,
          167,
          168,
          169,
          170
         ],
         "y": [
          null,
          null,
          null,
          null,
          null,
          null,
          null,
          null,
          null,
          null,
          null,
          null,
          -500,
          -500,
          -500,
          -500,
          -500,
          -500,
          -500,
          -464,
          -464,
          -464,
          -464,
          -464,
          -464,
          -464,
          -464,
          -464,
          -464,
          -464,
          -464,
          -464,
          -464,
          -464,
          -464,
          -464,
          -464,
          -464,
          -464,
          -464,
          -464,
          -464,
          -464,
          -464,
          -464,
          -464,
          -464,
          -416,
          -416,
          -416,
          -416,
          -416,
          -416,
          -416,
          -416,
          -416,
          -416,
          -416,
          -416,
          -416,
          -416,
          -416,
          -416,
          -416,
          -416,
          -416,
          -416,
          -416,
          -416,
          -416,
          -416,
          -416,
          -416,
          -416,
          -416,
          -416,
          -416,
          -416,
          -416,
          -416,
          -416,
          -416,
          -416,
          -416,
          -416,
          -416,
          -416,
          -416,
          -416,
          -416,
          -416,
          -416,
          -416,
          -416,
          -416,
          -416,
          -416,
          -416,
          -416,
          -416,
          -416,
          -416,
          -416,
          -416,
          -416,
          -416,
          -416,
          -416,
          -416,
          -416,
          -409,
          -409,
          -409,
          -409,
          -409,
          -409,
          -409,
          -409,
          -409,
          -409,
          -409,
          -409,
          -409,
          -409,
          -409,
          -409,
          -409,
          -409,
          -409,
          -409,
          -409,
          -409,
          -409,
          -409,
          -409,
          -409,
          -409,
          -409,
          -409,
          -409,
          -409,
          -409,
          -409,
          -409,
          -409,
          -409,
          -409,
          -409,
          -409,
          -409,
          -409,
          -409,
          -409,
          -409,
          -409,
          -409,
          -409,
          -409,
          -409,
          -409,
          -409,
          -409,
          -409,
          -409,
          -409,
          -409,
          -409,
          -409,
          -409,
          -409,
          -409,
          -409,
          -409,
          -409,
          -409,
          -409,
          -409,
          -409,
          -409,
          -409
         ]
        }
       ],
       "layout": {
        "showlegend": true,
        "template": {
         "data": {
          "bar": [
           {
            "error_x": {
             "color": "#2a3f5f"
            },
            "error_y": {
             "color": "#2a3f5f"
            },
            "marker": {
             "line": {
              "color": "#E5ECF6",
              "width": 0.5
             },
             "pattern": {
              "fillmode": "overlay",
              "size": 10,
              "solidity": 0.2
             }
            },
            "type": "bar"
           }
          ],
          "barpolar": [
           {
            "marker": {
             "line": {
              "color": "#E5ECF6",
              "width": 0.5
             },
             "pattern": {
              "fillmode": "overlay",
              "size": 10,
              "solidity": 0.2
             }
            },
            "type": "barpolar"
           }
          ],
          "carpet": [
           {
            "aaxis": {
             "endlinecolor": "#2a3f5f",
             "gridcolor": "white",
             "linecolor": "white",
             "minorgridcolor": "white",
             "startlinecolor": "#2a3f5f"
            },
            "baxis": {
             "endlinecolor": "#2a3f5f",
             "gridcolor": "white",
             "linecolor": "white",
             "minorgridcolor": "white",
             "startlinecolor": "#2a3f5f"
            },
            "type": "carpet"
           }
          ],
          "choropleth": [
           {
            "colorbar": {
             "outlinewidth": 0,
             "ticks": ""
            },
            "type": "choropleth"
           }
          ],
          "contour": [
           {
            "colorbar": {
             "outlinewidth": 0,
             "ticks": ""
            },
            "colorscale": [
             [
              0,
              "#0d0887"
             ],
             [
              0.1111111111111111,
              "#46039f"
             ],
             [
              0.2222222222222222,
              "#7201a8"
             ],
             [
              0.3333333333333333,
              "#9c179e"
             ],
             [
              0.4444444444444444,
              "#bd3786"
             ],
             [
              0.5555555555555556,
              "#d8576b"
             ],
             [
              0.6666666666666666,
              "#ed7953"
             ],
             [
              0.7777777777777778,
              "#fb9f3a"
             ],
             [
              0.8888888888888888,
              "#fdca26"
             ],
             [
              1,
              "#f0f921"
             ]
            ],
            "type": "contour"
           }
          ],
          "contourcarpet": [
           {
            "colorbar": {
             "outlinewidth": 0,
             "ticks": ""
            },
            "type": "contourcarpet"
           }
          ],
          "heatmap": [
           {
            "colorbar": {
             "outlinewidth": 0,
             "ticks": ""
            },
            "colorscale": [
             [
              0,
              "#0d0887"
             ],
             [
              0.1111111111111111,
              "#46039f"
             ],
             [
              0.2222222222222222,
              "#7201a8"
             ],
             [
              0.3333333333333333,
              "#9c179e"
             ],
             [
              0.4444444444444444,
              "#bd3786"
             ],
             [
              0.5555555555555556,
              "#d8576b"
             ],
             [
              0.6666666666666666,
              "#ed7953"
             ],
             [
              0.7777777777777778,
              "#fb9f3a"
             ],
             [
              0.8888888888888888,
              "#fdca26"
             ],
             [
              1,
              "#f0f921"
             ]
            ],
            "type": "heatmap"
           }
          ],
          "heatmapgl": [
           {
            "colorbar": {
             "outlinewidth": 0,
             "ticks": ""
            },
            "colorscale": [
             [
              0,
              "#0d0887"
             ],
             [
              0.1111111111111111,
              "#46039f"
             ],
             [
              0.2222222222222222,
              "#7201a8"
             ],
             [
              0.3333333333333333,
              "#9c179e"
             ],
             [
              0.4444444444444444,
              "#bd3786"
             ],
             [
              0.5555555555555556,
              "#d8576b"
             ],
             [
              0.6666666666666666,
              "#ed7953"
             ],
             [
              0.7777777777777778,
              "#fb9f3a"
             ],
             [
              0.8888888888888888,
              "#fdca26"
             ],
             [
              1,
              "#f0f921"
             ]
            ],
            "type": "heatmapgl"
           }
          ],
          "histogram": [
           {
            "marker": {
             "pattern": {
              "fillmode": "overlay",
              "size": 10,
              "solidity": 0.2
             }
            },
            "type": "histogram"
           }
          ],
          "histogram2d": [
           {
            "colorbar": {
             "outlinewidth": 0,
             "ticks": ""
            },
            "colorscale": [
             [
              0,
              "#0d0887"
             ],
             [
              0.1111111111111111,
              "#46039f"
             ],
             [
              0.2222222222222222,
              "#7201a8"
             ],
             [
              0.3333333333333333,
              "#9c179e"
             ],
             [
              0.4444444444444444,
              "#bd3786"
             ],
             [
              0.5555555555555556,
              "#d8576b"
             ],
             [
              0.6666666666666666,
              "#ed7953"
             ],
             [
              0.7777777777777778,
              "#fb9f3a"
             ],
             [
              0.8888888888888888,
              "#fdca26"
             ],
             [
              1,
              "#f0f921"
             ]
            ],
            "type": "histogram2d"
           }
          ],
          "histogram2dcontour": [
           {
            "colorbar": {
             "outlinewidth": 0,
             "ticks": ""
            },
            "colorscale": [
             [
              0,
              "#0d0887"
             ],
             [
              0.1111111111111111,
              "#46039f"
             ],
             [
              0.2222222222222222,
              "#7201a8"
             ],
             [
              0.3333333333333333,
              "#9c179e"
             ],
             [
              0.4444444444444444,
              "#bd3786"
             ],
             [
              0.5555555555555556,
              "#d8576b"
             ],
             [
              0.6666666666666666,
              "#ed7953"
             ],
             [
              0.7777777777777778,
              "#fb9f3a"
             ],
             [
              0.8888888888888888,
              "#fdca26"
             ],
             [
              1,
              "#f0f921"
             ]
            ],
            "type": "histogram2dcontour"
           }
          ],
          "mesh3d": [
           {
            "colorbar": {
             "outlinewidth": 0,
             "ticks": ""
            },
            "type": "mesh3d"
           }
          ],
          "parcoords": [
           {
            "line": {
             "colorbar": {
              "outlinewidth": 0,
              "ticks": ""
             }
            },
            "type": "parcoords"
           }
          ],
          "pie": [
           {
            "automargin": true,
            "type": "pie"
           }
          ],
          "scatter": [
           {
            "fillpattern": {
             "fillmode": "overlay",
             "size": 10,
             "solidity": 0.2
            },
            "type": "scatter"
           }
          ],
          "scatter3d": [
           {
            "line": {
             "colorbar": {
              "outlinewidth": 0,
              "ticks": ""
             }
            },
            "marker": {
             "colorbar": {
              "outlinewidth": 0,
              "ticks": ""
             }
            },
            "type": "scatter3d"
           }
          ],
          "scattercarpet": [
           {
            "marker": {
             "colorbar": {
              "outlinewidth": 0,
              "ticks": ""
             }
            },
            "type": "scattercarpet"
           }
          ],
          "scattergeo": [
           {
            "marker": {
             "colorbar": {
              "outlinewidth": 0,
              "ticks": ""
             }
            },
            "type": "scattergeo"
           }
          ],
          "scattergl": [
           {
            "marker": {
             "colorbar": {
              "outlinewidth": 0,
              "ticks": ""
             }
            },
            "type": "scattergl"
           }
          ],
          "scattermapbox": [
           {
            "marker": {
             "colorbar": {
              "outlinewidth": 0,
              "ticks": ""
             }
            },
            "type": "scattermapbox"
           }
          ],
          "scatterpolar": [
           {
            "marker": {
             "colorbar": {
              "outlinewidth": 0,
              "ticks": ""
             }
            },
            "type": "scatterpolar"
           }
          ],
          "scatterpolargl": [
           {
            "marker": {
             "colorbar": {
              "outlinewidth": 0,
              "ticks": ""
             }
            },
            "type": "scatterpolargl"
           }
          ],
          "scatterternary": [
           {
            "marker": {
             "colorbar": {
              "outlinewidth": 0,
              "ticks": ""
             }
            },
            "type": "scatterternary"
           }
          ],
          "surface": [
           {
            "colorbar": {
             "outlinewidth": 0,
             "ticks": ""
            },
            "colorscale": [
             [
              0,
              "#0d0887"
             ],
             [
              0.1111111111111111,
              "#46039f"
             ],
             [
              0.2222222222222222,
              "#7201a8"
             ],
             [
              0.3333333333333333,
              "#9c179e"
             ],
             [
              0.4444444444444444,
              "#bd3786"
             ],
             [
              0.5555555555555556,
              "#d8576b"
             ],
             [
              0.6666666666666666,
              "#ed7953"
             ],
             [
              0.7777777777777778,
              "#fb9f3a"
             ],
             [
              0.8888888888888888,
              "#fdca26"
             ],
             [
              1,
              "#f0f921"
             ]
            ],
            "type": "surface"
           }
          ],
          "table": [
           {
            "cells": {
             "fill": {
              "color": "#EBF0F8"
             },
             "line": {
              "color": "white"
             }
            },
            "header": {
             "fill": {
              "color": "#C8D4E3"
             },
             "line": {
              "color": "white"
             }
            },
            "type": "table"
           }
          ]
         },
         "layout": {
          "annotationdefaults": {
           "arrowcolor": "#2a3f5f",
           "arrowhead": 0,
           "arrowwidth": 1
          },
          "autotypenumbers": "strict",
          "coloraxis": {
           "colorbar": {
            "outlinewidth": 0,
            "ticks": ""
           }
          },
          "colorscale": {
           "diverging": [
            [
             0,
             "#8e0152"
            ],
            [
             0.1,
             "#c51b7d"
            ],
            [
             0.2,
             "#de77ae"
            ],
            [
             0.3,
             "#f1b6da"
            ],
            [
             0.4,
             "#fde0ef"
            ],
            [
             0.5,
             "#f7f7f7"
            ],
            [
             0.6,
             "#e6f5d0"
            ],
            [
             0.7,
             "#b8e186"
            ],
            [
             0.8,
             "#7fbc41"
            ],
            [
             0.9,
             "#4d9221"
            ],
            [
             1,
             "#276419"
            ]
           ],
           "sequential": [
            [
             0,
             "#0d0887"
            ],
            [
             0.1111111111111111,
             "#46039f"
            ],
            [
             0.2222222222222222,
             "#7201a8"
            ],
            [
             0.3333333333333333,
             "#9c179e"
            ],
            [
             0.4444444444444444,
             "#bd3786"
            ],
            [
             0.5555555555555556,
             "#d8576b"
            ],
            [
             0.6666666666666666,
             "#ed7953"
            ],
            [
             0.7777777777777778,
             "#fb9f3a"
            ],
            [
             0.8888888888888888,
             "#fdca26"
            ],
            [
             1,
             "#f0f921"
            ]
           ],
           "sequentialminus": [
            [
             0,
             "#0d0887"
            ],
            [
             0.1111111111111111,
             "#46039f"
            ],
            [
             0.2222222222222222,
             "#7201a8"
            ],
            [
             0.3333333333333333,
             "#9c179e"
            ],
            [
             0.4444444444444444,
             "#bd3786"
            ],
            [
             0.5555555555555556,
             "#d8576b"
            ],
            [
             0.6666666666666666,
             "#ed7953"
            ],
            [
             0.7777777777777778,
             "#fb9f3a"
            ],
            [
             0.8888888888888888,
             "#fdca26"
            ],
            [
             1,
             "#f0f921"
            ]
           ]
          },
          "colorway": [
           "#636efa",
           "#EF553B",
           "#00cc96",
           "#ab63fa",
           "#FFA15A",
           "#19d3f3",
           "#FF6692",
           "#B6E880",
           "#FF97FF",
           "#FECB52"
          ],
          "font": {
           "color": "#2a3f5f"
          },
          "geo": {
           "bgcolor": "white",
           "lakecolor": "white",
           "landcolor": "#E5ECF6",
           "showlakes": true,
           "showland": true,
           "subunitcolor": "white"
          },
          "hoverlabel": {
           "align": "left"
          },
          "hovermode": "closest",
          "mapbox": {
           "style": "light"
          },
          "paper_bgcolor": "white",
          "plot_bgcolor": "#E5ECF6",
          "polar": {
           "angularaxis": {
            "gridcolor": "white",
            "linecolor": "white",
            "ticks": ""
           },
           "bgcolor": "#E5ECF6",
           "radialaxis": {
            "gridcolor": "white",
            "linecolor": "white",
            "ticks": ""
           }
          },
          "scene": {
           "xaxis": {
            "backgroundcolor": "#E5ECF6",
            "gridcolor": "white",
            "gridwidth": 2,
            "linecolor": "white",
            "showbackground": true,
            "ticks": "",
            "zerolinecolor": "white"
           },
           "yaxis": {
            "backgroundcolor": "#E5ECF6",
            "gridcolor": "white",
            "gridwidth": 2,
            "linecolor": "white",
            "showbackground": true,
            "ticks": "",
            "zerolinecolor": "white"
           },
           "zaxis": {
            "backgroundcolor": "#E5ECF6",
            "gridcolor": "white",
            "gridwidth": 2,
            "linecolor": "white",
            "showbackground": true,
            "ticks": "",
            "zerolinecolor": "white"
           }
          },
          "shapedefaults": {
           "line": {
            "color": "#2a3f5f"
           }
          },
          "ternary": {
           "aaxis": {
            "gridcolor": "white",
            "linecolor": "white",
            "ticks": ""
           },
           "baxis": {
            "gridcolor": "white",
            "linecolor": "white",
            "ticks": ""
           },
           "bgcolor": "#E5ECF6",
           "caxis": {
            "gridcolor": "white",
            "linecolor": "white",
            "ticks": ""
           }
          },
          "title": {
           "x": 0.05
          },
          "xaxis": {
           "automargin": true,
           "gridcolor": "white",
           "linecolor": "white",
           "ticks": "",
           "title": {
            "standoff": 15
           },
           "zerolinecolor": "white",
           "zerolinewidth": 2
          },
          "yaxis": {
           "automargin": true,
           "gridcolor": "white",
           "linecolor": "white",
           "ticks": "",
           "title": {
            "standoff": 15
           },
           "zerolinecolor": "white",
           "zerolinewidth": 2
          }
         }
        },
        "title": {
         "text": "Function Value over Iterations with Constraints"
        },
        "xaxis": {
         "title": {
          "text": "Iteration"
         }
        },
        "yaxis": {
         "title": {
          "text": "Function Value"
         }
        }
       }
      }
     },
     "metadata": {},
     "output_type": "display_data"
    }
   ],
   "source": [
    "filename = search_log_files(LOG_DIR, [\"2024-08-27\"])[3]\n",
    "print(filename)\n",
    "print()\n",
    "\n",
    "log_file_path = os.path.join(LOG_DIR, filename)\n",
    "df_merged, settings = parse_and_prepare_data(log_file_path)\n",
    "\n",
    "print(\"実験設定\")\n",
    "display(settings)\n",
    "print()\n",
    "display(df_merged)\n",
    "\n",
    "plot_function_values(df_merged)"
   ]
  },
  {
   "cell_type": "code",
   "execution_count": null,
   "metadata": {},
   "outputs": [],
   "source": []
  },
  {
   "cell_type": "markdown",
   "metadata": {},
   "source": [
    "#### lambda1=0.5, lambda2=0.5, clipping=False\n",
    "\n",
    "- 損失関数中の獲得関数の符号を修正"
   ]
  },
  {
   "cell_type": "code",
   "execution_count": 93,
   "metadata": {},
   "outputs": [
    {
     "name": "stdout",
     "output_type": "stream",
     "text": [
      "2024-08-27_23-53-39_Simple_5d_constrained3_normalized-input.log\n",
      "\n",
      "実験設定\n"
     ]
    },
    {
     "data": {
      "text/plain": [
       "{'name': 'Simple_5d_constrained3_normalized-input',\n",
       " 'device': 'cpu',\n",
       " 'bo_iter': 1000,\n",
       " 'initial_data_size': 10,\n",
       " 'model': {'hidden_unit_size': 64, 'num_hidden_layers': 3},\n",
       " 'model_optim': {'num_epochs': 1000, 'learning_rate': 0.01},\n",
       " 'acquisition_optim': {'beta': 0.1, 'num_restarts': 5, 'raw_samples': 20},\n",
       " 'memo': 'modify the sign of acq_value in fit_pytorch_model_with_constraint'}"
      ]
     },
     "metadata": {},
     "output_type": "display_data"
    },
    {
     "name": "stdout",
     "output_type": "stream",
     "text": [
      "\n"
     ]
    },
    {
     "data": {
      "text/html": [
       "<div>\n",
       "<style scoped>\n",
       "    .dataframe tbody tr th:only-of-type {\n",
       "        vertical-align: middle;\n",
       "    }\n",
       "\n",
       "    .dataframe tbody tr th {\n",
       "        vertical-align: top;\n",
       "    }\n",
       "\n",
       "    .dataframe thead th {\n",
       "        text-align: right;\n",
       "    }\n",
       "</style>\n",
       "<table border=\"1\" class=\"dataframe\">\n",
       "  <thead>\n",
       "    <tr style=\"text-align: right;\">\n",
       "      <th></th>\n",
       "      <th>iteration</th>\n",
       "      <th>iteration_time</th>\n",
       "      <th>candidate</th>\n",
       "      <th>function_value</th>\n",
       "      <th>best_f</th>\n",
       "      <th>acquisition_value</th>\n",
       "      <th>surrogate_mean</th>\n",
       "      <th>surrogate_covariance</th>\n",
       "      <th>final_training_loss</th>\n",
       "      <th>constraint</th>\n",
       "      <th>best_f_constrained</th>\n",
       "    </tr>\n",
       "  </thead>\n",
       "  <tbody>\n",
       "    <tr>\n",
       "      <th>0</th>\n",
       "      <td>0</td>\n",
       "      <td>NaN</td>\n",
       "      <td>[[-6.0, 5.0, 3.0, -6.0, -5.0]]</td>\n",
       "      <td>-131.0</td>\n",
       "      <td>-131.0</td>\n",
       "      <td>NaN</td>\n",
       "      <td>NaN</td>\n",
       "      <td>NaN</td>\n",
       "      <td>-1.939516e+08</td>\n",
       "      <td>False</td>\n",
       "      <td>NaN</td>\n",
       "    </tr>\n",
       "    <tr>\n",
       "      <th>1</th>\n",
       "      <td>0</td>\n",
       "      <td>NaN</td>\n",
       "      <td>[[4.0, -5.0, 4.0, 7.0, -1.0]]</td>\n",
       "      <td>-107.0</td>\n",
       "      <td>-107.0</td>\n",
       "      <td>NaN</td>\n",
       "      <td>NaN</td>\n",
       "      <td>NaN</td>\n",
       "      <td>-1.939516e+08</td>\n",
       "      <td>False</td>\n",
       "      <td>NaN</td>\n",
       "    </tr>\n",
       "    <tr>\n",
       "      <th>2</th>\n",
       "      <td>0</td>\n",
       "      <td>NaN</td>\n",
       "      <td>[[4.0, 6.0, 1.0, -8.0, 8.0]]</td>\n",
       "      <td>-181.0</td>\n",
       "      <td>-107.0</td>\n",
       "      <td>NaN</td>\n",
       "      <td>NaN</td>\n",
       "      <td>NaN</td>\n",
       "      <td>-1.939516e+08</td>\n",
       "      <td>False</td>\n",
       "      <td>NaN</td>\n",
       "    </tr>\n",
       "    <tr>\n",
       "      <th>3</th>\n",
       "      <td>0</td>\n",
       "      <td>NaN</td>\n",
       "      <td>[[4.0, -10.0, -5.0, -1.0, -8.0]]</td>\n",
       "      <td>-206.0</td>\n",
       "      <td>-107.0</td>\n",
       "      <td>NaN</td>\n",
       "      <td>NaN</td>\n",
       "      <td>NaN</td>\n",
       "      <td>-1.939516e+08</td>\n",
       "      <td>False</td>\n",
       "      <td>NaN</td>\n",
       "    </tr>\n",
       "    <tr>\n",
       "      <th>4</th>\n",
       "      <td>0</td>\n",
       "      <td>NaN</td>\n",
       "      <td>[[1.0, 6.0, 6.0, 2.0, -10.0]]</td>\n",
       "      <td>-177.0</td>\n",
       "      <td>-107.0</td>\n",
       "      <td>NaN</td>\n",
       "      <td>NaN</td>\n",
       "      <td>NaN</td>\n",
       "      <td>-1.939516e+08</td>\n",
       "      <td>False</td>\n",
       "      <td>NaN</td>\n",
       "    </tr>\n",
       "    <tr>\n",
       "      <th>...</th>\n",
       "      <td>...</td>\n",
       "      <td>...</td>\n",
       "      <td>...</td>\n",
       "      <td>...</td>\n",
       "      <td>...</td>\n",
       "      <td>...</td>\n",
       "      <td>...</td>\n",
       "      <td>...</td>\n",
       "      <td>...</td>\n",
       "      <td>...</td>\n",
       "      <td>...</td>\n",
       "    </tr>\n",
       "    <tr>\n",
       "      <th>101</th>\n",
       "      <td>102</td>\n",
       "      <td>232.2196</td>\n",
       "      <td>[[10.0, 10.0, 10.0, 9.0, 10.0]]</td>\n",
       "      <td>-481.0</td>\n",
       "      <td>-91.0</td>\n",
       "      <td>-8.173348e+11</td>\n",
       "      <td>-3.124769</td>\n",
       "      <td>8.523761</td>\n",
       "      <td>-5.809094e+15</td>\n",
       "      <td>True</td>\n",
       "      <td>-259.0</td>\n",
       "    </tr>\n",
       "    <tr>\n",
       "      <th>102</th>\n",
       "      <td>103</td>\n",
       "      <td>233.4459</td>\n",
       "      <td>[[10.0, 10.0, 10.0, 10.0, 10.0]]</td>\n",
       "      <td>-500.0</td>\n",
       "      <td>-91.0</td>\n",
       "      <td>-6.660692e+14</td>\n",
       "      <td>-3.925611</td>\n",
       "      <td>1.308915</td>\n",
       "      <td>-6.002113e+15</td>\n",
       "      <td>True</td>\n",
       "      <td>-259.0</td>\n",
       "    </tr>\n",
       "    <tr>\n",
       "      <th>103</th>\n",
       "      <td>104</td>\n",
       "      <td>236.6639</td>\n",
       "      <td>[[10.0, 10.0, 10.0, 10.0, 10.0]]</td>\n",
       "      <td>-500.0</td>\n",
       "      <td>-91.0</td>\n",
       "      <td>-8.677546e+11</td>\n",
       "      <td>-4.072147</td>\n",
       "      <td>1.582898</td>\n",
       "      <td>-6.199450e+15</td>\n",
       "      <td>True</td>\n",
       "      <td>-259.0</td>\n",
       "    </tr>\n",
       "    <tr>\n",
       "      <th>104</th>\n",
       "      <td>105</td>\n",
       "      <td>238.5136</td>\n",
       "      <td>[[10.0, 10.0, 10.0, 10.0, 10.0]]</td>\n",
       "      <td>-500.0</td>\n",
       "      <td>-91.0</td>\n",
       "      <td>-8.936930e+11</td>\n",
       "      <td>-4.222765</td>\n",
       "      <td>1.512668</td>\n",
       "      <td>-6.401166e+15</td>\n",
       "      <td>True</td>\n",
       "      <td>-259.0</td>\n",
       "    </tr>\n",
       "    <tr>\n",
       "      <th>105</th>\n",
       "      <td>106</td>\n",
       "      <td>NaN</td>\n",
       "      <td>[[10.0, 10.0, 10.0, 10.0, 10.0]]</td>\n",
       "      <td>-500.0</td>\n",
       "      <td>-91.0</td>\n",
       "      <td>-9.201669e+11</td>\n",
       "      <td>-4.377710</td>\n",
       "      <td>1.527362</td>\n",
       "      <td>NaN</td>\n",
       "      <td>True</td>\n",
       "      <td>-259.0</td>\n",
       "    </tr>\n",
       "  </tbody>\n",
       "</table>\n",
       "<p>116 rows × 11 columns</p>\n",
       "</div>"
      ],
      "text/plain": [
       "     iteration  iteration_time                         candidate  \\\n",
       "0            0             NaN    [[-6.0, 5.0, 3.0, -6.0, -5.0]]   \n",
       "1            0             NaN     [[4.0, -5.0, 4.0, 7.0, -1.0]]   \n",
       "2            0             NaN      [[4.0, 6.0, 1.0, -8.0, 8.0]]   \n",
       "3            0             NaN  [[4.0, -10.0, -5.0, -1.0, -8.0]]   \n",
       "4            0             NaN     [[1.0, 6.0, 6.0, 2.0, -10.0]]   \n",
       "..         ...             ...                               ...   \n",
       "101        102        232.2196   [[10.0, 10.0, 10.0, 9.0, 10.0]]   \n",
       "102        103        233.4459  [[10.0, 10.0, 10.0, 10.0, 10.0]]   \n",
       "103        104        236.6639  [[10.0, 10.0, 10.0, 10.0, 10.0]]   \n",
       "104        105        238.5136  [[10.0, 10.0, 10.0, 10.0, 10.0]]   \n",
       "105        106             NaN  [[10.0, 10.0, 10.0, 10.0, 10.0]]   \n",
       "\n",
       "     function_value  best_f  acquisition_value  surrogate_mean  \\\n",
       "0            -131.0  -131.0                NaN             NaN   \n",
       "1            -107.0  -107.0                NaN             NaN   \n",
       "2            -181.0  -107.0                NaN             NaN   \n",
       "3            -206.0  -107.0                NaN             NaN   \n",
       "4            -177.0  -107.0                NaN             NaN   \n",
       "..              ...     ...                ...             ...   \n",
       "101          -481.0   -91.0      -8.173348e+11       -3.124769   \n",
       "102          -500.0   -91.0      -6.660692e+14       -3.925611   \n",
       "103          -500.0   -91.0      -8.677546e+11       -4.072147   \n",
       "104          -500.0   -91.0      -8.936930e+11       -4.222765   \n",
       "105          -500.0   -91.0      -9.201669e+11       -4.377710   \n",
       "\n",
       "     surrogate_covariance  final_training_loss  constraint  best_f_constrained  \n",
       "0                     NaN        -1.939516e+08       False                 NaN  \n",
       "1                     NaN        -1.939516e+08       False                 NaN  \n",
       "2                     NaN        -1.939516e+08       False                 NaN  \n",
       "3                     NaN        -1.939516e+08       False                 NaN  \n",
       "4                     NaN        -1.939516e+08       False                 NaN  \n",
       "..                    ...                  ...         ...                 ...  \n",
       "101              8.523761        -5.809094e+15        True              -259.0  \n",
       "102              1.308915        -6.002113e+15        True              -259.0  \n",
       "103              1.582898        -6.199450e+15        True              -259.0  \n",
       "104              1.512668        -6.401166e+15        True              -259.0  \n",
       "105              1.527362                  NaN        True              -259.0  \n",
       "\n",
       "[116 rows x 11 columns]"
      ]
     },
     "metadata": {},
     "output_type": "display_data"
    },
    {
     "data": {
      "application/vnd.plotly.v1+json": {
       "config": {
        "plotlyServerURL": "https://plot.ly"
       },
       "data": [
        {
         "marker": {
          "color": [
           "blue",
           "blue",
           "blue",
           "blue",
           "blue",
           "blue",
           "blue",
           "blue",
           "blue",
           "blue",
           "blue",
           "blue",
           "orange",
           "orange",
           "orange",
           "orange",
           "orange",
           "orange",
           "orange",
           "orange",
           "orange",
           "orange",
           "orange",
           "orange",
           "orange",
           "orange",
           "blue",
           "orange",
           "orange",
           "orange",
           "orange",
           "orange",
           "blue",
           "orange",
           "orange",
           "orange",
           "blue",
           "orange",
           "orange",
           "blue",
           "orange",
           "orange",
           "orange",
           "orange",
           "orange",
           "orange",
           "orange",
           "orange",
           "orange",
           "orange",
           "orange",
           "orange",
           "orange",
           "orange",
           "orange",
           "orange",
           "orange",
           "orange",
           "orange",
           "orange",
           "orange",
           "orange",
           "orange",
           "orange",
           "orange",
           "orange",
           "orange",
           "orange",
           "orange",
           "orange",
           "orange",
           "orange",
           "orange",
           "orange",
           "orange",
           "orange",
           "orange",
           "orange",
           "orange",
           "orange",
           "orange",
           "orange",
           "orange",
           "blue",
           "orange",
           "orange",
           "orange",
           "orange",
           "blue",
           "orange",
           "orange",
           "orange",
           "orange",
           "orange",
           "blue",
           "blue",
           "orange",
           "orange",
           "orange",
           "orange",
           "orange",
           "orange",
           "orange",
           "orange",
           "orange",
           "orange",
           "orange",
           "orange",
           "orange",
           "orange",
           "orange",
           "orange",
           "orange",
           "orange",
           "orange",
           "orange"
          ]
         },
         "mode": "markers",
         "name": "Function Value",
         "type": "scatter",
         "x": [
          0,
          0,
          0,
          0,
          0,
          0,
          0,
          0,
          0,
          0,
          1,
          2,
          3,
          4,
          5,
          6,
          7,
          8,
          9,
          10,
          11,
          12,
          13,
          14,
          15,
          16,
          17,
          18,
          19,
          20,
          21,
          22,
          23,
          24,
          25,
          26,
          27,
          28,
          29,
          30,
          31,
          32,
          33,
          34,
          35,
          36,
          37,
          38,
          39,
          40,
          41,
          42,
          43,
          44,
          45,
          46,
          47,
          48,
          49,
          50,
          51,
          52,
          53,
          54,
          55,
          56,
          57,
          58,
          59,
          60,
          61,
          62,
          63,
          64,
          65,
          66,
          67,
          68,
          69,
          70,
          71,
          72,
          73,
          74,
          75,
          76,
          77,
          78,
          79,
          80,
          81,
          82,
          83,
          84,
          85,
          86,
          87,
          88,
          89,
          90,
          91,
          92,
          93,
          94,
          95,
          96,
          97,
          98,
          99,
          100,
          101,
          102,
          103,
          104,
          105,
          106
         ],
         "y": [
          -131,
          -107,
          -181,
          -206,
          -177,
          -91,
          -175,
          -230,
          -145,
          -120,
          -500,
          -500,
          -500,
          -425,
          -481,
          -425,
          -363,
          -500,
          -445,
          -291,
          -481,
          -500,
          -500,
          -308,
          -500,
          -500,
          -500,
          -425,
          -401,
          -416,
          -481,
          -500,
          -500,
          -500,
          -500,
          -425,
          -277,
          -374,
          -401,
          -425,
          -500,
          -416,
          -500,
          -500,
          -416,
          -449,
          -409,
          -500,
          -329,
          -374,
          -500,
          -259,
          -449,
          -449,
          -500,
          -350,
          -349,
          -500,
          -500,
          -409,
          -500,
          -425,
          -500,
          -298,
          -500,
          -449,
          -500,
          -500,
          -500,
          -500,
          -404,
          -361,
          -500,
          -500,
          -500,
          -464,
          -500,
          -500,
          -500,
          -500,
          -416,
          -500,
          -500,
          -310,
          -481,
          -500,
          -481,
          -416,
          -400,
          -500,
          -500,
          -500,
          -500,
          -500,
          -436,
          -404,
          -500,
          -409,
          -301,
          -425,
          -500,
          -401,
          -500,
          -464,
          -449,
          -464,
          -331,
          -500,
          -500,
          -500,
          -500,
          -481,
          -500,
          -500,
          -500,
          -500
         ]
        },
        {
         "line": {
          "color": "red"
         },
         "mode": "lines",
         "name": "Best f",
         "type": "scatter",
         "x": [
          0,
          0,
          0,
          0,
          0,
          0,
          0,
          0,
          0,
          0,
          1,
          2,
          3,
          4,
          5,
          6,
          7,
          8,
          9,
          10,
          11,
          12,
          13,
          14,
          15,
          16,
          17,
          18,
          19,
          20,
          21,
          22,
          23,
          24,
          25,
          26,
          27,
          28,
          29,
          30,
          31,
          32,
          33,
          34,
          35,
          36,
          37,
          38,
          39,
          40,
          41,
          42,
          43,
          44,
          45,
          46,
          47,
          48,
          49,
          50,
          51,
          52,
          53,
          54,
          55,
          56,
          57,
          58,
          59,
          60,
          61,
          62,
          63,
          64,
          65,
          66,
          67,
          68,
          69,
          70,
          71,
          72,
          73,
          74,
          75,
          76,
          77,
          78,
          79,
          80,
          81,
          82,
          83,
          84,
          85,
          86,
          87,
          88,
          89,
          90,
          91,
          92,
          93,
          94,
          95,
          96,
          97,
          98,
          99,
          100,
          101,
          102,
          103,
          104,
          105,
          106
         ],
         "y": [
          -131,
          -107,
          -107,
          -107,
          -107,
          -91,
          -91,
          -91,
          -91,
          -91,
          -91,
          -91,
          -91,
          -91,
          -91,
          -91,
          -91,
          -91,
          -91,
          -91,
          -91,
          -91,
          -91,
          -91,
          -91,
          -91,
          -91,
          -91,
          -91,
          -91,
          -91,
          -91,
          -91,
          -91,
          -91,
          -91,
          -91,
          -91,
          -91,
          -91,
          -91,
          -91,
          -91,
          -91,
          -91,
          -91,
          -91,
          -91,
          -91,
          -91,
          -91,
          -91,
          -91,
          -91,
          -91,
          -91,
          -91,
          -91,
          -91,
          -91,
          -91,
          -91,
          -91,
          -91,
          -91,
          -91,
          -91,
          -91,
          -91,
          -91,
          -91,
          -91,
          -91,
          -91,
          -91,
          -91,
          -91,
          -91,
          -91,
          -91,
          -91,
          -91,
          -91,
          -91,
          -91,
          -91,
          -91,
          -91,
          -91,
          -91,
          -91,
          -91,
          -91,
          -91,
          -91,
          -91,
          -91,
          -91,
          -91,
          -91,
          -91,
          -91,
          -91,
          -91,
          -91,
          -91,
          -91,
          -91,
          -91,
          -91,
          -91,
          -91,
          -91,
          -91,
          -91,
          -91
         ]
        },
        {
         "line": {
          "color": "green"
         },
         "mode": "lines",
         "name": "Best f under constraint",
         "type": "scatter",
         "x": [
          0,
          0,
          0,
          0,
          0,
          0,
          0,
          0,
          0,
          0,
          1,
          2,
          3,
          4,
          5,
          6,
          7,
          8,
          9,
          10,
          11,
          12,
          13,
          14,
          15,
          16,
          17,
          18,
          19,
          20,
          21,
          22,
          23,
          24,
          25,
          26,
          27,
          28,
          29,
          30,
          31,
          32,
          33,
          34,
          35,
          36,
          37,
          38,
          39,
          40,
          41,
          42,
          43,
          44,
          45,
          46,
          47,
          48,
          49,
          50,
          51,
          52,
          53,
          54,
          55,
          56,
          57,
          58,
          59,
          60,
          61,
          62,
          63,
          64,
          65,
          66,
          67,
          68,
          69,
          70,
          71,
          72,
          73,
          74,
          75,
          76,
          77,
          78,
          79,
          80,
          81,
          82,
          83,
          84,
          85,
          86,
          87,
          88,
          89,
          90,
          91,
          92,
          93,
          94,
          95,
          96,
          97,
          98,
          99,
          100,
          101,
          102,
          103,
          104,
          105,
          106
         ],
         "y": [
          null,
          null,
          null,
          null,
          null,
          null,
          null,
          null,
          null,
          null,
          null,
          null,
          -500,
          -425,
          -425,
          -425,
          -363,
          -363,
          -363,
          -291,
          -291,
          -291,
          -291,
          -291,
          -291,
          -291,
          -291,
          -291,
          -291,
          -291,
          -291,
          -291,
          -291,
          -291,
          -291,
          -291,
          -291,
          -291,
          -291,
          -291,
          -291,
          -291,
          -291,
          -291,
          -291,
          -291,
          -291,
          -291,
          -291,
          -291,
          -291,
          -259,
          -259,
          -259,
          -259,
          -259,
          -259,
          -259,
          -259,
          -259,
          -259,
          -259,
          -259,
          -259,
          -259,
          -259,
          -259,
          -259,
          -259,
          -259,
          -259,
          -259,
          -259,
          -259,
          -259,
          -259,
          -259,
          -259,
          -259,
          -259,
          -259,
          -259,
          -259,
          -259,
          -259,
          -259,
          -259,
          -259,
          -259,
          -259,
          -259,
          -259,
          -259,
          -259,
          -259,
          -259,
          -259,
          -259,
          -259,
          -259,
          -259,
          -259,
          -259,
          -259,
          -259,
          -259,
          -259,
          -259,
          -259,
          -259,
          -259,
          -259,
          -259,
          -259,
          -259,
          -259
         ]
        }
       ],
       "layout": {
        "showlegend": true,
        "template": {
         "data": {
          "bar": [
           {
            "error_x": {
             "color": "#2a3f5f"
            },
            "error_y": {
             "color": "#2a3f5f"
            },
            "marker": {
             "line": {
              "color": "#E5ECF6",
              "width": 0.5
             },
             "pattern": {
              "fillmode": "overlay",
              "size": 10,
              "solidity": 0.2
             }
            },
            "type": "bar"
           }
          ],
          "barpolar": [
           {
            "marker": {
             "line": {
              "color": "#E5ECF6",
              "width": 0.5
             },
             "pattern": {
              "fillmode": "overlay",
              "size": 10,
              "solidity": 0.2
             }
            },
            "type": "barpolar"
           }
          ],
          "carpet": [
           {
            "aaxis": {
             "endlinecolor": "#2a3f5f",
             "gridcolor": "white",
             "linecolor": "white",
             "minorgridcolor": "white",
             "startlinecolor": "#2a3f5f"
            },
            "baxis": {
             "endlinecolor": "#2a3f5f",
             "gridcolor": "white",
             "linecolor": "white",
             "minorgridcolor": "white",
             "startlinecolor": "#2a3f5f"
            },
            "type": "carpet"
           }
          ],
          "choropleth": [
           {
            "colorbar": {
             "outlinewidth": 0,
             "ticks": ""
            },
            "type": "choropleth"
           }
          ],
          "contour": [
           {
            "colorbar": {
             "outlinewidth": 0,
             "ticks": ""
            },
            "colorscale": [
             [
              0,
              "#0d0887"
             ],
             [
              0.1111111111111111,
              "#46039f"
             ],
             [
              0.2222222222222222,
              "#7201a8"
             ],
             [
              0.3333333333333333,
              "#9c179e"
             ],
             [
              0.4444444444444444,
              "#bd3786"
             ],
             [
              0.5555555555555556,
              "#d8576b"
             ],
             [
              0.6666666666666666,
              "#ed7953"
             ],
             [
              0.7777777777777778,
              "#fb9f3a"
             ],
             [
              0.8888888888888888,
              "#fdca26"
             ],
             [
              1,
              "#f0f921"
             ]
            ],
            "type": "contour"
           }
          ],
          "contourcarpet": [
           {
            "colorbar": {
             "outlinewidth": 0,
             "ticks": ""
            },
            "type": "contourcarpet"
           }
          ],
          "heatmap": [
           {
            "colorbar": {
             "outlinewidth": 0,
             "ticks": ""
            },
            "colorscale": [
             [
              0,
              "#0d0887"
             ],
             [
              0.1111111111111111,
              "#46039f"
             ],
             [
              0.2222222222222222,
              "#7201a8"
             ],
             [
              0.3333333333333333,
              "#9c179e"
             ],
             [
              0.4444444444444444,
              "#bd3786"
             ],
             [
              0.5555555555555556,
              "#d8576b"
             ],
             [
              0.6666666666666666,
              "#ed7953"
             ],
             [
              0.7777777777777778,
              "#fb9f3a"
             ],
             [
              0.8888888888888888,
              "#fdca26"
             ],
             [
              1,
              "#f0f921"
             ]
            ],
            "type": "heatmap"
           }
          ],
          "heatmapgl": [
           {
            "colorbar": {
             "outlinewidth": 0,
             "ticks": ""
            },
            "colorscale": [
             [
              0,
              "#0d0887"
             ],
             [
              0.1111111111111111,
              "#46039f"
             ],
             [
              0.2222222222222222,
              "#7201a8"
             ],
             [
              0.3333333333333333,
              "#9c179e"
             ],
             [
              0.4444444444444444,
              "#bd3786"
             ],
             [
              0.5555555555555556,
              "#d8576b"
             ],
             [
              0.6666666666666666,
              "#ed7953"
             ],
             [
              0.7777777777777778,
              "#fb9f3a"
             ],
             [
              0.8888888888888888,
              "#fdca26"
             ],
             [
              1,
              "#f0f921"
             ]
            ],
            "type": "heatmapgl"
           }
          ],
          "histogram": [
           {
            "marker": {
             "pattern": {
              "fillmode": "overlay",
              "size": 10,
              "solidity": 0.2
             }
            },
            "type": "histogram"
           }
          ],
          "histogram2d": [
           {
            "colorbar": {
             "outlinewidth": 0,
             "ticks": ""
            },
            "colorscale": [
             [
              0,
              "#0d0887"
             ],
             [
              0.1111111111111111,
              "#46039f"
             ],
             [
              0.2222222222222222,
              "#7201a8"
             ],
             [
              0.3333333333333333,
              "#9c179e"
             ],
             [
              0.4444444444444444,
              "#bd3786"
             ],
             [
              0.5555555555555556,
              "#d8576b"
             ],
             [
              0.6666666666666666,
              "#ed7953"
             ],
             [
              0.7777777777777778,
              "#fb9f3a"
             ],
             [
              0.8888888888888888,
              "#fdca26"
             ],
             [
              1,
              "#f0f921"
             ]
            ],
            "type": "histogram2d"
           }
          ],
          "histogram2dcontour": [
           {
            "colorbar": {
             "outlinewidth": 0,
             "ticks": ""
            },
            "colorscale": [
             [
              0,
              "#0d0887"
             ],
             [
              0.1111111111111111,
              "#46039f"
             ],
             [
              0.2222222222222222,
              "#7201a8"
             ],
             [
              0.3333333333333333,
              "#9c179e"
             ],
             [
              0.4444444444444444,
              "#bd3786"
             ],
             [
              0.5555555555555556,
              "#d8576b"
             ],
             [
              0.6666666666666666,
              "#ed7953"
             ],
             [
              0.7777777777777778,
              "#fb9f3a"
             ],
             [
              0.8888888888888888,
              "#fdca26"
             ],
             [
              1,
              "#f0f921"
             ]
            ],
            "type": "histogram2dcontour"
           }
          ],
          "mesh3d": [
           {
            "colorbar": {
             "outlinewidth": 0,
             "ticks": ""
            },
            "type": "mesh3d"
           }
          ],
          "parcoords": [
           {
            "line": {
             "colorbar": {
              "outlinewidth": 0,
              "ticks": ""
             }
            },
            "type": "parcoords"
           }
          ],
          "pie": [
           {
            "automargin": true,
            "type": "pie"
           }
          ],
          "scatter": [
           {
            "fillpattern": {
             "fillmode": "overlay",
             "size": 10,
             "solidity": 0.2
            },
            "type": "scatter"
           }
          ],
          "scatter3d": [
           {
            "line": {
             "colorbar": {
              "outlinewidth": 0,
              "ticks": ""
             }
            },
            "marker": {
             "colorbar": {
              "outlinewidth": 0,
              "ticks": ""
             }
            },
            "type": "scatter3d"
           }
          ],
          "scattercarpet": [
           {
            "marker": {
             "colorbar": {
              "outlinewidth": 0,
              "ticks": ""
             }
            },
            "type": "scattercarpet"
           }
          ],
          "scattergeo": [
           {
            "marker": {
             "colorbar": {
              "outlinewidth": 0,
              "ticks": ""
             }
            },
            "type": "scattergeo"
           }
          ],
          "scattergl": [
           {
            "marker": {
             "colorbar": {
              "outlinewidth": 0,
              "ticks": ""
             }
            },
            "type": "scattergl"
           }
          ],
          "scattermapbox": [
           {
            "marker": {
             "colorbar": {
              "outlinewidth": 0,
              "ticks": ""
             }
            },
            "type": "scattermapbox"
           }
          ],
          "scatterpolar": [
           {
            "marker": {
             "colorbar": {
              "outlinewidth": 0,
              "ticks": ""
             }
            },
            "type": "scatterpolar"
           }
          ],
          "scatterpolargl": [
           {
            "marker": {
             "colorbar": {
              "outlinewidth": 0,
              "ticks": ""
             }
            },
            "type": "scatterpolargl"
           }
          ],
          "scatterternary": [
           {
            "marker": {
             "colorbar": {
              "outlinewidth": 0,
              "ticks": ""
             }
            },
            "type": "scatterternary"
           }
          ],
          "surface": [
           {
            "colorbar": {
             "outlinewidth": 0,
             "ticks": ""
            },
            "colorscale": [
             [
              0,
              "#0d0887"
             ],
             [
              0.1111111111111111,
              "#46039f"
             ],
             [
              0.2222222222222222,
              "#7201a8"
             ],
             [
              0.3333333333333333,
              "#9c179e"
             ],
             [
              0.4444444444444444,
              "#bd3786"
             ],
             [
              0.5555555555555556,
              "#d8576b"
             ],
             [
              0.6666666666666666,
              "#ed7953"
             ],
             [
              0.7777777777777778,
              "#fb9f3a"
             ],
             [
              0.8888888888888888,
              "#fdca26"
             ],
             [
              1,
              "#f0f921"
             ]
            ],
            "type": "surface"
           }
          ],
          "table": [
           {
            "cells": {
             "fill": {
              "color": "#EBF0F8"
             },
             "line": {
              "color": "white"
             }
            },
            "header": {
             "fill": {
              "color": "#C8D4E3"
             },
             "line": {
              "color": "white"
             }
            },
            "type": "table"
           }
          ]
         },
         "layout": {
          "annotationdefaults": {
           "arrowcolor": "#2a3f5f",
           "arrowhead": 0,
           "arrowwidth": 1
          },
          "autotypenumbers": "strict",
          "coloraxis": {
           "colorbar": {
            "outlinewidth": 0,
            "ticks": ""
           }
          },
          "colorscale": {
           "diverging": [
            [
             0,
             "#8e0152"
            ],
            [
             0.1,
             "#c51b7d"
            ],
            [
             0.2,
             "#de77ae"
            ],
            [
             0.3,
             "#f1b6da"
            ],
            [
             0.4,
             "#fde0ef"
            ],
            [
             0.5,
             "#f7f7f7"
            ],
            [
             0.6,
             "#e6f5d0"
            ],
            [
             0.7,
             "#b8e186"
            ],
            [
             0.8,
             "#7fbc41"
            ],
            [
             0.9,
             "#4d9221"
            ],
            [
             1,
             "#276419"
            ]
           ],
           "sequential": [
            [
             0,
             "#0d0887"
            ],
            [
             0.1111111111111111,
             "#46039f"
            ],
            [
             0.2222222222222222,
             "#7201a8"
            ],
            [
             0.3333333333333333,
             "#9c179e"
            ],
            [
             0.4444444444444444,
             "#bd3786"
            ],
            [
             0.5555555555555556,
             "#d8576b"
            ],
            [
             0.6666666666666666,
             "#ed7953"
            ],
            [
             0.7777777777777778,
             "#fb9f3a"
            ],
            [
             0.8888888888888888,
             "#fdca26"
            ],
            [
             1,
             "#f0f921"
            ]
           ],
           "sequentialminus": [
            [
             0,
             "#0d0887"
            ],
            [
             0.1111111111111111,
             "#46039f"
            ],
            [
             0.2222222222222222,
             "#7201a8"
            ],
            [
             0.3333333333333333,
             "#9c179e"
            ],
            [
             0.4444444444444444,
             "#bd3786"
            ],
            [
             0.5555555555555556,
             "#d8576b"
            ],
            [
             0.6666666666666666,
             "#ed7953"
            ],
            [
             0.7777777777777778,
             "#fb9f3a"
            ],
            [
             0.8888888888888888,
             "#fdca26"
            ],
            [
             1,
             "#f0f921"
            ]
           ]
          },
          "colorway": [
           "#636efa",
           "#EF553B",
           "#00cc96",
           "#ab63fa",
           "#FFA15A",
           "#19d3f3",
           "#FF6692",
           "#B6E880",
           "#FF97FF",
           "#FECB52"
          ],
          "font": {
           "color": "#2a3f5f"
          },
          "geo": {
           "bgcolor": "white",
           "lakecolor": "white",
           "landcolor": "#E5ECF6",
           "showlakes": true,
           "showland": true,
           "subunitcolor": "white"
          },
          "hoverlabel": {
           "align": "left"
          },
          "hovermode": "closest",
          "mapbox": {
           "style": "light"
          },
          "paper_bgcolor": "white",
          "plot_bgcolor": "#E5ECF6",
          "polar": {
           "angularaxis": {
            "gridcolor": "white",
            "linecolor": "white",
            "ticks": ""
           },
           "bgcolor": "#E5ECF6",
           "radialaxis": {
            "gridcolor": "white",
            "linecolor": "white",
            "ticks": ""
           }
          },
          "scene": {
           "xaxis": {
            "backgroundcolor": "#E5ECF6",
            "gridcolor": "white",
            "gridwidth": 2,
            "linecolor": "white",
            "showbackground": true,
            "ticks": "",
            "zerolinecolor": "white"
           },
           "yaxis": {
            "backgroundcolor": "#E5ECF6",
            "gridcolor": "white",
            "gridwidth": 2,
            "linecolor": "white",
            "showbackground": true,
            "ticks": "",
            "zerolinecolor": "white"
           },
           "zaxis": {
            "backgroundcolor": "#E5ECF6",
            "gridcolor": "white",
            "gridwidth": 2,
            "linecolor": "white",
            "showbackground": true,
            "ticks": "",
            "zerolinecolor": "white"
           }
          },
          "shapedefaults": {
           "line": {
            "color": "#2a3f5f"
           }
          },
          "ternary": {
           "aaxis": {
            "gridcolor": "white",
            "linecolor": "white",
            "ticks": ""
           },
           "baxis": {
            "gridcolor": "white",
            "linecolor": "white",
            "ticks": ""
           },
           "bgcolor": "#E5ECF6",
           "caxis": {
            "gridcolor": "white",
            "linecolor": "white",
            "ticks": ""
           }
          },
          "title": {
           "x": 0.05
          },
          "xaxis": {
           "automargin": true,
           "gridcolor": "white",
           "linecolor": "white",
           "ticks": "",
           "title": {
            "standoff": 15
           },
           "zerolinecolor": "white",
           "zerolinewidth": 2
          },
          "yaxis": {
           "automargin": true,
           "gridcolor": "white",
           "linecolor": "white",
           "ticks": "",
           "title": {
            "standoff": 15
           },
           "zerolinecolor": "white",
           "zerolinewidth": 2
          }
         }
        },
        "title": {
         "text": "Function Value over Iterations with Constraints"
        },
        "xaxis": {
         "title": {
          "text": "Iteration"
         }
        },
        "yaxis": {
         "title": {
          "text": "Function Value"
         }
        }
       }
      }
     },
     "metadata": {},
     "output_type": "display_data"
    }
   ],
   "source": [
    "filename = search_log_files(LOG_DIR, [\"2024-08-27\"])[5]\n",
    "print(filename)\n",
    "print()\n",
    "\n",
    "log_file_path = os.path.join(LOG_DIR, filename)\n",
    "df_merged, settings = parse_and_prepare_data(log_file_path)\n",
    "\n",
    "print(\"実験設定\")\n",
    "display(settings)\n",
    "print()\n",
    "display(df_merged)\n",
    "\n",
    "plot_function_values(df_merged)"
   ]
  },
  {
   "cell_type": "code",
   "execution_count": null,
   "metadata": {},
   "outputs": [],
   "source": []
  },
  {
   "cell_type": "markdown",
   "metadata": {},
   "source": [
    "#### clipping=False\n",
    "\n",
    "- 制約なし"
   ]
  },
  {
   "cell_type": "code",
   "execution_count": 96,
   "metadata": {},
   "outputs": [
    {
     "name": "stdout",
     "output_type": "stream",
     "text": [
      "2024-08-27_21-15-16_Simple_5d_unconstrained_normalized-input.log\n",
      "\n",
      "実験設定\n"
     ]
    },
    {
     "data": {
      "text/plain": [
       "{'name': 'Simple_5d_unconstrained_normalized-input',\n",
       " 'device': 'cpu',\n",
       " 'bo_iter': 1000,\n",
       " 'initial_data_size': 10,\n",
       " 'model': {'hidden_unit_size': 64, 'num_hidden_layers': 3},\n",
       " 'model_optim': {'num_epochs': 1000, 'learning_rate': 0.01},\n",
       " 'acquisition_optim': {'beta': 0.1, 'num_restarts': 5, 'raw_samples': 20},\n",
       " 'memo': 'try input-normalization for numarical stability; unconstrained (for comparison)'}"
      ]
     },
     "metadata": {},
     "output_type": "display_data"
    },
    {
     "name": "stdout",
     "output_type": "stream",
     "text": [
      "\n"
     ]
    },
    {
     "data": {
      "text/html": [
       "<div>\n",
       "<style scoped>\n",
       "    .dataframe tbody tr th:only-of-type {\n",
       "        vertical-align: middle;\n",
       "    }\n",
       "\n",
       "    .dataframe tbody tr th {\n",
       "        vertical-align: top;\n",
       "    }\n",
       "\n",
       "    .dataframe thead th {\n",
       "        text-align: right;\n",
       "    }\n",
       "</style>\n",
       "<table border=\"1\" class=\"dataframe\">\n",
       "  <thead>\n",
       "    <tr style=\"text-align: right;\">\n",
       "      <th></th>\n",
       "      <th>iteration</th>\n",
       "      <th>iteration_time</th>\n",
       "      <th>candidate</th>\n",
       "      <th>function_value</th>\n",
       "      <th>best_f</th>\n",
       "      <th>acquisition_value</th>\n",
       "      <th>surrogate_mean</th>\n",
       "      <th>surrogate_covariance</th>\n",
       "      <th>final_training_loss</th>\n",
       "      <th>constraint</th>\n",
       "      <th>best_f_constrained</th>\n",
       "    </tr>\n",
       "  </thead>\n",
       "  <tbody>\n",
       "    <tr>\n",
       "      <th>0</th>\n",
       "      <td>0</td>\n",
       "      <td>NaN</td>\n",
       "      <td>[[-3.0, -5.0, -1.0, -1.0, -4.0]]</td>\n",
       "      <td>-52.0</td>\n",
       "      <td>-52.0</td>\n",
       "      <td>NaN</td>\n",
       "      <td>NaN</td>\n",
       "      <td>NaN</td>\n",
       "      <td>66.925369</td>\n",
       "      <td>False</td>\n",
       "      <td>NaN</td>\n",
       "    </tr>\n",
       "    <tr>\n",
       "      <th>1</th>\n",
       "      <td>0</td>\n",
       "      <td>NaN</td>\n",
       "      <td>[[-5.0, 9.0, -1.0, -5.0, 0.0]]</td>\n",
       "      <td>-132.0</td>\n",
       "      <td>-52.0</td>\n",
       "      <td>NaN</td>\n",
       "      <td>NaN</td>\n",
       "      <td>NaN</td>\n",
       "      <td>66.925369</td>\n",
       "      <td>False</td>\n",
       "      <td>NaN</td>\n",
       "    </tr>\n",
       "    <tr>\n",
       "      <th>2</th>\n",
       "      <td>0</td>\n",
       "      <td>NaN</td>\n",
       "      <td>[[9.0, 1.0, 7.0, 0.0, 8.0]]</td>\n",
       "      <td>-195.0</td>\n",
       "      <td>-52.0</td>\n",
       "      <td>NaN</td>\n",
       "      <td>NaN</td>\n",
       "      <td>NaN</td>\n",
       "      <td>66.925369</td>\n",
       "      <td>False</td>\n",
       "      <td>NaN</td>\n",
       "    </tr>\n",
       "    <tr>\n",
       "      <th>3</th>\n",
       "      <td>0</td>\n",
       "      <td>NaN</td>\n",
       "      <td>[[1.0, 2.0, -10.0, 9.0, -7.0]]</td>\n",
       "      <td>-235.0</td>\n",
       "      <td>-52.0</td>\n",
       "      <td>NaN</td>\n",
       "      <td>NaN</td>\n",
       "      <td>NaN</td>\n",
       "      <td>66.925369</td>\n",
       "      <td>False</td>\n",
       "      <td>NaN</td>\n",
       "    </tr>\n",
       "    <tr>\n",
       "      <th>4</th>\n",
       "      <td>0</td>\n",
       "      <td>NaN</td>\n",
       "      <td>[[10.0, -10.0, -2.0, -2.0, 8.0]]</td>\n",
       "      <td>-272.0</td>\n",
       "      <td>-52.0</td>\n",
       "      <td>NaN</td>\n",
       "      <td>NaN</td>\n",
       "      <td>NaN</td>\n",
       "      <td>66.925369</td>\n",
       "      <td>False</td>\n",
       "      <td>NaN</td>\n",
       "    </tr>\n",
       "    <tr>\n",
       "      <th>...</th>\n",
       "      <td>...</td>\n",
       "      <td>...</td>\n",
       "      <td>...</td>\n",
       "      <td>...</td>\n",
       "      <td>...</td>\n",
       "      <td>...</td>\n",
       "      <td>...</td>\n",
       "      <td>...</td>\n",
       "      <td>...</td>\n",
       "      <td>...</td>\n",
       "      <td>...</td>\n",
       "    </tr>\n",
       "    <tr>\n",
       "      <th>101</th>\n",
       "      <td>102</td>\n",
       "      <td>224.1740</td>\n",
       "      <td>[[10.0, 10.0, -10.0, -10.0, 10.0]]</td>\n",
       "      <td>-500.0</td>\n",
       "      <td>-52.0</td>\n",
       "      <td>-364.433990</td>\n",
       "      <td>-439.929504</td>\n",
       "      <td>12884.234375</td>\n",
       "      <td>756.715271</td>\n",
       "      <td>True</td>\n",
       "      <td>-374.0</td>\n",
       "    </tr>\n",
       "    <tr>\n",
       "      <th>102</th>\n",
       "      <td>103</td>\n",
       "      <td>226.0736</td>\n",
       "      <td>[[10.0, -10.0, -6.0, -8.0, 10.0]]</td>\n",
       "      <td>-400.0</td>\n",
       "      <td>-52.0</td>\n",
       "      <td>-422.305664</td>\n",
       "      <td>-399.267303</td>\n",
       "      <td>15795.138672</td>\n",
       "      <td>864.287170</td>\n",
       "      <td>False</td>\n",
       "      <td>-374.0</td>\n",
       "    </tr>\n",
       "    <tr>\n",
       "      <th>103</th>\n",
       "      <td>104</td>\n",
       "      <td>228.3956</td>\n",
       "      <td>[[10.0, 10.0, -10.0, 10.0, 10.0]]</td>\n",
       "      <td>-500.0</td>\n",
       "      <td>-52.0</td>\n",
       "      <td>-432.625366</td>\n",
       "      <td>-603.375183</td>\n",
       "      <td>23382.005859</td>\n",
       "      <td>687.176697</td>\n",
       "      <td>True</td>\n",
       "      <td>-374.0</td>\n",
       "    </tr>\n",
       "    <tr>\n",
       "      <th>104</th>\n",
       "      <td>105</td>\n",
       "      <td>230.2482</td>\n",
       "      <td>[[10.0, -6.0, -2.0, -10.0, 5.0]]</td>\n",
       "      <td>-265.0</td>\n",
       "      <td>-52.0</td>\n",
       "      <td>-484.933075</td>\n",
       "      <td>-355.907837</td>\n",
       "      <td>11015.642578</td>\n",
       "      <td>721.347656</td>\n",
       "      <td>False</td>\n",
       "      <td>-374.0</td>\n",
       "    </tr>\n",
       "    <tr>\n",
       "      <th>105</th>\n",
       "      <td>106</td>\n",
       "      <td>NaN</td>\n",
       "      <td>[[10.0, 10.0, -10.0, -4.0, 10.0]]</td>\n",
       "      <td>-416.0</td>\n",
       "      <td>-52.0</td>\n",
       "      <td>-276.817261</td>\n",
       "      <td>-365.518768</td>\n",
       "      <td>13165.116211</td>\n",
       "      <td>NaN</td>\n",
       "      <td>True</td>\n",
       "      <td>-374.0</td>\n",
       "    </tr>\n",
       "  </tbody>\n",
       "</table>\n",
       "<p>116 rows × 11 columns</p>\n",
       "</div>"
      ],
      "text/plain": [
       "     iteration  iteration_time                           candidate  \\\n",
       "0            0             NaN    [[-3.0, -5.0, -1.0, -1.0, -4.0]]   \n",
       "1            0             NaN      [[-5.0, 9.0, -1.0, -5.0, 0.0]]   \n",
       "2            0             NaN         [[9.0, 1.0, 7.0, 0.0, 8.0]]   \n",
       "3            0             NaN      [[1.0, 2.0, -10.0, 9.0, -7.0]]   \n",
       "4            0             NaN    [[10.0, -10.0, -2.0, -2.0, 8.0]]   \n",
       "..         ...             ...                                 ...   \n",
       "101        102        224.1740  [[10.0, 10.0, -10.0, -10.0, 10.0]]   \n",
       "102        103        226.0736   [[10.0, -10.0, -6.0, -8.0, 10.0]]   \n",
       "103        104        228.3956   [[10.0, 10.0, -10.0, 10.0, 10.0]]   \n",
       "104        105        230.2482    [[10.0, -6.0, -2.0, -10.0, 5.0]]   \n",
       "105        106             NaN   [[10.0, 10.0, -10.0, -4.0, 10.0]]   \n",
       "\n",
       "     function_value  best_f  acquisition_value  surrogate_mean  \\\n",
       "0             -52.0   -52.0                NaN             NaN   \n",
       "1            -132.0   -52.0                NaN             NaN   \n",
       "2            -195.0   -52.0                NaN             NaN   \n",
       "3            -235.0   -52.0                NaN             NaN   \n",
       "4            -272.0   -52.0                NaN             NaN   \n",
       "..              ...     ...                ...             ...   \n",
       "101          -500.0   -52.0        -364.433990     -439.929504   \n",
       "102          -400.0   -52.0        -422.305664     -399.267303   \n",
       "103          -500.0   -52.0        -432.625366     -603.375183   \n",
       "104          -265.0   -52.0        -484.933075     -355.907837   \n",
       "105          -416.0   -52.0        -276.817261     -365.518768   \n",
       "\n",
       "     surrogate_covariance  final_training_loss  constraint  best_f_constrained  \n",
       "0                     NaN            66.925369       False                 NaN  \n",
       "1                     NaN            66.925369       False                 NaN  \n",
       "2                     NaN            66.925369       False                 NaN  \n",
       "3                     NaN            66.925369       False                 NaN  \n",
       "4                     NaN            66.925369       False                 NaN  \n",
       "..                    ...                  ...         ...                 ...  \n",
       "101          12884.234375           756.715271        True              -374.0  \n",
       "102          15795.138672           864.287170       False              -374.0  \n",
       "103          23382.005859           687.176697        True              -374.0  \n",
       "104          11015.642578           721.347656       False              -374.0  \n",
       "105          13165.116211                  NaN        True              -374.0  \n",
       "\n",
       "[116 rows x 11 columns]"
      ]
     },
     "metadata": {},
     "output_type": "display_data"
    },
    {
     "data": {
      "application/vnd.plotly.v1+json": {
       "config": {
        "plotlyServerURL": "https://plot.ly"
       },
       "data": [
        {
         "marker": {
          "color": [
           "blue",
           "blue",
           "blue",
           "blue",
           "blue",
           "blue",
           "blue",
           "blue",
           "blue",
           "blue",
           "blue",
           "orange",
           "blue",
           "orange",
           "orange",
           "orange",
           "blue",
           "orange",
           "orange",
           "orange",
           "orange",
           "orange",
           "blue",
           "orange",
           "orange",
           "orange",
           "orange",
           "orange",
           "orange",
           "orange",
           "orange",
           "orange",
           "orange",
           "orange",
           "blue",
           "blue",
           "blue",
           "orange",
           "orange",
           "orange",
           "blue",
           "orange",
           "orange",
           "orange",
           "orange",
           "orange",
           "orange",
           "orange",
           "blue",
           "blue",
           "orange",
           "orange",
           "orange",
           "blue",
           "blue",
           "blue",
           "orange",
           "blue",
           "blue",
           "blue",
           "blue",
           "blue",
           "orange",
           "blue",
           "blue",
           "orange",
           "blue",
           "blue",
           "blue",
           "orange",
           "blue",
           "orange",
           "blue",
           "orange",
           "blue",
           "blue",
           "blue",
           "blue",
           "blue",
           "blue",
           "blue",
           "blue",
           "blue",
           "orange",
           "blue",
           "blue",
           "orange",
           "blue",
           "orange",
           "blue",
           "blue",
           "blue",
           "blue",
           "orange",
           "blue",
           "blue",
           "blue",
           "blue",
           "blue",
           "orange",
           "blue",
           "orange",
           "blue",
           "blue",
           "blue",
           "orange",
           "blue",
           "blue",
           "blue",
           "blue",
           "blue",
           "orange",
           "blue",
           "orange",
           "blue",
           "orange"
          ]
         },
         "mode": "markers",
         "name": "Function Value",
         "type": "scatter",
         "x": [
          0,
          0,
          0,
          0,
          0,
          0,
          0,
          0,
          0,
          0,
          1,
          2,
          3,
          4,
          5,
          6,
          7,
          8,
          9,
          10,
          11,
          12,
          13,
          14,
          15,
          16,
          17,
          18,
          19,
          20,
          21,
          22,
          23,
          24,
          25,
          26,
          27,
          28,
          29,
          30,
          31,
          32,
          33,
          34,
          35,
          36,
          37,
          38,
          39,
          40,
          41,
          42,
          43,
          44,
          45,
          46,
          47,
          48,
          49,
          50,
          51,
          52,
          53,
          54,
          55,
          56,
          57,
          58,
          59,
          60,
          61,
          62,
          63,
          64,
          65,
          66,
          67,
          68,
          69,
          70,
          71,
          72,
          73,
          74,
          75,
          76,
          77,
          78,
          79,
          80,
          81,
          82,
          83,
          84,
          85,
          86,
          87,
          88,
          89,
          90,
          91,
          92,
          93,
          94,
          95,
          96,
          97,
          98,
          99,
          100,
          101,
          102,
          103,
          104,
          105,
          106
         ],
         "y": [
          -52,
          -132,
          -195,
          -235,
          -272,
          -125,
          -235,
          -160,
          -121,
          -142,
          -500,
          -404,
          -430,
          -500,
          -500,
          -500,
          -500,
          -481,
          -500,
          -500,
          -500,
          -409,
          -385,
          -449,
          -481,
          -500,
          -464,
          -500,
          -481,
          -500,
          -500,
          -500,
          -500,
          -500,
          -464,
          -409,
          -404,
          -374,
          -400,
          -500,
          -401,
          -500,
          -500,
          -385,
          -500,
          -409,
          -500,
          -500,
          -436,
          -400,
          -500,
          -500,
          -464,
          -409,
          -500,
          -341,
          -500,
          -464,
          -500,
          -500,
          -385,
          -500,
          -500,
          -500,
          -320,
          -500,
          -449,
          -350,
          -416,
          -500,
          -500,
          -500,
          -373,
          -500,
          -464,
          -500,
          -313,
          -425,
          -326,
          -464,
          -500,
          -390,
          -425,
          -500,
          -500,
          -500,
          -500,
          -500,
          -500,
          -409,
          -416,
          -500,
          -417,
          -425,
          -400,
          -253,
          -445,
          -500,
          -481,
          -385,
          -481,
          -464,
          -243,
          -374,
          -416,
          -500,
          -500,
          -464,
          -400,
          -400,
          -500,
          -500,
          -400,
          -500,
          -265,
          -416
         ]
        },
        {
         "line": {
          "color": "red"
         },
         "mode": "lines",
         "name": "Best f",
         "type": "scatter",
         "x": [
          0,
          0,
          0,
          0,
          0,
          0,
          0,
          0,
          0,
          0,
          1,
          2,
          3,
          4,
          5,
          6,
          7,
          8,
          9,
          10,
          11,
          12,
          13,
          14,
          15,
          16,
          17,
          18,
          19,
          20,
          21,
          22,
          23,
          24,
          25,
          26,
          27,
          28,
          29,
          30,
          31,
          32,
          33,
          34,
          35,
          36,
          37,
          38,
          39,
          40,
          41,
          42,
          43,
          44,
          45,
          46,
          47,
          48,
          49,
          50,
          51,
          52,
          53,
          54,
          55,
          56,
          57,
          58,
          59,
          60,
          61,
          62,
          63,
          64,
          65,
          66,
          67,
          68,
          69,
          70,
          71,
          72,
          73,
          74,
          75,
          76,
          77,
          78,
          79,
          80,
          81,
          82,
          83,
          84,
          85,
          86,
          87,
          88,
          89,
          90,
          91,
          92,
          93,
          94,
          95,
          96,
          97,
          98,
          99,
          100,
          101,
          102,
          103,
          104,
          105,
          106
         ],
         "y": [
          -52,
          -52,
          -52,
          -52,
          -52,
          -52,
          -52,
          -52,
          -52,
          -52,
          -52,
          -52,
          -52,
          -52,
          -52,
          -52,
          -52,
          -52,
          -52,
          -52,
          -52,
          -52,
          -52,
          -52,
          -52,
          -52,
          -52,
          -52,
          -52,
          -52,
          -52,
          -52,
          -52,
          -52,
          -52,
          -52,
          -52,
          -52,
          -52,
          -52,
          -52,
          -52,
          -52,
          -52,
          -52,
          -52,
          -52,
          -52,
          -52,
          -52,
          -52,
          -52,
          -52,
          -52,
          -52,
          -52,
          -52,
          -52,
          -52,
          -52,
          -52,
          -52,
          -52,
          -52,
          -52,
          -52,
          -52,
          -52,
          -52,
          -52,
          -52,
          -52,
          -52,
          -52,
          -52,
          -52,
          -52,
          -52,
          -52,
          -52,
          -52,
          -52,
          -52,
          -52,
          -52,
          -52,
          -52,
          -52,
          -52,
          -52,
          -52,
          -52,
          -52,
          -52,
          -52,
          -52,
          -52,
          -52,
          -52,
          -52,
          -52,
          -52,
          -52,
          -52,
          -52,
          -52,
          -52,
          -52,
          -52,
          -52,
          -52,
          -52,
          -52,
          -52,
          -52,
          -52
         ]
        },
        {
         "line": {
          "color": "green"
         },
         "mode": "lines",
         "name": "Best f under constraint",
         "type": "scatter",
         "x": [
          0,
          0,
          0,
          0,
          0,
          0,
          0,
          0,
          0,
          0,
          1,
          2,
          3,
          4,
          5,
          6,
          7,
          8,
          9,
          10,
          11,
          12,
          13,
          14,
          15,
          16,
          17,
          18,
          19,
          20,
          21,
          22,
          23,
          24,
          25,
          26,
          27,
          28,
          29,
          30,
          31,
          32,
          33,
          34,
          35,
          36,
          37,
          38,
          39,
          40,
          41,
          42,
          43,
          44,
          45,
          46,
          47,
          48,
          49,
          50,
          51,
          52,
          53,
          54,
          55,
          56,
          57,
          58,
          59,
          60,
          61,
          62,
          63,
          64,
          65,
          66,
          67,
          68,
          69,
          70,
          71,
          72,
          73,
          74,
          75,
          76,
          77,
          78,
          79,
          80,
          81,
          82,
          83,
          84,
          85,
          86,
          87,
          88,
          89,
          90,
          91,
          92,
          93,
          94,
          95,
          96,
          97,
          98,
          99,
          100,
          101,
          102,
          103,
          104,
          105,
          106
         ],
         "y": [
          null,
          null,
          null,
          null,
          null,
          null,
          null,
          null,
          null,
          null,
          null,
          -404,
          -404,
          -404,
          -404,
          -404,
          -404,
          -404,
          -404,
          -404,
          -404,
          -404,
          -404,
          -404,
          -404,
          -404,
          -404,
          -404,
          -404,
          -404,
          -404,
          -404,
          -404,
          -404,
          -404,
          -404,
          -404,
          -374,
          -374,
          -374,
          -374,
          -374,
          -374,
          -374,
          -374,
          -374,
          -374,
          -374,
          -374,
          -374,
          -374,
          -374,
          -374,
          -374,
          -374,
          -374,
          -374,
          -374,
          -374,
          -374,
          -374,
          -374,
          -374,
          -374,
          -374,
          -374,
          -374,
          -374,
          -374,
          -374,
          -374,
          -374,
          -374,
          -374,
          -374,
          -374,
          -374,
          -374,
          -374,
          -374,
          -374,
          -374,
          -374,
          -374,
          -374,
          -374,
          -374,
          -374,
          -374,
          -374,
          -374,
          -374,
          -374,
          -374,
          -374,
          -374,
          -374,
          -374,
          -374,
          -374,
          -374,
          -374,
          -374,
          -374,
          -374,
          -374,
          -374,
          -374,
          -374,
          -374,
          -374,
          -374,
          -374,
          -374,
          -374,
          -374
         ]
        }
       ],
       "layout": {
        "showlegend": true,
        "template": {
         "data": {
          "bar": [
           {
            "error_x": {
             "color": "#2a3f5f"
            },
            "error_y": {
             "color": "#2a3f5f"
            },
            "marker": {
             "line": {
              "color": "#E5ECF6",
              "width": 0.5
             },
             "pattern": {
              "fillmode": "overlay",
              "size": 10,
              "solidity": 0.2
             }
            },
            "type": "bar"
           }
          ],
          "barpolar": [
           {
            "marker": {
             "line": {
              "color": "#E5ECF6",
              "width": 0.5
             },
             "pattern": {
              "fillmode": "overlay",
              "size": 10,
              "solidity": 0.2
             }
            },
            "type": "barpolar"
           }
          ],
          "carpet": [
           {
            "aaxis": {
             "endlinecolor": "#2a3f5f",
             "gridcolor": "white",
             "linecolor": "white",
             "minorgridcolor": "white",
             "startlinecolor": "#2a3f5f"
            },
            "baxis": {
             "endlinecolor": "#2a3f5f",
             "gridcolor": "white",
             "linecolor": "white",
             "minorgridcolor": "white",
             "startlinecolor": "#2a3f5f"
            },
            "type": "carpet"
           }
          ],
          "choropleth": [
           {
            "colorbar": {
             "outlinewidth": 0,
             "ticks": ""
            },
            "type": "choropleth"
           }
          ],
          "contour": [
           {
            "colorbar": {
             "outlinewidth": 0,
             "ticks": ""
            },
            "colorscale": [
             [
              0,
              "#0d0887"
             ],
             [
              0.1111111111111111,
              "#46039f"
             ],
             [
              0.2222222222222222,
              "#7201a8"
             ],
             [
              0.3333333333333333,
              "#9c179e"
             ],
             [
              0.4444444444444444,
              "#bd3786"
             ],
             [
              0.5555555555555556,
              "#d8576b"
             ],
             [
              0.6666666666666666,
              "#ed7953"
             ],
             [
              0.7777777777777778,
              "#fb9f3a"
             ],
             [
              0.8888888888888888,
              "#fdca26"
             ],
             [
              1,
              "#f0f921"
             ]
            ],
            "type": "contour"
           }
          ],
          "contourcarpet": [
           {
            "colorbar": {
             "outlinewidth": 0,
             "ticks": ""
            },
            "type": "contourcarpet"
           }
          ],
          "heatmap": [
           {
            "colorbar": {
             "outlinewidth": 0,
             "ticks": ""
            },
            "colorscale": [
             [
              0,
              "#0d0887"
             ],
             [
              0.1111111111111111,
              "#46039f"
             ],
             [
              0.2222222222222222,
              "#7201a8"
             ],
             [
              0.3333333333333333,
              "#9c179e"
             ],
             [
              0.4444444444444444,
              "#bd3786"
             ],
             [
              0.5555555555555556,
              "#d8576b"
             ],
             [
              0.6666666666666666,
              "#ed7953"
             ],
             [
              0.7777777777777778,
              "#fb9f3a"
             ],
             [
              0.8888888888888888,
              "#fdca26"
             ],
             [
              1,
              "#f0f921"
             ]
            ],
            "type": "heatmap"
           }
          ],
          "heatmapgl": [
           {
            "colorbar": {
             "outlinewidth": 0,
             "ticks": ""
            },
            "colorscale": [
             [
              0,
              "#0d0887"
             ],
             [
              0.1111111111111111,
              "#46039f"
             ],
             [
              0.2222222222222222,
              "#7201a8"
             ],
             [
              0.3333333333333333,
              "#9c179e"
             ],
             [
              0.4444444444444444,
              "#bd3786"
             ],
             [
              0.5555555555555556,
              "#d8576b"
             ],
             [
              0.6666666666666666,
              "#ed7953"
             ],
             [
              0.7777777777777778,
              "#fb9f3a"
             ],
             [
              0.8888888888888888,
              "#fdca26"
             ],
             [
              1,
              "#f0f921"
             ]
            ],
            "type": "heatmapgl"
           }
          ],
          "histogram": [
           {
            "marker": {
             "pattern": {
              "fillmode": "overlay",
              "size": 10,
              "solidity": 0.2
             }
            },
            "type": "histogram"
           }
          ],
          "histogram2d": [
           {
            "colorbar": {
             "outlinewidth": 0,
             "ticks": ""
            },
            "colorscale": [
             [
              0,
              "#0d0887"
             ],
             [
              0.1111111111111111,
              "#46039f"
             ],
             [
              0.2222222222222222,
              "#7201a8"
             ],
             [
              0.3333333333333333,
              "#9c179e"
             ],
             [
              0.4444444444444444,
              "#bd3786"
             ],
             [
              0.5555555555555556,
              "#d8576b"
             ],
             [
              0.6666666666666666,
              "#ed7953"
             ],
             [
              0.7777777777777778,
              "#fb9f3a"
             ],
             [
              0.8888888888888888,
              "#fdca26"
             ],
             [
              1,
              "#f0f921"
             ]
            ],
            "type": "histogram2d"
           }
          ],
          "histogram2dcontour": [
           {
            "colorbar": {
             "outlinewidth": 0,
             "ticks": ""
            },
            "colorscale": [
             [
              0,
              "#0d0887"
             ],
             [
              0.1111111111111111,
              "#46039f"
             ],
             [
              0.2222222222222222,
              "#7201a8"
             ],
             [
              0.3333333333333333,
              "#9c179e"
             ],
             [
              0.4444444444444444,
              "#bd3786"
             ],
             [
              0.5555555555555556,
              "#d8576b"
             ],
             [
              0.6666666666666666,
              "#ed7953"
             ],
             [
              0.7777777777777778,
              "#fb9f3a"
             ],
             [
              0.8888888888888888,
              "#fdca26"
             ],
             [
              1,
              "#f0f921"
             ]
            ],
            "type": "histogram2dcontour"
           }
          ],
          "mesh3d": [
           {
            "colorbar": {
             "outlinewidth": 0,
             "ticks": ""
            },
            "type": "mesh3d"
           }
          ],
          "parcoords": [
           {
            "line": {
             "colorbar": {
              "outlinewidth": 0,
              "ticks": ""
             }
            },
            "type": "parcoords"
           }
          ],
          "pie": [
           {
            "automargin": true,
            "type": "pie"
           }
          ],
          "scatter": [
           {
            "fillpattern": {
             "fillmode": "overlay",
             "size": 10,
             "solidity": 0.2
            },
            "type": "scatter"
           }
          ],
          "scatter3d": [
           {
            "line": {
             "colorbar": {
              "outlinewidth": 0,
              "ticks": ""
             }
            },
            "marker": {
             "colorbar": {
              "outlinewidth": 0,
              "ticks": ""
             }
            },
            "type": "scatter3d"
           }
          ],
          "scattercarpet": [
           {
            "marker": {
             "colorbar": {
              "outlinewidth": 0,
              "ticks": ""
             }
            },
            "type": "scattercarpet"
           }
          ],
          "scattergeo": [
           {
            "marker": {
             "colorbar": {
              "outlinewidth": 0,
              "ticks": ""
             }
            },
            "type": "scattergeo"
           }
          ],
          "scattergl": [
           {
            "marker": {
             "colorbar": {
              "outlinewidth": 0,
              "ticks": ""
             }
            },
            "type": "scattergl"
           }
          ],
          "scattermapbox": [
           {
            "marker": {
             "colorbar": {
              "outlinewidth": 0,
              "ticks": ""
             }
            },
            "type": "scattermapbox"
           }
          ],
          "scatterpolar": [
           {
            "marker": {
             "colorbar": {
              "outlinewidth": 0,
              "ticks": ""
             }
            },
            "type": "scatterpolar"
           }
          ],
          "scatterpolargl": [
           {
            "marker": {
             "colorbar": {
              "outlinewidth": 0,
              "ticks": ""
             }
            },
            "type": "scatterpolargl"
           }
          ],
          "scatterternary": [
           {
            "marker": {
             "colorbar": {
              "outlinewidth": 0,
              "ticks": ""
             }
            },
            "type": "scatterternary"
           }
          ],
          "surface": [
           {
            "colorbar": {
             "outlinewidth": 0,
             "ticks": ""
            },
            "colorscale": [
             [
              0,
              "#0d0887"
             ],
             [
              0.1111111111111111,
              "#46039f"
             ],
             [
              0.2222222222222222,
              "#7201a8"
             ],
             [
              0.3333333333333333,
              "#9c179e"
             ],
             [
              0.4444444444444444,
              "#bd3786"
             ],
             [
              0.5555555555555556,
              "#d8576b"
             ],
             [
              0.6666666666666666,
              "#ed7953"
             ],
             [
              0.7777777777777778,
              "#fb9f3a"
             ],
             [
              0.8888888888888888,
              "#fdca26"
             ],
             [
              1,
              "#f0f921"
             ]
            ],
            "type": "surface"
           }
          ],
          "table": [
           {
            "cells": {
             "fill": {
              "color": "#EBF0F8"
             },
             "line": {
              "color": "white"
             }
            },
            "header": {
             "fill": {
              "color": "#C8D4E3"
             },
             "line": {
              "color": "white"
             }
            },
            "type": "table"
           }
          ]
         },
         "layout": {
          "annotationdefaults": {
           "arrowcolor": "#2a3f5f",
           "arrowhead": 0,
           "arrowwidth": 1
          },
          "autotypenumbers": "strict",
          "coloraxis": {
           "colorbar": {
            "outlinewidth": 0,
            "ticks": ""
           }
          },
          "colorscale": {
           "diverging": [
            [
             0,
             "#8e0152"
            ],
            [
             0.1,
             "#c51b7d"
            ],
            [
             0.2,
             "#de77ae"
            ],
            [
             0.3,
             "#f1b6da"
            ],
            [
             0.4,
             "#fde0ef"
            ],
            [
             0.5,
             "#f7f7f7"
            ],
            [
             0.6,
             "#e6f5d0"
            ],
            [
             0.7,
             "#b8e186"
            ],
            [
             0.8,
             "#7fbc41"
            ],
            [
             0.9,
             "#4d9221"
            ],
            [
             1,
             "#276419"
            ]
           ],
           "sequential": [
            [
             0,
             "#0d0887"
            ],
            [
             0.1111111111111111,
             "#46039f"
            ],
            [
             0.2222222222222222,
             "#7201a8"
            ],
            [
             0.3333333333333333,
             "#9c179e"
            ],
            [
             0.4444444444444444,
             "#bd3786"
            ],
            [
             0.5555555555555556,
             "#d8576b"
            ],
            [
             0.6666666666666666,
             "#ed7953"
            ],
            [
             0.7777777777777778,
             "#fb9f3a"
            ],
            [
             0.8888888888888888,
             "#fdca26"
            ],
            [
             1,
             "#f0f921"
            ]
           ],
           "sequentialminus": [
            [
             0,
             "#0d0887"
            ],
            [
             0.1111111111111111,
             "#46039f"
            ],
            [
             0.2222222222222222,
             "#7201a8"
            ],
            [
             0.3333333333333333,
             "#9c179e"
            ],
            [
             0.4444444444444444,
             "#bd3786"
            ],
            [
             0.5555555555555556,
             "#d8576b"
            ],
            [
             0.6666666666666666,
             "#ed7953"
            ],
            [
             0.7777777777777778,
             "#fb9f3a"
            ],
            [
             0.8888888888888888,
             "#fdca26"
            ],
            [
             1,
             "#f0f921"
            ]
           ]
          },
          "colorway": [
           "#636efa",
           "#EF553B",
           "#00cc96",
           "#ab63fa",
           "#FFA15A",
           "#19d3f3",
           "#FF6692",
           "#B6E880",
           "#FF97FF",
           "#FECB52"
          ],
          "font": {
           "color": "#2a3f5f"
          },
          "geo": {
           "bgcolor": "white",
           "lakecolor": "white",
           "landcolor": "#E5ECF6",
           "showlakes": true,
           "showland": true,
           "subunitcolor": "white"
          },
          "hoverlabel": {
           "align": "left"
          },
          "hovermode": "closest",
          "mapbox": {
           "style": "light"
          },
          "paper_bgcolor": "white",
          "plot_bgcolor": "#E5ECF6",
          "polar": {
           "angularaxis": {
            "gridcolor": "white",
            "linecolor": "white",
            "ticks": ""
           },
           "bgcolor": "#E5ECF6",
           "radialaxis": {
            "gridcolor": "white",
            "linecolor": "white",
            "ticks": ""
           }
          },
          "scene": {
           "xaxis": {
            "backgroundcolor": "#E5ECF6",
            "gridcolor": "white",
            "gridwidth": 2,
            "linecolor": "white",
            "showbackground": true,
            "ticks": "",
            "zerolinecolor": "white"
           },
           "yaxis": {
            "backgroundcolor": "#E5ECF6",
            "gridcolor": "white",
            "gridwidth": 2,
            "linecolor": "white",
            "showbackground": true,
            "ticks": "",
            "zerolinecolor": "white"
           },
           "zaxis": {
            "backgroundcolor": "#E5ECF6",
            "gridcolor": "white",
            "gridwidth": 2,
            "linecolor": "white",
            "showbackground": true,
            "ticks": "",
            "zerolinecolor": "white"
           }
          },
          "shapedefaults": {
           "line": {
            "color": "#2a3f5f"
           }
          },
          "ternary": {
           "aaxis": {
            "gridcolor": "white",
            "linecolor": "white",
            "ticks": ""
           },
           "baxis": {
            "gridcolor": "white",
            "linecolor": "white",
            "ticks": ""
           },
           "bgcolor": "#E5ECF6",
           "caxis": {
            "gridcolor": "white",
            "linecolor": "white",
            "ticks": ""
           }
          },
          "title": {
           "x": 0.05
          },
          "xaxis": {
           "automargin": true,
           "gridcolor": "white",
           "linecolor": "white",
           "ticks": "",
           "title": {
            "standoff": 15
           },
           "zerolinecolor": "white",
           "zerolinewidth": 2
          },
          "yaxis": {
           "automargin": true,
           "gridcolor": "white",
           "linecolor": "white",
           "ticks": "",
           "title": {
            "standoff": 15
           },
           "zerolinecolor": "white",
           "zerolinewidth": 2
          }
         }
        },
        "title": {
         "text": "Function Value over Iterations with Constraints"
        },
        "xaxis": {
         "title": {
          "text": "Iteration"
         }
        },
        "yaxis": {
         "title": {
          "text": "Function Value"
         }
        }
       }
      }
     },
     "metadata": {},
     "output_type": "display_data"
    }
   ],
   "source": [
    "filename = search_log_files(LOG_DIR, [\"2024-08-27\"])[4]\n",
    "print(filename)\n",
    "print()\n",
    "\n",
    "log_file_path = os.path.join(LOG_DIR, filename)\n",
    "df_merged, settings = parse_and_prepare_data(log_file_path)\n",
    "\n",
    "print(\"実験設定\")\n",
    "display(settings)\n",
    "print()\n",
    "display(df_merged)\n",
    "\n",
    "plot_function_values(df_merged)"
   ]
  },
  {
   "cell_type": "code",
   "execution_count": null,
   "metadata": {},
   "outputs": [],
   "source": []
  },
  {
   "cell_type": "code",
   "execution_count": null,
   "metadata": {},
   "outputs": [],
   "source": []
  },
  {
   "cell_type": "code",
   "execution_count": null,
   "metadata": {},
   "outputs": [],
   "source": []
  }
 ],
 "metadata": {
  "kernelspec": {
   "display_name": "bo-env",
   "language": "python",
   "name": "python3"
  },
  "language_info": {
   "codemirror_mode": {
    "name": "ipython",
    "version": 3
   },
   "file_extension": ".py",
   "mimetype": "text/x-python",
   "name": "python",
   "nbconvert_exporter": "python",
   "pygments_lexer": "ipython3",
   "version": "3.12.5"
  }
 },
 "nbformat": 4,
 "nbformat_minor": 2
}

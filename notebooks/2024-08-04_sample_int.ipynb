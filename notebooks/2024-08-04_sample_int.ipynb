{
 "cells": [
  {
   "cell_type": "code",
   "execution_count": 1,
   "metadata": {},
   "outputs": [],
   "source": [
    "import torch"
   ]
  },
  {
   "cell_type": "code",
   "execution_count": 2,
   "metadata": {},
   "outputs": [
    {
     "data": {
      "text/plain": [
       "tensor([[0, 2],\n",
       "        [8, 7]])"
      ]
     },
     "execution_count": 2,
     "metadata": {},
     "output_type": "execute_result"
    }
   ],
   "source": [
    "bounds = torch.tensor([\n",
    "    [0, 2], [8, 7]\n",
    "])\n",
    "\n",
    "bounds"
   ]
  },
  {
   "cell_type": "code",
   "execution_count": 8,
   "metadata": {},
   "outputs": [
    {
     "data": {
      "text/plain": [
       "tensor([[2, 4]])"
      ]
     },
     "execution_count": 8,
     "metadata": {},
     "output_type": "execute_result"
    }
   ],
   "source": [
    "train_x = torch.randint(\n",
    "            low=int(bounds[0, 0]),\n",
    "            high=int(bounds[1, 0]),\n",
    "            size=(1, bounds.size(1)),\n",
    "        )\n",
    "\n",
    "train_x"
   ]
  },
  {
   "cell_type": "code",
   "execution_count": 12,
   "metadata": {},
   "outputs": [
    {
     "data": {
      "text/plain": [
       "tensor([8, 5])"
      ]
     },
     "execution_count": 12,
     "metadata": {},
     "output_type": "execute_result"
    }
   ],
   "source": [
    "bounds[1] - bounds[0]\n",
    "\n",
    "[\n",
    "    [\"第１変数の下限\", \"第２変数の下限\", ...], [\"第１変数の上限\", \"第２変数の上限\", ...]\n",
    "]"
   ]
  },
  {
   "cell_type": "code",
   "execution_count": 13,
   "metadata": {},
   "outputs": [
    {
     "ename": "TypeError",
     "evalue": "randint() received an invalid combination of arguments - got (device=torch.device, size=tuple, high=Tensor, low=Tensor, ), but expected one of:\n * (int high, tuple of ints size, *, torch.Generator generator, Tensor out = None, torch.dtype dtype = None, torch.layout layout = None, torch.device device = None, bool pin_memory = False, bool requires_grad = False)\n * (int high, tuple of ints size, *, Tensor out = None, torch.dtype dtype = None, torch.layout layout = None, torch.device device = None, bool pin_memory = False, bool requires_grad = False)\n * (int low, int high, tuple of ints size, *, torch.Generator generator, Tensor out = None, torch.dtype dtype = None, torch.layout layout = None, torch.device device = None, bool pin_memory = False, bool requires_grad = False)\n * (int low, int high, tuple of ints size, *, Tensor out = None, torch.dtype dtype = None, torch.layout layout = None, torch.device device = None, bool pin_memory = False, bool requires_grad = False)\n",
     "output_type": "error",
     "traceback": [
      "\u001b[0;31m---------------------------------------------------------------------------\u001b[0m",
      "\u001b[0;31mTypeError\u001b[0m                                 Traceback (most recent call last)",
      "Cell \u001b[0;32mIn[13], line 39\u001b[0m\n\u001b[1;32m     37\u001b[0m n \u001b[38;5;241m=\u001b[39m \u001b[38;5;241m10\u001b[39m\n\u001b[1;32m     38\u001b[0m device \u001b[38;5;241m=\u001b[39m torch\u001b[38;5;241m.\u001b[39mdevice(\u001b[38;5;124m\"\u001b[39m\u001b[38;5;124mcuda\u001b[39m\u001b[38;5;124m\"\u001b[39m \u001b[38;5;28;01mif\u001b[39;00m torch\u001b[38;5;241m.\u001b[39mcuda\u001b[38;5;241m.\u001b[39mis_available() \u001b[38;5;28;01melse\u001b[39;00m \u001b[38;5;124m\"\u001b[39m\u001b[38;5;124mcpu\u001b[39m\u001b[38;5;124m\"\u001b[39m)\n\u001b[0;32m---> 39\u001b[0m samples \u001b[38;5;241m=\u001b[39m \u001b[43mgenerate_integer_samples\u001b[49m\u001b[43m(\u001b[49m\u001b[43mbounds\u001b[49m\u001b[43m,\u001b[49m\u001b[43m \u001b[49m\u001b[43mn\u001b[49m\u001b[43m,\u001b[49m\u001b[43m \u001b[49m\u001b[43mdevice\u001b[49m\u001b[43m)\u001b[49m\n\u001b[1;32m     40\u001b[0m \u001b[38;5;28mprint\u001b[39m(samples)\n",
      "Cell \u001b[0;32mIn[13], line 23\u001b[0m, in \u001b[0;36mgenerate_integer_samples\u001b[0;34m(bounds, n, device)\u001b[0m\n\u001b[1;32m     20\u001b[0m samples \u001b[38;5;241m=\u001b[39m \u001b[38;5;28mset\u001b[39m()\n\u001b[1;32m     22\u001b[0m \u001b[38;5;28;01mwhile\u001b[39;00m \u001b[38;5;28mlen\u001b[39m(samples) \u001b[38;5;241m<\u001b[39m n:\n\u001b[0;32m---> 23\u001b[0m     new_samples \u001b[38;5;241m=\u001b[39m \u001b[43mtorch\u001b[49m\u001b[38;5;241;43m.\u001b[39;49m\u001b[43mrandint\u001b[49m\u001b[43m(\u001b[49m\u001b[43mlow\u001b[49m\u001b[38;5;241;43m=\u001b[39;49m\u001b[43mlower_bounds\u001b[49m\u001b[43m,\u001b[49m\u001b[43m \u001b[49m\u001b[43mhigh\u001b[49m\u001b[38;5;241;43m=\u001b[39;49m\u001b[43mupper_bounds\u001b[49m\u001b[43m,\u001b[49m\u001b[43m \u001b[49m\u001b[43msize\u001b[49m\u001b[38;5;241;43m=\u001b[39;49m\u001b[43m(\u001b[49m\u001b[43mn\u001b[49m\u001b[43m,\u001b[49m\u001b[43m \u001b[49m\u001b[43mm\u001b[49m\u001b[43m)\u001b[49m\u001b[43m,\u001b[49m\u001b[43m \u001b[49m\u001b[43mdevice\u001b[49m\u001b[38;5;241;43m=\u001b[39;49m\u001b[43mdevice\u001b[49m\u001b[43m)\u001b[49m\n\u001b[1;32m     24\u001b[0m     \u001b[38;5;28;01mfor\u001b[39;00m sample \u001b[38;5;129;01min\u001b[39;00m new_samples:\n\u001b[1;32m     25\u001b[0m         samples\u001b[38;5;241m.\u001b[39madd(\u001b[38;5;28mtuple\u001b[39m(sample\u001b[38;5;241m.\u001b[39mtolist()))  \u001b[38;5;66;03m# 重複を避けるためにタプルに変換してセットに追加\u001b[39;00m\n",
      "\u001b[0;31mTypeError\u001b[0m: randint() received an invalid combination of arguments - got (device=torch.device, size=tuple, high=Tensor, low=Tensor, ), but expected one of:\n * (int high, tuple of ints size, *, torch.Generator generator, Tensor out = None, torch.dtype dtype = None, torch.layout layout = None, torch.device device = None, bool pin_memory = False, bool requires_grad = False)\n * (int high, tuple of ints size, *, Tensor out = None, torch.dtype dtype = None, torch.layout layout = None, torch.device device = None, bool pin_memory = False, bool requires_grad = False)\n * (int low, int high, tuple of ints size, *, torch.Generator generator, Tensor out = None, torch.dtype dtype = None, torch.layout layout = None, torch.device device = None, bool pin_memory = False, bool requires_grad = False)\n * (int low, int high, tuple of ints size, *, Tensor out = None, torch.dtype dtype = None, torch.layout layout = None, torch.device device = None, bool pin_memory = False, bool requires_grad = False)\n"
     ]
    }
   ],
   "source": [
    "import torch\n",
    "\n",
    "def generate_integer_samples(bounds, n, device=torch.device(\"cpu\")):\n",
    "    \"\"\"\n",
    "    整数をランダムにサンプリングして、n 行 m 列の torch.Tensor を生成します。\n",
    "    重複のない n サンプルが得られるまでサンプリングを繰り返します。\n",
    "    \n",
    "    Parameters:\n",
    "    - bounds: list of list, 変数の下限と上限のリスト\n",
    "    - n: int, サンプル数\n",
    "    - device: torch.device, テンソルを配置するデバイス\n",
    "    \n",
    "    Returns:\n",
    "    - torch.Tensor, n 行 m 列のテンソル\n",
    "    \"\"\"\n",
    "    lower_bounds = torch.tensor(bounds[0], device=device)\n",
    "    upper_bounds = torch.tensor(bounds[1], device=device) + 1  # 上限を含むようにするため\n",
    "    \n",
    "    m = lower_bounds.shape[0]\n",
    "    samples = set()\n",
    "\n",
    "    while len(samples) < n:\n",
    "        new_samples = torch.randint(low=lower_bounds, high=upper_bounds, size=(n, m), device=device)\n",
    "        for sample in new_samples:\n",
    "            samples.add(tuple(sample.tolist()))  # 重複を避けるためにタプルに変換してセットに追加\n",
    "\n",
    "        # 必要なサンプル数に達している場合は終了\n",
    "        if len(samples) >= n:\n",
    "            break\n",
    "\n",
    "    # 最終的なサンプルをテンソルに変換\n",
    "    unique_samples = torch.tensor(list(samples)[:n], device=device)\n",
    "    return unique_samples\n",
    "\n",
    "# テスト\n",
    "bounds = [[0, 0], [4, 4]]\n",
    "n = 10\n",
    "device = torch.device(\"cuda\" if torch.cuda.is_available() else \"cpu\")\n",
    "samples = generate_integer_samples(bounds, n, device)\n",
    "print(samples)"
   ]
  },
  {
   "cell_type": "code",
   "execution_count": 15,
   "metadata": {},
   "outputs": [
    {
     "name": "stdout",
     "output_type": "stream",
     "text": [
      "tensor([[0, 2, 5, 7, 8, 8],\n",
      "        [4, 0, 5, 6, 2, 6],\n",
      "        [0, 3, 4, 4, 0, 4],\n",
      "        [1, 0, 2, 1, 2, 1],\n",
      "        [4, 1, 2, 1, 7, 5],\n",
      "        [3, 3, 6, 1, 7, 0],\n",
      "        [3, 5, 5, 2, 2, 7],\n",
      "        [1, 0, 2, 6, 7, 4],\n",
      "        [2, 0, 1, 2, 1, 9],\n",
      "        [1, 1, 5, 6, 1, 6]])\n"
     ]
    }
   ],
   "source": [
    "import torch\n",
    "\n",
    "def generate_integer_samples(bounds, n, device=torch.device(\"cpu\")):\n",
    "    \"\"\"\n",
    "    整数をランダムにサンプリングして、n 行 m 列の torch.Tensor を生成します。\n",
    "    重複のない n サンプルが得られるまでサンプリングを繰り返します。\n",
    "    \n",
    "    Parameters:\n",
    "    - bounds: list of list, 変数の下限と上限のリスト\n",
    "    - n: int, サンプル数\n",
    "    - device: torch.device, テンソルを配置するデバイス\n",
    "    \n",
    "    Returns:\n",
    "    - torch.Tensor, n 行 m 列のテンソル\n",
    "    \"\"\"\n",
    "    lower_bounds = torch.tensor(bounds[0], device=device, dtype=torch.int)\n",
    "    upper_bounds = torch.tensor(bounds[1], device=device, dtype=torch.int)\n",
    "\n",
    "    m = lower_bounds.shape[0]\n",
    "    samples = set()\n",
    "\n",
    "    while len(samples) < n:\n",
    "        new_samples = []\n",
    "        for _ in range(n):\n",
    "            sample = []\n",
    "            for i in range(m):\n",
    "                sample.append(torch.randint(low=lower_bounds[i].item(), high=upper_bounds[i].item() + 1, size=(1,), device=device).item())\n",
    "            new_samples.append(tuple(sample))\n",
    "        \n",
    "        for sample in new_samples:\n",
    "            samples.add(sample)\n",
    "\n",
    "        if len(samples) >= n:\n",
    "            break\n",
    "\n",
    "    unique_samples = torch.tensor(list(samples)[:n], device=device)\n",
    "    return unique_samples\n",
    "\n",
    "# テスト\n",
    "bounds = [[0, 0, 0, 0, 0, 0], [4, 5, 6, 7, 8, 9]]\n",
    "n = 10\n",
    "device = torch.device(\"cuda\" if torch.cuda.is_available() else \"cpu\")\n",
    "samples = generate_integer_samples(bounds, n, device)\n",
    "print(samples)"
   ]
  },
  {
   "cell_type": "code",
   "execution_count": null,
   "metadata": {},
   "outputs": [],
   "source": []
  },
  {
   "cell_type": "code",
   "execution_count": null,
   "metadata": {},
   "outputs": [],
   "source": []
  }
 ],
 "metadata": {
  "kernelspec": {
   "display_name": "bo-env",
   "language": "python",
   "name": "python3"
  },
  "language_info": {
   "codemirror_mode": {
    "name": "ipython",
    "version": 3
   },
   "file_extension": ".py",
   "mimetype": "text/x-python",
   "name": "python",
   "nbconvert_exporter": "python",
   "pygments_lexer": "ipython3",
   "version": "3.12.4"
  }
 },
 "nbformat": 4,
 "nbformat_minor": 2
}

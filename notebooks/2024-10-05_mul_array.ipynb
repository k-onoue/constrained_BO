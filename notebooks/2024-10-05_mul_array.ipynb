{
 "cells": [
  {
   "cell_type": "code",
   "execution_count": 1,
   "metadata": {},
   "outputs": [],
   "source": [
    "import numpy as np"
   ]
  },
  {
   "cell_type": "code",
   "execution_count": 4,
   "metadata": {},
   "outputs": [
    {
     "data": {
      "text/plain": [
       "array([[[0.43543598, 0.61301247, 0.12857123, 0.89949054],\n",
       "        [0.733642  , 0.85798426, 0.14226676, 0.19034511],\n",
       "        [0.30925033, 0.51889224, 0.63997377, 0.57720045]],\n",
       "\n",
       "       [[0.11080852, 0.99460498, 0.58709211, 0.3119971 ],\n",
       "        [0.10656345, 0.76043657, 0.127047  , 0.89776734],\n",
       "        [0.82576215, 0.67525306, 0.57991611, 0.07309542]],\n",
       "\n",
       "       [[0.49365748, 0.4126162 , 0.61902648, 0.61711331],\n",
       "        [0.83396343, 0.18448727, 0.81222925, 0.81270562],\n",
       "        [0.95888228, 0.82702968, 0.12848978, 0.50068777]],\n",
       "\n",
       "       [[0.59268185, 0.49984782, 0.69975781, 0.61380758],\n",
       "        [0.19084116, 0.77768403, 0.15261711, 0.05811087],\n",
       "        [0.30841159, 0.03159849, 0.5833632 , 0.78291661]],\n",
       "\n",
       "       [[0.21122743, 0.78995243, 0.71884947, 0.54017135],\n",
       "        [0.97062728, 0.23462108, 0.39001781, 0.13475372],\n",
       "        [0.06910504, 0.84113099, 0.76083285, 0.49131367]],\n",
       "\n",
       "       [[0.23180994, 0.60550923, 0.75973251, 0.75420612],\n",
       "        [0.34796749, 0.97818096, 0.07580574, 0.31635392],\n",
       "        [0.77442427, 0.76510177, 0.76118313, 0.06071786]],\n",
       "\n",
       "       [[0.51324753, 0.20693614, 0.46243459, 0.21340915],\n",
       "        [0.13731921, 0.28780779, 0.38703946, 0.17595051],\n",
       "        [0.62080245, 0.73912534, 0.44226699, 0.91153692]],\n",
       "\n",
       "       [[0.11199358, 0.3783659 , 0.93237781, 0.72058775],\n",
       "        [0.36439174, 0.74073096, 0.67870403, 0.58220126],\n",
       "        [0.04095105, 0.94780229, 0.40814832, 0.60712974]],\n",
       "\n",
       "       [[0.17102275, 0.02372497, 0.93525783, 0.20594964],\n",
       "        [0.79549736, 0.26567596, 0.00590305, 0.03732884],\n",
       "        [0.40168867, 0.70460605, 0.81640886, 0.21982474]],\n",
       "\n",
       "       [[0.04981472, 0.28151938, 0.69219685, 0.02787153],\n",
       "        [0.8137285 , 0.92963075, 0.52187126, 0.58727995],\n",
       "        [0.93576931, 0.04473106, 0.2012552 , 0.48581779]]])"
      ]
     },
     "execution_count": 4,
     "metadata": {},
     "output_type": "execute_result"
    }
   ],
   "source": [
    "temp = [np.random.rand(3, 4) for _ in range(10)]\n",
    "arr = np.stack(temp, axis=0)\n",
    "arr"
   ]
  },
  {
   "cell_type": "code",
   "execution_count": 5,
   "metadata": {},
   "outputs": [
    {
     "data": {
      "text/plain": [
       "(10, 3, 4)"
      ]
     },
     "execution_count": 5,
     "metadata": {},
     "output_type": "execute_result"
    }
   ],
   "source": [
    "arr.shape"
   ]
  },
  {
   "cell_type": "code",
   "execution_count": 7,
   "metadata": {},
   "outputs": [
    {
     "data": {
      "text/plain": [
       "array([[0.29216998, 0.48060895, 0.65352967, 0.49046041],\n",
       "       [0.52945416, 0.60172396, 0.32935015, 0.37927971],\n",
       "       [0.52450471, 0.6095271 , 0.53218382, 0.4710241 ]])"
      ]
     },
     "execution_count": 7,
     "metadata": {},
     "output_type": "execute_result"
    }
   ],
   "source": [
    "np.mean(arr, axis=0)"
   ]
  },
  {
   "cell_type": "code",
   "execution_count": null,
   "metadata": {},
   "outputs": [],
   "source": []
  },
  {
   "cell_type": "code",
   "execution_count": null,
   "metadata": {},
   "outputs": [],
   "source": []
  },
  {
   "cell_type": "code",
   "execution_count": null,
   "metadata": {},
   "outputs": [],
   "source": []
  },
  {
   "cell_type": "code",
   "execution_count": null,
   "metadata": {},
   "outputs": [],
   "source": []
  },
  {
   "cell_type": "code",
   "execution_count": null,
   "metadata": {},
   "outputs": [],
   "source": []
  },
  {
   "cell_type": "code",
   "execution_count": null,
   "metadata": {},
   "outputs": [],
   "source": []
  },
  {
   "cell_type": "code",
   "execution_count": null,
   "metadata": {},
   "outputs": [],
   "source": []
  },
  {
   "cell_type": "code",
   "execution_count": null,
   "metadata": {},
   "outputs": [],
   "source": []
  },
  {
   "cell_type": "code",
   "execution_count": null,
   "metadata": {},
   "outputs": [],
   "source": []
  },
  {
   "cell_type": "code",
   "execution_count": null,
   "metadata": {},
   "outputs": [],
   "source": []
  },
  {
   "cell_type": "code",
   "execution_count": null,
   "metadata": {},
   "outputs": [],
   "source": []
  },
  {
   "cell_type": "code",
   "execution_count": null,
   "metadata": {},
   "outputs": [],
   "source": []
  }
 ],
 "metadata": {
  "kernelspec": {
   "display_name": "bo-env",
   "language": "python",
   "name": "python3"
  },
  "language_info": {
   "codemirror_mode": {
    "name": "ipython",
    "version": 3
   },
   "file_extension": ".py",
   "mimetype": "text/x-python",
   "name": "python",
   "nbconvert_exporter": "python",
   "pygments_lexer": "ipython3",
   "version": "3.12.5"
  }
 },
 "nbformat": 4,
 "nbformat_minor": 2
}

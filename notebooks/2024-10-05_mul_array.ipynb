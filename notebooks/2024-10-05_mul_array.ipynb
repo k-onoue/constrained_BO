{
 "cells": [
  {
   "cell_type": "code",
   "execution_count": 1,
   "metadata": {},
   "outputs": [],
   "source": [
    "import numpy as np"
   ]
  },
  {
   "cell_type": "code",
   "execution_count": 4,
   "metadata": {},
   "outputs": [
    {
     "data": {
      "text/plain": [
       "array([[[0.43543598, 0.61301247, 0.12857123, 0.89949054],\n",
       "        [0.733642  , 0.85798426, 0.14226676, 0.19034511],\n",
       "        [0.30925033, 0.51889224, 0.63997377, 0.57720045]],\n",
       "\n",
       "       [[0.11080852, 0.99460498, 0.58709211, 0.3119971 ],\n",
       "        [0.10656345, 0.76043657, 0.127047  , 0.89776734],\n",
       "        [0.82576215, 0.67525306, 0.57991611, 0.07309542]],\n",
       "\n",
       "       [[0.49365748, 0.4126162 , 0.61902648, 0.61711331],\n",
       "        [0.83396343, 0.18448727, 0.81222925, 0.81270562],\n",
       "        [0.95888228, 0.82702968, 0.12848978, 0.50068777]],\n",
       "\n",
       "       [[0.59268185, 0.49984782, 0.69975781, 0.61380758],\n",
       "        [0.19084116, 0.77768403, 0.15261711, 0.05811087],\n",
       "        [0.30841159, 0.03159849, 0.5833632 , 0.78291661]],\n",
       "\n",
       "       [[0.21122743, 0.78995243, 0.71884947, 0.54017135],\n",
       "        [0.97062728, 0.23462108, 0.39001781, 0.13475372],\n",
       "        [0.06910504, 0.84113099, 0.76083285, 0.49131367]],\n",
       "\n",
       "       [[0.23180994, 0.60550923, 0.75973251, 0.75420612],\n",
       "        [0.34796749, 0.97818096, 0.07580574, 0.31635392],\n",
       "        [0.77442427, 0.76510177, 0.76118313, 0.06071786]],\n",
       "\n",
       "       [[0.51324753, 0.20693614, 0.46243459, 0.21340915],\n",
       "        [0.13731921, 0.28780779, 0.38703946, 0.17595051],\n",
       "        [0.62080245, 0.73912534, 0.44226699, 0.91153692]],\n",
       "\n",
       "       [[0.11199358, 0.3783659 , 0.93237781, 0.72058775],\n",
       "        [0.36439174, 0.74073096, 0.67870403, 0.58220126],\n",
       "        [0.04095105, 0.94780229, 0.40814832, 0.60712974]],\n",
       "\n",
       "       [[0.17102275, 0.02372497, 0.93525783, 0.20594964],\n",
       "        [0.79549736, 0.26567596, 0.00590305, 0.03732884],\n",
       "        [0.40168867, 0.70460605, 0.81640886, 0.21982474]],\n",
       "\n",
       "       [[0.04981472, 0.28151938, 0.69219685, 0.02787153],\n",
       "        [0.8137285 , 0.92963075, 0.52187126, 0.58727995],\n",
       "        [0.93576931, 0.04473106, 0.2012552 , 0.48581779]]])"
      ]
     },
     "execution_count": 4,
     "metadata": {},
     "output_type": "execute_result"
    }
   ],
   "source": [
    "temp = [np.random.rand(3, 4) for _ in range(10)]\n",
    "arr = np.stack(temp, axis=0)\n",
    "arr"
   ]
  },
  {
   "cell_type": "code",
   "execution_count": 5,
   "metadata": {},
   "outputs": [
    {
     "data": {
      "text/plain": [
       "(10, 3, 4)"
      ]
     },
     "execution_count": 5,
     "metadata": {},
     "output_type": "execute_result"
    }
   ],
   "source": [
    "arr.shape"
   ]
  },
  {
   "cell_type": "code",
   "execution_count": 7,
   "metadata": {},
   "outputs": [
    {
     "data": {
      "text/plain": [
       "array([[0.29216998, 0.48060895, 0.65352967, 0.49046041],\n",
       "       [0.52945416, 0.60172396, 0.32935015, 0.37927971],\n",
       "       [0.52450471, 0.6095271 , 0.53218382, 0.4710241 ]])"
      ]
     },
     "execution_count": 7,
     "metadata": {},
     "output_type": "execute_result"
    }
   ],
   "source": [
    "np.mean(arr, axis=0)"
   ]
  },
  {
   "cell_type": "code",
   "execution_count": null,
   "metadata": {},
   "outputs": [],
   "source": []
  },
  {
   "cell_type": "code",
   "execution_count": 10,
   "metadata": {},
   "outputs": [
    {
     "name": "stdout",
     "output_type": "stream",
     "text": [
      "[[0.47315033 0.94511895 0.67997256 0.31152935]\n",
      " [0.94816837 0.35741647 0.99823423 0.29755896]\n",
      " [0.60466168 0.3037022  0.7341998  0.40704372]]\n"
     ]
    }
   ],
   "source": [
    "import numpy as np\n",
    "from tensorly.decomposition import parafac\n",
    "from tensorly.cp_tensor import cp_to_tensor\n",
    "\n",
    "arr = np.random.rand(3, 4)\n",
    "print(arr)\n",
    "factors = parafac(arr, rank=2)"
   ]
  },
  {
   "cell_type": "code",
   "execution_count": 11,
   "metadata": {},
   "outputs": [
    {
     "name": "stdout",
     "output_type": "stream",
     "text": [
      "[1. 1.]\n",
      "[array([[ 1.20027708,  0.48545186],\n",
      "       [ 1.41883617, -0.30150141],\n",
      "       [ 1.05979782, -0.14615583]]), array([[ 0.55802138, -0.41548013],\n",
      "       [ 0.42897354,  0.88138987],\n",
      "       [ 0.65777453, -0.22470924],\n",
      "       [ 0.26819119,  0.00582375]])]\n"
     ]
    }
   ],
   "source": [
    "a, b = factors[0], factors[1]\n",
    "print(a)\n",
    "print(b)"
   ]
  },
  {
   "cell_type": "code",
   "execution_count": 12,
   "metadata": {},
   "outputs": [],
   "source": [
    "arr_reconstructed = cp_to_tensor(factors)"
   ]
  },
  {
   "cell_type": "code",
   "execution_count": 13,
   "metadata": {},
   "outputs": [
    {
     "data": {
      "text/plain": [
       "array([[0.46808467, 0.94275945, 0.68042617, 0.32473089],\n",
       "       [0.91700876, 0.34290288, 1.00102445, 0.3787635 ],\n",
       "       [0.65211468, 0.32580495, 0.72995058, 0.28337726]])"
      ]
     },
     "execution_count": 13,
     "metadata": {},
     "output_type": "execute_result"
    }
   ],
   "source": [
    "arr_reconstructed"
   ]
  },
  {
   "cell_type": "code",
   "execution_count": 14,
   "metadata": {},
   "outputs": [
    {
     "data": {
      "text/plain": [
       "array([[0.47315033, 0.94511895, 0.67997256, 0.31152935],\n",
       "       [0.94816837, 0.35741647, 0.99823423, 0.29755896],\n",
       "       [0.60466168, 0.3037022 , 0.7341998 , 0.40704372]])"
      ]
     },
     "execution_count": 14,
     "metadata": {},
     "output_type": "execute_result"
    }
   ],
   "source": [
    "arr"
   ]
  },
  {
   "cell_type": "code",
   "execution_count": null,
   "metadata": {},
   "outputs": [],
   "source": []
  },
  {
   "cell_type": "code",
   "execution_count": 19,
   "metadata": {},
   "outputs": [
    {
     "name": "stdout",
     "output_type": "stream",
     "text": [
      "[[0.64696715 0.03737579 0.48585643 0.53243924]\n",
      " [0.16446761 0.01027487 0.40266937 0.49121607]\n",
      " [0.72507283 0.13635469 0.64150545 0.82656396]]\n"
     ]
    },
    {
     "data": {
      "text/plain": [
       "(weights, factors) : rank-2 CPTensor of shape (3, 4)"
      ]
     },
     "execution_count": 19,
     "metadata": {},
     "output_type": "execute_result"
    }
   ],
   "source": [
    "import numpy as np\n",
    "from tensorly.decomposition import non_negative_parafac\n",
    "from tensorly.cp_tensor import cp_to_tensor\n",
    "\n",
    "arr = np.random.rand(3, 4)\n",
    "print(arr)\n",
    "factors = non_negative_parafac(arr, rank=2)\n",
    "factors"
   ]
  },
  {
   "cell_type": "code",
   "execution_count": 20,
   "metadata": {},
   "outputs": [
    {
     "data": {
      "text/plain": [
       "array([[0.64446924, 0.07821508, 0.45995406, 0.55118288],\n",
       "       [0.16390796, 0.03269523, 0.39353368, 0.49715633],\n",
       "       [0.72741198, 0.09502556, 0.66483289, 0.81016673]])"
      ]
     },
     "execution_count": 20,
     "metadata": {},
     "output_type": "execute_result"
    }
   ],
   "source": [
    "arr_reconstructed = cp_to_tensor(factors)\n",
    "arr_reconstructed"
   ]
  },
  {
   "cell_type": "code",
   "execution_count": null,
   "metadata": {},
   "outputs": [],
   "source": []
  },
  {
   "cell_type": "code",
   "execution_count": null,
   "metadata": {},
   "outputs": [],
   "source": []
  },
  {
   "cell_type": "code",
   "execution_count": 25,
   "metadata": {},
   "outputs": [
    {
     "data": {
      "text/plain": [
       "(array([[0.4, 0. , 0. , 0. ],\n",
       "        [0. , 0. , 0. , 0. ],\n",
       "        [0. , 0. , 0. , 0. ]]),\n",
       " array([[ True, False, False, False],\n",
       "        [False, False, False, False],\n",
       "        [False, False, False, False]]))"
      ]
     },
     "execution_count": 25,
     "metadata": {},
     "output_type": "execute_result"
    }
   ],
   "source": [
    "arr = np.zeros((3, 4))\n",
    "arr[0, 0] = 0.4\n",
    "\n",
    "arr_bool = arr > 0\n",
    "\n",
    "arr, arr_bool"
   ]
  },
  {
   "cell_type": "code",
   "execution_count": 26,
   "metadata": {},
   "outputs": [],
   "source": [
    "arr[arr_bool == 1] = 3"
   ]
  },
  {
   "cell_type": "code",
   "execution_count": 27,
   "metadata": {},
   "outputs": [
    {
     "data": {
      "text/plain": [
       "array([[3., 0., 0., 0.],\n",
       "       [0., 0., 0., 0.],\n",
       "       [0., 0., 0., 0.]])"
      ]
     },
     "execution_count": 27,
     "metadata": {},
     "output_type": "execute_result"
    }
   ],
   "source": [
    "arr"
   ]
  },
  {
   "cell_type": "code",
   "execution_count": null,
   "metadata": {},
   "outputs": [],
   "source": []
  },
  {
   "cell_type": "code",
   "execution_count": 30,
   "metadata": {},
   "outputs": [
    {
     "data": {
      "text/plain": [
       "array([[0, 1, 1, 1],\n",
       "       [1, 1, 1, 1],\n",
       "       [1, 1, 1, 1]])"
      ]
     },
     "execution_count": 30,
     "metadata": {},
     "output_type": "execute_result"
    }
   ],
   "source": [
    "arr = np.zeros((3, 4))\n",
    "arr[0, 0] = 1\n",
    "\n",
    "(1 - arr).astype(int)"
   ]
  },
  {
   "cell_type": "code",
   "execution_count": null,
   "metadata": {},
   "outputs": [],
   "source": []
  },
  {
   "cell_type": "code",
   "execution_count": null,
   "metadata": {},
   "outputs": [],
   "source": []
  },
  {
   "cell_type": "code",
   "execution_count": null,
   "metadata": {},
   "outputs": [],
   "source": []
  },
  {
   "cell_type": "code",
   "execution_count": null,
   "metadata": {},
   "outputs": [],
   "source": []
  },
  {
   "cell_type": "code",
   "execution_count": null,
   "metadata": {},
   "outputs": [],
   "source": []
  }
 ],
 "metadata": {
  "kernelspec": {
   "display_name": "bo-env",
   "language": "python",
   "name": "python3"
  },
  "language_info": {
   "codemirror_mode": {
    "name": "ipython",
    "version": 3
   },
   "file_extension": ".py",
   "mimetype": "text/x-python",
   "name": "python",
   "nbconvert_exporter": "python",
   "pygments_lexer": "ipython3",
   "version": "3.12.5"
  }
 },
 "nbformat": 4,
 "nbformat_minor": 2
}

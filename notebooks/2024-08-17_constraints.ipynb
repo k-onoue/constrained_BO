{
 "cells": [
  {
   "cell_type": "code",
   "execution_count": 1,
   "metadata": {},
   "outputs": [],
   "source": [
    "import torch"
   ]
  },
  {
   "cell_type": "code",
   "execution_count": 7,
   "metadata": {},
   "outputs": [
    {
     "name": "stdout",
     "output_type": "stream",
     "text": [
      "tensor([[1.],\n",
      "        [0.],\n",
      "        [1.]])\n",
      "All tests passed.\n"
     ]
    }
   ],
   "source": [
    "def g(X):\n",
    "    \"\"\"\n",
    "    制約：x1 == x2 の場合に 1 を、そうでない場合に 0 を返す\n",
    "    \"\"\"\n",
    "    X1 = X[:, 0]\n",
    "    X2 = X[:, 1]\n",
    "\n",
    "    # x1 と x2 が等しい場合に 1、それ以外の場合に 0\n",
    "    diff = (X1 == X2).float().unsqueeze(1)\n",
    "\n",
    "    print(diff)\n",
    "\n",
    "    return diff\n",
    "\n",
    "# テストコード\n",
    "def test_g():\n",
    "    # (3, 2) テンソルを作成\n",
    "    X = torch.tensor([[1.0, 1],\n",
    "                      [2.0, 3.0],\n",
    "                      [4.0, 4.0]])\n",
    "\n",
    "    # 関数 g を呼び出す\n",
    "    output = g(X)\n",
    "\n",
    "    # 出力の形状を確認\n",
    "    assert output.shape == (3, 1), f\"Expected shape (3, 1), but got {output.shape}\"\n",
    "\n",
    "    # 出力の内容を確認\n",
    "    expected_output = torch.tensor([[1.0],\n",
    "                                    [0.0],\n",
    "                                    [1.0]])\n",
    "    assert torch.equal(output, expected_output), f\"Expected output {expected_output}, but got {output}\"\n",
    "\n",
    "    print(\"All tests passed.\")\n",
    "\n",
    "# テスト実行\n",
    "test_g()"
   ]
  }
 ],
 "metadata": {
  "kernelspec": {
   "display_name": "bo-env",
   "language": "python",
   "name": "python3"
  },
  "language_info": {
   "codemirror_mode": {
    "name": "ipython",
    "version": 3
   },
   "file_extension": ".py",
   "mimetype": "text/x-python",
   "name": "python",
   "nbconvert_exporter": "python",
   "pygments_lexer": "ipython3",
   "version": "3.12.4"
  }
 },
 "nbformat": 4,
 "nbformat_minor": 2
}
